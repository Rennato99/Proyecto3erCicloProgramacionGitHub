{
 "cells": [
  {
   "cell_type": "markdown",
   "metadata": {},
   "source": [
    "# Mortalidad infantil de menores de 5 años"
   ]
  },
  {
   "cell_type": "markdown",
   "metadata": {},
   "source": [
    "La tasa de mortalidad infantil en menores de 5 años es un indicador del bienstar de una región. Actualmente estos datos son recogidos por varias origanizaciones no gubernamentales para mayor fidelidad de los datos. En este caso específico analizaremos los datos obtenidos por UNICEF."
   ]
  },
  {
   "cell_type": "markdown",
   "metadata": {},
   "source": [
    "### Tasa de mortalidad en menores de 5 años\n",
    "La tasa de mortalidad en menores de 5 años es un indicador estadístico de la probabilidad de que un niño fallezca entre su nacimiento y los 5 años de edad. Se expresa en 1 por mil (‰), es decir, en la décima parte de un porcentaje (1% = 0,1 ‰). De este modo es un promedio que indica, por ejemplo, que por cada 1.000 nacimientos en una región, 121 niños fallecen antes de los 5 años de edad."
   ]
  },
  {
   "cell_type": "markdown",
   "metadata": {},
   "source": [
    "<!-- Aqui ingresamo la imagen figure01-->\n",
    "\n",
    "<img src=\"images/ipython_logo.png\">\n"
   ]
  },
  {
   "cell_type": "markdown",
   "metadata": {},
   "source": [
    "Los datos que proporciona UNICEF son de libre acceso y se pueden encontrar en su página https://data.unicef.org/. \n"
   ]
  },
  {
   "cell_type": "code",
   "execution_count": 6,
   "metadata": {},
   "outputs": [
    {
     "ename": "SyntaxError",
     "evalue": "invalid syntax (<ipython-input-6-17e01d10204d>, line 1)",
     "output_type": "error",
     "traceback": [
      "\u001b[1;36m  File \u001b[1;32m\"<ipython-input-6-17e01d10204d>\"\u001b[1;36m, line \u001b[1;32m1\u001b[0m\n\u001b[1;33m    <script>\u001b[0m\n\u001b[1;37m    ^\u001b[0m\n\u001b[1;31mSyntaxError\u001b[0m\u001b[1;31m:\u001b[0m invalid syntax\n"
     ]
    }
   ],
   "source": [
    "<script>\n",
    "%run Main02.ipynb # Presentamos la figura 1 \n",
    "</script>\n",
    "\n"
   ]
  },
  {
   "cell_type": "code",
   "execution_count": 5,
   "metadata": {},
   "outputs": [
    {
     "ename": "SyntaxError",
     "evalue": "invalid syntax (<ipython-input-5-88bee94079f2>, line 1)",
     "output_type": "error",
     "traceback": [
      "\u001b[1;36m  File \u001b[1;32m\"<ipython-input-5-88bee94079f2>\"\u001b[1;36m, line \u001b[1;32m1\u001b[0m\n\u001b[1;33m    <img src=\"figures/Figure01\">\u001b[0m\n\u001b[1;37m    ^\u001b[0m\n\u001b[1;31mSyntaxError\u001b[0m\u001b[1;31m:\u001b[0m invalid syntax\n"
     ]
    }
   ],
   "source": []
  },
  {
   "cell_type": "code",
   "execution_count": null,
   "metadata": {},
   "outputs": [],
   "source": []
  },
  {
   "cell_type": "markdown",
   "metadata": {},
   "source": [
    "\n"
   ]
  }
 ],
 "metadata": {
  "kernelspec": {
   "display_name": "Python 3",
   "language": "python",
   "name": "python3"
  },
  "language_info": {
   "codemirror_mode": {
    "name": "ipython",
    "version": 3
   },
   "file_extension": ".py",
   "mimetype": "text/x-python",
   "name": "python",
   "nbconvert_exporter": "python",
   "pygments_lexer": "ipython3",
   "version": "3.7.2"
  }
 },
 "nbformat": 4,
 "nbformat_minor": 2
}
