{
 "cells": [
  {
   "cell_type": "code",
   "execution_count": 16,
   "metadata": {},
   "outputs": [
    {
     "data": {
      "text/plain": [
       "'C:\\\\Users\\\\renat\\\\OneDrive - Universidad Técnica Particular de Loja - UTPL\\\\Componentes_03\\\\Programacion_De_Algoritmos\\\\Repositorios_03\\\\Proyecto3erCicloProgramcion\\\\V02\\\\Figures\\\\Figure01.html'"
      ]
     },
     "execution_count": 16,
     "metadata": {},
     "output_type": "execute_result"
    }
   ],
   "source": [
    "%run Read.ipynb # Leemos el archivo\n",
    "\n",
    "# Standard imports \n",
    "from bokeh.io import output_notebook\n",
    "from bokeh.plotting import figure, output_notebook, save\n",
    "\n",
    "\n",
    "# la primera figura sera barra\n",
    "\n",
    "\n",
    "x_range = group['Region Name']\n",
    "y_range = group['Averages']\n",
    "\n",
    "\n",
    "figure01 = figure(x_range=x_range, plot_height=550, title=\"Under Five Mortality\", toolbar_location=None, tools=\"\")\n",
    "#  figure01.add_tools(HoverTool(tooltips=[(\"Region Name:\", \"@Region Name\"), (\"Averages\", \"@Averages\")]))\n",
    "# figure01.add_tools(HoverTool(tooltips=[(\"Region Name:\", \"Region\"), (\"Averages\", \"@Averages\")]))\n",
    "figure01.vbar(x=x_range, top=y_range, width=0.9, line_color=colors01[2], line_width=2, fill_color=colors01[:12])\n",
    "figure01.y_range.start = 0\n",
    "figure01.yaxis.axis_label = \"Number of children\"\n",
    "figure01.xaxis.axis_label = \"Region\"\n",
    "figure01.xaxis.major_label_orientation = 1.2\n",
    "\n",
    "save(obj=figure01, filename='Figures/Figure01.html', title=\"Figure01\")\n",
    "\n",
    "\n"
   ]
  }
 ],
 "metadata": {
  "kernelspec": {
   "display_name": "Python 3",
   "language": "python",
   "name": "python3"
  },
  "language_info": {
   "codemirror_mode": {
    "name": "ipython",
    "version": 3
   },
   "file_extension": ".py",
   "mimetype": "text/x-python",
   "name": "python",
   "nbconvert_exporter": "python",
   "pygments_lexer": "ipython3",
   "version": "3.7.2"
  }
 },
 "nbformat": 4,
 "nbformat_minor": 2
}
