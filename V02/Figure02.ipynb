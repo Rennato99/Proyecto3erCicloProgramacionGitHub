{
 "cells": [
  {
   "cell_type": "code",
   "execution_count": 2,
   "metadata": {},
   "outputs": [
    {
     "data": {
      "text/html": [
       "\n",
       "    <div class=\"bk-root\">\n",
       "        <a href=\"https://bokeh.pydata.org\" target=\"_blank\" class=\"bk-logo bk-logo-small bk-logo-notebook\"></a>\n",
       "        <span id=\"3786\">Loading BokehJS ...</span>\n",
       "    </div>"
      ]
     },
     "metadata": {},
     "output_type": "display_data"
    },
    {
     "data": {
      "application/javascript": [
       "\n",
       "(function(root) {\n",
       "  function now() {\n",
       "    return new Date();\n",
       "  }\n",
       "\n",
       "  var force = true;\n",
       "\n",
       "  if (typeof (root._bokeh_onload_callbacks) === \"undefined\" || force === true) {\n",
       "    root._bokeh_onload_callbacks = [];\n",
       "    root._bokeh_is_loading = undefined;\n",
       "  }\n",
       "\n",
       "  var JS_MIME_TYPE = 'application/javascript';\n",
       "  var HTML_MIME_TYPE = 'text/html';\n",
       "  var EXEC_MIME_TYPE = 'application/vnd.bokehjs_exec.v0+json';\n",
       "  var CLASS_NAME = 'output_bokeh rendered_html';\n",
       "\n",
       "  /**\n",
       "   * Render data to the DOM node\n",
       "   */\n",
       "  function render(props, node) {\n",
       "    var script = document.createElement(\"script\");\n",
       "    node.appendChild(script);\n",
       "  }\n",
       "\n",
       "  /**\n",
       "   * Handle when an output is cleared or removed\n",
       "   */\n",
       "  function handleClearOutput(event, handle) {\n",
       "    var cell = handle.cell;\n",
       "\n",
       "    var id = cell.output_area._bokeh_element_id;\n",
       "    var server_id = cell.output_area._bokeh_server_id;\n",
       "    // Clean up Bokeh references\n",
       "    if (id != null && id in Bokeh.index) {\n",
       "      Bokeh.index[id].model.document.clear();\n",
       "      delete Bokeh.index[id];\n",
       "    }\n",
       "\n",
       "    if (server_id !== undefined) {\n",
       "      // Clean up Bokeh references\n",
       "      var cmd = \"from bokeh.io.state import curstate; print(curstate().uuid_to_server['\" + server_id + \"'].get_sessions()[0].document.roots[0]._id)\";\n",
       "      cell.notebook.kernel.execute(cmd, {\n",
       "        iopub: {\n",
       "          output: function(msg) {\n",
       "            var id = msg.content.text.trim();\n",
       "            if (id in Bokeh.index) {\n",
       "              Bokeh.index[id].model.document.clear();\n",
       "              delete Bokeh.index[id];\n",
       "            }\n",
       "          }\n",
       "        }\n",
       "      });\n",
       "      // Destroy server and session\n",
       "      var cmd = \"import bokeh.io.notebook as ion; ion.destroy_server('\" + server_id + \"')\";\n",
       "      cell.notebook.kernel.execute(cmd);\n",
       "    }\n",
       "  }\n",
       "\n",
       "  /**\n",
       "   * Handle when a new output is added\n",
       "   */\n",
       "  function handleAddOutput(event, handle) {\n",
       "    var output_area = handle.output_area;\n",
       "    var output = handle.output;\n",
       "\n",
       "    // limit handleAddOutput to display_data with EXEC_MIME_TYPE content only\n",
       "    if ((output.output_type != \"display_data\") || (!output.data.hasOwnProperty(EXEC_MIME_TYPE))) {\n",
       "      return\n",
       "    }\n",
       "\n",
       "    var toinsert = output_area.element.find(\".\" + CLASS_NAME.split(' ')[0]);\n",
       "\n",
       "    if (output.metadata[EXEC_MIME_TYPE][\"id\"] !== undefined) {\n",
       "      toinsert[toinsert.length - 1].firstChild.textContent = output.data[JS_MIME_TYPE];\n",
       "      // store reference to embed id on output_area\n",
       "      output_area._bokeh_element_id = output.metadata[EXEC_MIME_TYPE][\"id\"];\n",
       "    }\n",
       "    if (output.metadata[EXEC_MIME_TYPE][\"server_id\"] !== undefined) {\n",
       "      var bk_div = document.createElement(\"div\");\n",
       "      bk_div.innerHTML = output.data[HTML_MIME_TYPE];\n",
       "      var script_attrs = bk_div.children[0].attributes;\n",
       "      for (var i = 0; i < script_attrs.length; i++) {\n",
       "        toinsert[toinsert.length - 1].firstChild.setAttribute(script_attrs[i].name, script_attrs[i].value);\n",
       "      }\n",
       "      // store reference to server id on output_area\n",
       "      output_area._bokeh_server_id = output.metadata[EXEC_MIME_TYPE][\"server_id\"];\n",
       "    }\n",
       "  }\n",
       "\n",
       "  function register_renderer(events, OutputArea) {\n",
       "\n",
       "    function append_mime(data, metadata, element) {\n",
       "      // create a DOM node to render to\n",
       "      var toinsert = this.create_output_subarea(\n",
       "        metadata,\n",
       "        CLASS_NAME,\n",
       "        EXEC_MIME_TYPE\n",
       "      );\n",
       "      this.keyboard_manager.register_events(toinsert);\n",
       "      // Render to node\n",
       "      var props = {data: data, metadata: metadata[EXEC_MIME_TYPE]};\n",
       "      render(props, toinsert[toinsert.length - 1]);\n",
       "      element.append(toinsert);\n",
       "      return toinsert\n",
       "    }\n",
       "\n",
       "    /* Handle when an output is cleared or removed */\n",
       "    events.on('clear_output.CodeCell', handleClearOutput);\n",
       "    events.on('delete.Cell', handleClearOutput);\n",
       "\n",
       "    /* Handle when a new output is added */\n",
       "    events.on('output_added.OutputArea', handleAddOutput);\n",
       "\n",
       "    /**\n",
       "     * Register the mime type and append_mime function with output_area\n",
       "     */\n",
       "    OutputArea.prototype.register_mime_type(EXEC_MIME_TYPE, append_mime, {\n",
       "      /* Is output safe? */\n",
       "      safe: true,\n",
       "      /* Index of renderer in `output_area.display_order` */\n",
       "      index: 0\n",
       "    });\n",
       "  }\n",
       "\n",
       "  // register the mime type if in Jupyter Notebook environment and previously unregistered\n",
       "  if (root.Jupyter !== undefined) {\n",
       "    var events = require('base/js/events');\n",
       "    var OutputArea = require('notebook/js/outputarea').OutputArea;\n",
       "\n",
       "    if (OutputArea.prototype.mime_types().indexOf(EXEC_MIME_TYPE) == -1) {\n",
       "      register_renderer(events, OutputArea);\n",
       "    }\n",
       "  }\n",
       "\n",
       "  \n",
       "  if (typeof (root._bokeh_timeout) === \"undefined\" || force === true) {\n",
       "    root._bokeh_timeout = Date.now() + 5000;\n",
       "    root._bokeh_failed_load = false;\n",
       "  }\n",
       "\n",
       "  var NB_LOAD_WARNING = {'data': {'text/html':\n",
       "     \"<div style='background-color: #fdd'>\\n\"+\n",
       "     \"<p>\\n\"+\n",
       "     \"BokehJS does not appear to have successfully loaded. If loading BokehJS from CDN, this \\n\"+\n",
       "     \"may be due to a slow or bad network connection. Possible fixes:\\n\"+\n",
       "     \"</p>\\n\"+\n",
       "     \"<ul>\\n\"+\n",
       "     \"<li>re-rerun `output_notebook()` to attempt to load from CDN again, or</li>\\n\"+\n",
       "     \"<li>use INLINE resources instead, as so:</li>\\n\"+\n",
       "     \"</ul>\\n\"+\n",
       "     \"<code>\\n\"+\n",
       "     \"from bokeh.resources import INLINE\\n\"+\n",
       "     \"output_notebook(resources=INLINE)\\n\"+\n",
       "     \"</code>\\n\"+\n",
       "     \"</div>\"}};\n",
       "\n",
       "  function display_loaded() {\n",
       "    var el = document.getElementById(\"3786\");\n",
       "    if (el != null) {\n",
       "      el.textContent = \"BokehJS is loading...\";\n",
       "    }\n",
       "    if (root.Bokeh !== undefined) {\n",
       "      if (el != null) {\n",
       "        el.textContent = \"BokehJS \" + root.Bokeh.version + \" successfully loaded.\";\n",
       "      }\n",
       "    } else if (Date.now() < root._bokeh_timeout) {\n",
       "      setTimeout(display_loaded, 100)\n",
       "    }\n",
       "  }\n",
       "\n",
       "\n",
       "  function run_callbacks() {\n",
       "    try {\n",
       "      root._bokeh_onload_callbacks.forEach(function(callback) { callback() });\n",
       "    }\n",
       "    finally {\n",
       "      delete root._bokeh_onload_callbacks\n",
       "    }\n",
       "    console.info(\"Bokeh: all callbacks have finished\");\n",
       "  }\n",
       "\n",
       "  function load_libs(js_urls, callback) {\n",
       "    root._bokeh_onload_callbacks.push(callback);\n",
       "    if (root._bokeh_is_loading > 0) {\n",
       "      console.log(\"Bokeh: BokehJS is being loaded, scheduling callback at\", now());\n",
       "      return null;\n",
       "    }\n",
       "    if (js_urls == null || js_urls.length === 0) {\n",
       "      run_callbacks();\n",
       "      return null;\n",
       "    }\n",
       "    console.log(\"Bokeh: BokehJS not loaded, scheduling load and callback at\", now());\n",
       "    root._bokeh_is_loading = js_urls.length;\n",
       "    for (var i = 0; i < js_urls.length; i++) {\n",
       "      var url = js_urls[i];\n",
       "      var s = document.createElement('script');\n",
       "      s.src = url;\n",
       "      s.async = false;\n",
       "      s.onreadystatechange = s.onload = function() {\n",
       "        root._bokeh_is_loading--;\n",
       "        if (root._bokeh_is_loading === 0) {\n",
       "          console.log(\"Bokeh: all BokehJS libraries loaded\");\n",
       "          run_callbacks()\n",
       "        }\n",
       "      };\n",
       "      s.onerror = function() {\n",
       "        console.warn(\"failed to load library \" + url);\n",
       "      };\n",
       "      console.log(\"Bokeh: injecting script tag for BokehJS library: \", url);\n",
       "      document.getElementsByTagName(\"head\")[0].appendChild(s);\n",
       "    }\n",
       "  };var element = document.getElementById(\"3786\");\n",
       "  if (element == null) {\n",
       "    console.log(\"Bokeh: ERROR: autoload.js configured with elementid '3786' but no matching script tag was found. \")\n",
       "    return false;\n",
       "  }\n",
       "\n",
       "  var js_urls = [\"https://cdn.pydata.org/bokeh/release/bokeh-1.0.3.min.js\", \"https://cdn.pydata.org/bokeh/release/bokeh-widgets-1.0.3.min.js\", \"https://cdn.pydata.org/bokeh/release/bokeh-tables-1.0.3.min.js\", \"https://cdn.pydata.org/bokeh/release/bokeh-gl-1.0.3.min.js\"];\n",
       "\n",
       "  var inline_js = [\n",
       "    function(Bokeh) {\n",
       "      Bokeh.set_log_level(\"info\");\n",
       "    },\n",
       "    \n",
       "    function(Bokeh) {\n",
       "      \n",
       "    },\n",
       "    function(Bokeh) {\n",
       "      console.log(\"Bokeh: injecting CSS: https://cdn.pydata.org/bokeh/release/bokeh-1.0.3.min.css\");\n",
       "      Bokeh.embed.inject_css(\"https://cdn.pydata.org/bokeh/release/bokeh-1.0.3.min.css\");\n",
       "      console.log(\"Bokeh: injecting CSS: https://cdn.pydata.org/bokeh/release/bokeh-widgets-1.0.3.min.css\");\n",
       "      Bokeh.embed.inject_css(\"https://cdn.pydata.org/bokeh/release/bokeh-widgets-1.0.3.min.css\");\n",
       "      console.log(\"Bokeh: injecting CSS: https://cdn.pydata.org/bokeh/release/bokeh-tables-1.0.3.min.css\");\n",
       "      Bokeh.embed.inject_css(\"https://cdn.pydata.org/bokeh/release/bokeh-tables-1.0.3.min.css\");\n",
       "    }\n",
       "  ];\n",
       "\n",
       "  function run_inline_js() {\n",
       "    \n",
       "    if ((root.Bokeh !== undefined) || (force === true)) {\n",
       "      for (var i = 0; i < inline_js.length; i++) {\n",
       "        inline_js[i].call(root, root.Bokeh);\n",
       "      }if (force === true) {\n",
       "        display_loaded();\n",
       "      }} else if (Date.now() < root._bokeh_timeout) {\n",
       "      setTimeout(run_inline_js, 100);\n",
       "    } else if (!root._bokeh_failed_load) {\n",
       "      console.log(\"Bokeh: BokehJS failed to load within specified timeout.\");\n",
       "      root._bokeh_failed_load = true;\n",
       "    } else if (force !== true) {\n",
       "      var cell = $(document.getElementById(\"3786\")).parents('.cell').data().cell;\n",
       "      cell.output_area.append_execute_result(NB_LOAD_WARNING)\n",
       "    }\n",
       "\n",
       "  }\n",
       "\n",
       "  if (root._bokeh_is_loading === 0) {\n",
       "    console.log(\"Bokeh: BokehJS loaded, going straight to plotting\");\n",
       "    run_inline_js();\n",
       "  } else {\n",
       "    load_libs(js_urls, function() {\n",
       "      console.log(\"Bokeh: BokehJS plotting callback run at\", now());\n",
       "      run_inline_js();\n",
       "    });\n",
       "  }\n",
       "}(window));"
      ],
      "application/vnd.bokehjs_load.v0+json": "\n(function(root) {\n  function now() {\n    return new Date();\n  }\n\n  var force = true;\n\n  if (typeof (root._bokeh_onload_callbacks) === \"undefined\" || force === true) {\n    root._bokeh_onload_callbacks = [];\n    root._bokeh_is_loading = undefined;\n  }\n\n  \n\n  \n  if (typeof (root._bokeh_timeout) === \"undefined\" || force === true) {\n    root._bokeh_timeout = Date.now() + 5000;\n    root._bokeh_failed_load = false;\n  }\n\n  var NB_LOAD_WARNING = {'data': {'text/html':\n     \"<div style='background-color: #fdd'>\\n\"+\n     \"<p>\\n\"+\n     \"BokehJS does not appear to have successfully loaded. If loading BokehJS from CDN, this \\n\"+\n     \"may be due to a slow or bad network connection. Possible fixes:\\n\"+\n     \"</p>\\n\"+\n     \"<ul>\\n\"+\n     \"<li>re-rerun `output_notebook()` to attempt to load from CDN again, or</li>\\n\"+\n     \"<li>use INLINE resources instead, as so:</li>\\n\"+\n     \"</ul>\\n\"+\n     \"<code>\\n\"+\n     \"from bokeh.resources import INLINE\\n\"+\n     \"output_notebook(resources=INLINE)\\n\"+\n     \"</code>\\n\"+\n     \"</div>\"}};\n\n  function display_loaded() {\n    var el = document.getElementById(\"3786\");\n    if (el != null) {\n      el.textContent = \"BokehJS is loading...\";\n    }\n    if (root.Bokeh !== undefined) {\n      if (el != null) {\n        el.textContent = \"BokehJS \" + root.Bokeh.version + \" successfully loaded.\";\n      }\n    } else if (Date.now() < root._bokeh_timeout) {\n      setTimeout(display_loaded, 100)\n    }\n  }\n\n\n  function run_callbacks() {\n    try {\n      root._bokeh_onload_callbacks.forEach(function(callback) { callback() });\n    }\n    finally {\n      delete root._bokeh_onload_callbacks\n    }\n    console.info(\"Bokeh: all callbacks have finished\");\n  }\n\n  function load_libs(js_urls, callback) {\n    root._bokeh_onload_callbacks.push(callback);\n    if (root._bokeh_is_loading > 0) {\n      console.log(\"Bokeh: BokehJS is being loaded, scheduling callback at\", now());\n      return null;\n    }\n    if (js_urls == null || js_urls.length === 0) {\n      run_callbacks();\n      return null;\n    }\n    console.log(\"Bokeh: BokehJS not loaded, scheduling load and callback at\", now());\n    root._bokeh_is_loading = js_urls.length;\n    for (var i = 0; i < js_urls.length; i++) {\n      var url = js_urls[i];\n      var s = document.createElement('script');\n      s.src = url;\n      s.async = false;\n      s.onreadystatechange = s.onload = function() {\n        root._bokeh_is_loading--;\n        if (root._bokeh_is_loading === 0) {\n          console.log(\"Bokeh: all BokehJS libraries loaded\");\n          run_callbacks()\n        }\n      };\n      s.onerror = function() {\n        console.warn(\"failed to load library \" + url);\n      };\n      console.log(\"Bokeh: injecting script tag for BokehJS library: \", url);\n      document.getElementsByTagName(\"head\")[0].appendChild(s);\n    }\n  };var element = document.getElementById(\"3786\");\n  if (element == null) {\n    console.log(\"Bokeh: ERROR: autoload.js configured with elementid '3786' but no matching script tag was found. \")\n    return false;\n  }\n\n  var js_urls = [\"https://cdn.pydata.org/bokeh/release/bokeh-1.0.3.min.js\", \"https://cdn.pydata.org/bokeh/release/bokeh-widgets-1.0.3.min.js\", \"https://cdn.pydata.org/bokeh/release/bokeh-tables-1.0.3.min.js\", \"https://cdn.pydata.org/bokeh/release/bokeh-gl-1.0.3.min.js\"];\n\n  var inline_js = [\n    function(Bokeh) {\n      Bokeh.set_log_level(\"info\");\n    },\n    \n    function(Bokeh) {\n      \n    },\n    function(Bokeh) {\n      console.log(\"Bokeh: injecting CSS: https://cdn.pydata.org/bokeh/release/bokeh-1.0.3.min.css\");\n      Bokeh.embed.inject_css(\"https://cdn.pydata.org/bokeh/release/bokeh-1.0.3.min.css\");\n      console.log(\"Bokeh: injecting CSS: https://cdn.pydata.org/bokeh/release/bokeh-widgets-1.0.3.min.css\");\n      Bokeh.embed.inject_css(\"https://cdn.pydata.org/bokeh/release/bokeh-widgets-1.0.3.min.css\");\n      console.log(\"Bokeh: injecting CSS: https://cdn.pydata.org/bokeh/release/bokeh-tables-1.0.3.min.css\");\n      Bokeh.embed.inject_css(\"https://cdn.pydata.org/bokeh/release/bokeh-tables-1.0.3.min.css\");\n    }\n  ];\n\n  function run_inline_js() {\n    \n    if ((root.Bokeh !== undefined) || (force === true)) {\n      for (var i = 0; i < inline_js.length; i++) {\n        inline_js[i].call(root, root.Bokeh);\n      }if (force === true) {\n        display_loaded();\n      }} else if (Date.now() < root._bokeh_timeout) {\n      setTimeout(run_inline_js, 100);\n    } else if (!root._bokeh_failed_load) {\n      console.log(\"Bokeh: BokehJS failed to load within specified timeout.\");\n      root._bokeh_failed_load = true;\n    } else if (force !== true) {\n      var cell = $(document.getElementById(\"3786\")).parents('.cell').data().cell;\n      cell.output_area.append_execute_result(NB_LOAD_WARNING)\n    }\n\n  }\n\n  if (root._bokeh_is_loading === 0) {\n    console.log(\"Bokeh: BokehJS loaded, going straight to plotting\");\n    run_inline_js();\n  } else {\n    load_libs(js_urls, function() {\n      console.log(\"Bokeh: BokehJS plotting callback run at\", now());\n      run_inline_js();\n    });\n  }\n}(window));"
     },
     "metadata": {},
     "output_type": "display_data"
    },
    {
     "data": {
      "text/html": [
       "\n",
       "\n",
       "\n",
       "\n",
       "\n",
       "\n",
       "  <div class=\"bk-root\" id=\"c49630fd-6efd-4f2d-a610-727613fca7c3\" data-root-id=\"3788\"></div>\n"
      ]
     },
     "metadata": {},
     "output_type": "display_data"
    },
    {
     "data": {
      "application/javascript": [
       "(function(root) {\n",
       "  function embed_document(root) {\n",
       "    \n",
       "  var docs_json = {\"0a75fe74-843c-4d33-91c3-54f46d7ebacd\":{\"roots\":{\"references\":[{\"attributes\":{\"below\":[{\"id\":\"3798\",\"type\":\"CategoricalAxis\"}],\"left\":[{\"id\":\"3802\",\"type\":\"LinearAxis\"}],\"plot_height\":550,\"renderers\":[{\"id\":\"3798\",\"type\":\"CategoricalAxis\"},{\"id\":\"3801\",\"type\":\"Grid\"},{\"id\":\"3802\",\"type\":\"LinearAxis\"},{\"id\":\"3806\",\"type\":\"Grid\"},{\"id\":\"3819\",\"type\":\"GlyphRenderer\"},{\"id\":\"3824\",\"type\":\"GlyphRenderer\"}],\"title\":{\"id\":\"3787\",\"type\":\"Title\"},\"toolbar\":{\"id\":\"3811\",\"type\":\"Toolbar\"},\"x_range\":{\"id\":\"3790\",\"type\":\"FactorRange\"},\"x_scale\":{\"id\":\"3794\",\"type\":\"CategoricalScale\"},\"y_range\":{\"id\":\"3792\",\"type\":\"DataRange1d\"},\"y_scale\":{\"id\":\"3796\",\"type\":\"LinearScale\"}},\"id\":\"3788\",\"subtype\":\"Figure\",\"type\":\"Plot\"},{\"attributes\":{\"callback\":null,\"start\":0},\"id\":\"3792\",\"type\":\"DataRange1d\"},{\"attributes\":{\"plot\":{\"id\":\"3788\",\"subtype\":\"Figure\",\"type\":\"Plot\"},\"ticker\":{\"id\":\"3799\",\"type\":\"CategoricalTicker\"}},\"id\":\"3801\",\"type\":\"Grid\"},{\"attributes\":{\"data_source\":{\"id\":\"3821\",\"type\":\"ColumnDataSource\"},\"glyph\":{\"id\":\"3822\",\"type\":\"Line\"},\"hover_glyph\":null,\"muted_glyph\":null,\"nonselection_glyph\":{\"id\":\"3823\",\"type\":\"Line\"},\"selection_glyph\":null,\"view\":{\"id\":\"3825\",\"type\":\"CDSView\"}},\"id\":\"3824\",\"type\":\"GlyphRenderer\"},{\"attributes\":{\"callback\":null,\"factors\":[\"1990.5\",\"1991.5\",\"1992.5\",\"1993.5\",\"1994.5\",\"1995.5\",\"1996.5\",\"1997.5\",\"1998.5\",\"1999.5\",\"2000.5\",\"2001.5\",\"2002.5\",\"2003.5\",\"2004.5\",\"2005.5\",\"2006.5\",\"2007.5\",\"2008.5\",\"2009.5\",\"2010.5\",\"2011.5\",\"2012.5\",\"2013.5\",\"2014.5\",\"2015.5\",\"2016.5\"]},\"id\":\"3790\",\"type\":\"FactorRange\"},{\"attributes\":{},\"id\":\"3808\",\"type\":\"WheelZoomTool\"},{\"attributes\":{},\"id\":\"3939\",\"type\":\"Selection\"},{\"attributes\":{},\"id\":\"3809\",\"type\":\"SaveTool\"},{\"attributes\":{\"fill_color\":{\"value\":\"#D9371B\"},\"line_color\":{\"value\":\"#1f77b4\"},\"x\":{\"field\":\"x\"},\"y\":{\"field\":\"y\"}},\"id\":\"3817\",\"type\":\"Circle\"},{\"attributes\":{},\"id\":\"3940\",\"type\":\"UnionRenderers\"},{\"attributes\":{},\"id\":\"3794\",\"type\":\"CategoricalScale\"},{\"attributes\":{\"axis_label\":\"Year\",\"formatter\":{\"id\":\"3936\",\"type\":\"CategoricalTickFormatter\"},\"major_label_orientation\":1.2,\"plot\":{\"id\":\"3788\",\"subtype\":\"Figure\",\"type\":\"Plot\"},\"ticker\":{\"id\":\"3799\",\"type\":\"CategoricalTicker\"}},\"id\":\"3798\",\"type\":\"CategoricalAxis\"},{\"attributes\":{},\"id\":\"3803\",\"type\":\"BasicTicker\"},{\"attributes\":{\"axis_label\":\"Number of children\",\"formatter\":{\"id\":\"3938\",\"type\":\"BasicTickFormatter\"},\"plot\":{\"id\":\"3788\",\"subtype\":\"Figure\",\"type\":\"Plot\"},\"ticker\":{\"id\":\"3803\",\"type\":\"BasicTicker\"}},\"id\":\"3802\",\"type\":\"LinearAxis\"},{\"attributes\":{\"plot\":null,\"text\":\"East Asia and Pacific\"},\"id\":\"3787\",\"type\":\"Title\"},{\"attributes\":{},\"id\":\"3936\",\"type\":\"CategoricalTickFormatter\"},{\"attributes\":{},\"id\":\"3942\",\"type\":\"UnionRenderers\"},{\"attributes\":{\"dimension\":1,\"plot\":{\"id\":\"3788\",\"subtype\":\"Figure\",\"type\":\"Plot\"},\"ticker\":{\"id\":\"3803\",\"type\":\"BasicTicker\"}},\"id\":\"3806\",\"type\":\"Grid\"},{\"attributes\":{\"line_alpha\":0.1,\"line_color\":\"#1f77b4\",\"x\":{\"field\":\"x\"},\"y\":{\"field\":\"y\"}},\"id\":\"3823\",\"type\":\"Line\"},{\"attributes\":{\"fill_alpha\":{\"value\":0.1},\"fill_color\":{\"value\":\"#1f77b4\"},\"line_alpha\":{\"value\":0.1},\"line_color\":{\"value\":\"#1f77b4\"},\"x\":{\"field\":\"x\"},\"y\":{\"field\":\"y\"}},\"id\":\"3818\",\"type\":\"Circle\"},{\"attributes\":{},\"id\":\"3938\",\"type\":\"BasicTickFormatter\"},{\"attributes\":{},\"id\":\"3799\",\"type\":\"CategoricalTicker\"},{\"attributes\":{\"callback\":null,\"data\":{\"x\":[\"1990.5\",\"1991.5\",\"1992.5\",\"1993.5\",\"1994.5\",\"1995.5\",\"1996.5\",\"1997.5\",\"1998.5\",\"1999.5\",\"2000.5\",\"2001.5\",\"2002.5\",\"2003.5\",\"2004.5\",\"2005.5\",\"2006.5\",\"2007.5\",\"2008.5\",\"2009.5\",\"2010.5\",\"2011.5\",\"2012.5\",\"2013.5\",\"2014.5\",\"2015.5\",\"2016.5\"],\"y\":{\"__ndarray__\":\"zczMzMyMTEB3d3d3d/dLQLu7u7u7O0tAZ2ZmZmZmSkAREREREZFJQO/u7u7urkhAzczMzMzMR0CrqqqqqupGQAAAAAAAAEZAiYiIiIgIRUBERERERAREQKuqqqqq6kJAVVVVVVXVQUC8u7u7u7tAQO/u7u7uLkBAAAAAAACAPUAzMzMzM7M7QCMiIiIiIjpAVVVVVVVVOUDNzMzMzEw3QBERERERETZA7+7u7u7uNEBVVVVVVdUzQGdmZmZm5jJAAAAAAAAAMkC8u7u7uzsxQAAAAAAAgDBA\",\"dtype\":\"float64\",\"shape\":[27]}},\"selected\":{\"id\":\"3941\",\"type\":\"Selection\"},\"selection_policy\":{\"id\":\"3942\",\"type\":\"UnionRenderers\"}},\"id\":\"3821\",\"type\":\"ColumnDataSource\"},{\"attributes\":{\"source\":{\"id\":\"3816\",\"type\":\"ColumnDataSource\"}},\"id\":\"3820\",\"type\":\"CDSView\"},{\"attributes\":{},\"id\":\"3796\",\"type\":\"LinearScale\"},{\"attributes\":{\"data_source\":{\"id\":\"3816\",\"type\":\"ColumnDataSource\"},\"glyph\":{\"id\":\"3817\",\"type\":\"Circle\"},\"hover_glyph\":null,\"muted_glyph\":null,\"nonselection_glyph\":{\"id\":\"3818\",\"type\":\"Circle\"},\"selection_glyph\":null,\"view\":{\"id\":\"3820\",\"type\":\"CDSView\"}},\"id\":\"3819\",\"type\":\"GlyphRenderer\"},{\"attributes\":{\"active_drag\":\"auto\",\"active_inspect\":\"auto\",\"active_multi\":null,\"active_scroll\":\"auto\",\"active_tap\":\"auto\",\"tools\":[{\"id\":\"3807\",\"type\":\"PanTool\"},{\"id\":\"3808\",\"type\":\"WheelZoomTool\"},{\"id\":\"3809\",\"type\":\"SaveTool\"},{\"id\":\"3810\",\"type\":\"ResetTool\"}]},\"id\":\"3811\",\"type\":\"Toolbar\"},{\"attributes\":{},\"id\":\"3941\",\"type\":\"Selection\"},{\"attributes\":{\"line_color\":\"#1f77b4\",\"x\":{\"field\":\"x\"},\"y\":{\"field\":\"y\"}},\"id\":\"3822\",\"type\":\"Line\"},{\"attributes\":{\"source\":{\"id\":\"3821\",\"type\":\"ColumnDataSource\"}},\"id\":\"3825\",\"type\":\"CDSView\"},{\"attributes\":{},\"id\":\"3810\",\"type\":\"ResetTool\"},{\"attributes\":{\"callback\":null,\"data\":{\"x\":[\"1990.5\",\"1991.5\",\"1992.5\",\"1993.5\",\"1994.5\",\"1995.5\",\"1996.5\",\"1997.5\",\"1998.5\",\"1999.5\",\"2000.5\",\"2001.5\",\"2002.5\",\"2003.5\",\"2004.5\",\"2005.5\",\"2006.5\",\"2007.5\",\"2008.5\",\"2009.5\",\"2010.5\",\"2011.5\",\"2012.5\",\"2013.5\",\"2014.5\",\"2015.5\",\"2016.5\"],\"y\":{\"__ndarray__\":\"zczMzMyMTEB3d3d3d/dLQLu7u7u7O0tAZ2ZmZmZmSkAREREREZFJQO/u7u7urkhAzczMzMzMR0CrqqqqqupGQAAAAAAAAEZAiYiIiIgIRUBERERERAREQKuqqqqq6kJAVVVVVVXVQUC8u7u7u7tAQO/u7u7uLkBAAAAAAACAPUAzMzMzM7M7QCMiIiIiIjpAVVVVVVVVOUDNzMzMzEw3QBERERERETZA7+7u7u7uNEBVVVVVVdUzQGdmZmZm5jJAAAAAAAAAMkC8u7u7uzsxQAAAAAAAgDBA\",\"dtype\":\"float64\",\"shape\":[27]}},\"selected\":{\"id\":\"3939\",\"type\":\"Selection\"},\"selection_policy\":{\"id\":\"3940\",\"type\":\"UnionRenderers\"}},\"id\":\"3816\",\"type\":\"ColumnDataSource\"},{\"attributes\":{},\"id\":\"3807\",\"type\":\"PanTool\"}],\"root_ids\":[\"3788\"]},\"title\":\"Bokeh Application\",\"version\":\"1.0.3\"}};\n",
       "  var render_items = [{\"docid\":\"0a75fe74-843c-4d33-91c3-54f46d7ebacd\",\"roots\":{\"3788\":\"c49630fd-6efd-4f2d-a610-727613fca7c3\"}}];\n",
       "  root.Bokeh.embed.embed_items_notebook(docs_json, render_items);\n",
       "\n",
       "  }\n",
       "  if (root.Bokeh !== undefined) {\n",
       "    embed_document(root);\n",
       "  } else {\n",
       "    var attempts = 0;\n",
       "    var timer = setInterval(function(root) {\n",
       "      if (root.Bokeh !== undefined) {\n",
       "        embed_document(root);\n",
       "        clearInterval(timer);\n",
       "      }\n",
       "      attempts++;\n",
       "      if (attempts > 100) {\n",
       "        console.log(\"Bokeh: ERROR: Unable to run BokehJS code because BokehJS library is missing\");\n",
       "        clearInterval(timer);\n",
       "      }\n",
       "    }, 10, root)\n",
       "  }\n",
       "})(window);"
      ],
      "application/vnd.bokehjs_exec.v0+json": ""
     },
     "metadata": {
      "application/vnd.bokehjs_exec.v0+json": {
       "id": "3788"
      }
     },
     "output_type": "display_data"
    },
    {
     "data": {
      "text/html": [
       "\n",
       "\n",
       "\n",
       "\n",
       "\n",
       "\n",
       "  <div class=\"bk-root\" id=\"0df716c7-6a89-4595-9e8c-71edb7722d95\" data-root-id=\"4080\"></div>\n"
      ]
     },
     "metadata": {},
     "output_type": "display_data"
    },
    {
     "data": {
      "application/javascript": [
       "(function(root) {\n",
       "  function embed_document(root) {\n",
       "    \n",
       "  var docs_json = {\"f93ac6bd-d5ff-45ea-9277-377cce91f82e\":{\"roots\":{\"references\":[{\"attributes\":{\"below\":[{\"id\":\"4090\",\"type\":\"CategoricalAxis\"}],\"left\":[{\"id\":\"4094\",\"type\":\"LinearAxis\"}],\"plot_height\":550,\"renderers\":[{\"id\":\"4090\",\"type\":\"CategoricalAxis\"},{\"id\":\"4093\",\"type\":\"Grid\"},{\"id\":\"4094\",\"type\":\"LinearAxis\"},{\"id\":\"4098\",\"type\":\"Grid\"},{\"id\":\"4111\",\"type\":\"GlyphRenderer\"},{\"id\":\"4116\",\"type\":\"GlyphRenderer\"}],\"title\":{\"id\":\"4079\",\"type\":\"Title\"},\"toolbar\":{\"id\":\"4103\",\"type\":\"Toolbar\"},\"x_range\":{\"id\":\"4082\",\"type\":\"FactorRange\"},\"x_scale\":{\"id\":\"4086\",\"type\":\"CategoricalScale\"},\"y_range\":{\"id\":\"4084\",\"type\":\"DataRange1d\"},\"y_scale\":{\"id\":\"4088\",\"type\":\"LinearScale\"}},\"id\":\"4080\",\"subtype\":\"Figure\",\"type\":\"Plot\"},{\"attributes\":{},\"id\":\"4240\",\"type\":\"Selection\"},{\"attributes\":{},\"id\":\"4237\",\"type\":\"CategoricalTickFormatter\"},{\"attributes\":{\"fill_alpha\":{\"value\":0.1},\"fill_color\":{\"value\":\"#1f77b4\"},\"line_alpha\":{\"value\":0.1},\"line_color\":{\"value\":\"#1f77b4\"},\"x\":{\"field\":\"x\"},\"y\":{\"field\":\"y\"}},\"id\":\"4110\",\"type\":\"Circle\"},{\"attributes\":{\"source\":{\"id\":\"4113\",\"type\":\"ColumnDataSource\"}},\"id\":\"4117\",\"type\":\"CDSView\"},{\"attributes\":{\"callback\":null,\"data\":{\"x\":[\"1990.5\",\"1991.5\",\"1992.5\",\"1993.5\",\"1994.5\",\"1995.5\",\"1996.5\",\"1997.5\",\"1998.5\",\"1999.5\",\"2000.5\",\"2001.5\",\"2002.5\",\"2003.5\",\"2004.5\",\"2005.5\",\"2006.5\",\"2007.5\",\"2008.5\",\"2009.5\",\"2010.5\",\"2011.5\",\"2012.5\",\"2013.5\",\"2014.5\",\"2015.5\",\"2016.5\"],\"y\":{\"__ndarray__\":\"IyIiIiJiR0Dv7u7u7i5HQGdmZmZmJkdAIyIiIiIiR0AzMzMzM/NGQM3MzMzMjEZAq6qqqqrqRUAiIiIiIiJFQLy7u7u7O0RAAAAAAABAQ0AzMzMzMzNCQGZmZmZmJkFAmpmZmZkZQEC8u7u7uzs+QGdmZmZmZjxAq6qqqqqqOkCZmZmZmRk5QCMiIiIiojdAzczMzMxMNkARERERERE1QN7d3d3d3TNA3t3d3d3dMkDv7u7u7u4xQImIiIiICDFAMzMzMzMzMEAAAAAAAAAvQIiIiIiIiC1A\",\"dtype\":\"float64\",\"shape\":[27]}},\"selected\":{\"id\":\"4242\",\"type\":\"Selection\"},\"selection_policy\":{\"id\":\"4243\",\"type\":\"UnionRenderers\"}},\"id\":\"4113\",\"type\":\"ColumnDataSource\"},{\"attributes\":{\"line_alpha\":0.1,\"line_color\":\"#1f77b4\",\"x\":{\"field\":\"x\"},\"y\":{\"field\":\"y\"}},\"id\":\"4115\",\"type\":\"Line\"},{\"attributes\":{},\"id\":\"4239\",\"type\":\"BasicTickFormatter\"},{\"attributes\":{},\"id\":\"4101\",\"type\":\"SaveTool\"},{\"attributes\":{\"line_color\":\"#1f77b4\",\"x\":{\"field\":\"x\"},\"y\":{\"field\":\"y\"}},\"id\":\"4114\",\"type\":\"Line\"},{\"attributes\":{},\"id\":\"4102\",\"type\":\"ResetTool\"},{\"attributes\":{\"active_drag\":\"auto\",\"active_inspect\":\"auto\",\"active_multi\":null,\"active_scroll\":\"auto\",\"active_tap\":\"auto\",\"tools\":[{\"id\":\"4099\",\"type\":\"PanTool\"},{\"id\":\"4100\",\"type\":\"WheelZoomTool\"},{\"id\":\"4101\",\"type\":\"SaveTool\"},{\"id\":\"4102\",\"type\":\"ResetTool\"}]},\"id\":\"4103\",\"type\":\"Toolbar\"},{\"attributes\":{\"data_source\":{\"id\":\"4108\",\"type\":\"ColumnDataSource\"},\"glyph\":{\"id\":\"4109\",\"type\":\"Circle\"},\"hover_glyph\":null,\"muted_glyph\":null,\"nonselection_glyph\":{\"id\":\"4110\",\"type\":\"Circle\"},\"selection_glyph\":null,\"view\":{\"id\":\"4112\",\"type\":\"CDSView\"}},\"id\":\"4111\",\"type\":\"GlyphRenderer\"},{\"attributes\":{\"plot\":null,\"text\":\"Eastern Europe and Central Asia\"},\"id\":\"4079\",\"type\":\"Title\"},{\"attributes\":{\"source\":{\"id\":\"4108\",\"type\":\"ColumnDataSource\"}},\"id\":\"4112\",\"type\":\"CDSView\"},{\"attributes\":{\"callback\":null,\"factors\":[\"1990.5\",\"1991.5\",\"1992.5\",\"1993.5\",\"1994.5\",\"1995.5\",\"1996.5\",\"1997.5\",\"1998.5\",\"1999.5\",\"2000.5\",\"2001.5\",\"2002.5\",\"2003.5\",\"2004.5\",\"2005.5\",\"2006.5\",\"2007.5\",\"2008.5\",\"2009.5\",\"2010.5\",\"2011.5\",\"2012.5\",\"2013.5\",\"2014.5\",\"2015.5\",\"2016.5\"]},\"id\":\"4082\",\"type\":\"FactorRange\"},{\"attributes\":{},\"id\":\"4100\",\"type\":\"WheelZoomTool\"},{\"attributes\":{\"fill_color\":{\"value\":\"#D9371B\"},\"line_color\":{\"value\":\"#1f77b4\"},\"x\":{\"field\":\"x\"},\"y\":{\"field\":\"y\"}},\"id\":\"4109\",\"type\":\"Circle\"},{\"attributes\":{},\"id\":\"4091\",\"type\":\"CategoricalTicker\"},{\"attributes\":{\"axis_label\":\"Year\",\"formatter\":{\"id\":\"4237\",\"type\":\"CategoricalTickFormatter\"},\"major_label_orientation\":1.2,\"plot\":{\"id\":\"4080\",\"subtype\":\"Figure\",\"type\":\"Plot\"},\"ticker\":{\"id\":\"4091\",\"type\":\"CategoricalTicker\"}},\"id\":\"4090\",\"type\":\"CategoricalAxis\"},{\"attributes\":{\"plot\":{\"id\":\"4080\",\"subtype\":\"Figure\",\"type\":\"Plot\"},\"ticker\":{\"id\":\"4091\",\"type\":\"CategoricalTicker\"}},\"id\":\"4093\",\"type\":\"Grid\"},{\"attributes\":{\"callback\":null,\"data\":{\"x\":[\"1990.5\",\"1991.5\",\"1992.5\",\"1993.5\",\"1994.5\",\"1995.5\",\"1996.5\",\"1997.5\",\"1998.5\",\"1999.5\",\"2000.5\",\"2001.5\",\"2002.5\",\"2003.5\",\"2004.5\",\"2005.5\",\"2006.5\",\"2007.5\",\"2008.5\",\"2009.5\",\"2010.5\",\"2011.5\",\"2012.5\",\"2013.5\",\"2014.5\",\"2015.5\",\"2016.5\"],\"y\":{\"__ndarray__\":\"IyIiIiJiR0Dv7u7u7i5HQGdmZmZmJkdAIyIiIiIiR0AzMzMzM/NGQM3MzMzMjEZAq6qqqqrqRUAiIiIiIiJFQLy7u7u7O0RAAAAAAABAQ0AzMzMzMzNCQGZmZmZmJkFAmpmZmZkZQEC8u7u7uzs+QGdmZmZmZjxAq6qqqqqqOkCZmZmZmRk5QCMiIiIiojdAzczMzMxMNkARERERERE1QN7d3d3d3TNA3t3d3d3dMkDv7u7u7u4xQImIiIiICDFAMzMzMzMzMEAAAAAAAAAvQIiIiIiIiC1A\",\"dtype\":\"float64\",\"shape\":[27]}},\"selected\":{\"id\":\"4240\",\"type\":\"Selection\"},\"selection_policy\":{\"id\":\"4241\",\"type\":\"UnionRenderers\"}},\"id\":\"4108\",\"type\":\"ColumnDataSource\"},{\"attributes\":{\"axis_label\":\"Number of children\",\"formatter\":{\"id\":\"4239\",\"type\":\"BasicTickFormatter\"},\"plot\":{\"id\":\"4080\",\"subtype\":\"Figure\",\"type\":\"Plot\"},\"ticker\":{\"id\":\"4095\",\"type\":\"BasicTicker\"}},\"id\":\"4094\",\"type\":\"LinearAxis\"},{\"attributes\":{},\"id\":\"4095\",\"type\":\"BasicTicker\"},{\"attributes\":{},\"id\":\"4243\",\"type\":\"UnionRenderers\"},{\"attributes\":{},\"id\":\"4241\",\"type\":\"UnionRenderers\"},{\"attributes\":{},\"id\":\"4099\",\"type\":\"PanTool\"},{\"attributes\":{},\"id\":\"4242\",\"type\":\"Selection\"},{\"attributes\":{\"callback\":null,\"start\":0},\"id\":\"4084\",\"type\":\"DataRange1d\"},{\"attributes\":{\"dimension\":1,\"plot\":{\"id\":\"4080\",\"subtype\":\"Figure\",\"type\":\"Plot\"},\"ticker\":{\"id\":\"4095\",\"type\":\"BasicTicker\"}},\"id\":\"4098\",\"type\":\"Grid\"},{\"attributes\":{},\"id\":\"4086\",\"type\":\"CategoricalScale\"},{\"attributes\":{\"data_source\":{\"id\":\"4113\",\"type\":\"ColumnDataSource\"},\"glyph\":{\"id\":\"4114\",\"type\":\"Line\"},\"hover_glyph\":null,\"muted_glyph\":null,\"nonselection_glyph\":{\"id\":\"4115\",\"type\":\"Line\"},\"selection_glyph\":null,\"view\":{\"id\":\"4117\",\"type\":\"CDSView\"}},\"id\":\"4116\",\"type\":\"GlyphRenderer\"},{\"attributes\":{},\"id\":\"4088\",\"type\":\"LinearScale\"}],\"root_ids\":[\"4080\"]},\"title\":\"Bokeh Application\",\"version\":\"1.0.3\"}};\n",
       "  var render_items = [{\"docid\":\"f93ac6bd-d5ff-45ea-9277-377cce91f82e\",\"roots\":{\"4080\":\"0df716c7-6a89-4595-9e8c-71edb7722d95\"}}];\n",
       "  root.Bokeh.embed.embed_items_notebook(docs_json, render_items);\n",
       "\n",
       "  }\n",
       "  if (root.Bokeh !== undefined) {\n",
       "    embed_document(root);\n",
       "  } else {\n",
       "    var attempts = 0;\n",
       "    var timer = setInterval(function(root) {\n",
       "      if (root.Bokeh !== undefined) {\n",
       "        embed_document(root);\n",
       "        clearInterval(timer);\n",
       "      }\n",
       "      attempts++;\n",
       "      if (attempts > 100) {\n",
       "        console.log(\"Bokeh: ERROR: Unable to run BokehJS code because BokehJS library is missing\");\n",
       "        clearInterval(timer);\n",
       "      }\n",
       "    }, 10, root)\n",
       "  }\n",
       "})(window);"
      ],
      "application/vnd.bokehjs_exec.v0+json": ""
     },
     "metadata": {
      "application/vnd.bokehjs_exec.v0+json": {
       "id": "4080"
      }
     },
     "output_type": "display_data"
    },
    {
     "data": {
      "text/html": [
       "\n",
       "\n",
       "\n",
       "\n",
       "\n",
       "\n",
       "  <div class=\"bk-root\" id=\"c1279b1c-1de4-4d3a-b35a-358500be633d\" data-root-id=\"4381\"></div>\n"
      ]
     },
     "metadata": {},
     "output_type": "display_data"
    },
    {
     "data": {
      "application/javascript": [
       "(function(root) {\n",
       "  function embed_document(root) {\n",
       "    \n",
       "  var docs_json = {\"49647c69-d5cd-4d4d-937b-fdd5a8736878\":{\"roots\":{\"references\":[{\"attributes\":{\"below\":[{\"id\":\"4391\",\"type\":\"CategoricalAxis\"}],\"left\":[{\"id\":\"4395\",\"type\":\"LinearAxis\"}],\"plot_height\":550,\"renderers\":[{\"id\":\"4391\",\"type\":\"CategoricalAxis\"},{\"id\":\"4394\",\"type\":\"Grid\"},{\"id\":\"4395\",\"type\":\"LinearAxis\"},{\"id\":\"4399\",\"type\":\"Grid\"},{\"id\":\"4412\",\"type\":\"GlyphRenderer\"},{\"id\":\"4417\",\"type\":\"GlyphRenderer\"}],\"title\":{\"id\":\"4380\",\"type\":\"Title\"},\"toolbar\":{\"id\":\"4404\",\"type\":\"Toolbar\"},\"x_range\":{\"id\":\"4383\",\"type\":\"FactorRange\"},\"x_scale\":{\"id\":\"4387\",\"type\":\"CategoricalScale\"},\"y_range\":{\"id\":\"4385\",\"type\":\"DataRange1d\"},\"y_scale\":{\"id\":\"4389\",\"type\":\"LinearScale\"}},\"id\":\"4381\",\"subtype\":\"Figure\",\"type\":\"Plot\"},{\"attributes\":{\"callback\":null,\"data\":{\"x\":[\"1990.5\",\"1991.5\",\"1992.5\",\"1993.5\",\"1994.5\",\"1995.5\",\"1996.5\",\"1997.5\",\"1998.5\",\"1999.5\",\"2000.5\",\"2001.5\",\"2002.5\",\"2003.5\",\"2004.5\",\"2005.5\",\"2006.5\",\"2007.5\",\"2008.5\",\"2009.5\",\"2010.5\",\"2011.5\",\"2012.5\",\"2013.5\",\"2014.5\",\"2015.5\",\"2016.5\"],\"y\":{\"__ndarray__\":\"iIiIiIiIZEAREREREVFkQHd3d3d3F2RARURERETkY0Dv7u7u7u5jQKuqqqqqimNAIyIiIiISY0CZmZmZmcliQLu7u7u7a2JAVVVVVVXVYUC8u7u7uzthQLy7u7u7i2BAAAAAAACgX0C8u7u7uxteQHh3d3d3l1xAvLu7u7sbW0AzMzMzM7NZQHh3d3d3V1hAzczMzMwMV0Dd3d3d3d1VQFVVVVVVtVRARURERESkU0CIiIiIiKhSQERERERExFFAMzMzMzPzUEDe3d3d3T1QQEVERERERE9A\",\"dtype\":\"float64\",\"shape\":[27]}},\"selected\":{\"id\":\"4550\",\"type\":\"Selection\"},\"selection_policy\":{\"id\":\"4551\",\"type\":\"UnionRenderers\"}},\"id\":\"4409\",\"type\":\"ColumnDataSource\"},{\"attributes\":{\"data_source\":{\"id\":\"4409\",\"type\":\"ColumnDataSource\"},\"glyph\":{\"id\":\"4410\",\"type\":\"Circle\"},\"hover_glyph\":null,\"muted_glyph\":null,\"nonselection_glyph\":{\"id\":\"4411\",\"type\":\"Circle\"},\"selection_glyph\":null,\"view\":{\"id\":\"4413\",\"type\":\"CDSView\"}},\"id\":\"4412\",\"type\":\"GlyphRenderer\"},{\"attributes\":{\"callback\":null,\"data\":{\"x\":[\"1990.5\",\"1991.5\",\"1992.5\",\"1993.5\",\"1994.5\",\"1995.5\",\"1996.5\",\"1997.5\",\"1998.5\",\"1999.5\",\"2000.5\",\"2001.5\",\"2002.5\",\"2003.5\",\"2004.5\",\"2005.5\",\"2006.5\",\"2007.5\",\"2008.5\",\"2009.5\",\"2010.5\",\"2011.5\",\"2012.5\",\"2013.5\",\"2014.5\",\"2015.5\",\"2016.5\"],\"y\":{\"__ndarray__\":\"iIiIiIiIZEAREREREVFkQHd3d3d3F2RARURERETkY0Dv7u7u7u5jQKuqqqqqimNAIyIiIiISY0CZmZmZmcliQLu7u7u7a2JAVVVVVVXVYUC8u7u7uzthQLy7u7u7i2BAAAAAAACgX0C8u7u7uxteQHh3d3d3l1xAvLu7u7sbW0AzMzMzM7NZQHh3d3d3V1hAzczMzMwMV0Dd3d3d3d1VQFVVVVVVtVRARURERESkU0CIiIiIiKhSQERERERExFFAMzMzMzPzUEDe3d3d3T1QQEVERERERE9A\",\"dtype\":\"float64\",\"shape\":[27]}},\"selected\":{\"id\":\"4552\",\"type\":\"Selection\"},\"selection_policy\":{\"id\":\"4553\",\"type\":\"UnionRenderers\"}},\"id\":\"4414\",\"type\":\"ColumnDataSource\"},{\"attributes\":{\"callback\":null,\"factors\":[\"1990.5\",\"1991.5\",\"1992.5\",\"1993.5\",\"1994.5\",\"1995.5\",\"1996.5\",\"1997.5\",\"1998.5\",\"1999.5\",\"2000.5\",\"2001.5\",\"2002.5\",\"2003.5\",\"2004.5\",\"2005.5\",\"2006.5\",\"2007.5\",\"2008.5\",\"2009.5\",\"2010.5\",\"2011.5\",\"2012.5\",\"2013.5\",\"2014.5\",\"2015.5\",\"2016.5\"]},\"id\":\"4383\",\"type\":\"FactorRange\"},{\"attributes\":{\"axis_label\":\"Number of children\",\"formatter\":{\"id\":\"4549\",\"type\":\"BasicTickFormatter\"},\"plot\":{\"id\":\"4381\",\"subtype\":\"Figure\",\"type\":\"Plot\"},\"ticker\":{\"id\":\"4396\",\"type\":\"BasicTicker\"}},\"id\":\"4395\",\"type\":\"LinearAxis\"},{\"attributes\":{},\"id\":\"4389\",\"type\":\"LinearScale\"},{\"attributes\":{},\"id\":\"4547\",\"type\":\"CategoricalTickFormatter\"},{\"attributes\":{\"data_source\":{\"id\":\"4414\",\"type\":\"ColumnDataSource\"},\"glyph\":{\"id\":\"4415\",\"type\":\"Line\"},\"hover_glyph\":null,\"muted_glyph\":null,\"nonselection_glyph\":{\"id\":\"4416\",\"type\":\"Line\"},\"selection_glyph\":null,\"view\":{\"id\":\"4418\",\"type\":\"CDSView\"}},\"id\":\"4417\",\"type\":\"GlyphRenderer\"},{\"attributes\":{},\"id\":\"4403\",\"type\":\"ResetTool\"},{\"attributes\":{\"axis_label\":\"Year\",\"formatter\":{\"id\":\"4547\",\"type\":\"CategoricalTickFormatter\"},\"major_label_orientation\":1.2,\"plot\":{\"id\":\"4381\",\"subtype\":\"Figure\",\"type\":\"Plot\"},\"ticker\":{\"id\":\"4392\",\"type\":\"CategoricalTicker\"}},\"id\":\"4391\",\"type\":\"CategoricalAxis\"},{\"attributes\":{\"callback\":null,\"start\":0},\"id\":\"4385\",\"type\":\"DataRange1d\"},{\"attributes\":{\"plot\":null,\"text\":\"Eastern and Southern Africa\"},\"id\":\"4380\",\"type\":\"Title\"},{\"attributes\":{},\"id\":\"4550\",\"type\":\"Selection\"},{\"attributes\":{},\"id\":\"4552\",\"type\":\"Selection\"},{\"attributes\":{},\"id\":\"4400\",\"type\":\"PanTool\"},{\"attributes\":{\"active_drag\":\"auto\",\"active_inspect\":\"auto\",\"active_multi\":null,\"active_scroll\":\"auto\",\"active_tap\":\"auto\",\"tools\":[{\"id\":\"4400\",\"type\":\"PanTool\"},{\"id\":\"4401\",\"type\":\"WheelZoomTool\"},{\"id\":\"4402\",\"type\":\"SaveTool\"},{\"id\":\"4403\",\"type\":\"ResetTool\"}]},\"id\":\"4404\",\"type\":\"Toolbar\"},{\"attributes\":{},\"id\":\"4392\",\"type\":\"CategoricalTicker\"},{\"attributes\":{\"source\":{\"id\":\"4414\",\"type\":\"ColumnDataSource\"}},\"id\":\"4418\",\"type\":\"CDSView\"},{\"attributes\":{\"fill_color\":{\"value\":\"#D9371B\"},\"line_color\":{\"value\":\"#1f77b4\"},\"x\":{\"field\":\"x\"},\"y\":{\"field\":\"y\"}},\"id\":\"4410\",\"type\":\"Circle\"},{\"attributes\":{},\"id\":\"4551\",\"type\":\"UnionRenderers\"},{\"attributes\":{\"line_color\":\"#1f77b4\",\"x\":{\"field\":\"x\"},\"y\":{\"field\":\"y\"}},\"id\":\"4415\",\"type\":\"Line\"},{\"attributes\":{\"source\":{\"id\":\"4409\",\"type\":\"ColumnDataSource\"}},\"id\":\"4413\",\"type\":\"CDSView\"},{\"attributes\":{},\"id\":\"4553\",\"type\":\"UnionRenderers\"},{\"attributes\":{},\"id\":\"4401\",\"type\":\"WheelZoomTool\"},{\"attributes\":{},\"id\":\"4402\",\"type\":\"SaveTool\"},{\"attributes\":{\"dimension\":1,\"plot\":{\"id\":\"4381\",\"subtype\":\"Figure\",\"type\":\"Plot\"},\"ticker\":{\"id\":\"4396\",\"type\":\"BasicTicker\"}},\"id\":\"4399\",\"type\":\"Grid\"},{\"attributes\":{\"fill_alpha\":{\"value\":0.1},\"fill_color\":{\"value\":\"#1f77b4\"},\"line_alpha\":{\"value\":0.1},\"line_color\":{\"value\":\"#1f77b4\"},\"x\":{\"field\":\"x\"},\"y\":{\"field\":\"y\"}},\"id\":\"4411\",\"type\":\"Circle\"},{\"attributes\":{\"line_alpha\":0.1,\"line_color\":\"#1f77b4\",\"x\":{\"field\":\"x\"},\"y\":{\"field\":\"y\"}},\"id\":\"4416\",\"type\":\"Line\"},{\"attributes\":{},\"id\":\"4549\",\"type\":\"BasicTickFormatter\"},{\"attributes\":{\"plot\":{\"id\":\"4381\",\"subtype\":\"Figure\",\"type\":\"Plot\"},\"ticker\":{\"id\":\"4392\",\"type\":\"CategoricalTicker\"}},\"id\":\"4394\",\"type\":\"Grid\"},{\"attributes\":{},\"id\":\"4387\",\"type\":\"CategoricalScale\"},{\"attributes\":{},\"id\":\"4396\",\"type\":\"BasicTicker\"}],\"root_ids\":[\"4381\"]},\"title\":\"Bokeh Application\",\"version\":\"1.0.3\"}};\n",
       "  var render_items = [{\"docid\":\"49647c69-d5cd-4d4d-937b-fdd5a8736878\",\"roots\":{\"4381\":\"c1279b1c-1de4-4d3a-b35a-358500be633d\"}}];\n",
       "  root.Bokeh.embed.embed_items_notebook(docs_json, render_items);\n",
       "\n",
       "  }\n",
       "  if (root.Bokeh !== undefined) {\n",
       "    embed_document(root);\n",
       "  } else {\n",
       "    var attempts = 0;\n",
       "    var timer = setInterval(function(root) {\n",
       "      if (root.Bokeh !== undefined) {\n",
       "        embed_document(root);\n",
       "        clearInterval(timer);\n",
       "      }\n",
       "      attempts++;\n",
       "      if (attempts > 100) {\n",
       "        console.log(\"Bokeh: ERROR: Unable to run BokehJS code because BokehJS library is missing\");\n",
       "        clearInterval(timer);\n",
       "      }\n",
       "    }, 10, root)\n",
       "  }\n",
       "})(window);"
      ],
      "application/vnd.bokehjs_exec.v0+json": ""
     },
     "metadata": {
      "application/vnd.bokehjs_exec.v0+json": {
       "id": "4381"
      }
     },
     "output_type": "display_data"
    },
    {
     "data": {
      "text/html": [
       "\n",
       "\n",
       "\n",
       "\n",
       "\n",
       "\n",
       "  <div class=\"bk-root\" id=\"0fec5498-3a75-4134-8bb1-daaf5484d95e\" data-root-id=\"4691\"></div>\n"
      ]
     },
     "metadata": {},
     "output_type": "display_data"
    },
    {
     "data": {
      "application/javascript": [
       "(function(root) {\n",
       "  function embed_document(root) {\n",
       "    \n",
       "  var docs_json = {\"2ad40c7c-d30c-49f3-aeea-14006d8476a1\":{\"roots\":{\"references\":[{\"attributes\":{\"below\":[{\"id\":\"4701\",\"type\":\"CategoricalAxis\"}],\"left\":[{\"id\":\"4705\",\"type\":\"LinearAxis\"}],\"plot_height\":550,\"renderers\":[{\"id\":\"4701\",\"type\":\"CategoricalAxis\"},{\"id\":\"4704\",\"type\":\"Grid\"},{\"id\":\"4705\",\"type\":\"LinearAxis\"},{\"id\":\"4709\",\"type\":\"Grid\"},{\"id\":\"4722\",\"type\":\"GlyphRenderer\"},{\"id\":\"4727\",\"type\":\"GlyphRenderer\"}],\"title\":{\"id\":\"4690\",\"type\":\"Title\"},\"toolbar\":{\"id\":\"4714\",\"type\":\"Toolbar\"},\"x_range\":{\"id\":\"4693\",\"type\":\"FactorRange\"},\"x_scale\":{\"id\":\"4697\",\"type\":\"CategoricalScale\"},\"y_range\":{\"id\":\"4695\",\"type\":\"DataRange1d\"},\"y_scale\":{\"id\":\"4699\",\"type\":\"LinearScale\"}},\"id\":\"4691\",\"subtype\":\"Figure\",\"type\":\"Plot\"},{\"attributes\":{},\"id\":\"4702\",\"type\":\"CategoricalTicker\"},{\"attributes\":{},\"id\":\"4699\",\"type\":\"LinearScale\"},{\"attributes\":{\"axis_label\":\"Number of children\",\"formatter\":{\"id\":\"4868\",\"type\":\"BasicTickFormatter\"},\"plot\":{\"id\":\"4691\",\"subtype\":\"Figure\",\"type\":\"Plot\"},\"ticker\":{\"id\":\"4706\",\"type\":\"BasicTicker\"}},\"id\":\"4705\",\"type\":\"LinearAxis\"},{\"attributes\":{\"source\":{\"id\":\"4724\",\"type\":\"ColumnDataSource\"}},\"id\":\"4728\",\"type\":\"CDSView\"},{\"attributes\":{\"callback\":null,\"factors\":[\"1990.5\",\"1991.5\",\"1992.5\",\"1993.5\",\"1994.5\",\"1995.5\",\"1996.5\",\"1997.5\",\"1998.5\",\"1999.5\",\"2000.5\",\"2001.5\",\"2002.5\",\"2003.5\",\"2004.5\",\"2005.5\",\"2006.5\",\"2007.5\",\"2008.5\",\"2009.5\",\"2010.5\",\"2011.5\",\"2012.5\",\"2013.5\",\"2014.5\",\"2015.5\",\"2016.5\"]},\"id\":\"4693\",\"type\":\"FactorRange\"},{\"attributes\":{\"plot\":null,\"text\":\"Europe and Central Asia\"},\"id\":\"4690\",\"type\":\"Title\"},{\"attributes\":{\"callback\":null,\"start\":0},\"id\":\"4695\",\"type\":\"DataRange1d\"},{\"attributes\":{\"source\":{\"id\":\"4719\",\"type\":\"ColumnDataSource\"}},\"id\":\"4723\",\"type\":\"CDSView\"},{\"attributes\":{},\"id\":\"4697\",\"type\":\"CategoricalScale\"},{\"attributes\":{},\"id\":\"4712\",\"type\":\"SaveTool\"},{\"attributes\":{\"fill_alpha\":{\"value\":0.1},\"fill_color\":{\"value\":\"#1f77b4\"},\"line_alpha\":{\"value\":0.1},\"line_color\":{\"value\":\"#1f77b4\"},\"x\":{\"field\":\"x\"},\"y\":{\"field\":\"y\"}},\"id\":\"4721\",\"type\":\"Circle\"},{\"attributes\":{},\"id\":\"4871\",\"type\":\"Selection\"},{\"attributes\":{\"data_source\":{\"id\":\"4724\",\"type\":\"ColumnDataSource\"},\"glyph\":{\"id\":\"4725\",\"type\":\"Line\"},\"hover_glyph\":null,\"muted_glyph\":null,\"nonselection_glyph\":{\"id\":\"4726\",\"type\":\"Line\"},\"selection_glyph\":null,\"view\":{\"id\":\"4728\",\"type\":\"CDSView\"}},\"id\":\"4727\",\"type\":\"GlyphRenderer\"},{\"attributes\":{\"fill_color\":{\"value\":\"#D9371B\"},\"line_color\":{\"value\":\"#1f77b4\"},\"x\":{\"field\":\"x\"},\"y\":{\"field\":\"y\"}},\"id\":\"4720\",\"type\":\"Circle\"},{\"attributes\":{\"line_alpha\":0.1,\"line_color\":\"#1f77b4\",\"x\":{\"field\":\"x\"},\"y\":{\"field\":\"y\"}},\"id\":\"4726\",\"type\":\"Line\"},{\"attributes\":{},\"id\":\"4866\",\"type\":\"CategoricalTickFormatter\"},{\"attributes\":{},\"id\":\"4711\",\"type\":\"WheelZoomTool\"},{\"attributes\":{\"data_source\":{\"id\":\"4719\",\"type\":\"ColumnDataSource\"},\"glyph\":{\"id\":\"4720\",\"type\":\"Circle\"},\"hover_glyph\":null,\"muted_glyph\":null,\"nonselection_glyph\":{\"id\":\"4721\",\"type\":\"Circle\"},\"selection_glyph\":null,\"view\":{\"id\":\"4723\",\"type\":\"CDSView\"}},\"id\":\"4722\",\"type\":\"GlyphRenderer\"},{\"attributes\":{},\"id\":\"4868\",\"type\":\"BasicTickFormatter\"},{\"attributes\":{\"line_color\":\"#1f77b4\",\"x\":{\"field\":\"x\"},\"y\":{\"field\":\"y\"}},\"id\":\"4725\",\"type\":\"Line\"},{\"attributes\":{},\"id\":\"4870\",\"type\":\"UnionRenderers\"},{\"attributes\":{\"callback\":null,\"data\":{\"x\":[\"1990.5\",\"1991.5\",\"1992.5\",\"1993.5\",\"1994.5\",\"1995.5\",\"1996.5\",\"1997.5\",\"1998.5\",\"1999.5\",\"2000.5\",\"2001.5\",\"2002.5\",\"2003.5\",\"2004.5\",\"2005.5\",\"2006.5\",\"2007.5\",\"2008.5\",\"2009.5\",\"2010.5\",\"2011.5\",\"2012.5\",\"2013.5\",\"2014.5\",\"2015.5\",\"2016.5\"],\"y\":{\"__ndarray__\":\"AAAAAAAAP0BVVVVVVVU+QFVVVVVV1T1AVVVVVVVVPUAjIiIiIqI8QLu7u7u7uztAq6qqqqqqOkAQEREREZE5QFVVVVVVVThAmZmZmZkZN0BVVVVVVdU1QCIiIiIiojRAd3d3d3d3M0Df3d3d3V0yQN/d3d3dXTFAZ2ZmZmZmMEAjIiIiIiIvQIiIiIiIiC1AIyIiIiIiLEDw7u7u7u4qQKuqqqqqqilAiIiIiIiIKEB4d3d3d3cnQHh3d3d3dyZAiIiIiIiIJUCamZmZmZkkQLy7u7u7uyNA\",\"dtype\":\"float64\",\"shape\":[27]}},\"selected\":{\"id\":\"4871\",\"type\":\"Selection\"},\"selection_policy\":{\"id\":\"4872\",\"type\":\"UnionRenderers\"}},\"id\":\"4724\",\"type\":\"ColumnDataSource\"},{\"attributes\":{\"active_drag\":\"auto\",\"active_inspect\":\"auto\",\"active_multi\":null,\"active_scroll\":\"auto\",\"active_tap\":\"auto\",\"tools\":[{\"id\":\"4710\",\"type\":\"PanTool\"},{\"id\":\"4711\",\"type\":\"WheelZoomTool\"},{\"id\":\"4712\",\"type\":\"SaveTool\"},{\"id\":\"4713\",\"type\":\"ResetTool\"}]},\"id\":\"4714\",\"type\":\"Toolbar\"},{\"attributes\":{},\"id\":\"4713\",\"type\":\"ResetTool\"},{\"attributes\":{},\"id\":\"4869\",\"type\":\"Selection\"},{\"attributes\":{},\"id\":\"4710\",\"type\":\"PanTool\"},{\"attributes\":{},\"id\":\"4872\",\"type\":\"UnionRenderers\"},{\"attributes\":{},\"id\":\"4706\",\"type\":\"BasicTicker\"},{\"attributes\":{\"dimension\":1,\"plot\":{\"id\":\"4691\",\"subtype\":\"Figure\",\"type\":\"Plot\"},\"ticker\":{\"id\":\"4706\",\"type\":\"BasicTicker\"}},\"id\":\"4709\",\"type\":\"Grid\"},{\"attributes\":{\"callback\":null,\"data\":{\"x\":[\"1990.5\",\"1991.5\",\"1992.5\",\"1993.5\",\"1994.5\",\"1995.5\",\"1996.5\",\"1997.5\",\"1998.5\",\"1999.5\",\"2000.5\",\"2001.5\",\"2002.5\",\"2003.5\",\"2004.5\",\"2005.5\",\"2006.5\",\"2007.5\",\"2008.5\",\"2009.5\",\"2010.5\",\"2011.5\",\"2012.5\",\"2013.5\",\"2014.5\",\"2015.5\",\"2016.5\"],\"y\":{\"__ndarray__\":\"AAAAAAAAP0BVVVVVVVU+QFVVVVVV1T1AVVVVVVVVPUAjIiIiIqI8QLu7u7u7uztAq6qqqqqqOkAQEREREZE5QFVVVVVVVThAmZmZmZkZN0BVVVVVVdU1QCIiIiIiojRAd3d3d3d3M0Df3d3d3V0yQN/d3d3dXTFAZ2ZmZmZmMEAjIiIiIiIvQIiIiIiIiC1AIyIiIiIiLEDw7u7u7u4qQKuqqqqqqilAiIiIiIiIKEB4d3d3d3cnQHh3d3d3dyZAiIiIiIiIJUCamZmZmZkkQLy7u7u7uyNA\",\"dtype\":\"float64\",\"shape\":[27]}},\"selected\":{\"id\":\"4869\",\"type\":\"Selection\"},\"selection_policy\":{\"id\":\"4870\",\"type\":\"UnionRenderers\"}},\"id\":\"4719\",\"type\":\"ColumnDataSource\"},{\"attributes\":{\"axis_label\":\"Year\",\"formatter\":{\"id\":\"4866\",\"type\":\"CategoricalTickFormatter\"},\"major_label_orientation\":1.2,\"plot\":{\"id\":\"4691\",\"subtype\":\"Figure\",\"type\":\"Plot\"},\"ticker\":{\"id\":\"4702\",\"type\":\"CategoricalTicker\"}},\"id\":\"4701\",\"type\":\"CategoricalAxis\"},{\"attributes\":{\"plot\":{\"id\":\"4691\",\"subtype\":\"Figure\",\"type\":\"Plot\"},\"ticker\":{\"id\":\"4702\",\"type\":\"CategoricalTicker\"}},\"id\":\"4704\",\"type\":\"Grid\"}],\"root_ids\":[\"4691\"]},\"title\":\"Bokeh Application\",\"version\":\"1.0.3\"}};\n",
       "  var render_items = [{\"docid\":\"2ad40c7c-d30c-49f3-aeea-14006d8476a1\",\"roots\":{\"4691\":\"0fec5498-3a75-4134-8bb1-daaf5484d95e\"}}];\n",
       "  root.Bokeh.embed.embed_items_notebook(docs_json, render_items);\n",
       "\n",
       "  }\n",
       "  if (root.Bokeh !== undefined) {\n",
       "    embed_document(root);\n",
       "  } else {\n",
       "    var attempts = 0;\n",
       "    var timer = setInterval(function(root) {\n",
       "      if (root.Bokeh !== undefined) {\n",
       "        embed_document(root);\n",
       "        clearInterval(timer);\n",
       "      }\n",
       "      attempts++;\n",
       "      if (attempts > 100) {\n",
       "        console.log(\"Bokeh: ERROR: Unable to run BokehJS code because BokehJS library is missing\");\n",
       "        clearInterval(timer);\n",
       "      }\n",
       "    }, 10, root)\n",
       "  }\n",
       "})(window);"
      ],
      "application/vnd.bokehjs_exec.v0+json": ""
     },
     "metadata": {
      "application/vnd.bokehjs_exec.v0+json": {
       "id": "4691"
      }
     },
     "output_type": "display_data"
    },
    {
     "data": {
      "text/html": [
       "\n",
       "\n",
       "\n",
       "\n",
       "\n",
       "\n",
       "  <div class=\"bk-root\" id=\"06335f28-b746-48a6-891c-f11c928a0bcb\" data-root-id=\"5010\"></div>\n"
      ]
     },
     "metadata": {},
     "output_type": "display_data"
    },
    {
     "data": {
      "application/javascript": [
       "(function(root) {\n",
       "  function embed_document(root) {\n",
       "    \n",
       "  var docs_json = {\"4a03cafe-acf9-469b-a038-d5732dbfd254\":{\"roots\":{\"references\":[{\"attributes\":{\"below\":[{\"id\":\"5020\",\"type\":\"CategoricalAxis\"}],\"left\":[{\"id\":\"5024\",\"type\":\"LinearAxis\"}],\"plot_height\":550,\"renderers\":[{\"id\":\"5020\",\"type\":\"CategoricalAxis\"},{\"id\":\"5023\",\"type\":\"Grid\"},{\"id\":\"5024\",\"type\":\"LinearAxis\"},{\"id\":\"5028\",\"type\":\"Grid\"},{\"id\":\"5041\",\"type\":\"GlyphRenderer\"},{\"id\":\"5046\",\"type\":\"GlyphRenderer\"}],\"title\":{\"id\":\"5009\",\"type\":\"Title\"},\"toolbar\":{\"id\":\"5033\",\"type\":\"Toolbar\"},\"x_range\":{\"id\":\"5012\",\"type\":\"FactorRange\"},\"x_scale\":{\"id\":\"5016\",\"type\":\"CategoricalScale\"},\"y_range\":{\"id\":\"5014\",\"type\":\"DataRange1d\"},\"y_scale\":{\"id\":\"5018\",\"type\":\"LinearScale\"}},\"id\":\"5010\",\"subtype\":\"Figure\",\"type\":\"Plot\"},{\"attributes\":{},\"id\":\"5032\",\"type\":\"ResetTool\"},{\"attributes\":{\"plot\":null,\"text\":\"Latin America and Caribbean\"},\"id\":\"5009\",\"type\":\"Title\"},{\"attributes\":{},\"id\":\"5031\",\"type\":\"SaveTool\"},{\"attributes\":{\"fill_color\":{\"value\":\"#D9371B\"},\"line_color\":{\"value\":\"#1f77b4\"},\"x\":{\"field\":\"x\"},\"y\":{\"field\":\"y\"}},\"id\":\"5039\",\"type\":\"Circle\"},{\"attributes\":{\"fill_alpha\":{\"value\":0.1},\"fill_color\":{\"value\":\"#1f77b4\"},\"line_alpha\":{\"value\":0.1},\"line_color\":{\"value\":\"#1f77b4\"},\"x\":{\"field\":\"x\"},\"y\":{\"field\":\"y\"}},\"id\":\"5040\",\"type\":\"Circle\"},{\"attributes\":{\"plot\":{\"id\":\"5010\",\"subtype\":\"Figure\",\"type\":\"Plot\"},\"ticker\":{\"id\":\"5021\",\"type\":\"CategoricalTicker\"}},\"id\":\"5023\",\"type\":\"Grid\"},{\"attributes\":{\"axis_label\":\"Year\",\"formatter\":{\"id\":\"5194\",\"type\":\"CategoricalTickFormatter\"},\"major_label_orientation\":1.2,\"plot\":{\"id\":\"5010\",\"subtype\":\"Figure\",\"type\":\"Plot\"},\"ticker\":{\"id\":\"5021\",\"type\":\"CategoricalTicker\"}},\"id\":\"5020\",\"type\":\"CategoricalAxis\"},{\"attributes\":{\"line_alpha\":0.1,\"line_color\":\"#1f77b4\",\"x\":{\"field\":\"x\"},\"y\":{\"field\":\"y\"}},\"id\":\"5045\",\"type\":\"Line\"},{\"attributes\":{\"line_color\":\"#1f77b4\",\"x\":{\"field\":\"x\"},\"y\":{\"field\":\"y\"}},\"id\":\"5044\",\"type\":\"Line\"},{\"attributes\":{\"data_source\":{\"id\":\"5043\",\"type\":\"ColumnDataSource\"},\"glyph\":{\"id\":\"5044\",\"type\":\"Line\"},\"hover_glyph\":null,\"muted_glyph\":null,\"nonselection_glyph\":{\"id\":\"5045\",\"type\":\"Line\"},\"selection_glyph\":null,\"view\":{\"id\":\"5047\",\"type\":\"CDSView\"}},\"id\":\"5046\",\"type\":\"GlyphRenderer\"},{\"attributes\":{\"source\":{\"id\":\"5043\",\"type\":\"ColumnDataSource\"}},\"id\":\"5047\",\"type\":\"CDSView\"},{\"attributes\":{},\"id\":\"5021\",\"type\":\"CategoricalTicker\"},{\"attributes\":{},\"id\":\"5016\",\"type\":\"CategoricalScale\"},{\"attributes\":{},\"id\":\"5197\",\"type\":\"Selection\"},{\"attributes\":{},\"id\":\"5018\",\"type\":\"LinearScale\"},{\"attributes\":{},\"id\":\"5030\",\"type\":\"WheelZoomTool\"},{\"attributes\":{\"source\":{\"id\":\"5038\",\"type\":\"ColumnDataSource\"}},\"id\":\"5042\",\"type\":\"CDSView\"},{\"attributes\":{\"dimension\":1,\"plot\":{\"id\":\"5010\",\"subtype\":\"Figure\",\"type\":\"Plot\"},\"ticker\":{\"id\":\"5025\",\"type\":\"BasicTicker\"}},\"id\":\"5028\",\"type\":\"Grid\"},{\"attributes\":{\"callback\":null,\"start\":0},\"id\":\"5014\",\"type\":\"DataRange1d\"},{\"attributes\":{},\"id\":\"5194\",\"type\":\"CategoricalTickFormatter\"},{\"attributes\":{\"callback\":null,\"factors\":[\"1990.5\",\"1991.5\",\"1992.5\",\"1993.5\",\"1994.5\",\"1995.5\",\"1996.5\",\"1997.5\",\"1998.5\",\"1999.5\",\"2000.5\",\"2001.5\",\"2002.5\",\"2003.5\",\"2004.5\",\"2005.5\",\"2006.5\",\"2007.5\",\"2008.5\",\"2009.5\",\"2010.5\",\"2011.5\",\"2012.5\",\"2013.5\",\"2014.5\",\"2015.5\",\"2016.5\"]},\"id\":\"5012\",\"type\":\"FactorRange\"},{\"attributes\":{},\"id\":\"5198\",\"type\":\"UnionRenderers\"},{\"attributes\":{},\"id\":\"5199\",\"type\":\"Selection\"},{\"attributes\":{\"axis_label\":\"Number of children\",\"formatter\":{\"id\":\"5196\",\"type\":\"BasicTickFormatter\"},\"plot\":{\"id\":\"5010\",\"subtype\":\"Figure\",\"type\":\"Plot\"},\"ticker\":{\"id\":\"5025\",\"type\":\"BasicTicker\"}},\"id\":\"5024\",\"type\":\"LinearAxis\"},{\"attributes\":{\"callback\":null,\"data\":{\"x\":[\"1990.5\",\"1991.5\",\"1992.5\",\"1993.5\",\"1994.5\",\"1995.5\",\"1996.5\",\"1997.5\",\"1998.5\",\"1999.5\",\"2000.5\",\"2001.5\",\"2002.5\",\"2003.5\",\"2004.5\",\"2005.5\",\"2006.5\",\"2007.5\",\"2008.5\",\"2009.5\",\"2010.5\",\"2011.5\",\"2012.5\",\"2013.5\",\"2014.5\",\"2015.5\",\"2016.5\"],\"y\":{\"__ndarray__\":\"q6qqqqqqS0AAAAAAAIBKQBERERERUUlAIyIiIiIiSEB4d3d3d/dGQBERERER0UVAd3d3d3e3REAjIiIiIqJDQBERERER0UJARERERETEQUC8u7u7u7tAQLu7u7u7uz9AMzMzMzMzPkC8u7u7u7s8QO/u7u7ubjtAMzMzMzMzOkARERERERE5QBEREREREThAIyIiIiIiN0BVVVVVVVU2QO/u7u7u7jhARERERETENEARERERERE0QGdmZmZmZjNARERERETEMkAzMzMzMzMyQKuqqqqqqjFA\",\"dtype\":\"float64\",\"shape\":[27]}},\"selected\":{\"id\":\"5199\",\"type\":\"Selection\"},\"selection_policy\":{\"id\":\"5200\",\"type\":\"UnionRenderers\"}},\"id\":\"5043\",\"type\":\"ColumnDataSource\"},{\"attributes\":{},\"id\":\"5200\",\"type\":\"UnionRenderers\"},{\"attributes\":{\"active_drag\":\"auto\",\"active_inspect\":\"auto\",\"active_multi\":null,\"active_scroll\":\"auto\",\"active_tap\":\"auto\",\"tools\":[{\"id\":\"5029\",\"type\":\"PanTool\"},{\"id\":\"5030\",\"type\":\"WheelZoomTool\"},{\"id\":\"5031\",\"type\":\"SaveTool\"},{\"id\":\"5032\",\"type\":\"ResetTool\"}]},\"id\":\"5033\",\"type\":\"Toolbar\"},{\"attributes\":{},\"id\":\"5196\",\"type\":\"BasicTickFormatter\"},{\"attributes\":{},\"id\":\"5029\",\"type\":\"PanTool\"},{\"attributes\":{},\"id\":\"5025\",\"type\":\"BasicTicker\"},{\"attributes\":{\"callback\":null,\"data\":{\"x\":[\"1990.5\",\"1991.5\",\"1992.5\",\"1993.5\",\"1994.5\",\"1995.5\",\"1996.5\",\"1997.5\",\"1998.5\",\"1999.5\",\"2000.5\",\"2001.5\",\"2002.5\",\"2003.5\",\"2004.5\",\"2005.5\",\"2006.5\",\"2007.5\",\"2008.5\",\"2009.5\",\"2010.5\",\"2011.5\",\"2012.5\",\"2013.5\",\"2014.5\",\"2015.5\",\"2016.5\"],\"y\":{\"__ndarray__\":\"q6qqqqqqS0AAAAAAAIBKQBERERERUUlAIyIiIiIiSEB4d3d3d/dGQBERERER0UVAd3d3d3e3REAjIiIiIqJDQBERERER0UJARERERETEQUC8u7u7u7tAQLu7u7u7uz9AMzMzMzMzPkC8u7u7u7s8QO/u7u7ubjtAMzMzMzMzOkARERERERE5QBEREREREThAIyIiIiIiN0BVVVVVVVU2QO/u7u7u7jhARERERETENEARERERERE0QGdmZmZmZjNARERERETEMkAzMzMzMzMyQKuqqqqqqjFA\",\"dtype\":\"float64\",\"shape\":[27]}},\"selected\":{\"id\":\"5197\",\"type\":\"Selection\"},\"selection_policy\":{\"id\":\"5198\",\"type\":\"UnionRenderers\"}},\"id\":\"5038\",\"type\":\"ColumnDataSource\"},{\"attributes\":{\"data_source\":{\"id\":\"5038\",\"type\":\"ColumnDataSource\"},\"glyph\":{\"id\":\"5039\",\"type\":\"Circle\"},\"hover_glyph\":null,\"muted_glyph\":null,\"nonselection_glyph\":{\"id\":\"5040\",\"type\":\"Circle\"},\"selection_glyph\":null,\"view\":{\"id\":\"5042\",\"type\":\"CDSView\"}},\"id\":\"5041\",\"type\":\"GlyphRenderer\"}],\"root_ids\":[\"5010\"]},\"title\":\"Bokeh Application\",\"version\":\"1.0.3\"}};\n",
       "  var render_items = [{\"docid\":\"4a03cafe-acf9-469b-a038-d5732dbfd254\",\"roots\":{\"5010\":\"06335f28-b746-48a6-891c-f11c928a0bcb\"}}];\n",
       "  root.Bokeh.embed.embed_items_notebook(docs_json, render_items);\n",
       "\n",
       "  }\n",
       "  if (root.Bokeh !== undefined) {\n",
       "    embed_document(root);\n",
       "  } else {\n",
       "    var attempts = 0;\n",
       "    var timer = setInterval(function(root) {\n",
       "      if (root.Bokeh !== undefined) {\n",
       "        embed_document(root);\n",
       "        clearInterval(timer);\n",
       "      }\n",
       "      attempts++;\n",
       "      if (attempts > 100) {\n",
       "        console.log(\"Bokeh: ERROR: Unable to run BokehJS code because BokehJS library is missing\");\n",
       "        clearInterval(timer);\n",
       "      }\n",
       "    }, 10, root)\n",
       "  }\n",
       "})(window);"
      ],
      "application/vnd.bokehjs_exec.v0+json": ""
     },
     "metadata": {
      "application/vnd.bokehjs_exec.v0+json": {
       "id": "5010"
      }
     },
     "output_type": "display_data"
    },
    {
     "data": {
      "text/html": [
       "\n",
       "\n",
       "\n",
       "\n",
       "\n",
       "\n",
       "  <div class=\"bk-root\" id=\"fd104e19-1bde-418c-8f70-86566045132e\" data-root-id=\"5338\"></div>\n"
      ]
     },
     "metadata": {},
     "output_type": "display_data"
    },
    {
     "data": {
      "application/javascript": [
       "(function(root) {\n",
       "  function embed_document(root) {\n",
       "    \n",
       "  var docs_json = {\"4129c290-30a2-41b4-a23c-62ceb013ff20\":{\"roots\":{\"references\":[{\"attributes\":{\"below\":[{\"id\":\"5348\",\"type\":\"CategoricalAxis\"}],\"left\":[{\"id\":\"5352\",\"type\":\"LinearAxis\"}],\"plot_height\":550,\"renderers\":[{\"id\":\"5348\",\"type\":\"CategoricalAxis\"},{\"id\":\"5351\",\"type\":\"Grid\"},{\"id\":\"5352\",\"type\":\"LinearAxis\"},{\"id\":\"5356\",\"type\":\"Grid\"},{\"id\":\"5369\",\"type\":\"GlyphRenderer\"},{\"id\":\"5374\",\"type\":\"GlyphRenderer\"}],\"title\":{\"id\":\"5337\",\"type\":\"Title\"},\"toolbar\":{\"id\":\"5361\",\"type\":\"Toolbar\"},\"x_range\":{\"id\":\"5340\",\"type\":\"FactorRange\"},\"x_scale\":{\"id\":\"5344\",\"type\":\"CategoricalScale\"},\"y_range\":{\"id\":\"5342\",\"type\":\"DataRange1d\"},\"y_scale\":{\"id\":\"5346\",\"type\":\"LinearScale\"}},\"id\":\"5338\",\"subtype\":\"Figure\",\"type\":\"Plot\"},{\"attributes\":{},\"id\":\"5346\",\"type\":\"LinearScale\"},{\"attributes\":{},\"id\":\"5537\",\"type\":\"UnionRenderers\"},{\"attributes\":{},\"id\":\"5534\",\"type\":\"Selection\"},{\"attributes\":{},\"id\":\"5531\",\"type\":\"CategoricalTickFormatter\"},{\"attributes\":{\"axis_label\":\"Number of children\",\"formatter\":{\"id\":\"5533\",\"type\":\"BasicTickFormatter\"},\"plot\":{\"id\":\"5338\",\"subtype\":\"Figure\",\"type\":\"Plot\"},\"ticker\":{\"id\":\"5353\",\"type\":\"BasicTicker\"}},\"id\":\"5352\",\"type\":\"LinearAxis\"},{\"attributes\":{\"plot\":null,\"text\":\"Middle East and North Africa\"},\"id\":\"5337\",\"type\":\"Title\"},{\"attributes\":{},\"id\":\"5353\",\"type\":\"BasicTicker\"},{\"attributes\":{\"callback\":null,\"factors\":[\"1990.5\",\"1991.5\",\"1992.5\",\"1993.5\",\"1994.5\",\"1995.5\",\"1996.5\",\"1997.5\",\"1998.5\",\"1999.5\",\"2000.5\",\"2001.5\",\"2002.5\",\"2003.5\",\"2004.5\",\"2005.5\",\"2006.5\",\"2007.5\",\"2008.5\",\"2009.5\",\"2010.5\",\"2011.5\",\"2012.5\",\"2013.5\",\"2014.5\",\"2015.5\",\"2016.5\"]},\"id\":\"5340\",\"type\":\"FactorRange\"},{\"attributes\":{},\"id\":\"5535\",\"type\":\"UnionRenderers\"},{\"attributes\":{\"fill_alpha\":{\"value\":0.1},\"fill_color\":{\"value\":\"#1f77b4\"},\"line_alpha\":{\"value\":0.1},\"line_color\":{\"value\":\"#1f77b4\"},\"x\":{\"field\":\"x\"},\"y\":{\"field\":\"y\"}},\"id\":\"5368\",\"type\":\"Circle\"},{\"attributes\":{\"line_alpha\":0.1,\"line_color\":\"#1f77b4\",\"x\":{\"field\":\"x\"},\"y\":{\"field\":\"y\"}},\"id\":\"5373\",\"type\":\"Line\"},{\"attributes\":{\"source\":{\"id\":\"5371\",\"type\":\"ColumnDataSource\"}},\"id\":\"5375\",\"type\":\"CDSView\"},{\"attributes\":{\"dimension\":1,\"plot\":{\"id\":\"5338\",\"subtype\":\"Figure\",\"type\":\"Plot\"},\"ticker\":{\"id\":\"5353\",\"type\":\"BasicTicker\"}},\"id\":\"5356\",\"type\":\"Grid\"},{\"attributes\":{},\"id\":\"5533\",\"type\":\"BasicTickFormatter\"},{\"attributes\":{\"callback\":null,\"data\":{\"x\":[\"1990.5\",\"1991.5\",\"1992.5\",\"1993.5\",\"1994.5\",\"1995.5\",\"1996.5\",\"1997.5\",\"1998.5\",\"1999.5\",\"2000.5\",\"2001.5\",\"2002.5\",\"2003.5\",\"2004.5\",\"2005.5\",\"2006.5\",\"2007.5\",\"2008.5\",\"2009.5\",\"2010.5\",\"2011.5\",\"2012.5\",\"2013.5\",\"2014.5\",\"2015.5\",\"2016.5\"],\"y\":{\"__ndarray__\":\"RERERERkUEDf3d3d3V1PQBEREREREU5Am5mZmZnZTEBlZmZmZqZLQAAAAAAAgEpA3d3d3d1dSUAREREREVFIQIiIiIiISEdARERERERERkCJiIiIiEhFQN7d3d3dXURAd3d3d3d3Q0Df3d3d3Z1CQBERERER0UFAzczMzMwMQUBVVVVVVVVAQERERERERD9AAAAAAAAAPkBVVVVVVdU8QGVmZmZm5jtAmZmZmZkZO0B4d3d3d3c6QGVmZmZm5jlA393d3d1dOUDd3d3d3d04QO/u7u7ubjhA\",\"dtype\":\"float64\",\"shape\":[27]}},\"selected\":{\"id\":\"5536\",\"type\":\"Selection\"},\"selection_policy\":{\"id\":\"5537\",\"type\":\"UnionRenderers\"}},\"id\":\"5371\",\"type\":\"ColumnDataSource\"},{\"attributes\":{\"callback\":null,\"data\":{\"x\":[\"1990.5\",\"1991.5\",\"1992.5\",\"1993.5\",\"1994.5\",\"1995.5\",\"1996.5\",\"1997.5\",\"1998.5\",\"1999.5\",\"2000.5\",\"2001.5\",\"2002.5\",\"2003.5\",\"2004.5\",\"2005.5\",\"2006.5\",\"2007.5\",\"2008.5\",\"2009.5\",\"2010.5\",\"2011.5\",\"2012.5\",\"2013.5\",\"2014.5\",\"2015.5\",\"2016.5\"],\"y\":{\"__ndarray__\":\"RERERERkUEDf3d3d3V1PQBEREREREU5Am5mZmZnZTEBlZmZmZqZLQAAAAAAAgEpA3d3d3d1dSUAREREREVFIQIiIiIiISEdARERERERERkCJiIiIiEhFQN7d3d3dXURAd3d3d3d3Q0Df3d3d3Z1CQBERERER0UFAzczMzMwMQUBVVVVVVVVAQERERERERD9AAAAAAAAAPkBVVVVVVdU8QGVmZmZm5jtAmZmZmZkZO0B4d3d3d3c6QGVmZmZm5jlA393d3d1dOUDd3d3d3d04QO/u7u7ubjhA\",\"dtype\":\"float64\",\"shape\":[27]}},\"selected\":{\"id\":\"5534\",\"type\":\"Selection\"},\"selection_policy\":{\"id\":\"5535\",\"type\":\"UnionRenderers\"}},\"id\":\"5366\",\"type\":\"ColumnDataSource\"},{\"attributes\":{},\"id\":\"5344\",\"type\":\"CategoricalScale\"},{\"attributes\":{\"active_drag\":\"auto\",\"active_inspect\":\"auto\",\"active_multi\":null,\"active_scroll\":\"auto\",\"active_tap\":\"auto\",\"tools\":[{\"id\":\"5357\",\"type\":\"PanTool\"},{\"id\":\"5358\",\"type\":\"WheelZoomTool\"},{\"id\":\"5359\",\"type\":\"SaveTool\"},{\"id\":\"5360\",\"type\":\"ResetTool\"}]},\"id\":\"5361\",\"type\":\"Toolbar\"},{\"attributes\":{},\"id\":\"5360\",\"type\":\"ResetTool\"},{\"attributes\":{\"fill_color\":{\"value\":\"#D9371B\"},\"line_color\":{\"value\":\"#1f77b4\"},\"x\":{\"field\":\"x\"},\"y\":{\"field\":\"y\"}},\"id\":\"5367\",\"type\":\"Circle\"},{\"attributes\":{\"data_source\":{\"id\":\"5371\",\"type\":\"ColumnDataSource\"},\"glyph\":{\"id\":\"5372\",\"type\":\"Line\"},\"hover_glyph\":null,\"muted_glyph\":null,\"nonselection_glyph\":{\"id\":\"5373\",\"type\":\"Line\"},\"selection_glyph\":null,\"view\":{\"id\":\"5375\",\"type\":\"CDSView\"}},\"id\":\"5374\",\"type\":\"GlyphRenderer\"},{\"attributes\":{},\"id\":\"5357\",\"type\":\"PanTool\"},{\"attributes\":{},\"id\":\"5536\",\"type\":\"Selection\"},{\"attributes\":{},\"id\":\"5359\",\"type\":\"SaveTool\"},{\"attributes\":{},\"id\":\"5349\",\"type\":\"CategoricalTicker\"},{\"attributes\":{\"data_source\":{\"id\":\"5366\",\"type\":\"ColumnDataSource\"},\"glyph\":{\"id\":\"5367\",\"type\":\"Circle\"},\"hover_glyph\":null,\"muted_glyph\":null,\"nonselection_glyph\":{\"id\":\"5368\",\"type\":\"Circle\"},\"selection_glyph\":null,\"view\":{\"id\":\"5370\",\"type\":\"CDSView\"}},\"id\":\"5369\",\"type\":\"GlyphRenderer\"},{\"attributes\":{\"callback\":null,\"start\":0},\"id\":\"5342\",\"type\":\"DataRange1d\"},{\"attributes\":{\"line_color\":\"#1f77b4\",\"x\":{\"field\":\"x\"},\"y\":{\"field\":\"y\"}},\"id\":\"5372\",\"type\":\"Line\"},{\"attributes\":{\"source\":{\"id\":\"5366\",\"type\":\"ColumnDataSource\"}},\"id\":\"5370\",\"type\":\"CDSView\"},{\"attributes\":{\"plot\":{\"id\":\"5338\",\"subtype\":\"Figure\",\"type\":\"Plot\"},\"ticker\":{\"id\":\"5349\",\"type\":\"CategoricalTicker\"}},\"id\":\"5351\",\"type\":\"Grid\"},{\"attributes\":{},\"id\":\"5358\",\"type\":\"WheelZoomTool\"},{\"attributes\":{\"axis_label\":\"Year\",\"formatter\":{\"id\":\"5531\",\"type\":\"CategoricalTickFormatter\"},\"major_label_orientation\":1.2,\"plot\":{\"id\":\"5338\",\"subtype\":\"Figure\",\"type\":\"Plot\"},\"ticker\":{\"id\":\"5349\",\"type\":\"CategoricalTicker\"}},\"id\":\"5348\",\"type\":\"CategoricalAxis\"}],\"root_ids\":[\"5338\"]},\"title\":\"Bokeh Application\",\"version\":\"1.0.3\"}};\n",
       "  var render_items = [{\"docid\":\"4129c290-30a2-41b4-a23c-62ceb013ff20\",\"roots\":{\"5338\":\"fd104e19-1bde-418c-8f70-86566045132e\"}}];\n",
       "  root.Bokeh.embed.embed_items_notebook(docs_json, render_items);\n",
       "\n",
       "  }\n",
       "  if (root.Bokeh !== undefined) {\n",
       "    embed_document(root);\n",
       "  } else {\n",
       "    var attempts = 0;\n",
       "    var timer = setInterval(function(root) {\n",
       "      if (root.Bokeh !== undefined) {\n",
       "        embed_document(root);\n",
       "        clearInterval(timer);\n",
       "      }\n",
       "      attempts++;\n",
       "      if (attempts > 100) {\n",
       "        console.log(\"Bokeh: ERROR: Unable to run BokehJS code because BokehJS library is missing\");\n",
       "        clearInterval(timer);\n",
       "      }\n",
       "    }, 10, root)\n",
       "  }\n",
       "})(window);"
      ],
      "application/vnd.bokehjs_exec.v0+json": ""
     },
     "metadata": {
      "application/vnd.bokehjs_exec.v0+json": {
       "id": "5338"
      }
     },
     "output_type": "display_data"
    },
    {
     "data": {
      "text/html": [
       "\n",
       "\n",
       "\n",
       "\n",
       "\n",
       "\n",
       "  <div class=\"bk-root\" id=\"ee224c36-6753-4211-9fe2-67840bbbd4af\" data-root-id=\"5675\"></div>\n"
      ]
     },
     "metadata": {},
     "output_type": "display_data"
    },
    {
     "data": {
      "application/javascript": [
       "(function(root) {\n",
       "  function embed_document(root) {\n",
       "    \n",
       "  var docs_json = {\"c6c0e3f5-a1c2-4b28-bbe7-4ee6518890f3\":{\"roots\":{\"references\":[{\"attributes\":{\"below\":[{\"id\":\"5685\",\"type\":\"CategoricalAxis\"}],\"left\":[{\"id\":\"5689\",\"type\":\"LinearAxis\"}],\"plot_height\":550,\"renderers\":[{\"id\":\"5685\",\"type\":\"CategoricalAxis\"},{\"id\":\"5688\",\"type\":\"Grid\"},{\"id\":\"5689\",\"type\":\"LinearAxis\"},{\"id\":\"5693\",\"type\":\"Grid\"},{\"id\":\"5706\",\"type\":\"GlyphRenderer\"},{\"id\":\"5711\",\"type\":\"GlyphRenderer\"}],\"title\":{\"id\":\"5674\",\"type\":\"Title\"},\"toolbar\":{\"id\":\"5698\",\"type\":\"Toolbar\"},\"x_range\":{\"id\":\"5677\",\"type\":\"FactorRange\"},\"x_scale\":{\"id\":\"5681\",\"type\":\"CategoricalScale\"},\"y_range\":{\"id\":\"5679\",\"type\":\"DataRange1d\"},\"y_scale\":{\"id\":\"5683\",\"type\":\"LinearScale\"}},\"id\":\"5675\",\"subtype\":\"Figure\",\"type\":\"Plot\"},{\"attributes\":{},\"id\":\"5681\",\"type\":\"CategoricalScale\"},{\"attributes\":{},\"id\":\"5690\",\"type\":\"BasicTicker\"},{\"attributes\":{},\"id\":\"5883\",\"type\":\"UnionRenderers\"},{\"attributes\":{\"source\":{\"id\":\"5703\",\"type\":\"ColumnDataSource\"}},\"id\":\"5707\",\"type\":\"CDSView\"},{\"attributes\":{\"line_alpha\":0.1,\"line_color\":\"#1f77b4\",\"x\":{\"field\":\"x\"},\"y\":{\"field\":\"y\"}},\"id\":\"5710\",\"type\":\"Line\"},{\"attributes\":{\"axis_label\":\"Number of children\",\"formatter\":{\"id\":\"5879\",\"type\":\"BasicTickFormatter\"},\"plot\":{\"id\":\"5675\",\"subtype\":\"Figure\",\"type\":\"Plot\"},\"ticker\":{\"id\":\"5690\",\"type\":\"BasicTicker\"}},\"id\":\"5689\",\"type\":\"LinearAxis\"},{\"attributes\":{},\"id\":\"5879\",\"type\":\"BasicTickFormatter\"},{\"attributes\":{},\"id\":\"5695\",\"type\":\"WheelZoomTool\"},{\"attributes\":{\"callback\":null,\"start\":0},\"id\":\"5679\",\"type\":\"DataRange1d\"},{\"attributes\":{},\"id\":\"5880\",\"type\":\"Selection\"},{\"attributes\":{},\"id\":\"5877\",\"type\":\"CategoricalTickFormatter\"},{\"attributes\":{},\"id\":\"5683\",\"type\":\"LinearScale\"},{\"attributes\":{\"axis_label\":\"Year\",\"formatter\":{\"id\":\"5877\",\"type\":\"CategoricalTickFormatter\"},\"major_label_orientation\":1.2,\"plot\":{\"id\":\"5675\",\"subtype\":\"Figure\",\"type\":\"Plot\"},\"ticker\":{\"id\":\"5686\",\"type\":\"CategoricalTicker\"}},\"id\":\"5685\",\"type\":\"CategoricalAxis\"},{\"attributes\":{\"active_drag\":\"auto\",\"active_inspect\":\"auto\",\"active_multi\":null,\"active_scroll\":\"auto\",\"active_tap\":\"auto\",\"tools\":[{\"id\":\"5694\",\"type\":\"PanTool\"},{\"id\":\"5695\",\"type\":\"WheelZoomTool\"},{\"id\":\"5696\",\"type\":\"SaveTool\"},{\"id\":\"5697\",\"type\":\"ResetTool\"}]},\"id\":\"5698\",\"type\":\"Toolbar\"},{\"attributes\":{\"fill_alpha\":{\"value\":0.1},\"fill_color\":{\"value\":\"#1f77b4\"},\"line_alpha\":{\"value\":0.1},\"line_color\":{\"value\":\"#1f77b4\"},\"x\":{\"field\":\"x\"},\"y\":{\"field\":\"y\"}},\"id\":\"5705\",\"type\":\"Circle\"},{\"attributes\":{\"data_source\":{\"id\":\"5708\",\"type\":\"ColumnDataSource\"},\"glyph\":{\"id\":\"5709\",\"type\":\"Line\"},\"hover_glyph\":null,\"muted_glyph\":null,\"nonselection_glyph\":{\"id\":\"5710\",\"type\":\"Line\"},\"selection_glyph\":null,\"view\":{\"id\":\"5712\",\"type\":\"CDSView\"}},\"id\":\"5711\",\"type\":\"GlyphRenderer\"},{\"attributes\":{},\"id\":\"5697\",\"type\":\"ResetTool\"},{\"attributes\":{},\"id\":\"5881\",\"type\":\"UnionRenderers\"},{\"attributes\":{},\"id\":\"5696\",\"type\":\"SaveTool\"},{\"attributes\":{\"callback\":null,\"data\":{\"x\":[\"1990.5\",\"1991.5\",\"1992.5\",\"1993.5\",\"1994.5\",\"1995.5\",\"1996.5\",\"1997.5\",\"1998.5\",\"1999.5\",\"2000.5\",\"2001.5\",\"2002.5\",\"2003.5\",\"2004.5\",\"2005.5\",\"2006.5\",\"2007.5\",\"2008.5\",\"2009.5\",\"2010.5\",\"2011.5\",\"2012.5\",\"2013.5\",\"2014.5\",\"2015.5\",\"2016.5\"],\"y\":{\"__ndarray__\":\"8O7u7u7uJUAzMzMzMzMlQIiIiIiIiCRAvLu7u7u7I0AiIiIiIiIjQIiIiIiIiCJA7+7u7u7uIUB3d3d3d3chQBERERERESFAzczMzMzMIEB3d3d3d3cgQEVERERERCBAERERERERIEDd3d3d3d0fQJmZmZmZmR9AeHd3d3d3H0Dv7u7u7u4eQGdmZmZmZh5AAAAAAAAAHkBVVVVVVVUdQM3MzMzMzBxAREREREREHECZmZmZmZkbQBARERERERtAq6qqqqqqGkAjIiIiIiIaQHh3d3d3dxlA\",\"dtype\":\"float64\",\"shape\":[27]}},\"selected\":{\"id\":\"5880\",\"type\":\"Selection\"},\"selection_policy\":{\"id\":\"5881\",\"type\":\"UnionRenderers\"}},\"id\":\"5703\",\"type\":\"ColumnDataSource\"},{\"attributes\":{\"fill_color\":{\"value\":\"#D9371B\"},\"line_color\":{\"value\":\"#1f77b4\"},\"x\":{\"field\":\"x\"},\"y\":{\"field\":\"y\"}},\"id\":\"5704\",\"type\":\"Circle\"},{\"attributes\":{\"data_source\":{\"id\":\"5703\",\"type\":\"ColumnDataSource\"},\"glyph\":{\"id\":\"5704\",\"type\":\"Circle\"},\"hover_glyph\":null,\"muted_glyph\":null,\"nonselection_glyph\":{\"id\":\"5705\",\"type\":\"Circle\"},\"selection_glyph\":null,\"view\":{\"id\":\"5707\",\"type\":\"CDSView\"}},\"id\":\"5706\",\"type\":\"GlyphRenderer\"},{\"attributes\":{\"source\":{\"id\":\"5708\",\"type\":\"ColumnDataSource\"}},\"id\":\"5712\",\"type\":\"CDSView\"},{\"attributes\":{},\"id\":\"5882\",\"type\":\"Selection\"},{\"attributes\":{\"dimension\":1,\"plot\":{\"id\":\"5675\",\"subtype\":\"Figure\",\"type\":\"Plot\"},\"ticker\":{\"id\":\"5690\",\"type\":\"BasicTicker\"}},\"id\":\"5693\",\"type\":\"Grid\"},{\"attributes\":{\"plot\":{\"id\":\"5675\",\"subtype\":\"Figure\",\"type\":\"Plot\"},\"ticker\":{\"id\":\"5686\",\"type\":\"CategoricalTicker\"}},\"id\":\"5688\",\"type\":\"Grid\"},{\"attributes\":{\"plot\":null,\"text\":\"North America\"},\"id\":\"5674\",\"type\":\"Title\"},{\"attributes\":{},\"id\":\"5686\",\"type\":\"CategoricalTicker\"},{\"attributes\":{\"callback\":null,\"factors\":[\"1990.5\",\"1991.5\",\"1992.5\",\"1993.5\",\"1994.5\",\"1995.5\",\"1996.5\",\"1997.5\",\"1998.5\",\"1999.5\",\"2000.5\",\"2001.5\",\"2002.5\",\"2003.5\",\"2004.5\",\"2005.5\",\"2006.5\",\"2007.5\",\"2008.5\",\"2009.5\",\"2010.5\",\"2011.5\",\"2012.5\",\"2013.5\",\"2014.5\",\"2015.5\",\"2016.5\"]},\"id\":\"5677\",\"type\":\"FactorRange\"},{\"attributes\":{\"line_color\":\"#1f77b4\",\"x\":{\"field\":\"x\"},\"y\":{\"field\":\"y\"}},\"id\":\"5709\",\"type\":\"Line\"},{\"attributes\":{\"callback\":null,\"data\":{\"x\":[\"1990.5\",\"1991.5\",\"1992.5\",\"1993.5\",\"1994.5\",\"1995.5\",\"1996.5\",\"1997.5\",\"1998.5\",\"1999.5\",\"2000.5\",\"2001.5\",\"2002.5\",\"2003.5\",\"2004.5\",\"2005.5\",\"2006.5\",\"2007.5\",\"2008.5\",\"2009.5\",\"2010.5\",\"2011.5\",\"2012.5\",\"2013.5\",\"2014.5\",\"2015.5\",\"2016.5\"],\"y\":{\"__ndarray__\":\"8O7u7u7uJUAzMzMzMzMlQIiIiIiIiCRAvLu7u7u7I0AiIiIiIiIjQIiIiIiIiCJA7+7u7u7uIUB3d3d3d3chQBERERERESFAzczMzMzMIEB3d3d3d3cgQEVERERERCBAERERERERIEDd3d3d3d0fQJmZmZmZmR9AeHd3d3d3H0Dv7u7u7u4eQGdmZmZmZh5AAAAAAAAAHkBVVVVVVVUdQM3MzMzMzBxAREREREREHECZmZmZmZkbQBARERERERtAq6qqqqqqGkAjIiIiIiIaQHh3d3d3dxlA\",\"dtype\":\"float64\",\"shape\":[27]}},\"selected\":{\"id\":\"5882\",\"type\":\"Selection\"},\"selection_policy\":{\"id\":\"5883\",\"type\":\"UnionRenderers\"}},\"id\":\"5708\",\"type\":\"ColumnDataSource\"},{\"attributes\":{},\"id\":\"5694\",\"type\":\"PanTool\"}],\"root_ids\":[\"5675\"]},\"title\":\"Bokeh Application\",\"version\":\"1.0.3\"}};\n",
       "  var render_items = [{\"docid\":\"c6c0e3f5-a1c2-4b28-bbe7-4ee6518890f3\",\"roots\":{\"5675\":\"ee224c36-6753-4211-9fe2-67840bbbd4af\"}}];\n",
       "  root.Bokeh.embed.embed_items_notebook(docs_json, render_items);\n",
       "\n",
       "  }\n",
       "  if (root.Bokeh !== undefined) {\n",
       "    embed_document(root);\n",
       "  } else {\n",
       "    var attempts = 0;\n",
       "    var timer = setInterval(function(root) {\n",
       "      if (root.Bokeh !== undefined) {\n",
       "        embed_document(root);\n",
       "        clearInterval(timer);\n",
       "      }\n",
       "      attempts++;\n",
       "      if (attempts > 100) {\n",
       "        console.log(\"Bokeh: ERROR: Unable to run BokehJS code because BokehJS library is missing\");\n",
       "        clearInterval(timer);\n",
       "      }\n",
       "    }, 10, root)\n",
       "  }\n",
       "})(window);"
      ],
      "application/vnd.bokehjs_exec.v0+json": ""
     },
     "metadata": {
      "application/vnd.bokehjs_exec.v0+json": {
       "id": "5675"
      }
     },
     "output_type": "display_data"
    },
    {
     "data": {
      "text/html": [
       "\n",
       "\n",
       "\n",
       "\n",
       "\n",
       "\n",
       "  <div class=\"bk-root\" id=\"040cdc68-b7bb-409a-ac19-8253e447f08c\" data-root-id=\"6021\"></div>\n"
      ]
     },
     "metadata": {},
     "output_type": "display_data"
    },
    {
     "data": {
      "application/javascript": [
       "(function(root) {\n",
       "  function embed_document(root) {\n",
       "    \n",
       "  var docs_json = {\"e25e2aa2-f6d7-4838-af77-6ceb603ff587\":{\"roots\":{\"references\":[{\"attributes\":{\"below\":[{\"id\":\"6031\",\"type\":\"CategoricalAxis\"}],\"left\":[{\"id\":\"6035\",\"type\":\"LinearAxis\"}],\"plot_height\":550,\"renderers\":[{\"id\":\"6031\",\"type\":\"CategoricalAxis\"},{\"id\":\"6034\",\"type\":\"Grid\"},{\"id\":\"6035\",\"type\":\"LinearAxis\"},{\"id\":\"6039\",\"type\":\"Grid\"},{\"id\":\"6052\",\"type\":\"GlyphRenderer\"},{\"id\":\"6057\",\"type\":\"GlyphRenderer\"}],\"title\":{\"id\":\"6020\",\"type\":\"Title\"},\"toolbar\":{\"id\":\"6044\",\"type\":\"Toolbar\"},\"x_range\":{\"id\":\"6023\",\"type\":\"FactorRange\"},\"x_scale\":{\"id\":\"6027\",\"type\":\"CategoricalScale\"},\"y_range\":{\"id\":\"6025\",\"type\":\"DataRange1d\"},\"y_scale\":{\"id\":\"6029\",\"type\":\"LinearScale\"}},\"id\":\"6021\",\"subtype\":\"Figure\",\"type\":\"Plot\"},{\"attributes\":{\"callback\":null,\"factors\":[\"1990.5\",\"1991.5\",\"1992.5\",\"1993.5\",\"1994.5\",\"1995.5\",\"1996.5\",\"1997.5\",\"1998.5\",\"1999.5\",\"2000.5\",\"2001.5\",\"2002.5\",\"2003.5\",\"2004.5\",\"2005.5\",\"2006.5\",\"2007.5\",\"2008.5\",\"2009.5\",\"2010.5\",\"2011.5\",\"2012.5\",\"2013.5\",\"2014.5\",\"2015.5\",\"2016.5\"]},\"id\":\"6023\",\"type\":\"FactorRange\"},{\"attributes\":{\"axis_label\":\"Year\",\"formatter\":{\"id\":\"6232\",\"type\":\"CategoricalTickFormatter\"},\"major_label_orientation\":1.2,\"plot\":{\"id\":\"6021\",\"subtype\":\"Figure\",\"type\":\"Plot\"},\"ticker\":{\"id\":\"6032\",\"type\":\"CategoricalTicker\"}},\"id\":\"6031\",\"type\":\"CategoricalAxis\"},{\"attributes\":{},\"id\":\"6029\",\"type\":\"LinearScale\"},{\"attributes\":{},\"id\":\"6036\",\"type\":\"BasicTicker\"},{\"attributes\":{\"source\":{\"id\":\"6049\",\"type\":\"ColumnDataSource\"}},\"id\":\"6053\",\"type\":\"CDSView\"},{\"attributes\":{},\"id\":\"6032\",\"type\":\"CategoricalTicker\"},{\"attributes\":{\"line_alpha\":0.1,\"line_color\":\"#1f77b4\",\"x\":{\"field\":\"x\"},\"y\":{\"field\":\"y\"}},\"id\":\"6056\",\"type\":\"Line\"},{\"attributes\":{},\"id\":\"6042\",\"type\":\"SaveTool\"},{\"attributes\":{},\"id\":\"6236\",\"type\":\"UnionRenderers\"},{\"attributes\":{},\"id\":\"6027\",\"type\":\"CategoricalScale\"},{\"attributes\":{\"dimension\":1,\"plot\":{\"id\":\"6021\",\"subtype\":\"Figure\",\"type\":\"Plot\"},\"ticker\":{\"id\":\"6036\",\"type\":\"BasicTicker\"}},\"id\":\"6039\",\"type\":\"Grid\"},{\"attributes\":{\"plot\":null,\"text\":\"South Asia\"},\"id\":\"6020\",\"type\":\"Title\"},{\"attributes\":{\"plot\":{\"id\":\"6021\",\"subtype\":\"Figure\",\"type\":\"Plot\"},\"ticker\":{\"id\":\"6032\",\"type\":\"CategoricalTicker\"}},\"id\":\"6034\",\"type\":\"Grid\"},{\"attributes\":{},\"id\":\"6237\",\"type\":\"Selection\"},{\"attributes\":{\"fill_color\":{\"value\":\"#D9371B\"},\"line_color\":{\"value\":\"#1f77b4\"},\"x\":{\"field\":\"x\"},\"y\":{\"field\":\"y\"}},\"id\":\"6050\",\"type\":\"Circle\"},{\"attributes\":{\"callback\":null,\"data\":{\"x\":[\"1990.5\",\"1991.5\",\"1992.5\",\"1993.5\",\"1994.5\",\"1995.5\",\"1996.5\",\"1997.5\",\"1998.5\",\"1999.5\",\"2000.5\",\"2001.5\",\"2002.5\",\"2003.5\",\"2004.5\",\"2005.5\",\"2006.5\",\"2007.5\",\"2008.5\",\"2009.5\",\"2010.5\",\"2011.5\",\"2012.5\",\"2013.5\",\"2014.5\",\"2015.5\",\"2016.5\"],\"y\":{\"__ndarray__\":\"7+7u7u4uYEDw7u7u7m5fQIiIiIiIiF5Aq6qqqqqqXUCIiIiIiMhcQKuqqqqq6ltAiIiIiIgIW0BFRERERCRaQLy7u7u7O1lAMzMzMzNTWEDNzMzMzGxXQM3MzMzMjFZAMzMzMzOzVUBERERERORUQAAAAAAAIFRANDMzMzNTU0A0MzMzM5NSQJqZmZmZ2VFAIyIiIiIiUUDv7u7u7m5QQAAAAAAAgE9A7+7u7u4uTkDd3d3d3d1MQJuZmZmZmUtA3d3d3d1dSkC8u7u7uztJQKuqqqqqKkhA\",\"dtype\":\"float64\",\"shape\":[27]}},\"selected\":{\"id\":\"6235\",\"type\":\"Selection\"},\"selection_policy\":{\"id\":\"6236\",\"type\":\"UnionRenderers\"}},\"id\":\"6049\",\"type\":\"ColumnDataSource\"},{\"attributes\":{},\"id\":\"6041\",\"type\":\"WheelZoomTool\"},{\"attributes\":{\"source\":{\"id\":\"6054\",\"type\":\"ColumnDataSource\"}},\"id\":\"6058\",\"type\":\"CDSView\"},{\"attributes\":{},\"id\":\"6235\",\"type\":\"Selection\"},{\"attributes\":{},\"id\":\"6234\",\"type\":\"BasicTickFormatter\"},{\"attributes\":{\"axis_label\":\"Number of children\",\"formatter\":{\"id\":\"6234\",\"type\":\"BasicTickFormatter\"},\"plot\":{\"id\":\"6021\",\"subtype\":\"Figure\",\"type\":\"Plot\"},\"ticker\":{\"id\":\"6036\",\"type\":\"BasicTicker\"}},\"id\":\"6035\",\"type\":\"LinearAxis\"},{\"attributes\":{},\"id\":\"6232\",\"type\":\"CategoricalTickFormatter\"},{\"attributes\":{},\"id\":\"6040\",\"type\":\"PanTool\"},{\"attributes\":{\"callback\":null,\"start\":0},\"id\":\"6025\",\"type\":\"DataRange1d\"},{\"attributes\":{\"fill_alpha\":{\"value\":0.1},\"fill_color\":{\"value\":\"#1f77b4\"},\"line_alpha\":{\"value\":0.1},\"line_color\":{\"value\":\"#1f77b4\"},\"x\":{\"field\":\"x\"},\"y\":{\"field\":\"y\"}},\"id\":\"6051\",\"type\":\"Circle\"},{\"attributes\":{\"line_color\":\"#1f77b4\",\"x\":{\"field\":\"x\"},\"y\":{\"field\":\"y\"}},\"id\":\"6055\",\"type\":\"Line\"},{\"attributes\":{\"active_drag\":\"auto\",\"active_inspect\":\"auto\",\"active_multi\":null,\"active_scroll\":\"auto\",\"active_tap\":\"auto\",\"tools\":[{\"id\":\"6040\",\"type\":\"PanTool\"},{\"id\":\"6041\",\"type\":\"WheelZoomTool\"},{\"id\":\"6042\",\"type\":\"SaveTool\"},{\"id\":\"6043\",\"type\":\"ResetTool\"}]},\"id\":\"6044\",\"type\":\"Toolbar\"},{\"attributes\":{},\"id\":\"6238\",\"type\":\"UnionRenderers\"},{\"attributes\":{\"data_source\":{\"id\":\"6049\",\"type\":\"ColumnDataSource\"},\"glyph\":{\"id\":\"6050\",\"type\":\"Circle\"},\"hover_glyph\":null,\"muted_glyph\":null,\"nonselection_glyph\":{\"id\":\"6051\",\"type\":\"Circle\"},\"selection_glyph\":null,\"view\":{\"id\":\"6053\",\"type\":\"CDSView\"}},\"id\":\"6052\",\"type\":\"GlyphRenderer\"},{\"attributes\":{},\"id\":\"6043\",\"type\":\"ResetTool\"},{\"attributes\":{\"data_source\":{\"id\":\"6054\",\"type\":\"ColumnDataSource\"},\"glyph\":{\"id\":\"6055\",\"type\":\"Line\"},\"hover_glyph\":null,\"muted_glyph\":null,\"nonselection_glyph\":{\"id\":\"6056\",\"type\":\"Line\"},\"selection_glyph\":null,\"view\":{\"id\":\"6058\",\"type\":\"CDSView\"}},\"id\":\"6057\",\"type\":\"GlyphRenderer\"},{\"attributes\":{\"callback\":null,\"data\":{\"x\":[\"1990.5\",\"1991.5\",\"1992.5\",\"1993.5\",\"1994.5\",\"1995.5\",\"1996.5\",\"1997.5\",\"1998.5\",\"1999.5\",\"2000.5\",\"2001.5\",\"2002.5\",\"2003.5\",\"2004.5\",\"2005.5\",\"2006.5\",\"2007.5\",\"2008.5\",\"2009.5\",\"2010.5\",\"2011.5\",\"2012.5\",\"2013.5\",\"2014.5\",\"2015.5\",\"2016.5\"],\"y\":{\"__ndarray__\":\"7+7u7u4uYEDw7u7u7m5fQIiIiIiIiF5Aq6qqqqqqXUCIiIiIiMhcQKuqqqqq6ltAiIiIiIgIW0BFRERERCRaQLy7u7u7O1lAMzMzMzNTWEDNzMzMzGxXQM3MzMzMjFZAMzMzMzOzVUBERERERORUQAAAAAAAIFRANDMzMzNTU0A0MzMzM5NSQJqZmZmZ2VFAIyIiIiIiUUDv7u7u7m5QQAAAAAAAgE9A7+7u7u4uTkDd3d3d3d1MQJuZmZmZmUtA3d3d3d1dSkC8u7u7uztJQKuqqqqqKkhA\",\"dtype\":\"float64\",\"shape\":[27]}},\"selected\":{\"id\":\"6237\",\"type\":\"Selection\"},\"selection_policy\":{\"id\":\"6238\",\"type\":\"UnionRenderers\"}},\"id\":\"6054\",\"type\":\"ColumnDataSource\"}],\"root_ids\":[\"6021\"]},\"title\":\"Bokeh Application\",\"version\":\"1.0.3\"}};\n",
       "  var render_items = [{\"docid\":\"e25e2aa2-f6d7-4838-af77-6ceb603ff587\",\"roots\":{\"6021\":\"040cdc68-b7bb-409a-ac19-8253e447f08c\"}}];\n",
       "  root.Bokeh.embed.embed_items_notebook(docs_json, render_items);\n",
       "\n",
       "  }\n",
       "  if (root.Bokeh !== undefined) {\n",
       "    embed_document(root);\n",
       "  } else {\n",
       "    var attempts = 0;\n",
       "    var timer = setInterval(function(root) {\n",
       "      if (root.Bokeh !== undefined) {\n",
       "        embed_document(root);\n",
       "        clearInterval(timer);\n",
       "      }\n",
       "      attempts++;\n",
       "      if (attempts > 100) {\n",
       "        console.log(\"Bokeh: ERROR: Unable to run BokehJS code because BokehJS library is missing\");\n",
       "        clearInterval(timer);\n",
       "      }\n",
       "    }, 10, root)\n",
       "  }\n",
       "})(window);"
      ],
      "application/vnd.bokehjs_exec.v0+json": ""
     },
     "metadata": {
      "application/vnd.bokehjs_exec.v0+json": {
       "id": "6021"
      }
     },
     "output_type": "display_data"
    },
    {
     "data": {
      "text/html": [
       "\n",
       "\n",
       "\n",
       "\n",
       "\n",
       "\n",
       "  <div class=\"bk-root\" id=\"75469df6-1552-4530-929c-445e02ffbd55\" data-root-id=\"6376\"></div>\n"
      ]
     },
     "metadata": {},
     "output_type": "display_data"
    },
    {
     "data": {
      "application/javascript": [
       "(function(root) {\n",
       "  function embed_document(root) {\n",
       "    \n",
       "  var docs_json = {\"2b2823bf-bbc1-4417-919c-36fabd1c6e03\":{\"roots\":{\"references\":[{\"attributes\":{\"below\":[{\"id\":\"6386\",\"type\":\"CategoricalAxis\"}],\"left\":[{\"id\":\"6390\",\"type\":\"LinearAxis\"}],\"plot_height\":550,\"renderers\":[{\"id\":\"6386\",\"type\":\"CategoricalAxis\"},{\"id\":\"6389\",\"type\":\"Grid\"},{\"id\":\"6390\",\"type\":\"LinearAxis\"},{\"id\":\"6394\",\"type\":\"Grid\"},{\"id\":\"6407\",\"type\":\"GlyphRenderer\"},{\"id\":\"6412\",\"type\":\"GlyphRenderer\"}],\"title\":{\"id\":\"6375\",\"type\":\"Title\"},\"toolbar\":{\"id\":\"6399\",\"type\":\"Toolbar\"},\"x_range\":{\"id\":\"6378\",\"type\":\"FactorRange\"},\"x_scale\":{\"id\":\"6382\",\"type\":\"CategoricalScale\"},\"y_range\":{\"id\":\"6380\",\"type\":\"DataRange1d\"},\"y_scale\":{\"id\":\"6384\",\"type\":\"LinearScale\"}},\"id\":\"6376\",\"subtype\":\"Figure\",\"type\":\"Plot\"},{\"attributes\":{},\"id\":\"6398\",\"type\":\"ResetTool\"},{\"attributes\":{\"callback\":null,\"data\":{\"x\":[\"1990.5\",\"1991.5\",\"1992.5\",\"1993.5\",\"1994.5\",\"1995.5\",\"1996.5\",\"1997.5\",\"1998.5\",\"1999.5\",\"2000.5\",\"2001.5\",\"2002.5\",\"2003.5\",\"2004.5\",\"2005.5\",\"2006.5\",\"2007.5\",\"2008.5\",\"2009.5\",\"2010.5\",\"2011.5\",\"2012.5\",\"2013.5\",\"2014.5\",\"2015.5\",\"2016.5\"],\"y\":{\"__ndarray__\":\"q6qqqqqaZkB4d3d3d2dmQFVVVVVVNWZAZ2ZmZmYGZkBVVVVVVfVlQCMiIiIiomVAAAAAAABAZUDMzMzMzOxkQFVVVVVVhWRAeHd3d3f3Y0AjIiIiImJjQHd3d3d3t2JAMzMzMzMDYkCZmZmZmUlhQAAAAAAAkGBAzczMzMysX0BnZmZmZkZeQM3MzMzM7FxAIyIiIiKiW0CIiIiIiGhaQLy7u7u7O1lAIyIiIiIiWEAAAAAAACBXQDMzMzMzM1ZAmZmZmZlZVUCZmZmZmZlUQImIiIiI6FNA\",\"dtype\":\"float64\",\"shape\":[27]}},\"selected\":{\"id\":\"6601\",\"type\":\"Selection\"},\"selection_policy\":{\"id\":\"6602\",\"type\":\"UnionRenderers\"}},\"id\":\"6409\",\"type\":\"ColumnDataSource\"},{\"attributes\":{\"dimension\":1,\"plot\":{\"id\":\"6376\",\"subtype\":\"Figure\",\"type\":\"Plot\"},\"ticker\":{\"id\":\"6391\",\"type\":\"BasicTicker\"}},\"id\":\"6394\",\"type\":\"Grid\"},{\"attributes\":{\"source\":{\"id\":\"6404\",\"type\":\"ColumnDataSource\"}},\"id\":\"6408\",\"type\":\"CDSView\"},{\"attributes\":{\"axis_label\":\"Number of children\",\"formatter\":{\"id\":\"6598\",\"type\":\"BasicTickFormatter\"},\"plot\":{\"id\":\"6376\",\"subtype\":\"Figure\",\"type\":\"Plot\"},\"ticker\":{\"id\":\"6391\",\"type\":\"BasicTicker\"}},\"id\":\"6390\",\"type\":\"LinearAxis\"},{\"attributes\":{\"plot\":null,\"text\":\"Sub-Saharan Africa\"},\"id\":\"6375\",\"type\":\"Title\"},{\"attributes\":{\"line_color\":\"#1f77b4\",\"x\":{\"field\":\"x\"},\"y\":{\"field\":\"y\"}},\"id\":\"6410\",\"type\":\"Line\"},{\"attributes\":{},\"id\":\"6599\",\"type\":\"Selection\"},{\"attributes\":{},\"id\":\"6601\",\"type\":\"Selection\"},{\"attributes\":{\"data_source\":{\"id\":\"6409\",\"type\":\"ColumnDataSource\"},\"glyph\":{\"id\":\"6410\",\"type\":\"Line\"},\"hover_glyph\":null,\"muted_glyph\":null,\"nonselection_glyph\":{\"id\":\"6411\",\"type\":\"Line\"},\"selection_glyph\":null,\"view\":{\"id\":\"6413\",\"type\":\"CDSView\"}},\"id\":\"6412\",\"type\":\"GlyphRenderer\"},{\"attributes\":{\"data_source\":{\"id\":\"6404\",\"type\":\"ColumnDataSource\"},\"glyph\":{\"id\":\"6405\",\"type\":\"Circle\"},\"hover_glyph\":null,\"muted_glyph\":null,\"nonselection_glyph\":{\"id\":\"6406\",\"type\":\"Circle\"},\"selection_glyph\":null,\"view\":{\"id\":\"6408\",\"type\":\"CDSView\"}},\"id\":\"6407\",\"type\":\"GlyphRenderer\"},{\"attributes\":{},\"id\":\"6391\",\"type\":\"BasicTicker\"},{\"attributes\":{},\"id\":\"6382\",\"type\":\"CategoricalScale\"},{\"attributes\":{\"plot\":{\"id\":\"6376\",\"subtype\":\"Figure\",\"type\":\"Plot\"},\"ticker\":{\"id\":\"6387\",\"type\":\"CategoricalTicker\"}},\"id\":\"6389\",\"type\":\"Grid\"},{\"attributes\":{\"axis_label\":\"Year\",\"formatter\":{\"id\":\"6596\",\"type\":\"CategoricalTickFormatter\"},\"major_label_orientation\":1.2,\"plot\":{\"id\":\"6376\",\"subtype\":\"Figure\",\"type\":\"Plot\"},\"ticker\":{\"id\":\"6387\",\"type\":\"CategoricalTicker\"}},\"id\":\"6386\",\"type\":\"CategoricalAxis\"},{\"attributes\":{},\"id\":\"6397\",\"type\":\"SaveTool\"},{\"attributes\":{\"callback\":null,\"factors\":[\"1990.5\",\"1991.5\",\"1992.5\",\"1993.5\",\"1994.5\",\"1995.5\",\"1996.5\",\"1997.5\",\"1998.5\",\"1999.5\",\"2000.5\",\"2001.5\",\"2002.5\",\"2003.5\",\"2004.5\",\"2005.5\",\"2006.5\",\"2007.5\",\"2008.5\",\"2009.5\",\"2010.5\",\"2011.5\",\"2012.5\",\"2013.5\",\"2014.5\",\"2015.5\",\"2016.5\"]},\"id\":\"6378\",\"type\":\"FactorRange\"},{\"attributes\":{},\"id\":\"6598\",\"type\":\"BasicTickFormatter\"},{\"attributes\":{},\"id\":\"6600\",\"type\":\"UnionRenderers\"},{\"attributes\":{\"fill_alpha\":{\"value\":0.1},\"fill_color\":{\"value\":\"#1f77b4\"},\"line_alpha\":{\"value\":0.1},\"line_color\":{\"value\":\"#1f77b4\"},\"x\":{\"field\":\"x\"},\"y\":{\"field\":\"y\"}},\"id\":\"6406\",\"type\":\"Circle\"},{\"attributes\":{\"line_alpha\":0.1,\"line_color\":\"#1f77b4\",\"x\":{\"field\":\"x\"},\"y\":{\"field\":\"y\"}},\"id\":\"6411\",\"type\":\"Line\"},{\"attributes\":{},\"id\":\"6395\",\"type\":\"PanTool\"},{\"attributes\":{\"callback\":null,\"data\":{\"x\":[\"1990.5\",\"1991.5\",\"1992.5\",\"1993.5\",\"1994.5\",\"1995.5\",\"1996.5\",\"1997.5\",\"1998.5\",\"1999.5\",\"2000.5\",\"2001.5\",\"2002.5\",\"2003.5\",\"2004.5\",\"2005.5\",\"2006.5\",\"2007.5\",\"2008.5\",\"2009.5\",\"2010.5\",\"2011.5\",\"2012.5\",\"2013.5\",\"2014.5\",\"2015.5\",\"2016.5\"],\"y\":{\"__ndarray__\":\"q6qqqqqaZkB4d3d3d2dmQFVVVVVVNWZAZ2ZmZmYGZkBVVVVVVfVlQCMiIiIiomVAAAAAAABAZUDMzMzMzOxkQFVVVVVVhWRAeHd3d3f3Y0AjIiIiImJjQHd3d3d3t2JAMzMzMzMDYkCZmZmZmUlhQAAAAAAAkGBAzczMzMysX0BnZmZmZkZeQM3MzMzM7FxAIyIiIiKiW0CIiIiIiGhaQLy7u7u7O1lAIyIiIiIiWEAAAAAAACBXQDMzMzMzM1ZAmZmZmZlZVUCZmZmZmZlUQImIiIiI6FNA\",\"dtype\":\"float64\",\"shape\":[27]}},\"selected\":{\"id\":\"6599\",\"type\":\"Selection\"},\"selection_policy\":{\"id\":\"6600\",\"type\":\"UnionRenderers\"}},\"id\":\"6404\",\"type\":\"ColumnDataSource\"},{\"attributes\":{\"active_drag\":\"auto\",\"active_inspect\":\"auto\",\"active_multi\":null,\"active_scroll\":\"auto\",\"active_tap\":\"auto\",\"tools\":[{\"id\":\"6395\",\"type\":\"PanTool\"},{\"id\":\"6396\",\"type\":\"WheelZoomTool\"},{\"id\":\"6397\",\"type\":\"SaveTool\"},{\"id\":\"6398\",\"type\":\"ResetTool\"}]},\"id\":\"6399\",\"type\":\"Toolbar\"},{\"attributes\":{},\"id\":\"6387\",\"type\":\"CategoricalTicker\"},{\"attributes\":{},\"id\":\"6596\",\"type\":\"CategoricalTickFormatter\"},{\"attributes\":{},\"id\":\"6602\",\"type\":\"UnionRenderers\"},{\"attributes\":{\"fill_color\":{\"value\":\"#D9371B\"},\"line_color\":{\"value\":\"#1f77b4\"},\"x\":{\"field\":\"x\"},\"y\":{\"field\":\"y\"}},\"id\":\"6405\",\"type\":\"Circle\"},{\"attributes\":{},\"id\":\"6396\",\"type\":\"WheelZoomTool\"},{\"attributes\":{},\"id\":\"6384\",\"type\":\"LinearScale\"},{\"attributes\":{\"source\":{\"id\":\"6409\",\"type\":\"ColumnDataSource\"}},\"id\":\"6413\",\"type\":\"CDSView\"},{\"attributes\":{\"callback\":null,\"start\":0},\"id\":\"6380\",\"type\":\"DataRange1d\"}],\"root_ids\":[\"6376\"]},\"title\":\"Bokeh Application\",\"version\":\"1.0.3\"}};\n",
       "  var render_items = [{\"docid\":\"2b2823bf-bbc1-4417-919c-36fabd1c6e03\",\"roots\":{\"6376\":\"75469df6-1552-4530-929c-445e02ffbd55\"}}];\n",
       "  root.Bokeh.embed.embed_items_notebook(docs_json, render_items);\n",
       "\n",
       "  }\n",
       "  if (root.Bokeh !== undefined) {\n",
       "    embed_document(root);\n",
       "  } else {\n",
       "    var attempts = 0;\n",
       "    var timer = setInterval(function(root) {\n",
       "      if (root.Bokeh !== undefined) {\n",
       "        embed_document(root);\n",
       "        clearInterval(timer);\n",
       "      }\n",
       "      attempts++;\n",
       "      if (attempts > 100) {\n",
       "        console.log(\"Bokeh: ERROR: Unable to run BokehJS code because BokehJS library is missing\");\n",
       "        clearInterval(timer);\n",
       "      }\n",
       "    }, 10, root)\n",
       "  }\n",
       "})(window);"
      ],
      "application/vnd.bokehjs_exec.v0+json": ""
     },
     "metadata": {
      "application/vnd.bokehjs_exec.v0+json": {
       "id": "6376"
      }
     },
     "output_type": "display_data"
    },
    {
     "data": {
      "text/html": [
       "\n",
       "\n",
       "\n",
       "\n",
       "\n",
       "\n",
       "  <div class=\"bk-root\" id=\"42e19497-19b5-4838-81b1-20aaebe02de0\" data-root-id=\"6740\"></div>\n"
      ]
     },
     "metadata": {},
     "output_type": "display_data"
    },
    {
     "data": {
      "application/javascript": [
       "(function(root) {\n",
       "  function embed_document(root) {\n",
       "    \n",
       "  var docs_json = {\"4e25e4d3-ce9b-4151-9f32-354bd45cdf29\":{\"roots\":{\"references\":[{\"attributes\":{\"below\":[{\"id\":\"6750\",\"type\":\"CategoricalAxis\"}],\"left\":[{\"id\":\"6754\",\"type\":\"LinearAxis\"}],\"plot_height\":550,\"renderers\":[{\"id\":\"6750\",\"type\":\"CategoricalAxis\"},{\"id\":\"6753\",\"type\":\"Grid\"},{\"id\":\"6754\",\"type\":\"LinearAxis\"},{\"id\":\"6758\",\"type\":\"Grid\"},{\"id\":\"6771\",\"type\":\"GlyphRenderer\"},{\"id\":\"6776\",\"type\":\"GlyphRenderer\"}],\"title\":{\"id\":\"6739\",\"type\":\"Title\"},\"toolbar\":{\"id\":\"6763\",\"type\":\"Toolbar\"},\"x_range\":{\"id\":\"6742\",\"type\":\"FactorRange\"},\"x_scale\":{\"id\":\"6746\",\"type\":\"CategoricalScale\"},\"y_range\":{\"id\":\"6744\",\"type\":\"DataRange1d\"},\"y_scale\":{\"id\":\"6748\",\"type\":\"LinearScale\"}},\"id\":\"6740\",\"subtype\":\"Figure\",\"type\":\"Plot\"},{\"attributes\":{},\"id\":\"6969\",\"type\":\"CategoricalTickFormatter\"},{\"attributes\":{},\"id\":\"6746\",\"type\":\"CategoricalScale\"},{\"attributes\":{},\"id\":\"6751\",\"type\":\"CategoricalTicker\"},{\"attributes\":{},\"id\":\"6762\",\"type\":\"ResetTool\"},{\"attributes\":{},\"id\":\"6748\",\"type\":\"LinearScale\"},{\"attributes\":{\"callback\":null,\"start\":0},\"id\":\"6744\",\"type\":\"DataRange1d\"},{\"attributes\":{},\"id\":\"6975\",\"type\":\"UnionRenderers\"},{\"attributes\":{\"line_alpha\":0.1,\"line_color\":\"#1f77b4\",\"x\":{\"field\":\"x\"},\"y\":{\"field\":\"y\"}},\"id\":\"6775\",\"type\":\"Line\"},{\"attributes\":{\"axis_label\":\"Year\",\"formatter\":{\"id\":\"6969\",\"type\":\"CategoricalTickFormatter\"},\"major_label_orientation\":1.2,\"plot\":{\"id\":\"6740\",\"subtype\":\"Figure\",\"type\":\"Plot\"},\"ticker\":{\"id\":\"6751\",\"type\":\"CategoricalTicker\"}},\"id\":\"6750\",\"type\":\"CategoricalAxis\"},{\"attributes\":{\"plot\":{\"id\":\"6740\",\"subtype\":\"Figure\",\"type\":\"Plot\"},\"ticker\":{\"id\":\"6751\",\"type\":\"CategoricalTicker\"}},\"id\":\"6753\",\"type\":\"Grid\"},{\"attributes\":{\"axis_label\":\"Number of children\",\"formatter\":{\"id\":\"6971\",\"type\":\"BasicTickFormatter\"},\"plot\":{\"id\":\"6740\",\"subtype\":\"Figure\",\"type\":\"Plot\"},\"ticker\":{\"id\":\"6755\",\"type\":\"BasicTicker\"}},\"id\":\"6754\",\"type\":\"LinearAxis\"},{\"attributes\":{},\"id\":\"6759\",\"type\":\"PanTool\"},{\"attributes\":{\"callback\":null,\"data\":{\"x\":[\"1990.5\",\"1991.5\",\"1992.5\",\"1993.5\",\"1994.5\",\"1995.5\",\"1996.5\",\"1997.5\",\"1998.5\",\"1999.5\",\"2000.5\",\"2001.5\",\"2002.5\",\"2003.5\",\"2004.5\",\"2005.5\",\"2006.5\",\"2007.5\",\"2008.5\",\"2009.5\",\"2010.5\",\"2011.5\",\"2012.5\",\"2013.5\",\"2014.5\",\"2015.5\",\"2016.5\"],\"y\":{\"__ndarray__\":\"u7u7u7vbaEDd3d3d3a1oQBERERERgWhARURERERUaEAQERERESFoQBERERER4WdARERERESUZ0AzMzMzMzNnQPDu7u7uvmZAmZmZmZk5ZkAjIiIiIqJlQLy7u7u7+2RAqqqqqqpKZEBVVVVVVZVjQO/u7u7u3mJAd3d3d3cnYkAzMzMzM3NhQERERERExGBAmZmZmZkZYECrqqqqqupeQDMzMzMzs11A8O7u7u6OXEAjIiIiIoJbQGdmZmZmhlpAIyIiIiKiWUDNzMzMzMxYQImIiIiICFhA\",\"dtype\":\"float64\",\"shape\":[27]}},\"selected\":{\"id\":\"6972\",\"type\":\"Selection\"},\"selection_policy\":{\"id\":\"6973\",\"type\":\"UnionRenderers\"}},\"id\":\"6768\",\"type\":\"ColumnDataSource\"},{\"attributes\":{\"dimension\":1,\"plot\":{\"id\":\"6740\",\"subtype\":\"Figure\",\"type\":\"Plot\"},\"ticker\":{\"id\":\"6755\",\"type\":\"BasicTicker\"}},\"id\":\"6758\",\"type\":\"Grid\"},{\"attributes\":{},\"id\":\"6760\",\"type\":\"WheelZoomTool\"},{\"attributes\":{\"active_drag\":\"auto\",\"active_inspect\":\"auto\",\"active_multi\":null,\"active_scroll\":\"auto\",\"active_tap\":\"auto\",\"tools\":[{\"id\":\"6759\",\"type\":\"PanTool\"},{\"id\":\"6760\",\"type\":\"WheelZoomTool\"},{\"id\":\"6761\",\"type\":\"SaveTool\"},{\"id\":\"6762\",\"type\":\"ResetTool\"}]},\"id\":\"6763\",\"type\":\"Toolbar\"},{\"attributes\":{},\"id\":\"6755\",\"type\":\"BasicTicker\"},{\"attributes\":{\"fill_alpha\":{\"value\":0.1},\"fill_color\":{\"value\":\"#1f77b4\"},\"line_alpha\":{\"value\":0.1},\"line_color\":{\"value\":\"#1f77b4\"},\"x\":{\"field\":\"x\"},\"y\":{\"field\":\"y\"}},\"id\":\"6770\",\"type\":\"Circle\"},{\"attributes\":{\"callback\":null,\"factors\":[\"1990.5\",\"1991.5\",\"1992.5\",\"1993.5\",\"1994.5\",\"1995.5\",\"1996.5\",\"1997.5\",\"1998.5\",\"1999.5\",\"2000.5\",\"2001.5\",\"2002.5\",\"2003.5\",\"2004.5\",\"2005.5\",\"2006.5\",\"2007.5\",\"2008.5\",\"2009.5\",\"2010.5\",\"2011.5\",\"2012.5\",\"2013.5\",\"2014.5\",\"2015.5\",\"2016.5\"]},\"id\":\"6742\",\"type\":\"FactorRange\"},{\"attributes\":{\"plot\":null,\"text\":\"West and Central Africa\"},\"id\":\"6739\",\"type\":\"Title\"},{\"attributes\":{\"source\":{\"id\":\"6768\",\"type\":\"ColumnDataSource\"}},\"id\":\"6772\",\"type\":\"CDSView\"},{\"attributes\":{\"data_source\":{\"id\":\"6768\",\"type\":\"ColumnDataSource\"},\"glyph\":{\"id\":\"6769\",\"type\":\"Circle\"},\"hover_glyph\":null,\"muted_glyph\":null,\"nonselection_glyph\":{\"id\":\"6770\",\"type\":\"Circle\"},\"selection_glyph\":null,\"view\":{\"id\":\"6772\",\"type\":\"CDSView\"}},\"id\":\"6771\",\"type\":\"GlyphRenderer\"},{\"attributes\":{\"callback\":null,\"data\":{\"x\":[\"1990.5\",\"1991.5\",\"1992.5\",\"1993.5\",\"1994.5\",\"1995.5\",\"1996.5\",\"1997.5\",\"1998.5\",\"1999.5\",\"2000.5\",\"2001.5\",\"2002.5\",\"2003.5\",\"2004.5\",\"2005.5\",\"2006.5\",\"2007.5\",\"2008.5\",\"2009.5\",\"2010.5\",\"2011.5\",\"2012.5\",\"2013.5\",\"2014.5\",\"2015.5\",\"2016.5\"],\"y\":{\"__ndarray__\":\"u7u7u7vbaEDd3d3d3a1oQBERERERgWhARURERERUaEAQERERESFoQBERERER4WdARERERESUZ0AzMzMzMzNnQPDu7u7uvmZAmZmZmZk5ZkAjIiIiIqJlQLy7u7u7+2RAqqqqqqpKZEBVVVVVVZVjQO/u7u7u3mJAd3d3d3cnYkAzMzMzM3NhQERERERExGBAmZmZmZkZYECrqqqqqupeQDMzMzMzs11A8O7u7u6OXEAjIiIiIoJbQGdmZmZmhlpAIyIiIiKiWUDNzMzMzMxYQImIiIiICFhA\",\"dtype\":\"float64\",\"shape\":[27]}},\"selected\":{\"id\":\"6974\",\"type\":\"Selection\"},\"selection_policy\":{\"id\":\"6975\",\"type\":\"UnionRenderers\"}},\"id\":\"6773\",\"type\":\"ColumnDataSource\"},{\"attributes\":{\"source\":{\"id\":\"6773\",\"type\":\"ColumnDataSource\"}},\"id\":\"6777\",\"type\":\"CDSView\"},{\"attributes\":{},\"id\":\"6971\",\"type\":\"BasicTickFormatter\"},{\"attributes\":{\"line_color\":\"#1f77b4\",\"x\":{\"field\":\"x\"},\"y\":{\"field\":\"y\"}},\"id\":\"6774\",\"type\":\"Line\"},{\"attributes\":{\"data_source\":{\"id\":\"6773\",\"type\":\"ColumnDataSource\"},\"glyph\":{\"id\":\"6774\",\"type\":\"Line\"},\"hover_glyph\":null,\"muted_glyph\":null,\"nonselection_glyph\":{\"id\":\"6775\",\"type\":\"Line\"},\"selection_glyph\":null,\"view\":{\"id\":\"6777\",\"type\":\"CDSView\"}},\"id\":\"6776\",\"type\":\"GlyphRenderer\"},{\"attributes\":{},\"id\":\"6974\",\"type\":\"Selection\"},{\"attributes\":{},\"id\":\"6972\",\"type\":\"Selection\"},{\"attributes\":{},\"id\":\"6973\",\"type\":\"UnionRenderers\"},{\"attributes\":{},\"id\":\"6761\",\"type\":\"SaveTool\"},{\"attributes\":{\"fill_color\":{\"value\":\"#D9371B\"},\"line_color\":{\"value\":\"#1f77b4\"},\"x\":{\"field\":\"x\"},\"y\":{\"field\":\"y\"}},\"id\":\"6769\",\"type\":\"Circle\"}],\"root_ids\":[\"6740\"]},\"title\":\"Bokeh Application\",\"version\":\"1.0.3\"}};\n",
       "  var render_items = [{\"docid\":\"4e25e4d3-ce9b-4151-9f32-354bd45cdf29\",\"roots\":{\"6740\":\"42e19497-19b5-4838-81b1-20aaebe02de0\"}}];\n",
       "  root.Bokeh.embed.embed_items_notebook(docs_json, render_items);\n",
       "\n",
       "  }\n",
       "  if (root.Bokeh !== undefined) {\n",
       "    embed_document(root);\n",
       "  } else {\n",
       "    var attempts = 0;\n",
       "    var timer = setInterval(function(root) {\n",
       "      if (root.Bokeh !== undefined) {\n",
       "        embed_document(root);\n",
       "        clearInterval(timer);\n",
       "      }\n",
       "      attempts++;\n",
       "      if (attempts > 100) {\n",
       "        console.log(\"Bokeh: ERROR: Unable to run BokehJS code because BokehJS library is missing\");\n",
       "        clearInterval(timer);\n",
       "      }\n",
       "    }, 10, root)\n",
       "  }\n",
       "})(window);"
      ],
      "application/vnd.bokehjs_exec.v0+json": ""
     },
     "metadata": {
      "application/vnd.bokehjs_exec.v0+json": {
       "id": "6740"
      }
     },
     "output_type": "display_data"
    },
    {
     "data": {
      "text/html": [
       "\n",
       "\n",
       "\n",
       "\n",
       "\n",
       "\n",
       "  <div class=\"bk-root\" id=\"2e978fa3-0fbf-4e98-a2fc-377d61169b9f\" data-root-id=\"7113\"></div>\n"
      ]
     },
     "metadata": {},
     "output_type": "display_data"
    },
    {
     "data": {
      "application/javascript": [
       "(function(root) {\n",
       "  function embed_document(root) {\n",
       "    \n",
       "  var docs_json = {\"c7103cc8-1753-4996-97e4-45cb29d53807\":{\"roots\":{\"references\":[{\"attributes\":{\"below\":[{\"id\":\"7123\",\"type\":\"CategoricalAxis\"}],\"left\":[{\"id\":\"7127\",\"type\":\"LinearAxis\"}],\"plot_height\":550,\"renderers\":[{\"id\":\"7123\",\"type\":\"CategoricalAxis\"},{\"id\":\"7126\",\"type\":\"Grid\"},{\"id\":\"7127\",\"type\":\"LinearAxis\"},{\"id\":\"7131\",\"type\":\"Grid\"},{\"id\":\"7144\",\"type\":\"GlyphRenderer\"},{\"id\":\"7149\",\"type\":\"GlyphRenderer\"}],\"title\":{\"id\":\"7112\",\"type\":\"Title\"},\"toolbar\":{\"id\":\"7136\",\"type\":\"Toolbar\"},\"x_range\":{\"id\":\"7115\",\"type\":\"FactorRange\"},\"x_scale\":{\"id\":\"7119\",\"type\":\"CategoricalScale\"},\"y_range\":{\"id\":\"7117\",\"type\":\"DataRange1d\"},\"y_scale\":{\"id\":\"7121\",\"type\":\"LinearScale\"}},\"id\":\"7113\",\"subtype\":\"Figure\",\"type\":\"Plot\"},{\"attributes\":{\"callback\":null,\"start\":0},\"id\":\"7117\",\"type\":\"DataRange1d\"},{\"attributes\":{},\"id\":\"7134\",\"type\":\"SaveTool\"},{\"attributes\":{\"plot\":{\"id\":\"7113\",\"subtype\":\"Figure\",\"type\":\"Plot\"},\"ticker\":{\"id\":\"7124\",\"type\":\"CategoricalTicker\"}},\"id\":\"7126\",\"type\":\"Grid\"},{\"attributes\":{\"line_color\":\"#1f77b4\",\"x\":{\"field\":\"x\"},\"y\":{\"field\":\"y\"}},\"id\":\"7147\",\"type\":\"Line\"},{\"attributes\":{\"active_drag\":\"auto\",\"active_inspect\":\"auto\",\"active_multi\":null,\"active_scroll\":\"auto\",\"active_tap\":\"auto\",\"tools\":[{\"id\":\"7132\",\"type\":\"PanTool\"},{\"id\":\"7133\",\"type\":\"WheelZoomTool\"},{\"id\":\"7134\",\"type\":\"SaveTool\"},{\"id\":\"7135\",\"type\":\"ResetTool\"}]},\"id\":\"7136\",\"type\":\"Toolbar\"},{\"attributes\":{\"callback\":null,\"data\":{\"x\":[\"1990.5\",\"1991.5\",\"1992.5\",\"1993.5\",\"1994.5\",\"1995.5\",\"1996.5\",\"1997.5\",\"1998.5\",\"1999.5\",\"2000.5\",\"2001.5\",\"2002.5\",\"2003.5\",\"2004.5\",\"2005.5\",\"2006.5\",\"2007.5\",\"2008.5\",\"2009.5\",\"2010.5\",\"2011.5\",\"2012.5\",\"2013.5\",\"2014.5\",\"2015.5\",\"2016.5\"],\"y\":{\"__ndarray__\":\"AAAAAAAAJUAREREREREkQBERERERESNAERERERERIkAAAAAAAAAhQN3d3d3d3R9AIyIiIiIiHkBEREREREQcQO/u7u7u7hpAvLu7u7u7GUDNzMzMzMwYQN3d3d3d3RdAERERERERF0BEREREREQWQJuZmZmZmRVA7+7u7u7uFEBEREREREQUQJqZmZmZmRNAERERERERE0BmZmZmZmYSQN7d3d3d3RFAVVVVVVVVEUDNzMzMzMwQQGZmZmZmZhBAIiIiIiIiEEB4d3d3d3cPQO/u7u7u7g5A\",\"dtype\":\"float64\",\"shape\":[27]}},\"selected\":{\"id\":\"7356\",\"type\":\"Selection\"},\"selection_policy\":{\"id\":\"7357\",\"type\":\"UnionRenderers\"}},\"id\":\"7146\",\"type\":\"ColumnDataSource\"},{\"attributes\":{},\"id\":\"7135\",\"type\":\"ResetTool\"},{\"attributes\":{\"callback\":null,\"data\":{\"x\":[\"1990.5\",\"1991.5\",\"1992.5\",\"1993.5\",\"1994.5\",\"1995.5\",\"1996.5\",\"1997.5\",\"1998.5\",\"1999.5\",\"2000.5\",\"2001.5\",\"2002.5\",\"2003.5\",\"2004.5\",\"2005.5\",\"2006.5\",\"2007.5\",\"2008.5\",\"2009.5\",\"2010.5\",\"2011.5\",\"2012.5\",\"2013.5\",\"2014.5\",\"2015.5\",\"2016.5\"],\"y\":{\"__ndarray__\":\"AAAAAAAAJUAREREREREkQBERERERESNAERERERERIkAAAAAAAAAhQN3d3d3d3R9AIyIiIiIiHkBEREREREQcQO/u7u7u7hpAvLu7u7u7GUDNzMzMzMwYQN3d3d3d3RdAERERERERF0BEREREREQWQJuZmZmZmRVA7+7u7u7uFEBEREREREQUQJqZmZmZmRNAERERERERE0BmZmZmZmYSQN7d3d3d3RFAVVVVVVVVEUDNzMzMzMwQQGZmZmZmZhBAIiIiIiIiEEB4d3d3d3cPQO/u7u7u7g5A\",\"dtype\":\"float64\",\"shape\":[27]}},\"selected\":{\"id\":\"7354\",\"type\":\"Selection\"},\"selection_policy\":{\"id\":\"7355\",\"type\":\"UnionRenderers\"}},\"id\":\"7141\",\"type\":\"ColumnDataSource\"},{\"attributes\":{},\"id\":\"7128\",\"type\":\"BasicTicker\"},{\"attributes\":{},\"id\":\"7132\",\"type\":\"PanTool\"},{\"attributes\":{},\"id\":\"7354\",\"type\":\"Selection\"},{\"attributes\":{\"fill_color\":{\"value\":\"#D9371B\"},\"line_color\":{\"value\":\"#1f77b4\"},\"x\":{\"field\":\"x\"},\"y\":{\"field\":\"y\"}},\"id\":\"7142\",\"type\":\"Circle\"},{\"attributes\":{\"data_source\":{\"id\":\"7146\",\"type\":\"ColumnDataSource\"},\"glyph\":{\"id\":\"7147\",\"type\":\"Line\"},\"hover_glyph\":null,\"muted_glyph\":null,\"nonselection_glyph\":{\"id\":\"7148\",\"type\":\"Line\"},\"selection_glyph\":null,\"view\":{\"id\":\"7150\",\"type\":\"CDSView\"}},\"id\":\"7149\",\"type\":\"GlyphRenderer\"},{\"attributes\":{\"fill_alpha\":{\"value\":0.1},\"fill_color\":{\"value\":\"#1f77b4\"},\"line_alpha\":{\"value\":0.1},\"line_color\":{\"value\":\"#1f77b4\"},\"x\":{\"field\":\"x\"},\"y\":{\"field\":\"y\"}},\"id\":\"7143\",\"type\":\"Circle\"},{\"attributes\":{},\"id\":\"7357\",\"type\":\"UnionRenderers\"},{\"attributes\":{\"axis_label\":\"Number of children\",\"formatter\":{\"id\":\"7353\",\"type\":\"BasicTickFormatter\"},\"plot\":{\"id\":\"7113\",\"subtype\":\"Figure\",\"type\":\"Plot\"},\"ticker\":{\"id\":\"7128\",\"type\":\"BasicTicker\"}},\"id\":\"7127\",\"type\":\"LinearAxis\"},{\"attributes\":{},\"id\":\"7124\",\"type\":\"CategoricalTicker\"},{\"attributes\":{},\"id\":\"7355\",\"type\":\"UnionRenderers\"},{\"attributes\":{\"source\":{\"id\":\"7146\",\"type\":\"ColumnDataSource\"}},\"id\":\"7150\",\"type\":\"CDSView\"},{\"attributes\":{\"axis_label\":\"Year\",\"formatter\":{\"id\":\"7351\",\"type\":\"CategoricalTickFormatter\"},\"major_label_orientation\":1.2,\"plot\":{\"id\":\"7113\",\"subtype\":\"Figure\",\"type\":\"Plot\"},\"ticker\":{\"id\":\"7124\",\"type\":\"CategoricalTicker\"}},\"id\":\"7123\",\"type\":\"CategoricalAxis\"},{\"attributes\":{\"source\":{\"id\":\"7141\",\"type\":\"ColumnDataSource\"}},\"id\":\"7145\",\"type\":\"CDSView\"},{\"attributes\":{},\"id\":\"7356\",\"type\":\"Selection\"},{\"attributes\":{},\"id\":\"7119\",\"type\":\"CategoricalScale\"},{\"attributes\":{\"data_source\":{\"id\":\"7141\",\"type\":\"ColumnDataSource\"},\"glyph\":{\"id\":\"7142\",\"type\":\"Circle\"},\"hover_glyph\":null,\"muted_glyph\":null,\"nonselection_glyph\":{\"id\":\"7143\",\"type\":\"Circle\"},\"selection_glyph\":null,\"view\":{\"id\":\"7145\",\"type\":\"CDSView\"}},\"id\":\"7144\",\"type\":\"GlyphRenderer\"},{\"attributes\":{\"callback\":null,\"factors\":[\"1990.5\",\"1991.5\",\"1992.5\",\"1993.5\",\"1994.5\",\"1995.5\",\"1996.5\",\"1997.5\",\"1998.5\",\"1999.5\",\"2000.5\",\"2001.5\",\"2002.5\",\"2003.5\",\"2004.5\",\"2005.5\",\"2006.5\",\"2007.5\",\"2008.5\",\"2009.5\",\"2010.5\",\"2011.5\",\"2012.5\",\"2013.5\",\"2014.5\",\"2015.5\",\"2016.5\"]},\"id\":\"7115\",\"type\":\"FactorRange\"},{\"attributes\":{},\"id\":\"7351\",\"type\":\"CategoricalTickFormatter\"},{\"attributes\":{},\"id\":\"7133\",\"type\":\"WheelZoomTool\"},{\"attributes\":{\"dimension\":1,\"plot\":{\"id\":\"7113\",\"subtype\":\"Figure\",\"type\":\"Plot\"},\"ticker\":{\"id\":\"7128\",\"type\":\"BasicTicker\"}},\"id\":\"7131\",\"type\":\"Grid\"},{\"attributes\":{},\"id\":\"7121\",\"type\":\"LinearScale\"},{\"attributes\":{\"plot\":null,\"text\":\"Western Europe\"},\"id\":\"7112\",\"type\":\"Title\"},{\"attributes\":{},\"id\":\"7353\",\"type\":\"BasicTickFormatter\"},{\"attributes\":{\"line_alpha\":0.1,\"line_color\":\"#1f77b4\",\"x\":{\"field\":\"x\"},\"y\":{\"field\":\"y\"}},\"id\":\"7148\",\"type\":\"Line\"}],\"root_ids\":[\"7113\"]},\"title\":\"Bokeh Application\",\"version\":\"1.0.3\"}};\n",
       "  var render_items = [{\"docid\":\"c7103cc8-1753-4996-97e4-45cb29d53807\",\"roots\":{\"7113\":\"2e978fa3-0fbf-4e98-a2fc-377d61169b9f\"}}];\n",
       "  root.Bokeh.embed.embed_items_notebook(docs_json, render_items);\n",
       "\n",
       "  }\n",
       "  if (root.Bokeh !== undefined) {\n",
       "    embed_document(root);\n",
       "  } else {\n",
       "    var attempts = 0;\n",
       "    var timer = setInterval(function(root) {\n",
       "      if (root.Bokeh !== undefined) {\n",
       "        embed_document(root);\n",
       "        clearInterval(timer);\n",
       "      }\n",
       "      attempts++;\n",
       "      if (attempts > 100) {\n",
       "        console.log(\"Bokeh: ERROR: Unable to run BokehJS code because BokehJS library is missing\");\n",
       "        clearInterval(timer);\n",
       "      }\n",
       "    }, 10, root)\n",
       "  }\n",
       "})(window);"
      ],
      "application/vnd.bokehjs_exec.v0+json": ""
     },
     "metadata": {
      "application/vnd.bokehjs_exec.v0+json": {
       "id": "7113"
      }
     },
     "output_type": "display_data"
    },
    {
     "data": {
      "text/html": [
       "\n",
       "\n",
       "\n",
       "\n",
       "\n",
       "\n",
       "  <div class=\"bk-root\" id=\"2f0c9fdc-cf41-447d-a991-cb064071f79e\" data-root-id=\"7495\"></div>\n"
      ]
     },
     "metadata": {},
     "output_type": "display_data"
    },
    {
     "data": {
      "application/javascript": [
       "(function(root) {\n",
       "  function embed_document(root) {\n",
       "    \n",
       "  var docs_json = {\"18b7da96-7884-4084-99dc-408f9d129235\":{\"roots\":{\"references\":[{\"attributes\":{\"below\":[{\"id\":\"7505\",\"type\":\"CategoricalAxis\"}],\"left\":[{\"id\":\"7509\",\"type\":\"LinearAxis\"}],\"plot_height\":550,\"renderers\":[{\"id\":\"7505\",\"type\":\"CategoricalAxis\"},{\"id\":\"7508\",\"type\":\"Grid\"},{\"id\":\"7509\",\"type\":\"LinearAxis\"},{\"id\":\"7513\",\"type\":\"Grid\"},{\"id\":\"7526\",\"type\":\"GlyphRenderer\"},{\"id\":\"7531\",\"type\":\"GlyphRenderer\"}],\"title\":{\"id\":\"7494\",\"type\":\"Title\"},\"toolbar\":{\"id\":\"7518\",\"type\":\"Toolbar\"},\"x_range\":{\"id\":\"7497\",\"type\":\"FactorRange\"},\"x_scale\":{\"id\":\"7501\",\"type\":\"CategoricalScale\"},\"y_range\":{\"id\":\"7499\",\"type\":\"DataRange1d\"},\"y_scale\":{\"id\":\"7503\",\"type\":\"LinearScale\"}},\"id\":\"7495\",\"subtype\":\"Figure\",\"type\":\"Plot\"},{\"attributes\":{},\"id\":\"7746\",\"type\":\"UnionRenderers\"},{\"attributes\":{},\"id\":\"7745\",\"type\":\"Selection\"},{\"attributes\":{\"source\":{\"id\":\"7528\",\"type\":\"ColumnDataSource\"}},\"id\":\"7532\",\"type\":\"CDSView\"},{\"attributes\":{\"data_source\":{\"id\":\"7528\",\"type\":\"ColumnDataSource\"},\"glyph\":{\"id\":\"7529\",\"type\":\"Line\"},\"hover_glyph\":null,\"muted_glyph\":null,\"nonselection_glyph\":{\"id\":\"7530\",\"type\":\"Line\"},\"selection_glyph\":null,\"view\":{\"id\":\"7532\",\"type\":\"CDSView\"}},\"id\":\"7531\",\"type\":\"GlyphRenderer\"},{\"attributes\":{\"axis_label\":\"Number of children\",\"formatter\":{\"id\":\"7744\",\"type\":\"BasicTickFormatter\"},\"plot\":{\"id\":\"7495\",\"subtype\":\"Figure\",\"type\":\"Plot\"},\"ticker\":{\"id\":\"7510\",\"type\":\"BasicTicker\"}},\"id\":\"7509\",\"type\":\"LinearAxis\"},{\"attributes\":{},\"id\":\"7506\",\"type\":\"CategoricalTicker\"},{\"attributes\":{},\"id\":\"7503\",\"type\":\"LinearScale\"},{\"attributes\":{\"axis_label\":\"Year\",\"formatter\":{\"id\":\"7742\",\"type\":\"CategoricalTickFormatter\"},\"major_label_orientation\":1.2,\"plot\":{\"id\":\"7495\",\"subtype\":\"Figure\",\"type\":\"Plot\"},\"ticker\":{\"id\":\"7506\",\"type\":\"CategoricalTicker\"}},\"id\":\"7505\",\"type\":\"CategoricalAxis\"},{\"attributes\":{},\"id\":\"7515\",\"type\":\"WheelZoomTool\"},{\"attributes\":{\"callback\":null,\"factors\":[\"1990.5\",\"1991.5\",\"1992.5\",\"1993.5\",\"1994.5\",\"1995.5\",\"1996.5\",\"1997.5\",\"1998.5\",\"1999.5\",\"2000.5\",\"2001.5\",\"2002.5\",\"2003.5\",\"2004.5\",\"2005.5\",\"2006.5\",\"2007.5\",\"2008.5\",\"2009.5\",\"2010.5\",\"2011.5\",\"2012.5\",\"2013.5\",\"2014.5\",\"2015.5\",\"2016.5\"]},\"id\":\"7497\",\"type\":\"FactorRange\"},{\"attributes\":{},\"id\":\"7501\",\"type\":\"CategoricalScale\"},{\"attributes\":{\"fill_color\":{\"value\":\"#D9371B\"},\"line_color\":{\"value\":\"#1f77b4\"},\"x\":{\"field\":\"x\"},\"y\":{\"field\":\"y\"}},\"id\":\"7524\",\"type\":\"Circle\"},{\"attributes\":{},\"id\":\"7517\",\"type\":\"ResetTool\"},{\"attributes\":{\"plot\":{\"id\":\"7495\",\"subtype\":\"Figure\",\"type\":\"Plot\"},\"ticker\":{\"id\":\"7506\",\"type\":\"CategoricalTicker\"}},\"id\":\"7508\",\"type\":\"Grid\"},{\"attributes\":{},\"id\":\"7510\",\"type\":\"BasicTicker\"},{\"attributes\":{},\"id\":\"7747\",\"type\":\"Selection\"},{\"attributes\":{},\"id\":\"7748\",\"type\":\"UnionRenderers\"},{\"attributes\":{\"callback\":null,\"start\":0},\"id\":\"7499\",\"type\":\"DataRange1d\"},{\"attributes\":{\"plot\":null,\"text\":\"World\"},\"id\":\"7494\",\"type\":\"Title\"},{\"attributes\":{},\"id\":\"7514\",\"type\":\"PanTool\"},{\"attributes\":{\"fill_alpha\":{\"value\":0.1},\"fill_color\":{\"value\":\"#1f77b4\"},\"line_alpha\":{\"value\":0.1},\"line_color\":{\"value\":\"#1f77b4\"},\"x\":{\"field\":\"x\"},\"y\":{\"field\":\"y\"}},\"id\":\"7525\",\"type\":\"Circle\"},{\"attributes\":{\"source\":{\"id\":\"7523\",\"type\":\"ColumnDataSource\"}},\"id\":\"7527\",\"type\":\"CDSView\"},{\"attributes\":{\"data_source\":{\"id\":\"7523\",\"type\":\"ColumnDataSource\"},\"glyph\":{\"id\":\"7524\",\"type\":\"Circle\"},\"hover_glyph\":null,\"muted_glyph\":null,\"nonselection_glyph\":{\"id\":\"7525\",\"type\":\"Circle\"},\"selection_glyph\":null,\"view\":{\"id\":\"7527\",\"type\":\"CDSView\"}},\"id\":\"7526\",\"type\":\"GlyphRenderer\"},{\"attributes\":{\"active_drag\":\"auto\",\"active_inspect\":\"auto\",\"active_multi\":null,\"active_scroll\":\"auto\",\"active_tap\":\"auto\",\"tools\":[{\"id\":\"7514\",\"type\":\"PanTool\"},{\"id\":\"7515\",\"type\":\"WheelZoomTool\"},{\"id\":\"7516\",\"type\":\"SaveTool\"},{\"id\":\"7517\",\"type\":\"ResetTool\"}]},\"id\":\"7518\",\"type\":\"Toolbar\"},{\"attributes\":{},\"id\":\"7516\",\"type\":\"SaveTool\"},{\"attributes\":{\"callback\":null,\"data\":{\"x\":[\"1990.5\",\"1991.5\",\"1992.5\",\"1993.5\",\"1994.5\",\"1995.5\",\"1996.5\",\"1997.5\",\"1998.5\",\"1999.5\",\"2000.5\",\"2001.5\",\"2002.5\",\"2003.5\",\"2004.5\",\"2005.5\",\"2006.5\",\"2007.5\",\"2008.5\",\"2009.5\",\"2010.5\",\"2011.5\",\"2012.5\",\"2013.5\",\"2014.5\",\"2015.5\",\"2016.5\"],\"y\":{\"__ndarray__\":\"3d3d3d1dV0CrqqqqqgpXQLy7u7u7u1ZAERERERFxVkARERERETFWQHh3d3d311VAzczMzMxsVUAjIiIiIgJVQM3MzMzMjFRA3t3d3d39U0AAAAAAAGBTQHd3d3d3t1JAZ2ZmZmYGUkAzMzMzM1NRQBERERERsVBAIyIiIiLiT0AREREREZFOQIiIiIiISE1AIyIiIiIiTEBnZmZmZuZKQGdmZmZm5klAvLu7u7u7SEAAAAAAAMBHQJmZmZmZ2UZAREREREQERkBFRERERERFQJqZmZmZmURA\",\"dtype\":\"float64\",\"shape\":[27]}},\"selected\":{\"id\":\"7747\",\"type\":\"Selection\"},\"selection_policy\":{\"id\":\"7748\",\"type\":\"UnionRenderers\"}},\"id\":\"7528\",\"type\":\"ColumnDataSource\"},{\"attributes\":{\"line_color\":\"#1f77b4\",\"x\":{\"field\":\"x\"},\"y\":{\"field\":\"y\"}},\"id\":\"7529\",\"type\":\"Line\"},{\"attributes\":{\"line_alpha\":0.1,\"line_color\":\"#1f77b4\",\"x\":{\"field\":\"x\"},\"y\":{\"field\":\"y\"}},\"id\":\"7530\",\"type\":\"Line\"},{\"attributes\":{},\"id\":\"7744\",\"type\":\"BasicTickFormatter\"},{\"attributes\":{},\"id\":\"7742\",\"type\":\"CategoricalTickFormatter\"},{\"attributes\":{\"callback\":null,\"data\":{\"x\":[\"1990.5\",\"1991.5\",\"1992.5\",\"1993.5\",\"1994.5\",\"1995.5\",\"1996.5\",\"1997.5\",\"1998.5\",\"1999.5\",\"2000.5\",\"2001.5\",\"2002.5\",\"2003.5\",\"2004.5\",\"2005.5\",\"2006.5\",\"2007.5\",\"2008.5\",\"2009.5\",\"2010.5\",\"2011.5\",\"2012.5\",\"2013.5\",\"2014.5\",\"2015.5\",\"2016.5\"],\"y\":{\"__ndarray__\":\"3d3d3d1dV0CrqqqqqgpXQLy7u7u7u1ZAERERERFxVkARERERETFWQHh3d3d311VAzczMzMxsVUAjIiIiIgJVQM3MzMzMjFRA3t3d3d39U0AAAAAAAGBTQHd3d3d3t1JAZ2ZmZmYGUkAzMzMzM1NRQBERERERsVBAIyIiIiLiT0AREREREZFOQIiIiIiISE1AIyIiIiIiTEBnZmZmZuZKQGdmZmZm5klAvLu7u7u7SEAAAAAAAMBHQJmZmZmZ2UZAREREREQERkBFRERERERFQJqZmZmZmURA\",\"dtype\":\"float64\",\"shape\":[27]}},\"selected\":{\"id\":\"7745\",\"type\":\"Selection\"},\"selection_policy\":{\"id\":\"7746\",\"type\":\"UnionRenderers\"}},\"id\":\"7523\",\"type\":\"ColumnDataSource\"},{\"attributes\":{\"dimension\":1,\"plot\":{\"id\":\"7495\",\"subtype\":\"Figure\",\"type\":\"Plot\"},\"ticker\":{\"id\":\"7510\",\"type\":\"BasicTicker\"}},\"id\":\"7513\",\"type\":\"Grid\"}],\"root_ids\":[\"7495\"]},\"title\":\"Bokeh Application\",\"version\":\"1.0.3\"}};\n",
       "  var render_items = [{\"docid\":\"18b7da96-7884-4084-99dc-408f9d129235\",\"roots\":{\"7495\":\"2f0c9fdc-cf41-447d-a991-cb064071f79e\"}}];\n",
       "  root.Bokeh.embed.embed_items_notebook(docs_json, render_items);\n",
       "\n",
       "  }\n",
       "  if (root.Bokeh !== undefined) {\n",
       "    embed_document(root);\n",
       "  } else {\n",
       "    var attempts = 0;\n",
       "    var timer = setInterval(function(root) {\n",
       "      if (root.Bokeh !== undefined) {\n",
       "        embed_document(root);\n",
       "        clearInterval(timer);\n",
       "      }\n",
       "      attempts++;\n",
       "      if (attempts > 100) {\n",
       "        console.log(\"Bokeh: ERROR: Unable to run BokehJS code because BokehJS library is missing\");\n",
       "        clearInterval(timer);\n",
       "      }\n",
       "    }, 10, root)\n",
       "  }\n",
       "})(window);"
      ],
      "application/vnd.bokehjs_exec.v0+json": ""
     },
     "metadata": {
      "application/vnd.bokehjs_exec.v0+json": {
       "id": "7495"
      }
     },
     "output_type": "display_data"
    }
   ],
   "source": [
    "%run Read.ipynb # Leemos el archivo\n",
    "# Ahora vamos a graficar una linea region por region\n",
    "\n",
    "# Standard imports \n",
    "from bokeh.io import output_notebook\n",
    "from bokeh.plotting import figure, output_notebook, save, show\n",
    "from bokeh.models import ColumnDataSource, HoverTool\n",
    "output_notebook()\n",
    "\n",
    "group01 = group.drop('Averages', 1)\n",
    "group01 = group01.drop('Region Name', 1)\n",
    "group01\n",
    "x_range = group01.to_dict('split')['columns']\n",
    "\n",
    "# Lo metemos dentro de un ciclo\n",
    "index = 0\n",
    "\n",
    "\n",
    "while index <= 11:\n",
    "    title = str(group['Region Name'][index])\n",
    "    y_range = group01.iloc[index] # Obtenmos los datos del dataFrame por columna\n",
    "\n",
    "    figure02 = figure(x_range=x_range, plot_height=550, title=title, tools='pan, wheel_zoom, save, reset')\n",
    "    figure02.circle(x=x_range, y=y_range, size=4, fill_color=colors01[10])\n",
    "    figure02.line(x=x_range, y=y_range)\n",
    "    figure02.y_range.start = 0\n",
    "    figure02.yaxis.axis_label = \"Number of children\"\n",
    "    figure02.xaxis.axis_label = \"Year\"\n",
    "    figure02.xaxis.major_label_orientation = 1.2\n",
    "    \n",
    "\n",
    "\n",
    "    \n",
    "    index+=1\n",
    "    \n",
    "    filename = \"figures/figuresByRegion/\"\n",
    "    filename += title.replace(\" \", \"_\")\n",
    "    filename += \".html\"\n",
    "    \n",
    "    show(figure02)\n",
    "    \n",
    "    save(obj=figure02, filename=filename, title=\"Figure02\")"
   ]
  },
  {
   "cell_type": "code",
   "execution_count": null,
   "metadata": {},
   "outputs": [],
   "source": []
  }
 ],
 "metadata": {
  "kernelspec": {
   "display_name": "Python 3",
   "language": "python",
   "name": "python3"
  },
  "language_info": {
   "codemirror_mode": {
    "name": "ipython",
    "version": 3
   },
   "file_extension": ".py",
   "mimetype": "text/x-python",
   "name": "python",
   "nbconvert_exporter": "python",
   "pygments_lexer": "ipython3",
   "version": "3.7.2"
  }
 },
 "nbformat": 4,
 "nbformat_minor": 2
}
