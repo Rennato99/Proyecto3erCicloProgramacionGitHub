{
 "cells": [
  {
   "cell_type": "code",
   "execution_count": 7,
   "metadata": {},
   "outputs": [],
   "source": [
    "%run Read.ipynb # Leemos el archivo\n",
    "# Ahora vamos a graficar una linea region por region\n",
    "\n",
    "# Standard imports \n",
    "from bokeh.io import output_notebook\n",
    "from bokeh.plotting import figure, output_notebook, save\n",
    "from bokeh.models import ColumnDataSource, HoverTool\n",
    "\n",
    "group01 = group.drop('Averages', 1)\n",
    "group01 = group01.drop('Region Name', 1)\n",
    "group01\n",
    "x_range = group01.to_dict('split')['columns']\n",
    "\n",
    "# Lo metemos dentro de un ciclo\n",
    "index = 0\n",
    "\n",
    "\n",
    "while index <= 11:\n",
    "    title = str(group['Region Name'][index])\n",
    "    y_range = group01.iloc[index]\n",
    "\n",
    "    figure02 = figure(x_range=x_range, plot_height=550, title=title, toolbar_location=None, tools=\"\")\n",
    "    figure02.circle(x=x_range, y=y_range, size=4, fill_color=colors01[10])\n",
    "    figure02.add_tools(HoverTool())\n",
    "    figure02.line(x=x_range, y=y_range)\n",
    "    figure02.y_range.start = 0\n",
    "    figure02.yaxis.axis_label = \"Number of children\"\n",
    "    figure02.xaxis.axis_label = \"Year\"\n",
    "    figure02.xaxis.major_label_orientation = 1.2\n",
    "    \n",
    "\n",
    "\n",
    "    \n",
    "    index+=1\n",
    "    filename = \"figures/figuresByRegion/\"\n",
    "    filename += title.replace(\" \", \"_\")\n",
    "    filename += \".html\"\n",
    "    save(obj=figure02, filename=filename, title=\"Figure02\")"
   ]
  }
 ],
 "metadata": {
  "kernelspec": {
   "display_name": "Python 3",
   "language": "python",
   "name": "python3"
  },
  "language_info": {
   "codemirror_mode": {
    "name": "ipython",
    "version": 3
   },
   "file_extension": ".py",
   "mimetype": "text/x-python",
   "name": "python",
   "nbconvert_exporter": "python",
   "pygments_lexer": "ipython3",
   "version": "3.7.2"
  }
 },
 "nbformat": 4,
 "nbformat_minor": 2
}
