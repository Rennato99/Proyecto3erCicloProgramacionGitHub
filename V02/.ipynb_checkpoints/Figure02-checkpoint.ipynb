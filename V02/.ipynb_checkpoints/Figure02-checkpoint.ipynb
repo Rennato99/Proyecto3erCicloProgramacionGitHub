{
 "cells": [
  {
   "cell_type": "code",
   "execution_count": 3,
   "metadata": {},
   "outputs": [
    {
     "data": {
      "text/html": [
       "\n",
       "    <div class=\"bk-root\">\n",
       "        <a href=\"https://bokeh.pydata.org\" target=\"_blank\" class=\"bk-logo bk-logo-small bk-logo-notebook\"></a>\n",
       "        <span id=\"3074\">Loading BokehJS ...</span>\n",
       "    </div>"
      ]
     },
     "metadata": {},
     "output_type": "display_data"
    },
    {
     "data": {
      "application/javascript": [
       "\n",
       "(function(root) {\n",
       "  function now() {\n",
       "    return new Date();\n",
       "  }\n",
       "\n",
       "  var force = true;\n",
       "\n",
       "  if (typeof (root._bokeh_onload_callbacks) === \"undefined\" || force === true) {\n",
       "    root._bokeh_onload_callbacks = [];\n",
       "    root._bokeh_is_loading = undefined;\n",
       "  }\n",
       "\n",
       "  var JS_MIME_TYPE = 'application/javascript';\n",
       "  var HTML_MIME_TYPE = 'text/html';\n",
       "  var EXEC_MIME_TYPE = 'application/vnd.bokehjs_exec.v0+json';\n",
       "  var CLASS_NAME = 'output_bokeh rendered_html';\n",
       "\n",
       "  /**\n",
       "   * Render data to the DOM node\n",
       "   */\n",
       "  function render(props, node) {\n",
       "    var script = document.createElement(\"script\");\n",
       "    node.appendChild(script);\n",
       "  }\n",
       "\n",
       "  /**\n",
       "   * Handle when an output is cleared or removed\n",
       "   */\n",
       "  function handleClearOutput(event, handle) {\n",
       "    var cell = handle.cell;\n",
       "\n",
       "    var id = cell.output_area._bokeh_element_id;\n",
       "    var server_id = cell.output_area._bokeh_server_id;\n",
       "    // Clean up Bokeh references\n",
       "    if (id != null && id in Bokeh.index) {\n",
       "      Bokeh.index[id].model.document.clear();\n",
       "      delete Bokeh.index[id];\n",
       "    }\n",
       "\n",
       "    if (server_id !== undefined) {\n",
       "      // Clean up Bokeh references\n",
       "      var cmd = \"from bokeh.io.state import curstate; print(curstate().uuid_to_server['\" + server_id + \"'].get_sessions()[0].document.roots[0]._id)\";\n",
       "      cell.notebook.kernel.execute(cmd, {\n",
       "        iopub: {\n",
       "          output: function(msg) {\n",
       "            var id = msg.content.text.trim();\n",
       "            if (id in Bokeh.index) {\n",
       "              Bokeh.index[id].model.document.clear();\n",
       "              delete Bokeh.index[id];\n",
       "            }\n",
       "          }\n",
       "        }\n",
       "      });\n",
       "      // Destroy server and session\n",
       "      var cmd = \"import bokeh.io.notebook as ion; ion.destroy_server('\" + server_id + \"')\";\n",
       "      cell.notebook.kernel.execute(cmd);\n",
       "    }\n",
       "  }\n",
       "\n",
       "  /**\n",
       "   * Handle when a new output is added\n",
       "   */\n",
       "  function handleAddOutput(event, handle) {\n",
       "    var output_area = handle.output_area;\n",
       "    var output = handle.output;\n",
       "\n",
       "    // limit handleAddOutput to display_data with EXEC_MIME_TYPE content only\n",
       "    if ((output.output_type != \"display_data\") || (!output.data.hasOwnProperty(EXEC_MIME_TYPE))) {\n",
       "      return\n",
       "    }\n",
       "\n",
       "    var toinsert = output_area.element.find(\".\" + CLASS_NAME.split(' ')[0]);\n",
       "\n",
       "    if (output.metadata[EXEC_MIME_TYPE][\"id\"] !== undefined) {\n",
       "      toinsert[toinsert.length - 1].firstChild.textContent = output.data[JS_MIME_TYPE];\n",
       "      // store reference to embed id on output_area\n",
       "      output_area._bokeh_element_id = output.metadata[EXEC_MIME_TYPE][\"id\"];\n",
       "    }\n",
       "    if (output.metadata[EXEC_MIME_TYPE][\"server_id\"] !== undefined) {\n",
       "      var bk_div = document.createElement(\"div\");\n",
       "      bk_div.innerHTML = output.data[HTML_MIME_TYPE];\n",
       "      var script_attrs = bk_div.children[0].attributes;\n",
       "      for (var i = 0; i < script_attrs.length; i++) {\n",
       "        toinsert[toinsert.length - 1].firstChild.setAttribute(script_attrs[i].name, script_attrs[i].value);\n",
       "      }\n",
       "      // store reference to server id on output_area\n",
       "      output_area._bokeh_server_id = output.metadata[EXEC_MIME_TYPE][\"server_id\"];\n",
       "    }\n",
       "  }\n",
       "\n",
       "  function register_renderer(events, OutputArea) {\n",
       "\n",
       "    function append_mime(data, metadata, element) {\n",
       "      // create a DOM node to render to\n",
       "      var toinsert = this.create_output_subarea(\n",
       "        metadata,\n",
       "        CLASS_NAME,\n",
       "        EXEC_MIME_TYPE\n",
       "      );\n",
       "      this.keyboard_manager.register_events(toinsert);\n",
       "      // Render to node\n",
       "      var props = {data: data, metadata: metadata[EXEC_MIME_TYPE]};\n",
       "      render(props, toinsert[toinsert.length - 1]);\n",
       "      element.append(toinsert);\n",
       "      return toinsert\n",
       "    }\n",
       "\n",
       "    /* Handle when an output is cleared or removed */\n",
       "    events.on('clear_output.CodeCell', handleClearOutput);\n",
       "    events.on('delete.Cell', handleClearOutput);\n",
       "\n",
       "    /* Handle when a new output is added */\n",
       "    events.on('output_added.OutputArea', handleAddOutput);\n",
       "\n",
       "    /**\n",
       "     * Register the mime type and append_mime function with output_area\n",
       "     */\n",
       "    OutputArea.prototype.register_mime_type(EXEC_MIME_TYPE, append_mime, {\n",
       "      /* Is output safe? */\n",
       "      safe: true,\n",
       "      /* Index of renderer in `output_area.display_order` */\n",
       "      index: 0\n",
       "    });\n",
       "  }\n",
       "\n",
       "  // register the mime type if in Jupyter Notebook environment and previously unregistered\n",
       "  if (root.Jupyter !== undefined) {\n",
       "    var events = require('base/js/events');\n",
       "    var OutputArea = require('notebook/js/outputarea').OutputArea;\n",
       "\n",
       "    if (OutputArea.prototype.mime_types().indexOf(EXEC_MIME_TYPE) == -1) {\n",
       "      register_renderer(events, OutputArea);\n",
       "    }\n",
       "  }\n",
       "\n",
       "  \n",
       "  if (typeof (root._bokeh_timeout) === \"undefined\" || force === true) {\n",
       "    root._bokeh_timeout = Date.now() + 5000;\n",
       "    root._bokeh_failed_load = false;\n",
       "  }\n",
       "\n",
       "  var NB_LOAD_WARNING = {'data': {'text/html':\n",
       "     \"<div style='background-color: #fdd'>\\n\"+\n",
       "     \"<p>\\n\"+\n",
       "     \"BokehJS does not appear to have successfully loaded. If loading BokehJS from CDN, this \\n\"+\n",
       "     \"may be due to a slow or bad network connection. Possible fixes:\\n\"+\n",
       "     \"</p>\\n\"+\n",
       "     \"<ul>\\n\"+\n",
       "     \"<li>re-rerun `output_notebook()` to attempt to load from CDN again, or</li>\\n\"+\n",
       "     \"<li>use INLINE resources instead, as so:</li>\\n\"+\n",
       "     \"</ul>\\n\"+\n",
       "     \"<code>\\n\"+\n",
       "     \"from bokeh.resources import INLINE\\n\"+\n",
       "     \"output_notebook(resources=INLINE)\\n\"+\n",
       "     \"</code>\\n\"+\n",
       "     \"</div>\"}};\n",
       "\n",
       "  function display_loaded() {\n",
       "    var el = document.getElementById(\"3074\");\n",
       "    if (el != null) {\n",
       "      el.textContent = \"BokehJS is loading...\";\n",
       "    }\n",
       "    if (root.Bokeh !== undefined) {\n",
       "      if (el != null) {\n",
       "        el.textContent = \"BokehJS \" + root.Bokeh.version + \" successfully loaded.\";\n",
       "      }\n",
       "    } else if (Date.now() < root._bokeh_timeout) {\n",
       "      setTimeout(display_loaded, 100)\n",
       "    }\n",
       "  }\n",
       "\n",
       "\n",
       "  function run_callbacks() {\n",
       "    try {\n",
       "      root._bokeh_onload_callbacks.forEach(function(callback) { callback() });\n",
       "    }\n",
       "    finally {\n",
       "      delete root._bokeh_onload_callbacks\n",
       "    }\n",
       "    console.info(\"Bokeh: all callbacks have finished\");\n",
       "  }\n",
       "\n",
       "  function load_libs(js_urls, callback) {\n",
       "    root._bokeh_onload_callbacks.push(callback);\n",
       "    if (root._bokeh_is_loading > 0) {\n",
       "      console.log(\"Bokeh: BokehJS is being loaded, scheduling callback at\", now());\n",
       "      return null;\n",
       "    }\n",
       "    if (js_urls == null || js_urls.length === 0) {\n",
       "      run_callbacks();\n",
       "      return null;\n",
       "    }\n",
       "    console.log(\"Bokeh: BokehJS not loaded, scheduling load and callback at\", now());\n",
       "    root._bokeh_is_loading = js_urls.length;\n",
       "    for (var i = 0; i < js_urls.length; i++) {\n",
       "      var url = js_urls[i];\n",
       "      var s = document.createElement('script');\n",
       "      s.src = url;\n",
       "      s.async = false;\n",
       "      s.onreadystatechange = s.onload = function() {\n",
       "        root._bokeh_is_loading--;\n",
       "        if (root._bokeh_is_loading === 0) {\n",
       "          console.log(\"Bokeh: all BokehJS libraries loaded\");\n",
       "          run_callbacks()\n",
       "        }\n",
       "      };\n",
       "      s.onerror = function() {\n",
       "        console.warn(\"failed to load library \" + url);\n",
       "      };\n",
       "      console.log(\"Bokeh: injecting script tag for BokehJS library: \", url);\n",
       "      document.getElementsByTagName(\"head\")[0].appendChild(s);\n",
       "    }\n",
       "  };var element = document.getElementById(\"3074\");\n",
       "  if (element == null) {\n",
       "    console.log(\"Bokeh: ERROR: autoload.js configured with elementid '3074' but no matching script tag was found. \")\n",
       "    return false;\n",
       "  }\n",
       "\n",
       "  var js_urls = [\"https://cdn.pydata.org/bokeh/release/bokeh-1.0.3.min.js\", \"https://cdn.pydata.org/bokeh/release/bokeh-widgets-1.0.3.min.js\", \"https://cdn.pydata.org/bokeh/release/bokeh-tables-1.0.3.min.js\", \"https://cdn.pydata.org/bokeh/release/bokeh-gl-1.0.3.min.js\"];\n",
       "\n",
       "  var inline_js = [\n",
       "    function(Bokeh) {\n",
       "      Bokeh.set_log_level(\"info\");\n",
       "    },\n",
       "    \n",
       "    function(Bokeh) {\n",
       "      \n",
       "    },\n",
       "    function(Bokeh) {\n",
       "      console.log(\"Bokeh: injecting CSS: https://cdn.pydata.org/bokeh/release/bokeh-1.0.3.min.css\");\n",
       "      Bokeh.embed.inject_css(\"https://cdn.pydata.org/bokeh/release/bokeh-1.0.3.min.css\");\n",
       "      console.log(\"Bokeh: injecting CSS: https://cdn.pydata.org/bokeh/release/bokeh-widgets-1.0.3.min.css\");\n",
       "      Bokeh.embed.inject_css(\"https://cdn.pydata.org/bokeh/release/bokeh-widgets-1.0.3.min.css\");\n",
       "      console.log(\"Bokeh: injecting CSS: https://cdn.pydata.org/bokeh/release/bokeh-tables-1.0.3.min.css\");\n",
       "      Bokeh.embed.inject_css(\"https://cdn.pydata.org/bokeh/release/bokeh-tables-1.0.3.min.css\");\n",
       "    }\n",
       "  ];\n",
       "\n",
       "  function run_inline_js() {\n",
       "    \n",
       "    if ((root.Bokeh !== undefined) || (force === true)) {\n",
       "      for (var i = 0; i < inline_js.length; i++) {\n",
       "        inline_js[i].call(root, root.Bokeh);\n",
       "      }if (force === true) {\n",
       "        display_loaded();\n",
       "      }} else if (Date.now() < root._bokeh_timeout) {\n",
       "      setTimeout(run_inline_js, 100);\n",
       "    } else if (!root._bokeh_failed_load) {\n",
       "      console.log(\"Bokeh: BokehJS failed to load within specified timeout.\");\n",
       "      root._bokeh_failed_load = true;\n",
       "    } else if (force !== true) {\n",
       "      var cell = $(document.getElementById(\"3074\")).parents('.cell').data().cell;\n",
       "      cell.output_area.append_execute_result(NB_LOAD_WARNING)\n",
       "    }\n",
       "\n",
       "  }\n",
       "\n",
       "  if (root._bokeh_is_loading === 0) {\n",
       "    console.log(\"Bokeh: BokehJS loaded, going straight to plotting\");\n",
       "    run_inline_js();\n",
       "  } else {\n",
       "    load_libs(js_urls, function() {\n",
       "      console.log(\"Bokeh: BokehJS plotting callback run at\", now());\n",
       "      run_inline_js();\n",
       "    });\n",
       "  }\n",
       "}(window));"
      ],
      "application/vnd.bokehjs_load.v0+json": "\n(function(root) {\n  function now() {\n    return new Date();\n  }\n\n  var force = true;\n\n  if (typeof (root._bokeh_onload_callbacks) === \"undefined\" || force === true) {\n    root._bokeh_onload_callbacks = [];\n    root._bokeh_is_loading = undefined;\n  }\n\n  \n\n  \n  if (typeof (root._bokeh_timeout) === \"undefined\" || force === true) {\n    root._bokeh_timeout = Date.now() + 5000;\n    root._bokeh_failed_load = false;\n  }\n\n  var NB_LOAD_WARNING = {'data': {'text/html':\n     \"<div style='background-color: #fdd'>\\n\"+\n     \"<p>\\n\"+\n     \"BokehJS does not appear to have successfully loaded. If loading BokehJS from CDN, this \\n\"+\n     \"may be due to a slow or bad network connection. Possible fixes:\\n\"+\n     \"</p>\\n\"+\n     \"<ul>\\n\"+\n     \"<li>re-rerun `output_notebook()` to attempt to load from CDN again, or</li>\\n\"+\n     \"<li>use INLINE resources instead, as so:</li>\\n\"+\n     \"</ul>\\n\"+\n     \"<code>\\n\"+\n     \"from bokeh.resources import INLINE\\n\"+\n     \"output_notebook(resources=INLINE)\\n\"+\n     \"</code>\\n\"+\n     \"</div>\"}};\n\n  function display_loaded() {\n    var el = document.getElementById(\"3074\");\n    if (el != null) {\n      el.textContent = \"BokehJS is loading...\";\n    }\n    if (root.Bokeh !== undefined) {\n      if (el != null) {\n        el.textContent = \"BokehJS \" + root.Bokeh.version + \" successfully loaded.\";\n      }\n    } else if (Date.now() < root._bokeh_timeout) {\n      setTimeout(display_loaded, 100)\n    }\n  }\n\n\n  function run_callbacks() {\n    try {\n      root._bokeh_onload_callbacks.forEach(function(callback) { callback() });\n    }\n    finally {\n      delete root._bokeh_onload_callbacks\n    }\n    console.info(\"Bokeh: all callbacks have finished\");\n  }\n\n  function load_libs(js_urls, callback) {\n    root._bokeh_onload_callbacks.push(callback);\n    if (root._bokeh_is_loading > 0) {\n      console.log(\"Bokeh: BokehJS is being loaded, scheduling callback at\", now());\n      return null;\n    }\n    if (js_urls == null || js_urls.length === 0) {\n      run_callbacks();\n      return null;\n    }\n    console.log(\"Bokeh: BokehJS not loaded, scheduling load and callback at\", now());\n    root._bokeh_is_loading = js_urls.length;\n    for (var i = 0; i < js_urls.length; i++) {\n      var url = js_urls[i];\n      var s = document.createElement('script');\n      s.src = url;\n      s.async = false;\n      s.onreadystatechange = s.onload = function() {\n        root._bokeh_is_loading--;\n        if (root._bokeh_is_loading === 0) {\n          console.log(\"Bokeh: all BokehJS libraries loaded\");\n          run_callbacks()\n        }\n      };\n      s.onerror = function() {\n        console.warn(\"failed to load library \" + url);\n      };\n      console.log(\"Bokeh: injecting script tag for BokehJS library: \", url);\n      document.getElementsByTagName(\"head\")[0].appendChild(s);\n    }\n  };var element = document.getElementById(\"3074\");\n  if (element == null) {\n    console.log(\"Bokeh: ERROR: autoload.js configured with elementid '3074' but no matching script tag was found. \")\n    return false;\n  }\n\n  var js_urls = [\"https://cdn.pydata.org/bokeh/release/bokeh-1.0.3.min.js\", \"https://cdn.pydata.org/bokeh/release/bokeh-widgets-1.0.3.min.js\", \"https://cdn.pydata.org/bokeh/release/bokeh-tables-1.0.3.min.js\", \"https://cdn.pydata.org/bokeh/release/bokeh-gl-1.0.3.min.js\"];\n\n  var inline_js = [\n    function(Bokeh) {\n      Bokeh.set_log_level(\"info\");\n    },\n    \n    function(Bokeh) {\n      \n    },\n    function(Bokeh) {\n      console.log(\"Bokeh: injecting CSS: https://cdn.pydata.org/bokeh/release/bokeh-1.0.3.min.css\");\n      Bokeh.embed.inject_css(\"https://cdn.pydata.org/bokeh/release/bokeh-1.0.3.min.css\");\n      console.log(\"Bokeh: injecting CSS: https://cdn.pydata.org/bokeh/release/bokeh-widgets-1.0.3.min.css\");\n      Bokeh.embed.inject_css(\"https://cdn.pydata.org/bokeh/release/bokeh-widgets-1.0.3.min.css\");\n      console.log(\"Bokeh: injecting CSS: https://cdn.pydata.org/bokeh/release/bokeh-tables-1.0.3.min.css\");\n      Bokeh.embed.inject_css(\"https://cdn.pydata.org/bokeh/release/bokeh-tables-1.0.3.min.css\");\n    }\n  ];\n\n  function run_inline_js() {\n    \n    if ((root.Bokeh !== undefined) || (force === true)) {\n      for (var i = 0; i < inline_js.length; i++) {\n        inline_js[i].call(root, root.Bokeh);\n      }if (force === true) {\n        display_loaded();\n      }} else if (Date.now() < root._bokeh_timeout) {\n      setTimeout(run_inline_js, 100);\n    } else if (!root._bokeh_failed_load) {\n      console.log(\"Bokeh: BokehJS failed to load within specified timeout.\");\n      root._bokeh_failed_load = true;\n    } else if (force !== true) {\n      var cell = $(document.getElementById(\"3074\")).parents('.cell').data().cell;\n      cell.output_area.append_execute_result(NB_LOAD_WARNING)\n    }\n\n  }\n\n  if (root._bokeh_is_loading === 0) {\n    console.log(\"Bokeh: BokehJS loaded, going straight to plotting\");\n    run_inline_js();\n  } else {\n    load_libs(js_urls, function() {\n      console.log(\"Bokeh: BokehJS plotting callback run at\", now());\n      run_inline_js();\n    });\n  }\n}(window));"
     },
     "metadata": {},
     "output_type": "display_data"
    },
    {
     "data": {
      "text/html": [
       "\n",
       "\n",
       "\n",
       "\n",
       "\n",
       "\n",
       "  <div class=\"bk-root\" id=\"b74ce574-e635-45d6-a383-d561fe570083\" data-root-id=\"3076\"></div>\n"
      ]
     },
     "metadata": {},
     "output_type": "display_data"
    },
    {
     "data": {
      "application/javascript": [
       "(function(root) {\n",
       "  function embed_document(root) {\n",
       "    \n",
       "  var docs_json = {\"44e72a34-b8f7-46ed-887f-76e0dd3e9872\":{\"roots\":{\"references\":[{\"attributes\":{\"below\":[{\"id\":\"3086\",\"type\":\"CategoricalAxis\"}],\"left\":[{\"id\":\"3090\",\"type\":\"LinearAxis\"}],\"plot_height\":550,\"renderers\":[{\"id\":\"3086\",\"type\":\"CategoricalAxis\"},{\"id\":\"3089\",\"type\":\"Grid\"},{\"id\":\"3090\",\"type\":\"LinearAxis\"},{\"id\":\"3094\",\"type\":\"Grid\"},{\"id\":\"3099\",\"type\":\"GlyphRenderer\"},{\"id\":\"3106\",\"type\":\"GlyphRenderer\"}],\"title\":{\"id\":\"3075\",\"type\":\"Title\"},\"toolbar\":{\"id\":\"3095\",\"type\":\"Toolbar\"},\"toolbar_location\":null,\"x_range\":{\"id\":\"3078\",\"type\":\"FactorRange\"},\"x_scale\":{\"id\":\"3082\",\"type\":\"CategoricalScale\"},\"y_range\":{\"id\":\"3080\",\"type\":\"DataRange1d\"},\"y_scale\":{\"id\":\"3084\",\"type\":\"LinearScale\"}},\"id\":\"3076\",\"subtype\":\"Figure\",\"type\":\"Plot\"},{\"attributes\":{\"callback\":null,\"data\":{\"x\":[\"1990.5\",\"1991.5\",\"1992.5\",\"1993.5\",\"1994.5\",\"1995.5\",\"1996.5\",\"1997.5\",\"1998.5\",\"1999.5\",\"2000.5\",\"2001.5\",\"2002.5\",\"2003.5\",\"2004.5\",\"2005.5\",\"2006.5\",\"2007.5\",\"2008.5\",\"2009.5\",\"2010.5\",\"2011.5\",\"2012.5\",\"2013.5\",\"2014.5\",\"2015.5\",\"2016.5\"],\"y\":{\"__ndarray__\":\"zczMzMyMTEB3d3d3d/dLQLu7u7u7O0tAZ2ZmZmZmSkAREREREZFJQO/u7u7urkhAzczMzMzMR0CrqqqqqupGQAAAAAAAAEZAiYiIiIgIRUBERERERAREQKuqqqqq6kJAVVVVVVXVQUC8u7u7u7tAQO/u7u7uLkBAAAAAAACAPUAzMzMzM7M7QCMiIiIiIjpAVVVVVVVVOUDNzMzMzEw3QBERERERETZA7+7u7u7uNEBVVVVVVdUzQGdmZmZm5jJAAAAAAAAAMkC8u7u7uzsxQAAAAAAAgDBA\",\"dtype\":\"float64\",\"shape\":[27]}},\"selected\":{\"id\":\"3113\",\"type\":\"Selection\"},\"selection_policy\":{\"id\":\"3114\",\"type\":\"UnionRenderers\"}},\"id\":\"3096\",\"type\":\"ColumnDataSource\"},{\"attributes\":{\"axis_label\":\"Number of children\",\"formatter\":{\"id\":\"3109\",\"type\":\"BasicTickFormatter\"},\"plot\":{\"id\":\"3076\",\"subtype\":\"Figure\",\"type\":\"Plot\"},\"ticker\":{\"id\":\"3091\",\"type\":\"BasicTicker\"}},\"id\":\"3090\",\"type\":\"LinearAxis\"},{\"attributes\":{\"fill_color\":{\"value\":\"#D9371B\"},\"line_color\":{\"value\":\"#1f77b4\"},\"x\":{\"field\":\"x\"},\"y\":{\"field\":\"y\"}},\"id\":\"3097\",\"type\":\"Circle\"},{\"attributes\":{\"axis_label\":\"Year\",\"formatter\":{\"id\":\"3111\",\"type\":\"CategoricalTickFormatter\"},\"major_label_orientation\":1.2,\"plot\":{\"id\":\"3076\",\"subtype\":\"Figure\",\"type\":\"Plot\"},\"ticker\":{\"id\":\"3087\",\"type\":\"CategoricalTicker\"}},\"id\":\"3086\",\"type\":\"CategoricalAxis\"},{\"attributes\":{\"fill_alpha\":{\"value\":0.1},\"fill_color\":{\"value\":\"#1f77b4\"},\"line_alpha\":{\"value\":0.1},\"line_color\":{\"value\":\"#1f77b4\"},\"x\":{\"field\":\"x\"},\"y\":{\"field\":\"y\"}},\"id\":\"3098\",\"type\":\"Circle\"},{\"attributes\":{\"plot\":null,\"text\":\"East Asia and Pacific\"},\"id\":\"3075\",\"type\":\"Title\"},{\"attributes\":{\"line_alpha\":0.1,\"line_color\":\"#1f77b4\",\"x\":{\"field\":\"x\"},\"y\":{\"field\":\"y\"}},\"id\":\"3105\",\"type\":\"Line\"},{\"attributes\":{\"data_source\":{\"id\":\"3096\",\"type\":\"ColumnDataSource\"},\"glyph\":{\"id\":\"3097\",\"type\":\"Circle\"},\"hover_glyph\":null,\"muted_glyph\":null,\"nonselection_glyph\":{\"id\":\"3098\",\"type\":\"Circle\"},\"selection_glyph\":null,\"view\":{\"id\":\"3100\",\"type\":\"CDSView\"}},\"id\":\"3099\",\"type\":\"GlyphRenderer\"},{\"attributes\":{\"callback\":null,\"start\":0},\"id\":\"3080\",\"type\":\"DataRange1d\"},{\"attributes\":{\"callback\":null,\"factors\":[\"1990.5\",\"1991.5\",\"1992.5\",\"1993.5\",\"1994.5\",\"1995.5\",\"1996.5\",\"1997.5\",\"1998.5\",\"1999.5\",\"2000.5\",\"2001.5\",\"2002.5\",\"2003.5\",\"2004.5\",\"2005.5\",\"2006.5\",\"2007.5\",\"2008.5\",\"2009.5\",\"2010.5\",\"2011.5\",\"2012.5\",\"2013.5\",\"2014.5\",\"2015.5\",\"2016.5\"]},\"id\":\"3078\",\"type\":\"FactorRange\"},{\"attributes\":{\"source\":{\"id\":\"3096\",\"type\":\"ColumnDataSource\"}},\"id\":\"3100\",\"type\":\"CDSView\"},{\"attributes\":{\"callback\":null},\"id\":\"3101\",\"type\":\"HoverTool\"},{\"attributes\":{\"callback\":null,\"data\":{\"x\":[\"1990.5\",\"1991.5\",\"1992.5\",\"1993.5\",\"1994.5\",\"1995.5\",\"1996.5\",\"1997.5\",\"1998.5\",\"1999.5\",\"2000.5\",\"2001.5\",\"2002.5\",\"2003.5\",\"2004.5\",\"2005.5\",\"2006.5\",\"2007.5\",\"2008.5\",\"2009.5\",\"2010.5\",\"2011.5\",\"2012.5\",\"2013.5\",\"2014.5\",\"2015.5\",\"2016.5\"],\"y\":{\"__ndarray__\":\"zczMzMyMTEB3d3d3d/dLQLu7u7u7O0tAZ2ZmZmZmSkAREREREZFJQO/u7u7urkhAzczMzMzMR0CrqqqqqupGQAAAAAAAAEZAiYiIiIgIRUBERERERAREQKuqqqqq6kJAVVVVVVXVQUC8u7u7u7tAQO/u7u7uLkBAAAAAAACAPUAzMzMzM7M7QCMiIiIiIjpAVVVVVVVVOUDNzMzMzEw3QBERERERETZA7+7u7u7uNEBVVVVVVdUzQGdmZmZm5jJAAAAAAAAAMkC8u7u7uzsxQAAAAAAAgDBA\",\"dtype\":\"float64\",\"shape\":[27]}},\"selected\":{\"id\":\"3115\",\"type\":\"Selection\"},\"selection_policy\":{\"id\":\"3116\",\"type\":\"UnionRenderers\"}},\"id\":\"3103\",\"type\":\"ColumnDataSource\"},{\"attributes\":{},\"id\":\"3113\",\"type\":\"Selection\"},{\"attributes\":{\"plot\":{\"id\":\"3076\",\"subtype\":\"Figure\",\"type\":\"Plot\"},\"ticker\":{\"id\":\"3087\",\"type\":\"CategoricalTicker\"}},\"id\":\"3089\",\"type\":\"Grid\"},{\"attributes\":{\"source\":{\"id\":\"3103\",\"type\":\"ColumnDataSource\"}},\"id\":\"3107\",\"type\":\"CDSView\"},{\"attributes\":{\"data_source\":{\"id\":\"3103\",\"type\":\"ColumnDataSource\"},\"glyph\":{\"id\":\"3104\",\"type\":\"Line\"},\"hover_glyph\":null,\"muted_glyph\":null,\"nonselection_glyph\":{\"id\":\"3105\",\"type\":\"Line\"},\"selection_glyph\":null,\"view\":{\"id\":\"3107\",\"type\":\"CDSView\"}},\"id\":\"3106\",\"type\":\"GlyphRenderer\"},{\"attributes\":{},\"id\":\"3082\",\"type\":\"CategoricalScale\"},{\"attributes\":{},\"id\":\"3087\",\"type\":\"CategoricalTicker\"},{\"attributes\":{\"line_color\":\"#1f77b4\",\"x\":{\"field\":\"x\"},\"y\":{\"field\":\"y\"}},\"id\":\"3104\",\"type\":\"Line\"},{\"attributes\":{\"active_drag\":\"auto\",\"active_inspect\":\"auto\",\"active_multi\":null,\"active_scroll\":\"auto\",\"active_tap\":\"auto\",\"tools\":[{\"id\":\"3101\",\"type\":\"HoverTool\"}]},\"id\":\"3095\",\"type\":\"Toolbar\"},{\"attributes\":{},\"id\":\"3091\",\"type\":\"BasicTicker\"},{\"attributes\":{},\"id\":\"3116\",\"type\":\"UnionRenderers\"},{\"attributes\":{\"dimension\":1,\"plot\":{\"id\":\"3076\",\"subtype\":\"Figure\",\"type\":\"Plot\"},\"ticker\":{\"id\":\"3091\",\"type\":\"BasicTicker\"}},\"id\":\"3094\",\"type\":\"Grid\"},{\"attributes\":{},\"id\":\"3115\",\"type\":\"Selection\"},{\"attributes\":{},\"id\":\"3111\",\"type\":\"CategoricalTickFormatter\"},{\"attributes\":{},\"id\":\"3114\",\"type\":\"UnionRenderers\"},{\"attributes\":{},\"id\":\"3109\",\"type\":\"BasicTickFormatter\"},{\"attributes\":{},\"id\":\"3084\",\"type\":\"LinearScale\"}],\"root_ids\":[\"3076\"]},\"title\":\"Bokeh Application\",\"version\":\"1.0.3\"}};\n",
       "  var render_items = [{\"docid\":\"44e72a34-b8f7-46ed-887f-76e0dd3e9872\",\"roots\":{\"3076\":\"b74ce574-e635-45d6-a383-d561fe570083\"}}];\n",
       "  root.Bokeh.embed.embed_items_notebook(docs_json, render_items);\n",
       "\n",
       "  }\n",
       "  if (root.Bokeh !== undefined) {\n",
       "    embed_document(root);\n",
       "  } else {\n",
       "    var attempts = 0;\n",
       "    var timer = setInterval(function(root) {\n",
       "      if (root.Bokeh !== undefined) {\n",
       "        embed_document(root);\n",
       "        clearInterval(timer);\n",
       "      }\n",
       "      attempts++;\n",
       "      if (attempts > 100) {\n",
       "        console.log(\"Bokeh: ERROR: Unable to run BokehJS code because BokehJS library is missing\");\n",
       "        clearInterval(timer);\n",
       "      }\n",
       "    }, 10, root)\n",
       "  }\n",
       "})(window);"
      ],
      "application/vnd.bokehjs_exec.v0+json": ""
     },
     "metadata": {
      "application/vnd.bokehjs_exec.v0+json": {
       "id": "3076"
      }
     },
     "output_type": "display_data"
    },
    {
     "data": {
      "text/html": [
       "\n",
       "\n",
       "\n",
       "\n",
       "\n",
       "\n",
       "  <div class=\"bk-root\" id=\"dbbce948-e6a6-4e1d-a3dc-d0f1db251538\" data-root-id=\"3236\"></div>\n"
      ]
     },
     "metadata": {},
     "output_type": "display_data"
    },
    {
     "data": {
      "application/javascript": [
       "(function(root) {\n",
       "  function embed_document(root) {\n",
       "    \n",
       "  var docs_json = {\"41556ea9-872e-468b-bcfc-dccbdc5c3ee0\":{\"roots\":{\"references\":[{\"attributes\":{\"below\":[{\"id\":\"3246\",\"type\":\"CategoricalAxis\"}],\"left\":[{\"id\":\"3250\",\"type\":\"LinearAxis\"}],\"plot_height\":550,\"renderers\":[{\"id\":\"3246\",\"type\":\"CategoricalAxis\"},{\"id\":\"3249\",\"type\":\"Grid\"},{\"id\":\"3250\",\"type\":\"LinearAxis\"},{\"id\":\"3254\",\"type\":\"Grid\"},{\"id\":\"3259\",\"type\":\"GlyphRenderer\"},{\"id\":\"3266\",\"type\":\"GlyphRenderer\"}],\"title\":{\"id\":\"3235\",\"type\":\"Title\"},\"toolbar\":{\"id\":\"3255\",\"type\":\"Toolbar\"},\"toolbar_location\":null,\"x_range\":{\"id\":\"3238\",\"type\":\"FactorRange\"},\"x_scale\":{\"id\":\"3242\",\"type\":\"CategoricalScale\"},\"y_range\":{\"id\":\"3240\",\"type\":\"DataRange1d\"},\"y_scale\":{\"id\":\"3244\",\"type\":\"LinearScale\"}},\"id\":\"3236\",\"subtype\":\"Figure\",\"type\":\"Plot\"},{\"attributes\":{\"line_alpha\":0.1,\"line_color\":\"#1f77b4\",\"x\":{\"field\":\"x\"},\"y\":{\"field\":\"y\"}},\"id\":\"3265\",\"type\":\"Line\"},{\"attributes\":{\"callback\":null,\"data\":{\"x\":[\"1990.5\",\"1991.5\",\"1992.5\",\"1993.5\",\"1994.5\",\"1995.5\",\"1996.5\",\"1997.5\",\"1998.5\",\"1999.5\",\"2000.5\",\"2001.5\",\"2002.5\",\"2003.5\",\"2004.5\",\"2005.5\",\"2006.5\",\"2007.5\",\"2008.5\",\"2009.5\",\"2010.5\",\"2011.5\",\"2012.5\",\"2013.5\",\"2014.5\",\"2015.5\",\"2016.5\"],\"y\":{\"__ndarray__\":\"IyIiIiJiR0Dv7u7u7i5HQGdmZmZmJkdAIyIiIiIiR0AzMzMzM/NGQM3MzMzMjEZAq6qqqqrqRUAiIiIiIiJFQLy7u7u7O0RAAAAAAABAQ0AzMzMzMzNCQGZmZmZmJkFAmpmZmZkZQEC8u7u7uzs+QGdmZmZmZjxAq6qqqqqqOkCZmZmZmRk5QCMiIiIiojdAzczMzMxMNkARERERERE1QN7d3d3d3TNA3t3d3d3dMkDv7u7u7u4xQImIiIiICDFAMzMzMzMzMEAAAAAAAAAvQIiIiIiIiC1A\",\"dtype\":\"float64\",\"shape\":[27]}},\"selected\":{\"id\":\"3284\",\"type\":\"Selection\"},\"selection_policy\":{\"id\":\"3285\",\"type\":\"UnionRenderers\"}},\"id\":\"3263\",\"type\":\"ColumnDataSource\"},{\"attributes\":{\"axis_label\":\"Number of children\",\"formatter\":{\"id\":\"3278\",\"type\":\"BasicTickFormatter\"},\"plot\":{\"id\":\"3236\",\"subtype\":\"Figure\",\"type\":\"Plot\"},\"ticker\":{\"id\":\"3251\",\"type\":\"BasicTicker\"}},\"id\":\"3250\",\"type\":\"LinearAxis\"},{\"attributes\":{},\"id\":\"3244\",\"type\":\"LinearScale\"},{\"attributes\":{\"plot\":null,\"text\":\"Eastern Europe and Central Asia\"},\"id\":\"3235\",\"type\":\"Title\"},{\"attributes\":{\"data_source\":{\"id\":\"3263\",\"type\":\"ColumnDataSource\"},\"glyph\":{\"id\":\"3264\",\"type\":\"Line\"},\"hover_glyph\":null,\"muted_glyph\":null,\"nonselection_glyph\":{\"id\":\"3265\",\"type\":\"Line\"},\"selection_glyph\":null,\"view\":{\"id\":\"3267\",\"type\":\"CDSView\"}},\"id\":\"3266\",\"type\":\"GlyphRenderer\"},{\"attributes\":{},\"id\":\"3282\",\"type\":\"Selection\"},{\"attributes\":{\"source\":{\"id\":\"3256\",\"type\":\"ColumnDataSource\"}},\"id\":\"3260\",\"type\":\"CDSView\"},{\"attributes\":{\"callback\":null},\"id\":\"3261\",\"type\":\"HoverTool\"},{\"attributes\":{},\"id\":\"3247\",\"type\":\"CategoricalTicker\"},{\"attributes\":{\"active_drag\":\"auto\",\"active_inspect\":\"auto\",\"active_multi\":null,\"active_scroll\":\"auto\",\"active_tap\":\"auto\",\"tools\":[{\"id\":\"3261\",\"type\":\"HoverTool\"}]},\"id\":\"3255\",\"type\":\"Toolbar\"},{\"attributes\":{},\"id\":\"3280\",\"type\":\"CategoricalTickFormatter\"},{\"attributes\":{},\"id\":\"3278\",\"type\":\"BasicTickFormatter\"},{\"attributes\":{\"fill_alpha\":{\"value\":0.1},\"fill_color\":{\"value\":\"#1f77b4\"},\"line_alpha\":{\"value\":0.1},\"line_color\":{\"value\":\"#1f77b4\"},\"x\":{\"field\":\"x\"},\"y\":{\"field\":\"y\"}},\"id\":\"3258\",\"type\":\"Circle\"},{\"attributes\":{\"dimension\":1,\"plot\":{\"id\":\"3236\",\"subtype\":\"Figure\",\"type\":\"Plot\"},\"ticker\":{\"id\":\"3251\",\"type\":\"BasicTicker\"}},\"id\":\"3254\",\"type\":\"Grid\"},{\"attributes\":{\"plot\":{\"id\":\"3236\",\"subtype\":\"Figure\",\"type\":\"Plot\"},\"ticker\":{\"id\":\"3247\",\"type\":\"CategoricalTicker\"}},\"id\":\"3249\",\"type\":\"Grid\"},{\"attributes\":{\"callback\":null,\"data\":{\"x\":[\"1990.5\",\"1991.5\",\"1992.5\",\"1993.5\",\"1994.5\",\"1995.5\",\"1996.5\",\"1997.5\",\"1998.5\",\"1999.5\",\"2000.5\",\"2001.5\",\"2002.5\",\"2003.5\",\"2004.5\",\"2005.5\",\"2006.5\",\"2007.5\",\"2008.5\",\"2009.5\",\"2010.5\",\"2011.5\",\"2012.5\",\"2013.5\",\"2014.5\",\"2015.5\",\"2016.5\"],\"y\":{\"__ndarray__\":\"IyIiIiJiR0Dv7u7u7i5HQGdmZmZmJkdAIyIiIiIiR0AzMzMzM/NGQM3MzMzMjEZAq6qqqqrqRUAiIiIiIiJFQLy7u7u7O0RAAAAAAABAQ0AzMzMzMzNCQGZmZmZmJkFAmpmZmZkZQEC8u7u7uzs+QGdmZmZmZjxAq6qqqqqqOkCZmZmZmRk5QCMiIiIiojdAzczMzMxMNkARERERERE1QN7d3d3d3TNA3t3d3d3dMkDv7u7u7u4xQImIiIiICDFAMzMzMzMzMEAAAAAAAAAvQIiIiIiIiC1A\",\"dtype\":\"float64\",\"shape\":[27]}},\"selected\":{\"id\":\"3282\",\"type\":\"Selection\"},\"selection_policy\":{\"id\":\"3283\",\"type\":\"UnionRenderers\"}},\"id\":\"3256\",\"type\":\"ColumnDataSource\"},{\"attributes\":{\"data_source\":{\"id\":\"3256\",\"type\":\"ColumnDataSource\"},\"glyph\":{\"id\":\"3257\",\"type\":\"Circle\"},\"hover_glyph\":null,\"muted_glyph\":null,\"nonselection_glyph\":{\"id\":\"3258\",\"type\":\"Circle\"},\"selection_glyph\":null,\"view\":{\"id\":\"3260\",\"type\":\"CDSView\"}},\"id\":\"3259\",\"type\":\"GlyphRenderer\"},{\"attributes\":{\"source\":{\"id\":\"3263\",\"type\":\"ColumnDataSource\"}},\"id\":\"3267\",\"type\":\"CDSView\"},{\"attributes\":{},\"id\":\"3251\",\"type\":\"BasicTicker\"},{\"attributes\":{\"line_color\":\"#1f77b4\",\"x\":{\"field\":\"x\"},\"y\":{\"field\":\"y\"}},\"id\":\"3264\",\"type\":\"Line\"},{\"attributes\":{},\"id\":\"3242\",\"type\":\"CategoricalScale\"},{\"attributes\":{\"callback\":null,\"factors\":[\"1990.5\",\"1991.5\",\"1992.5\",\"1993.5\",\"1994.5\",\"1995.5\",\"1996.5\",\"1997.5\",\"1998.5\",\"1999.5\",\"2000.5\",\"2001.5\",\"2002.5\",\"2003.5\",\"2004.5\",\"2005.5\",\"2006.5\",\"2007.5\",\"2008.5\",\"2009.5\",\"2010.5\",\"2011.5\",\"2012.5\",\"2013.5\",\"2014.5\",\"2015.5\",\"2016.5\"]},\"id\":\"3238\",\"type\":\"FactorRange\"},{\"attributes\":{},\"id\":\"3283\",\"type\":\"UnionRenderers\"},{\"attributes\":{},\"id\":\"3284\",\"type\":\"Selection\"},{\"attributes\":{},\"id\":\"3285\",\"type\":\"UnionRenderers\"},{\"attributes\":{\"fill_color\":{\"value\":\"#D9371B\"},\"line_color\":{\"value\":\"#1f77b4\"},\"x\":{\"field\":\"x\"},\"y\":{\"field\":\"y\"}},\"id\":\"3257\",\"type\":\"Circle\"},{\"attributes\":{\"callback\":null,\"start\":0},\"id\":\"3240\",\"type\":\"DataRange1d\"},{\"attributes\":{\"axis_label\":\"Year\",\"formatter\":{\"id\":\"3280\",\"type\":\"CategoricalTickFormatter\"},\"major_label_orientation\":1.2,\"plot\":{\"id\":\"3236\",\"subtype\":\"Figure\",\"type\":\"Plot\"},\"ticker\":{\"id\":\"3247\",\"type\":\"CategoricalTicker\"}},\"id\":\"3246\",\"type\":\"CategoricalAxis\"}],\"root_ids\":[\"3236\"]},\"title\":\"Bokeh Application\",\"version\":\"1.0.3\"}};\n",
       "  var render_items = [{\"docid\":\"41556ea9-872e-468b-bcfc-dccbdc5c3ee0\",\"roots\":{\"3236\":\"dbbce948-e6a6-4e1d-a3dc-d0f1db251538\"}}];\n",
       "  root.Bokeh.embed.embed_items_notebook(docs_json, render_items);\n",
       "\n",
       "  }\n",
       "  if (root.Bokeh !== undefined) {\n",
       "    embed_document(root);\n",
       "  } else {\n",
       "    var attempts = 0;\n",
       "    var timer = setInterval(function(root) {\n",
       "      if (root.Bokeh !== undefined) {\n",
       "        embed_document(root);\n",
       "        clearInterval(timer);\n",
       "      }\n",
       "      attempts++;\n",
       "      if (attempts > 100) {\n",
       "        console.log(\"Bokeh: ERROR: Unable to run BokehJS code because BokehJS library is missing\");\n",
       "        clearInterval(timer);\n",
       "      }\n",
       "    }, 10, root)\n",
       "  }\n",
       "})(window);"
      ],
      "application/vnd.bokehjs_exec.v0+json": ""
     },
     "metadata": {
      "application/vnd.bokehjs_exec.v0+json": {
       "id": "3236"
      }
     },
     "output_type": "display_data"
    },
    {
     "data": {
      "text/html": [
       "\n",
       "\n",
       "\n",
       "\n",
       "\n",
       "\n",
       "  <div class=\"bk-root\" id=\"dfa48f62-094f-4aa9-84ad-58a97bc7f9ee\" data-root-id=\"3423\"></div>\n"
      ]
     },
     "metadata": {},
     "output_type": "display_data"
    },
    {
     "data": {
      "application/javascript": [
       "(function(root) {\n",
       "  function embed_document(root) {\n",
       "    \n",
       "  var docs_json = {\"353993dd-33a0-4110-9309-b886eb663477\":{\"roots\":{\"references\":[{\"attributes\":{\"below\":[{\"id\":\"3433\",\"type\":\"CategoricalAxis\"}],\"left\":[{\"id\":\"3437\",\"type\":\"LinearAxis\"}],\"plot_height\":550,\"renderers\":[{\"id\":\"3433\",\"type\":\"CategoricalAxis\"},{\"id\":\"3436\",\"type\":\"Grid\"},{\"id\":\"3437\",\"type\":\"LinearAxis\"},{\"id\":\"3441\",\"type\":\"Grid\"},{\"id\":\"3446\",\"type\":\"GlyphRenderer\"},{\"id\":\"3453\",\"type\":\"GlyphRenderer\"}],\"title\":{\"id\":\"3422\",\"type\":\"Title\"},\"toolbar\":{\"id\":\"3442\",\"type\":\"Toolbar\"},\"toolbar_location\":null,\"x_range\":{\"id\":\"3425\",\"type\":\"FactorRange\"},\"x_scale\":{\"id\":\"3429\",\"type\":\"CategoricalScale\"},\"y_range\":{\"id\":\"3427\",\"type\":\"DataRange1d\"},\"y_scale\":{\"id\":\"3431\",\"type\":\"LinearScale\"}},\"id\":\"3423\",\"subtype\":\"Figure\",\"type\":\"Plot\"},{\"attributes\":{\"plot\":null,\"text\":\"Eastern and Southern Africa\"},\"id\":\"3422\",\"type\":\"Title\"},{\"attributes\":{\"line_color\":\"#1f77b4\",\"x\":{\"field\":\"x\"},\"y\":{\"field\":\"y\"}},\"id\":\"3451\",\"type\":\"Line\"},{\"attributes\":{},\"id\":\"3429\",\"type\":\"CategoricalScale\"},{\"attributes\":{\"callback\":null,\"data\":{\"x\":[\"1990.5\",\"1991.5\",\"1992.5\",\"1993.5\",\"1994.5\",\"1995.5\",\"1996.5\",\"1997.5\",\"1998.5\",\"1999.5\",\"2000.5\",\"2001.5\",\"2002.5\",\"2003.5\",\"2004.5\",\"2005.5\",\"2006.5\",\"2007.5\",\"2008.5\",\"2009.5\",\"2010.5\",\"2011.5\",\"2012.5\",\"2013.5\",\"2014.5\",\"2015.5\",\"2016.5\"],\"y\":{\"__ndarray__\":\"iIiIiIiIZEAREREREVFkQHd3d3d3F2RARURERETkY0Dv7u7u7u5jQKuqqqqqimNAIyIiIiISY0CZmZmZmcliQLu7u7u7a2JAVVVVVVXVYUC8u7u7uzthQLy7u7u7i2BAAAAAAACgX0C8u7u7uxteQHh3d3d3l1xAvLu7u7sbW0AzMzMzM7NZQHh3d3d3V1hAzczMzMwMV0Dd3d3d3d1VQFVVVVVVtVRARURERESkU0CIiIiIiKhSQERERERExFFAMzMzMzPzUEDe3d3d3T1QQEVERERERE9A\",\"dtype\":\"float64\",\"shape\":[27]}},\"selected\":{\"id\":\"3480\",\"type\":\"Selection\"},\"selection_policy\":{\"id\":\"3481\",\"type\":\"UnionRenderers\"}},\"id\":\"3450\",\"type\":\"ColumnDataSource\"},{\"attributes\":{\"data_source\":{\"id\":\"3443\",\"type\":\"ColumnDataSource\"},\"glyph\":{\"id\":\"3444\",\"type\":\"Circle\"},\"hover_glyph\":null,\"muted_glyph\":null,\"nonselection_glyph\":{\"id\":\"3445\",\"type\":\"Circle\"},\"selection_glyph\":null,\"view\":{\"id\":\"3447\",\"type\":\"CDSView\"}},\"id\":\"3446\",\"type\":\"GlyphRenderer\"},{\"attributes\":{\"line_alpha\":0.1,\"line_color\":\"#1f77b4\",\"x\":{\"field\":\"x\"},\"y\":{\"field\":\"y\"}},\"id\":\"3452\",\"type\":\"Line\"},{\"attributes\":{},\"id\":\"3434\",\"type\":\"CategoricalTicker\"},{\"attributes\":{},\"id\":\"3476\",\"type\":\"CategoricalTickFormatter\"},{\"attributes\":{\"axis_label\":\"Year\",\"formatter\":{\"id\":\"3476\",\"type\":\"CategoricalTickFormatter\"},\"major_label_orientation\":1.2,\"plot\":{\"id\":\"3423\",\"subtype\":\"Figure\",\"type\":\"Plot\"},\"ticker\":{\"id\":\"3434\",\"type\":\"CategoricalTicker\"}},\"id\":\"3433\",\"type\":\"CategoricalAxis\"},{\"attributes\":{},\"id\":\"3478\",\"type\":\"Selection\"},{\"attributes\":{},\"id\":\"3474\",\"type\":\"BasicTickFormatter\"},{\"attributes\":{\"callback\":null,\"data\":{\"x\":[\"1990.5\",\"1991.5\",\"1992.5\",\"1993.5\",\"1994.5\",\"1995.5\",\"1996.5\",\"1997.5\",\"1998.5\",\"1999.5\",\"2000.5\",\"2001.5\",\"2002.5\",\"2003.5\",\"2004.5\",\"2005.5\",\"2006.5\",\"2007.5\",\"2008.5\",\"2009.5\",\"2010.5\",\"2011.5\",\"2012.5\",\"2013.5\",\"2014.5\",\"2015.5\",\"2016.5\"],\"y\":{\"__ndarray__\":\"iIiIiIiIZEAREREREVFkQHd3d3d3F2RARURERETkY0Dv7u7u7u5jQKuqqqqqimNAIyIiIiISY0CZmZmZmcliQLu7u7u7a2JAVVVVVVXVYUC8u7u7uzthQLy7u7u7i2BAAAAAAACgX0C8u7u7uxteQHh3d3d3l1xAvLu7u7sbW0AzMzMzM7NZQHh3d3d3V1hAzczMzMwMV0Dd3d3d3d1VQFVVVVVVtVRARURERESkU0CIiIiIiKhSQERERERExFFAMzMzMzPzUEDe3d3d3T1QQEVERERERE9A\",\"dtype\":\"float64\",\"shape\":[27]}},\"selected\":{\"id\":\"3478\",\"type\":\"Selection\"},\"selection_policy\":{\"id\":\"3479\",\"type\":\"UnionRenderers\"}},\"id\":\"3443\",\"type\":\"ColumnDataSource\"},{\"attributes\":{\"plot\":{\"id\":\"3423\",\"subtype\":\"Figure\",\"type\":\"Plot\"},\"ticker\":{\"id\":\"3434\",\"type\":\"CategoricalTicker\"}},\"id\":\"3436\",\"type\":\"Grid\"},{\"attributes\":{\"fill_color\":{\"value\":\"#D9371B\"},\"line_color\":{\"value\":\"#1f77b4\"},\"x\":{\"field\":\"x\"},\"y\":{\"field\":\"y\"}},\"id\":\"3444\",\"type\":\"Circle\"},{\"attributes\":{},\"id\":\"3479\",\"type\":\"UnionRenderers\"},{\"attributes\":{\"callback\":null},\"id\":\"3448\",\"type\":\"HoverTool\"},{\"attributes\":{},\"id\":\"3431\",\"type\":\"LinearScale\"},{\"attributes\":{},\"id\":\"3480\",\"type\":\"Selection\"},{\"attributes\":{\"callback\":null,\"start\":0},\"id\":\"3427\",\"type\":\"DataRange1d\"},{\"attributes\":{\"callback\":null,\"factors\":[\"1990.5\",\"1991.5\",\"1992.5\",\"1993.5\",\"1994.5\",\"1995.5\",\"1996.5\",\"1997.5\",\"1998.5\",\"1999.5\",\"2000.5\",\"2001.5\",\"2002.5\",\"2003.5\",\"2004.5\",\"2005.5\",\"2006.5\",\"2007.5\",\"2008.5\",\"2009.5\",\"2010.5\",\"2011.5\",\"2012.5\",\"2013.5\",\"2014.5\",\"2015.5\",\"2016.5\"]},\"id\":\"3425\",\"type\":\"FactorRange\"},{\"attributes\":{\"source\":{\"id\":\"3443\",\"type\":\"ColumnDataSource\"}},\"id\":\"3447\",\"type\":\"CDSView\"},{\"attributes\":{\"source\":{\"id\":\"3450\",\"type\":\"ColumnDataSource\"}},\"id\":\"3454\",\"type\":\"CDSView\"},{\"attributes\":{\"data_source\":{\"id\":\"3450\",\"type\":\"ColumnDataSource\"},\"glyph\":{\"id\":\"3451\",\"type\":\"Line\"},\"hover_glyph\":null,\"muted_glyph\":null,\"nonselection_glyph\":{\"id\":\"3452\",\"type\":\"Line\"},\"selection_glyph\":null,\"view\":{\"id\":\"3454\",\"type\":\"CDSView\"}},\"id\":\"3453\",\"type\":\"GlyphRenderer\"},{\"attributes\":{},\"id\":\"3481\",\"type\":\"UnionRenderers\"},{\"attributes\":{\"dimension\":1,\"plot\":{\"id\":\"3423\",\"subtype\":\"Figure\",\"type\":\"Plot\"},\"ticker\":{\"id\":\"3438\",\"type\":\"BasicTicker\"}},\"id\":\"3441\",\"type\":\"Grid\"},{\"attributes\":{\"axis_label\":\"Number of children\",\"formatter\":{\"id\":\"3474\",\"type\":\"BasicTickFormatter\"},\"plot\":{\"id\":\"3423\",\"subtype\":\"Figure\",\"type\":\"Plot\"},\"ticker\":{\"id\":\"3438\",\"type\":\"BasicTicker\"}},\"id\":\"3437\",\"type\":\"LinearAxis\"},{\"attributes\":{\"active_drag\":\"auto\",\"active_inspect\":\"auto\",\"active_multi\":null,\"active_scroll\":\"auto\",\"active_tap\":\"auto\",\"tools\":[{\"id\":\"3448\",\"type\":\"HoverTool\"}]},\"id\":\"3442\",\"type\":\"Toolbar\"},{\"attributes\":{\"fill_alpha\":{\"value\":0.1},\"fill_color\":{\"value\":\"#1f77b4\"},\"line_alpha\":{\"value\":0.1},\"line_color\":{\"value\":\"#1f77b4\"},\"x\":{\"field\":\"x\"},\"y\":{\"field\":\"y\"}},\"id\":\"3445\",\"type\":\"Circle\"},{\"attributes\":{},\"id\":\"3438\",\"type\":\"BasicTicker\"}],\"root_ids\":[\"3423\"]},\"title\":\"Bokeh Application\",\"version\":\"1.0.3\"}};\n",
       "  var render_items = [{\"docid\":\"353993dd-33a0-4110-9309-b886eb663477\",\"roots\":{\"3423\":\"dfa48f62-094f-4aa9-84ad-58a97bc7f9ee\"}}];\n",
       "  root.Bokeh.embed.embed_items_notebook(docs_json, render_items);\n",
       "\n",
       "  }\n",
       "  if (root.Bokeh !== undefined) {\n",
       "    embed_document(root);\n",
       "  } else {\n",
       "    var attempts = 0;\n",
       "    var timer = setInterval(function(root) {\n",
       "      if (root.Bokeh !== undefined) {\n",
       "        embed_document(root);\n",
       "        clearInterval(timer);\n",
       "      }\n",
       "      attempts++;\n",
       "      if (attempts > 100) {\n",
       "        console.log(\"Bokeh: ERROR: Unable to run BokehJS code because BokehJS library is missing\");\n",
       "        clearInterval(timer);\n",
       "      }\n",
       "    }, 10, root)\n",
       "  }\n",
       "})(window);"
      ],
      "application/vnd.bokehjs_exec.v0+json": ""
     },
     "metadata": {
      "application/vnd.bokehjs_exec.v0+json": {
       "id": "3423"
      }
     },
     "output_type": "display_data"
    },
    {
     "data": {
      "text/html": [
       "\n",
       "\n",
       "\n",
       "\n",
       "\n",
       "\n",
       "  <div class=\"bk-root\" id=\"ca8bf353-7030-4fff-9e41-e2010d27d9e6\" data-root-id=\"3619\"></div>\n"
      ]
     },
     "metadata": {},
     "output_type": "display_data"
    },
    {
     "data": {
      "application/javascript": [
       "(function(root) {\n",
       "  function embed_document(root) {\n",
       "    \n",
       "  var docs_json = {\"b5537c92-4f7a-4f75-9033-6290a6c827cd\":{\"roots\":{\"references\":[{\"attributes\":{\"below\":[{\"id\":\"3629\",\"type\":\"CategoricalAxis\"}],\"left\":[{\"id\":\"3633\",\"type\":\"LinearAxis\"}],\"plot_height\":550,\"renderers\":[{\"id\":\"3629\",\"type\":\"CategoricalAxis\"},{\"id\":\"3632\",\"type\":\"Grid\"},{\"id\":\"3633\",\"type\":\"LinearAxis\"},{\"id\":\"3637\",\"type\":\"Grid\"},{\"id\":\"3642\",\"type\":\"GlyphRenderer\"},{\"id\":\"3649\",\"type\":\"GlyphRenderer\"}],\"title\":{\"id\":\"3618\",\"type\":\"Title\"},\"toolbar\":{\"id\":\"3638\",\"type\":\"Toolbar\"},\"toolbar_location\":null,\"x_range\":{\"id\":\"3621\",\"type\":\"FactorRange\"},\"x_scale\":{\"id\":\"3625\",\"type\":\"CategoricalScale\"},\"y_range\":{\"id\":\"3623\",\"type\":\"DataRange1d\"},\"y_scale\":{\"id\":\"3627\",\"type\":\"LinearScale\"}},\"id\":\"3619\",\"subtype\":\"Figure\",\"type\":\"Plot\"},{\"attributes\":{},\"id\":\"3625\",\"type\":\"CategoricalScale\"},{\"attributes\":{\"active_drag\":\"auto\",\"active_inspect\":\"auto\",\"active_multi\":null,\"active_scroll\":\"auto\",\"active_tap\":\"auto\",\"tools\":[{\"id\":\"3644\",\"type\":\"HoverTool\"}]},\"id\":\"3638\",\"type\":\"Toolbar\"},{\"attributes\":{\"axis_label\":\"Number of children\",\"formatter\":{\"id\":\"3679\",\"type\":\"BasicTickFormatter\"},\"plot\":{\"id\":\"3619\",\"subtype\":\"Figure\",\"type\":\"Plot\"},\"ticker\":{\"id\":\"3634\",\"type\":\"BasicTicker\"}},\"id\":\"3633\",\"type\":\"LinearAxis\"},{\"attributes\":{\"callback\":null,\"data\":{\"x\":[\"1990.5\",\"1991.5\",\"1992.5\",\"1993.5\",\"1994.5\",\"1995.5\",\"1996.5\",\"1997.5\",\"1998.5\",\"1999.5\",\"2000.5\",\"2001.5\",\"2002.5\",\"2003.5\",\"2004.5\",\"2005.5\",\"2006.5\",\"2007.5\",\"2008.5\",\"2009.5\",\"2010.5\",\"2011.5\",\"2012.5\",\"2013.5\",\"2014.5\",\"2015.5\",\"2016.5\"],\"y\":{\"__ndarray__\":\"AAAAAAAAP0BVVVVVVVU+QFVVVVVV1T1AVVVVVVVVPUAjIiIiIqI8QLu7u7u7uztAq6qqqqqqOkAQEREREZE5QFVVVVVVVThAmZmZmZkZN0BVVVVVVdU1QCIiIiIiojRAd3d3d3d3M0Df3d3d3V0yQN/d3d3dXTFAZ2ZmZmZmMEAjIiIiIiIvQIiIiIiIiC1AIyIiIiIiLEDw7u7u7u4qQKuqqqqqqilAiIiIiIiIKEB4d3d3d3cnQHh3d3d3dyZAiIiIiIiIJUCamZmZmZkkQLy7u7u7uyNA\",\"dtype\":\"float64\",\"shape\":[27]}},\"selected\":{\"id\":\"3685\",\"type\":\"Selection\"},\"selection_policy\":{\"id\":\"3686\",\"type\":\"UnionRenderers\"}},\"id\":\"3646\",\"type\":\"ColumnDataSource\"},{\"attributes\":{\"callback\":null,\"data\":{\"x\":[\"1990.5\",\"1991.5\",\"1992.5\",\"1993.5\",\"1994.5\",\"1995.5\",\"1996.5\",\"1997.5\",\"1998.5\",\"1999.5\",\"2000.5\",\"2001.5\",\"2002.5\",\"2003.5\",\"2004.5\",\"2005.5\",\"2006.5\",\"2007.5\",\"2008.5\",\"2009.5\",\"2010.5\",\"2011.5\",\"2012.5\",\"2013.5\",\"2014.5\",\"2015.5\",\"2016.5\"],\"y\":{\"__ndarray__\":\"AAAAAAAAP0BVVVVVVVU+QFVVVVVV1T1AVVVVVVVVPUAjIiIiIqI8QLu7u7u7uztAq6qqqqqqOkAQEREREZE5QFVVVVVVVThAmZmZmZkZN0BVVVVVVdU1QCIiIiIiojRAd3d3d3d3M0Df3d3d3V0yQN/d3d3dXTFAZ2ZmZmZmMEAjIiIiIiIvQIiIiIiIiC1AIyIiIiIiLEDw7u7u7u4qQKuqqqqqqilAiIiIiIiIKEB4d3d3d3cnQHh3d3d3dyZAiIiIiIiIJUCamZmZmZkkQLy7u7u7uyNA\",\"dtype\":\"float64\",\"shape\":[27]}},\"selected\":{\"id\":\"3683\",\"type\":\"Selection\"},\"selection_policy\":{\"id\":\"3684\",\"type\":\"UnionRenderers\"}},\"id\":\"3639\",\"type\":\"ColumnDataSource\"},{\"attributes\":{},\"id\":\"3685\",\"type\":\"Selection\"},{\"attributes\":{\"source\":{\"id\":\"3639\",\"type\":\"ColumnDataSource\"}},\"id\":\"3643\",\"type\":\"CDSView\"},{\"attributes\":{\"plot\":{\"id\":\"3619\",\"subtype\":\"Figure\",\"type\":\"Plot\"},\"ticker\":{\"id\":\"3630\",\"type\":\"CategoricalTicker\"}},\"id\":\"3632\",\"type\":\"Grid\"},{\"attributes\":{},\"id\":\"3684\",\"type\":\"UnionRenderers\"},{\"attributes\":{},\"id\":\"3681\",\"type\":\"CategoricalTickFormatter\"},{\"attributes\":{\"data_source\":{\"id\":\"3646\",\"type\":\"ColumnDataSource\"},\"glyph\":{\"id\":\"3647\",\"type\":\"Line\"},\"hover_glyph\":null,\"muted_glyph\":null,\"nonselection_glyph\":{\"id\":\"3648\",\"type\":\"Line\"},\"selection_glyph\":null,\"view\":{\"id\":\"3650\",\"type\":\"CDSView\"}},\"id\":\"3649\",\"type\":\"GlyphRenderer\"},{\"attributes\":{\"dimension\":1,\"plot\":{\"id\":\"3619\",\"subtype\":\"Figure\",\"type\":\"Plot\"},\"ticker\":{\"id\":\"3634\",\"type\":\"BasicTicker\"}},\"id\":\"3637\",\"type\":\"Grid\"},{\"attributes\":{},\"id\":\"3634\",\"type\":\"BasicTicker\"},{\"attributes\":{},\"id\":\"3627\",\"type\":\"LinearScale\"},{\"attributes\":{\"axis_label\":\"Year\",\"formatter\":{\"id\":\"3681\",\"type\":\"CategoricalTickFormatter\"},\"major_label_orientation\":1.2,\"plot\":{\"id\":\"3619\",\"subtype\":\"Figure\",\"type\":\"Plot\"},\"ticker\":{\"id\":\"3630\",\"type\":\"CategoricalTicker\"}},\"id\":\"3629\",\"type\":\"CategoricalAxis\"},{\"attributes\":{\"fill_alpha\":{\"value\":0.1},\"fill_color\":{\"value\":\"#1f77b4\"},\"line_alpha\":{\"value\":0.1},\"line_color\":{\"value\":\"#1f77b4\"},\"x\":{\"field\":\"x\"},\"y\":{\"field\":\"y\"}},\"id\":\"3641\",\"type\":\"Circle\"},{\"attributes\":{},\"id\":\"3683\",\"type\":\"Selection\"},{\"attributes\":{\"plot\":null,\"text\":\"Europe and Central Asia\"},\"id\":\"3618\",\"type\":\"Title\"},{\"attributes\":{\"callback\":null,\"start\":0},\"id\":\"3623\",\"type\":\"DataRange1d\"},{\"attributes\":{},\"id\":\"3679\",\"type\":\"BasicTickFormatter\"},{\"attributes\":{\"callback\":null,\"factors\":[\"1990.5\",\"1991.5\",\"1992.5\",\"1993.5\",\"1994.5\",\"1995.5\",\"1996.5\",\"1997.5\",\"1998.5\",\"1999.5\",\"2000.5\",\"2001.5\",\"2002.5\",\"2003.5\",\"2004.5\",\"2005.5\",\"2006.5\",\"2007.5\",\"2008.5\",\"2009.5\",\"2010.5\",\"2011.5\",\"2012.5\",\"2013.5\",\"2014.5\",\"2015.5\",\"2016.5\"]},\"id\":\"3621\",\"type\":\"FactorRange\"},{\"attributes\":{\"data_source\":{\"id\":\"3639\",\"type\":\"ColumnDataSource\"},\"glyph\":{\"id\":\"3640\",\"type\":\"Circle\"},\"hover_glyph\":null,\"muted_glyph\":null,\"nonselection_glyph\":{\"id\":\"3641\",\"type\":\"Circle\"},\"selection_glyph\":null,\"view\":{\"id\":\"3643\",\"type\":\"CDSView\"}},\"id\":\"3642\",\"type\":\"GlyphRenderer\"},{\"attributes\":{\"fill_color\":{\"value\":\"#D9371B\"},\"line_color\":{\"value\":\"#1f77b4\"},\"x\":{\"field\":\"x\"},\"y\":{\"field\":\"y\"}},\"id\":\"3640\",\"type\":\"Circle\"},{\"attributes\":{\"line_color\":\"#1f77b4\",\"x\":{\"field\":\"x\"},\"y\":{\"field\":\"y\"}},\"id\":\"3647\",\"type\":\"Line\"},{\"attributes\":{\"callback\":null},\"id\":\"3644\",\"type\":\"HoverTool\"},{\"attributes\":{},\"id\":\"3686\",\"type\":\"UnionRenderers\"},{\"attributes\":{\"source\":{\"id\":\"3646\",\"type\":\"ColumnDataSource\"}},\"id\":\"3650\",\"type\":\"CDSView\"},{\"attributes\":{\"line_alpha\":0.1,\"line_color\":\"#1f77b4\",\"x\":{\"field\":\"x\"},\"y\":{\"field\":\"y\"}},\"id\":\"3648\",\"type\":\"Line\"},{\"attributes\":{},\"id\":\"3630\",\"type\":\"CategoricalTicker\"}],\"root_ids\":[\"3619\"]},\"title\":\"Bokeh Application\",\"version\":\"1.0.3\"}};\n",
       "  var render_items = [{\"docid\":\"b5537c92-4f7a-4f75-9033-6290a6c827cd\",\"roots\":{\"3619\":\"ca8bf353-7030-4fff-9e41-e2010d27d9e6\"}}];\n",
       "  root.Bokeh.embed.embed_items_notebook(docs_json, render_items);\n",
       "\n",
       "  }\n",
       "  if (root.Bokeh !== undefined) {\n",
       "    embed_document(root);\n",
       "  } else {\n",
       "    var attempts = 0;\n",
       "    var timer = setInterval(function(root) {\n",
       "      if (root.Bokeh !== undefined) {\n",
       "        embed_document(root);\n",
       "        clearInterval(timer);\n",
       "      }\n",
       "      attempts++;\n",
       "      if (attempts > 100) {\n",
       "        console.log(\"Bokeh: ERROR: Unable to run BokehJS code because BokehJS library is missing\");\n",
       "        clearInterval(timer);\n",
       "      }\n",
       "    }, 10, root)\n",
       "  }\n",
       "})(window);"
      ],
      "application/vnd.bokehjs_exec.v0+json": ""
     },
     "metadata": {
      "application/vnd.bokehjs_exec.v0+json": {
       "id": "3619"
      }
     },
     "output_type": "display_data"
    },
    {
     "data": {
      "text/html": [
       "\n",
       "\n",
       "\n",
       "\n",
       "\n",
       "\n",
       "  <div class=\"bk-root\" id=\"2dc332dc-7b8e-4118-847c-4d04c13dd5fb\" data-root-id=\"3824\"></div>\n"
      ]
     },
     "metadata": {},
     "output_type": "display_data"
    },
    {
     "data": {
      "application/javascript": [
       "(function(root) {\n",
       "  function embed_document(root) {\n",
       "    \n",
       "  var docs_json = {\"4d586eb4-e762-4697-aa22-734daa85cfc7\":{\"roots\":{\"references\":[{\"attributes\":{\"below\":[{\"id\":\"3834\",\"type\":\"CategoricalAxis\"}],\"left\":[{\"id\":\"3838\",\"type\":\"LinearAxis\"}],\"plot_height\":550,\"renderers\":[{\"id\":\"3834\",\"type\":\"CategoricalAxis\"},{\"id\":\"3837\",\"type\":\"Grid\"},{\"id\":\"3838\",\"type\":\"LinearAxis\"},{\"id\":\"3842\",\"type\":\"Grid\"},{\"id\":\"3847\",\"type\":\"GlyphRenderer\"},{\"id\":\"3854\",\"type\":\"GlyphRenderer\"}],\"title\":{\"id\":\"3823\",\"type\":\"Title\"},\"toolbar\":{\"id\":\"3843\",\"type\":\"Toolbar\"},\"toolbar_location\":null,\"x_range\":{\"id\":\"3826\",\"type\":\"FactorRange\"},\"x_scale\":{\"id\":\"3830\",\"type\":\"CategoricalScale\"},\"y_range\":{\"id\":\"3828\",\"type\":\"DataRange1d\"},\"y_scale\":{\"id\":\"3832\",\"type\":\"LinearScale\"}},\"id\":\"3824\",\"subtype\":\"Figure\",\"type\":\"Plot\"},{\"attributes\":{\"dimension\":1,\"plot\":{\"id\":\"3824\",\"subtype\":\"Figure\",\"type\":\"Plot\"},\"ticker\":{\"id\":\"3839\",\"type\":\"BasicTicker\"}},\"id\":\"3842\",\"type\":\"Grid\"},{\"attributes\":{\"data_source\":{\"id\":\"3844\",\"type\":\"ColumnDataSource\"},\"glyph\":{\"id\":\"3845\",\"type\":\"Circle\"},\"hover_glyph\":null,\"muted_glyph\":null,\"nonselection_glyph\":{\"id\":\"3846\",\"type\":\"Circle\"},\"selection_glyph\":null,\"view\":{\"id\":\"3848\",\"type\":\"CDSView\"}},\"id\":\"3847\",\"type\":\"GlyphRenderer\"},{\"attributes\":{\"source\":{\"id\":\"3851\",\"type\":\"ColumnDataSource\"}},\"id\":\"3855\",\"type\":\"CDSView\"},{\"attributes\":{\"plot\":{\"id\":\"3824\",\"subtype\":\"Figure\",\"type\":\"Plot\"},\"ticker\":{\"id\":\"3835\",\"type\":\"CategoricalTicker\"}},\"id\":\"3837\",\"type\":\"Grid\"},{\"attributes\":{},\"id\":\"3893\",\"type\":\"BasicTickFormatter\"},{\"attributes\":{},\"id\":\"3895\",\"type\":\"CategoricalTickFormatter\"},{\"attributes\":{\"line_color\":\"#1f77b4\",\"x\":{\"field\":\"x\"},\"y\":{\"field\":\"y\"}},\"id\":\"3852\",\"type\":\"Line\"},{\"attributes\":{\"callback\":null,\"factors\":[\"1990.5\",\"1991.5\",\"1992.5\",\"1993.5\",\"1994.5\",\"1995.5\",\"1996.5\",\"1997.5\",\"1998.5\",\"1999.5\",\"2000.5\",\"2001.5\",\"2002.5\",\"2003.5\",\"2004.5\",\"2005.5\",\"2006.5\",\"2007.5\",\"2008.5\",\"2009.5\",\"2010.5\",\"2011.5\",\"2012.5\",\"2013.5\",\"2014.5\",\"2015.5\",\"2016.5\"]},\"id\":\"3826\",\"type\":\"FactorRange\"},{\"attributes\":{},\"id\":\"3897\",\"type\":\"Selection\"},{\"attributes\":{\"source\":{\"id\":\"3844\",\"type\":\"ColumnDataSource\"}},\"id\":\"3848\",\"type\":\"CDSView\"},{\"attributes\":{\"plot\":null,\"text\":\"Latin America and Caribbean\"},\"id\":\"3823\",\"type\":\"Title\"},{\"attributes\":{\"callback\":null,\"data\":{\"x\":[\"1990.5\",\"1991.5\",\"1992.5\",\"1993.5\",\"1994.5\",\"1995.5\",\"1996.5\",\"1997.5\",\"1998.5\",\"1999.5\",\"2000.5\",\"2001.5\",\"2002.5\",\"2003.5\",\"2004.5\",\"2005.5\",\"2006.5\",\"2007.5\",\"2008.5\",\"2009.5\",\"2010.5\",\"2011.5\",\"2012.5\",\"2013.5\",\"2014.5\",\"2015.5\",\"2016.5\"],\"y\":{\"__ndarray__\":\"q6qqqqqqS0AAAAAAAIBKQBERERERUUlAIyIiIiIiSEB4d3d3d/dGQBERERER0UVAd3d3d3e3REAjIiIiIqJDQBERERER0UJARERERETEQUC8u7u7u7tAQLu7u7u7uz9AMzMzMzMzPkC8u7u7u7s8QO/u7u7ubjtAMzMzMzMzOkARERERERE5QBEREREREThAIyIiIiIiN0BVVVVVVVU2QO/u7u7u7jhARERERETENEARERERERE0QGdmZmZmZjNARERERETEMkAzMzMzMzMyQKuqqqqqqjFA\",\"dtype\":\"float64\",\"shape\":[27]}},\"selected\":{\"id\":\"3897\",\"type\":\"Selection\"},\"selection_policy\":{\"id\":\"3898\",\"type\":\"UnionRenderers\"}},\"id\":\"3844\",\"type\":\"ColumnDataSource\"},{\"attributes\":{\"fill_color\":{\"value\":\"#D9371B\"},\"line_color\":{\"value\":\"#1f77b4\"},\"x\":{\"field\":\"x\"},\"y\":{\"field\":\"y\"}},\"id\":\"3845\",\"type\":\"Circle\"},{\"attributes\":{},\"id\":\"3898\",\"type\":\"UnionRenderers\"},{\"attributes\":{\"callback\":null,\"data\":{\"x\":[\"1990.5\",\"1991.5\",\"1992.5\",\"1993.5\",\"1994.5\",\"1995.5\",\"1996.5\",\"1997.5\",\"1998.5\",\"1999.5\",\"2000.5\",\"2001.5\",\"2002.5\",\"2003.5\",\"2004.5\",\"2005.5\",\"2006.5\",\"2007.5\",\"2008.5\",\"2009.5\",\"2010.5\",\"2011.5\",\"2012.5\",\"2013.5\",\"2014.5\",\"2015.5\",\"2016.5\"],\"y\":{\"__ndarray__\":\"q6qqqqqqS0AAAAAAAIBKQBERERERUUlAIyIiIiIiSEB4d3d3d/dGQBERERER0UVAd3d3d3e3REAjIiIiIqJDQBERERER0UJARERERETEQUC8u7u7u7tAQLu7u7u7uz9AMzMzMzMzPkC8u7u7u7s8QO/u7u7ubjtAMzMzMzMzOkARERERERE5QBEREREREThAIyIiIiIiN0BVVVVVVVU2QO/u7u7u7jhARERERETENEARERERERE0QGdmZmZmZjNARERERETEMkAzMzMzMzMyQKuqqqqqqjFA\",\"dtype\":\"float64\",\"shape\":[27]}},\"selected\":{\"id\":\"3899\",\"type\":\"Selection\"},\"selection_policy\":{\"id\":\"3900\",\"type\":\"UnionRenderers\"}},\"id\":\"3851\",\"type\":\"ColumnDataSource\"},{\"attributes\":{},\"id\":\"3899\",\"type\":\"Selection\"},{\"attributes\":{\"data_source\":{\"id\":\"3851\",\"type\":\"ColumnDataSource\"},\"glyph\":{\"id\":\"3852\",\"type\":\"Line\"},\"hover_glyph\":null,\"muted_glyph\":null,\"nonselection_glyph\":{\"id\":\"3853\",\"type\":\"Line\"},\"selection_glyph\":null,\"view\":{\"id\":\"3855\",\"type\":\"CDSView\"}},\"id\":\"3854\",\"type\":\"GlyphRenderer\"},{\"attributes\":{},\"id\":\"3839\",\"type\":\"BasicTicker\"},{\"attributes\":{\"active_drag\":\"auto\",\"active_inspect\":\"auto\",\"active_multi\":null,\"active_scroll\":\"auto\",\"active_tap\":\"auto\",\"tools\":[{\"id\":\"3849\",\"type\":\"HoverTool\"}]},\"id\":\"3843\",\"type\":\"Toolbar\"},{\"attributes\":{\"line_alpha\":0.1,\"line_color\":\"#1f77b4\",\"x\":{\"field\":\"x\"},\"y\":{\"field\":\"y\"}},\"id\":\"3853\",\"type\":\"Line\"},{\"attributes\":{},\"id\":\"3900\",\"type\":\"UnionRenderers\"},{\"attributes\":{\"callback\":null,\"start\":0},\"id\":\"3828\",\"type\":\"DataRange1d\"},{\"attributes\":{},\"id\":\"3835\",\"type\":\"CategoricalTicker\"},{\"attributes\":{\"axis_label\":\"Year\",\"formatter\":{\"id\":\"3895\",\"type\":\"CategoricalTickFormatter\"},\"major_label_orientation\":1.2,\"plot\":{\"id\":\"3824\",\"subtype\":\"Figure\",\"type\":\"Plot\"},\"ticker\":{\"id\":\"3835\",\"type\":\"CategoricalTicker\"}},\"id\":\"3834\",\"type\":\"CategoricalAxis\"},{\"attributes\":{},\"id\":\"3832\",\"type\":\"LinearScale\"},{\"attributes\":{},\"id\":\"3830\",\"type\":\"CategoricalScale\"},{\"attributes\":{\"callback\":null},\"id\":\"3849\",\"type\":\"HoverTool\"},{\"attributes\":{\"axis_label\":\"Number of children\",\"formatter\":{\"id\":\"3893\",\"type\":\"BasicTickFormatter\"},\"plot\":{\"id\":\"3824\",\"subtype\":\"Figure\",\"type\":\"Plot\"},\"ticker\":{\"id\":\"3839\",\"type\":\"BasicTicker\"}},\"id\":\"3838\",\"type\":\"LinearAxis\"},{\"attributes\":{\"fill_alpha\":{\"value\":0.1},\"fill_color\":{\"value\":\"#1f77b4\"},\"line_alpha\":{\"value\":0.1},\"line_color\":{\"value\":\"#1f77b4\"},\"x\":{\"field\":\"x\"},\"y\":{\"field\":\"y\"}},\"id\":\"3846\",\"type\":\"Circle\"}],\"root_ids\":[\"3824\"]},\"title\":\"Bokeh Application\",\"version\":\"1.0.3\"}};\n",
       "  var render_items = [{\"docid\":\"4d586eb4-e762-4697-aa22-734daa85cfc7\",\"roots\":{\"3824\":\"2dc332dc-7b8e-4118-847c-4d04c13dd5fb\"}}];\n",
       "  root.Bokeh.embed.embed_items_notebook(docs_json, render_items);\n",
       "\n",
       "  }\n",
       "  if (root.Bokeh !== undefined) {\n",
       "    embed_document(root);\n",
       "  } else {\n",
       "    var attempts = 0;\n",
       "    var timer = setInterval(function(root) {\n",
       "      if (root.Bokeh !== undefined) {\n",
       "        embed_document(root);\n",
       "        clearInterval(timer);\n",
       "      }\n",
       "      attempts++;\n",
       "      if (attempts > 100) {\n",
       "        console.log(\"Bokeh: ERROR: Unable to run BokehJS code because BokehJS library is missing\");\n",
       "        clearInterval(timer);\n",
       "      }\n",
       "    }, 10, root)\n",
       "  }\n",
       "})(window);"
      ],
      "application/vnd.bokehjs_exec.v0+json": ""
     },
     "metadata": {
      "application/vnd.bokehjs_exec.v0+json": {
       "id": "3824"
      }
     },
     "output_type": "display_data"
    },
    {
     "data": {
      "text/html": [
       "\n",
       "\n",
       "\n",
       "\n",
       "\n",
       "\n",
       "  <div class=\"bk-root\" id=\"c9a2730e-432c-4dbf-8af5-8187d1c4b725\" data-root-id=\"4038\"></div>\n"
      ]
     },
     "metadata": {},
     "output_type": "display_data"
    },
    {
     "data": {
      "application/javascript": [
       "(function(root) {\n",
       "  function embed_document(root) {\n",
       "    \n",
       "  var docs_json = {\"a953d3bc-fcbb-4888-9f22-4955e1aab480\":{\"roots\":{\"references\":[{\"attributes\":{\"below\":[{\"id\":\"4048\",\"type\":\"CategoricalAxis\"}],\"left\":[{\"id\":\"4052\",\"type\":\"LinearAxis\"}],\"plot_height\":550,\"renderers\":[{\"id\":\"4048\",\"type\":\"CategoricalAxis\"},{\"id\":\"4051\",\"type\":\"Grid\"},{\"id\":\"4052\",\"type\":\"LinearAxis\"},{\"id\":\"4056\",\"type\":\"Grid\"},{\"id\":\"4061\",\"type\":\"GlyphRenderer\"},{\"id\":\"4068\",\"type\":\"GlyphRenderer\"}],\"title\":{\"id\":\"4037\",\"type\":\"Title\"},\"toolbar\":{\"id\":\"4057\",\"type\":\"Toolbar\"},\"toolbar_location\":null,\"x_range\":{\"id\":\"4040\",\"type\":\"FactorRange\"},\"x_scale\":{\"id\":\"4044\",\"type\":\"CategoricalScale\"},\"y_range\":{\"id\":\"4042\",\"type\":\"DataRange1d\"},\"y_scale\":{\"id\":\"4046\",\"type\":\"LinearScale\"}},\"id\":\"4038\",\"subtype\":\"Figure\",\"type\":\"Plot\"},{\"attributes\":{},\"id\":\"4046\",\"type\":\"LinearScale\"},{\"attributes\":{\"fill_color\":{\"value\":\"#D9371B\"},\"line_color\":{\"value\":\"#1f77b4\"},\"x\":{\"field\":\"x\"},\"y\":{\"field\":\"y\"}},\"id\":\"4059\",\"type\":\"Circle\"},{\"attributes\":{\"axis_label\":\"Number of children\",\"formatter\":{\"id\":\"4116\",\"type\":\"BasicTickFormatter\"},\"plot\":{\"id\":\"4038\",\"subtype\":\"Figure\",\"type\":\"Plot\"},\"ticker\":{\"id\":\"4053\",\"type\":\"BasicTicker\"}},\"id\":\"4052\",\"type\":\"LinearAxis\"},{\"attributes\":{\"callback\":null,\"start\":0},\"id\":\"4042\",\"type\":\"DataRange1d\"},{\"attributes\":{},\"id\":\"4118\",\"type\":\"CategoricalTickFormatter\"},{\"attributes\":{\"line_color\":\"#1f77b4\",\"x\":{\"field\":\"x\"},\"y\":{\"field\":\"y\"}},\"id\":\"4066\",\"type\":\"Line\"},{\"attributes\":{\"line_alpha\":0.1,\"line_color\":\"#1f77b4\",\"x\":{\"field\":\"x\"},\"y\":{\"field\":\"y\"}},\"id\":\"4067\",\"type\":\"Line\"},{\"attributes\":{},\"id\":\"4121\",\"type\":\"UnionRenderers\"},{\"attributes\":{},\"id\":\"4123\",\"type\":\"UnionRenderers\"},{\"attributes\":{\"data_source\":{\"id\":\"4065\",\"type\":\"ColumnDataSource\"},\"glyph\":{\"id\":\"4066\",\"type\":\"Line\"},\"hover_glyph\":null,\"muted_glyph\":null,\"nonselection_glyph\":{\"id\":\"4067\",\"type\":\"Line\"},\"selection_glyph\":null,\"view\":{\"id\":\"4069\",\"type\":\"CDSView\"}},\"id\":\"4068\",\"type\":\"GlyphRenderer\"},{\"attributes\":{\"source\":{\"id\":\"4058\",\"type\":\"ColumnDataSource\"}},\"id\":\"4062\",\"type\":\"CDSView\"},{\"attributes\":{\"axis_label\":\"Year\",\"formatter\":{\"id\":\"4118\",\"type\":\"CategoricalTickFormatter\"},\"major_label_orientation\":1.2,\"plot\":{\"id\":\"4038\",\"subtype\":\"Figure\",\"type\":\"Plot\"},\"ticker\":{\"id\":\"4049\",\"type\":\"CategoricalTicker\"}},\"id\":\"4048\",\"type\":\"CategoricalAxis\"},{\"attributes\":{\"callback\":null},\"id\":\"4063\",\"type\":\"HoverTool\"},{\"attributes\":{},\"id\":\"4116\",\"type\":\"BasicTickFormatter\"},{\"attributes\":{\"source\":{\"id\":\"4065\",\"type\":\"ColumnDataSource\"}},\"id\":\"4069\",\"type\":\"CDSView\"},{\"attributes\":{},\"id\":\"4122\",\"type\":\"Selection\"},{\"attributes\":{\"dimension\":1,\"plot\":{\"id\":\"4038\",\"subtype\":\"Figure\",\"type\":\"Plot\"},\"ticker\":{\"id\":\"4053\",\"type\":\"BasicTicker\"}},\"id\":\"4056\",\"type\":\"Grid\"},{\"attributes\":{},\"id\":\"4120\",\"type\":\"Selection\"},{\"attributes\":{\"callback\":null,\"factors\":[\"1990.5\",\"1991.5\",\"1992.5\",\"1993.5\",\"1994.5\",\"1995.5\",\"1996.5\",\"1997.5\",\"1998.5\",\"1999.5\",\"2000.5\",\"2001.5\",\"2002.5\",\"2003.5\",\"2004.5\",\"2005.5\",\"2006.5\",\"2007.5\",\"2008.5\",\"2009.5\",\"2010.5\",\"2011.5\",\"2012.5\",\"2013.5\",\"2014.5\",\"2015.5\",\"2016.5\"]},\"id\":\"4040\",\"type\":\"FactorRange\"},{\"attributes\":{\"active_drag\":\"auto\",\"active_inspect\":\"auto\",\"active_multi\":null,\"active_scroll\":\"auto\",\"active_tap\":\"auto\",\"tools\":[{\"id\":\"4063\",\"type\":\"HoverTool\"}]},\"id\":\"4057\",\"type\":\"Toolbar\"},{\"attributes\":{\"fill_alpha\":{\"value\":0.1},\"fill_color\":{\"value\":\"#1f77b4\"},\"line_alpha\":{\"value\":0.1},\"line_color\":{\"value\":\"#1f77b4\"},\"x\":{\"field\":\"x\"},\"y\":{\"field\":\"y\"}},\"id\":\"4060\",\"type\":\"Circle\"},{\"attributes\":{\"callback\":null,\"data\":{\"x\":[\"1990.5\",\"1991.5\",\"1992.5\",\"1993.5\",\"1994.5\",\"1995.5\",\"1996.5\",\"1997.5\",\"1998.5\",\"1999.5\",\"2000.5\",\"2001.5\",\"2002.5\",\"2003.5\",\"2004.5\",\"2005.5\",\"2006.5\",\"2007.5\",\"2008.5\",\"2009.5\",\"2010.5\",\"2011.5\",\"2012.5\",\"2013.5\",\"2014.5\",\"2015.5\",\"2016.5\"],\"y\":{\"__ndarray__\":\"RERERERkUEDf3d3d3V1PQBEREREREU5Am5mZmZnZTEBlZmZmZqZLQAAAAAAAgEpA3d3d3d1dSUAREREREVFIQIiIiIiISEdARERERERERkCJiIiIiEhFQN7d3d3dXURAd3d3d3d3Q0Df3d3d3Z1CQBERERER0UFAzczMzMwMQUBVVVVVVVVAQERERERERD9AAAAAAAAAPkBVVVVVVdU8QGVmZmZm5jtAmZmZmZkZO0B4d3d3d3c6QGVmZmZm5jlA393d3d1dOUDd3d3d3d04QO/u7u7ubjhA\",\"dtype\":\"float64\",\"shape\":[27]}},\"selected\":{\"id\":\"4120\",\"type\":\"Selection\"},\"selection_policy\":{\"id\":\"4121\",\"type\":\"UnionRenderers\"}},\"id\":\"4058\",\"type\":\"ColumnDataSource\"},{\"attributes\":{\"plot\":{\"id\":\"4038\",\"subtype\":\"Figure\",\"type\":\"Plot\"},\"ticker\":{\"id\":\"4049\",\"type\":\"CategoricalTicker\"}},\"id\":\"4051\",\"type\":\"Grid\"},{\"attributes\":{\"data_source\":{\"id\":\"4058\",\"type\":\"ColumnDataSource\"},\"glyph\":{\"id\":\"4059\",\"type\":\"Circle\"},\"hover_glyph\":null,\"muted_glyph\":null,\"nonselection_glyph\":{\"id\":\"4060\",\"type\":\"Circle\"},\"selection_glyph\":null,\"view\":{\"id\":\"4062\",\"type\":\"CDSView\"}},\"id\":\"4061\",\"type\":\"GlyphRenderer\"},{\"attributes\":{},\"id\":\"4053\",\"type\":\"BasicTicker\"},{\"attributes\":{\"plot\":null,\"text\":\"Middle East and North Africa\"},\"id\":\"4037\",\"type\":\"Title\"},{\"attributes\":{\"callback\":null,\"data\":{\"x\":[\"1990.5\",\"1991.5\",\"1992.5\",\"1993.5\",\"1994.5\",\"1995.5\",\"1996.5\",\"1997.5\",\"1998.5\",\"1999.5\",\"2000.5\",\"2001.5\",\"2002.5\",\"2003.5\",\"2004.5\",\"2005.5\",\"2006.5\",\"2007.5\",\"2008.5\",\"2009.5\",\"2010.5\",\"2011.5\",\"2012.5\",\"2013.5\",\"2014.5\",\"2015.5\",\"2016.5\"],\"y\":{\"__ndarray__\":\"RERERERkUEDf3d3d3V1PQBEREREREU5Am5mZmZnZTEBlZmZmZqZLQAAAAAAAgEpA3d3d3d1dSUAREREREVFIQIiIiIiISEdARERERERERkCJiIiIiEhFQN7d3d3dXURAd3d3d3d3Q0Df3d3d3Z1CQBERERER0UFAzczMzMwMQUBVVVVVVVVAQERERERERD9AAAAAAAAAPkBVVVVVVdU8QGVmZmZm5jtAmZmZmZkZO0B4d3d3d3c6QGVmZmZm5jlA393d3d1dOUDd3d3d3d04QO/u7u7ubjhA\",\"dtype\":\"float64\",\"shape\":[27]}},\"selected\":{\"id\":\"4122\",\"type\":\"Selection\"},\"selection_policy\":{\"id\":\"4123\",\"type\":\"UnionRenderers\"}},\"id\":\"4065\",\"type\":\"ColumnDataSource\"},{\"attributes\":{},\"id\":\"4044\",\"type\":\"CategoricalScale\"},{\"attributes\":{},\"id\":\"4049\",\"type\":\"CategoricalTicker\"}],\"root_ids\":[\"4038\"]},\"title\":\"Bokeh Application\",\"version\":\"1.0.3\"}};\n",
       "  var render_items = [{\"docid\":\"a953d3bc-fcbb-4888-9f22-4955e1aab480\",\"roots\":{\"4038\":\"c9a2730e-432c-4dbf-8af5-8187d1c4b725\"}}];\n",
       "  root.Bokeh.embed.embed_items_notebook(docs_json, render_items);\n",
       "\n",
       "  }\n",
       "  if (root.Bokeh !== undefined) {\n",
       "    embed_document(root);\n",
       "  } else {\n",
       "    var attempts = 0;\n",
       "    var timer = setInterval(function(root) {\n",
       "      if (root.Bokeh !== undefined) {\n",
       "        embed_document(root);\n",
       "        clearInterval(timer);\n",
       "      }\n",
       "      attempts++;\n",
       "      if (attempts > 100) {\n",
       "        console.log(\"Bokeh: ERROR: Unable to run BokehJS code because BokehJS library is missing\");\n",
       "        clearInterval(timer);\n",
       "      }\n",
       "    }, 10, root)\n",
       "  }\n",
       "})(window);"
      ],
      "application/vnd.bokehjs_exec.v0+json": ""
     },
     "metadata": {
      "application/vnd.bokehjs_exec.v0+json": {
       "id": "4038"
      }
     },
     "output_type": "display_data"
    },
    {
     "data": {
      "text/html": [
       "\n",
       "\n",
       "\n",
       "\n",
       "\n",
       "\n",
       "  <div class=\"bk-root\" id=\"5311b49d-ff35-4fd8-b3d8-466113bb1ae1\" data-root-id=\"4261\"></div>\n"
      ]
     },
     "metadata": {},
     "output_type": "display_data"
    },
    {
     "data": {
      "application/javascript": [
       "(function(root) {\n",
       "  function embed_document(root) {\n",
       "    \n",
       "  var docs_json = {\"79b855bd-0f66-4000-8b95-b36ac8a3bb87\":{\"roots\":{\"references\":[{\"attributes\":{\"below\":[{\"id\":\"4271\",\"type\":\"CategoricalAxis\"}],\"left\":[{\"id\":\"4275\",\"type\":\"LinearAxis\"}],\"plot_height\":550,\"renderers\":[{\"id\":\"4271\",\"type\":\"CategoricalAxis\"},{\"id\":\"4274\",\"type\":\"Grid\"},{\"id\":\"4275\",\"type\":\"LinearAxis\"},{\"id\":\"4279\",\"type\":\"Grid\"},{\"id\":\"4284\",\"type\":\"GlyphRenderer\"},{\"id\":\"4291\",\"type\":\"GlyphRenderer\"}],\"title\":{\"id\":\"4260\",\"type\":\"Title\"},\"toolbar\":{\"id\":\"4280\",\"type\":\"Toolbar\"},\"toolbar_location\":null,\"x_range\":{\"id\":\"4263\",\"type\":\"FactorRange\"},\"x_scale\":{\"id\":\"4267\",\"type\":\"CategoricalScale\"},\"y_range\":{\"id\":\"4265\",\"type\":\"DataRange1d\"},\"y_scale\":{\"id\":\"4269\",\"type\":\"LinearScale\"}},\"id\":\"4261\",\"subtype\":\"Figure\",\"type\":\"Plot\"},{\"attributes\":{},\"id\":\"4354\",\"type\":\"Selection\"},{\"attributes\":{\"fill_color\":{\"value\":\"#D9371B\"},\"line_color\":{\"value\":\"#1f77b4\"},\"x\":{\"field\":\"x\"},\"y\":{\"field\":\"y\"}},\"id\":\"4282\",\"type\":\"Circle\"},{\"attributes\":{\"plot\":null,\"text\":\"North America\"},\"id\":\"4260\",\"type\":\"Title\"},{\"attributes\":{},\"id\":\"4348\",\"type\":\"BasicTickFormatter\"},{\"attributes\":{},\"id\":\"4353\",\"type\":\"UnionRenderers\"},{\"attributes\":{\"callback\":null,\"data\":{\"x\":[\"1990.5\",\"1991.5\",\"1992.5\",\"1993.5\",\"1994.5\",\"1995.5\",\"1996.5\",\"1997.5\",\"1998.5\",\"1999.5\",\"2000.5\",\"2001.5\",\"2002.5\",\"2003.5\",\"2004.5\",\"2005.5\",\"2006.5\",\"2007.5\",\"2008.5\",\"2009.5\",\"2010.5\",\"2011.5\",\"2012.5\",\"2013.5\",\"2014.5\",\"2015.5\",\"2016.5\"],\"y\":{\"__ndarray__\":\"8O7u7u7uJUAzMzMzMzMlQIiIiIiIiCRAvLu7u7u7I0AiIiIiIiIjQIiIiIiIiCJA7+7u7u7uIUB3d3d3d3chQBERERERESFAzczMzMzMIEB3d3d3d3cgQEVERERERCBAERERERERIEDd3d3d3d0fQJmZmZmZmR9AeHd3d3d3H0Dv7u7u7u4eQGdmZmZmZh5AAAAAAAAAHkBVVVVVVVUdQM3MzMzMzBxAREREREREHECZmZmZmZkbQBARERERERtAq6qqqqqqGkAjIiIiIiIaQHh3d3d3dxlA\",\"dtype\":\"float64\",\"shape\":[27]}},\"selected\":{\"id\":\"4354\",\"type\":\"Selection\"},\"selection_policy\":{\"id\":\"4355\",\"type\":\"UnionRenderers\"}},\"id\":\"4288\",\"type\":\"ColumnDataSource\"},{\"attributes\":{},\"id\":\"4355\",\"type\":\"UnionRenderers\"},{\"attributes\":{\"source\":{\"id\":\"4288\",\"type\":\"ColumnDataSource\"}},\"id\":\"4292\",\"type\":\"CDSView\"},{\"attributes\":{\"dimension\":1,\"plot\":{\"id\":\"4261\",\"subtype\":\"Figure\",\"type\":\"Plot\"},\"ticker\":{\"id\":\"4276\",\"type\":\"BasicTicker\"}},\"id\":\"4279\",\"type\":\"Grid\"},{\"attributes\":{\"line_color\":\"#1f77b4\",\"x\":{\"field\":\"x\"},\"y\":{\"field\":\"y\"}},\"id\":\"4289\",\"type\":\"Line\"},{\"attributes\":{\"fill_alpha\":{\"value\":0.1},\"fill_color\":{\"value\":\"#1f77b4\"},\"line_alpha\":{\"value\":0.1},\"line_color\":{\"value\":\"#1f77b4\"},\"x\":{\"field\":\"x\"},\"y\":{\"field\":\"y\"}},\"id\":\"4283\",\"type\":\"Circle\"},{\"attributes\":{\"callback\":null,\"data\":{\"x\":[\"1990.5\",\"1991.5\",\"1992.5\",\"1993.5\",\"1994.5\",\"1995.5\",\"1996.5\",\"1997.5\",\"1998.5\",\"1999.5\",\"2000.5\",\"2001.5\",\"2002.5\",\"2003.5\",\"2004.5\",\"2005.5\",\"2006.5\",\"2007.5\",\"2008.5\",\"2009.5\",\"2010.5\",\"2011.5\",\"2012.5\",\"2013.5\",\"2014.5\",\"2015.5\",\"2016.5\"],\"y\":{\"__ndarray__\":\"8O7u7u7uJUAzMzMzMzMlQIiIiIiIiCRAvLu7u7u7I0AiIiIiIiIjQIiIiIiIiCJA7+7u7u7uIUB3d3d3d3chQBERERERESFAzczMzMzMIEB3d3d3d3cgQEVERERERCBAERERERERIEDd3d3d3d0fQJmZmZmZmR9AeHd3d3d3H0Dv7u7u7u4eQGdmZmZmZh5AAAAAAAAAHkBVVVVVVVUdQM3MzMzMzBxAREREREREHECZmZmZmZkbQBARERERERtAq6qqqqqqGkAjIiIiIiIaQHh3d3d3dxlA\",\"dtype\":\"float64\",\"shape\":[27]}},\"selected\":{\"id\":\"4352\",\"type\":\"Selection\"},\"selection_policy\":{\"id\":\"4353\",\"type\":\"UnionRenderers\"}},\"id\":\"4281\",\"type\":\"ColumnDataSource\"},{\"attributes\":{\"line_alpha\":0.1,\"line_color\":\"#1f77b4\",\"x\":{\"field\":\"x\"},\"y\":{\"field\":\"y\"}},\"id\":\"4290\",\"type\":\"Line\"},{\"attributes\":{\"callback\":null,\"factors\":[\"1990.5\",\"1991.5\",\"1992.5\",\"1993.5\",\"1994.5\",\"1995.5\",\"1996.5\",\"1997.5\",\"1998.5\",\"1999.5\",\"2000.5\",\"2001.5\",\"2002.5\",\"2003.5\",\"2004.5\",\"2005.5\",\"2006.5\",\"2007.5\",\"2008.5\",\"2009.5\",\"2010.5\",\"2011.5\",\"2012.5\",\"2013.5\",\"2014.5\",\"2015.5\",\"2016.5\"]},\"id\":\"4263\",\"type\":\"FactorRange\"},{\"attributes\":{\"callback\":null},\"id\":\"4286\",\"type\":\"HoverTool\"},{\"attributes\":{\"data_source\":{\"id\":\"4281\",\"type\":\"ColumnDataSource\"},\"glyph\":{\"id\":\"4282\",\"type\":\"Circle\"},\"hover_glyph\":null,\"muted_glyph\":null,\"nonselection_glyph\":{\"id\":\"4283\",\"type\":\"Circle\"},\"selection_glyph\":null,\"view\":{\"id\":\"4285\",\"type\":\"CDSView\"}},\"id\":\"4284\",\"type\":\"GlyphRenderer\"},{\"attributes\":{\"axis_label\":\"Number of children\",\"formatter\":{\"id\":\"4348\",\"type\":\"BasicTickFormatter\"},\"plot\":{\"id\":\"4261\",\"subtype\":\"Figure\",\"type\":\"Plot\"},\"ticker\":{\"id\":\"4276\",\"type\":\"BasicTicker\"}},\"id\":\"4275\",\"type\":\"LinearAxis\"},{\"attributes\":{},\"id\":\"4269\",\"type\":\"LinearScale\"},{\"attributes\":{\"active_drag\":\"auto\",\"active_inspect\":\"auto\",\"active_multi\":null,\"active_scroll\":\"auto\",\"active_tap\":\"auto\",\"tools\":[{\"id\":\"4286\",\"type\":\"HoverTool\"}]},\"id\":\"4280\",\"type\":\"Toolbar\"},{\"attributes\":{\"callback\":null,\"start\":0},\"id\":\"4265\",\"type\":\"DataRange1d\"},{\"attributes\":{\"source\":{\"id\":\"4281\",\"type\":\"ColumnDataSource\"}},\"id\":\"4285\",\"type\":\"CDSView\"},{\"attributes\":{\"plot\":{\"id\":\"4261\",\"subtype\":\"Figure\",\"type\":\"Plot\"},\"ticker\":{\"id\":\"4272\",\"type\":\"CategoricalTicker\"}},\"id\":\"4274\",\"type\":\"Grid\"},{\"attributes\":{\"axis_label\":\"Year\",\"formatter\":{\"id\":\"4350\",\"type\":\"CategoricalTickFormatter\"},\"major_label_orientation\":1.2,\"plot\":{\"id\":\"4261\",\"subtype\":\"Figure\",\"type\":\"Plot\"},\"ticker\":{\"id\":\"4272\",\"type\":\"CategoricalTicker\"}},\"id\":\"4271\",\"type\":\"CategoricalAxis\"},{\"attributes\":{},\"id\":\"4272\",\"type\":\"CategoricalTicker\"},{\"attributes\":{},\"id\":\"4350\",\"type\":\"CategoricalTickFormatter\"},{\"attributes\":{},\"id\":\"4276\",\"type\":\"BasicTicker\"},{\"attributes\":{},\"id\":\"4352\",\"type\":\"Selection\"},{\"attributes\":{\"data_source\":{\"id\":\"4288\",\"type\":\"ColumnDataSource\"},\"glyph\":{\"id\":\"4289\",\"type\":\"Line\"},\"hover_glyph\":null,\"muted_glyph\":null,\"nonselection_glyph\":{\"id\":\"4290\",\"type\":\"Line\"},\"selection_glyph\":null,\"view\":{\"id\":\"4292\",\"type\":\"CDSView\"}},\"id\":\"4291\",\"type\":\"GlyphRenderer\"},{\"attributes\":{},\"id\":\"4267\",\"type\":\"CategoricalScale\"}],\"root_ids\":[\"4261\"]},\"title\":\"Bokeh Application\",\"version\":\"1.0.3\"}};\n",
       "  var render_items = [{\"docid\":\"79b855bd-0f66-4000-8b95-b36ac8a3bb87\",\"roots\":{\"4261\":\"5311b49d-ff35-4fd8-b3d8-466113bb1ae1\"}}];\n",
       "  root.Bokeh.embed.embed_items_notebook(docs_json, render_items);\n",
       "\n",
       "  }\n",
       "  if (root.Bokeh !== undefined) {\n",
       "    embed_document(root);\n",
       "  } else {\n",
       "    var attempts = 0;\n",
       "    var timer = setInterval(function(root) {\n",
       "      if (root.Bokeh !== undefined) {\n",
       "        embed_document(root);\n",
       "        clearInterval(timer);\n",
       "      }\n",
       "      attempts++;\n",
       "      if (attempts > 100) {\n",
       "        console.log(\"Bokeh: ERROR: Unable to run BokehJS code because BokehJS library is missing\");\n",
       "        clearInterval(timer);\n",
       "      }\n",
       "    }, 10, root)\n",
       "  }\n",
       "})(window);"
      ],
      "application/vnd.bokehjs_exec.v0+json": ""
     },
     "metadata": {
      "application/vnd.bokehjs_exec.v0+json": {
       "id": "4261"
      }
     },
     "output_type": "display_data"
    },
    {
     "data": {
      "text/html": [
       "\n",
       "\n",
       "\n",
       "\n",
       "\n",
       "\n",
       "  <div class=\"bk-root\" id=\"2cd33c08-ef94-4474-9d45-fa12baed75ce\" data-root-id=\"4493\"></div>\n"
      ]
     },
     "metadata": {},
     "output_type": "display_data"
    },
    {
     "data": {
      "application/javascript": [
       "(function(root) {\n",
       "  function embed_document(root) {\n",
       "    \n",
       "  var docs_json = {\"306ba435-edac-4584-a2c5-8f8965a74982\":{\"roots\":{\"references\":[{\"attributes\":{\"below\":[{\"id\":\"4503\",\"type\":\"CategoricalAxis\"}],\"left\":[{\"id\":\"4507\",\"type\":\"LinearAxis\"}],\"plot_height\":550,\"renderers\":[{\"id\":\"4503\",\"type\":\"CategoricalAxis\"},{\"id\":\"4506\",\"type\":\"Grid\"},{\"id\":\"4507\",\"type\":\"LinearAxis\"},{\"id\":\"4511\",\"type\":\"Grid\"},{\"id\":\"4516\",\"type\":\"GlyphRenderer\"},{\"id\":\"4523\",\"type\":\"GlyphRenderer\"}],\"title\":{\"id\":\"4492\",\"type\":\"Title\"},\"toolbar\":{\"id\":\"4512\",\"type\":\"Toolbar\"},\"toolbar_location\":null,\"x_range\":{\"id\":\"4495\",\"type\":\"FactorRange\"},\"x_scale\":{\"id\":\"4499\",\"type\":\"CategoricalScale\"},\"y_range\":{\"id\":\"4497\",\"type\":\"DataRange1d\"},\"y_scale\":{\"id\":\"4501\",\"type\":\"LinearScale\"}},\"id\":\"4493\",\"subtype\":\"Figure\",\"type\":\"Plot\"},{\"attributes\":{\"dimension\":1,\"plot\":{\"id\":\"4493\",\"subtype\":\"Figure\",\"type\":\"Plot\"},\"ticker\":{\"id\":\"4508\",\"type\":\"BasicTicker\"}},\"id\":\"4511\",\"type\":\"Grid\"},{\"attributes\":{},\"id\":\"4595\",\"type\":\"Selection\"},{\"attributes\":{\"line_alpha\":0.1,\"line_color\":\"#1f77b4\",\"x\":{\"field\":\"x\"},\"y\":{\"field\":\"y\"}},\"id\":\"4522\",\"type\":\"Line\"},{\"attributes\":{\"data_source\":{\"id\":\"4513\",\"type\":\"ColumnDataSource\"},\"glyph\":{\"id\":\"4514\",\"type\":\"Circle\"},\"hover_glyph\":null,\"muted_glyph\":null,\"nonselection_glyph\":{\"id\":\"4515\",\"type\":\"Circle\"},\"selection_glyph\":null,\"view\":{\"id\":\"4517\",\"type\":\"CDSView\"}},\"id\":\"4516\",\"type\":\"GlyphRenderer\"},{\"attributes\":{},\"id\":\"4504\",\"type\":\"CategoricalTicker\"},{\"attributes\":{\"callback\":null,\"factors\":[\"1990.5\",\"1991.5\",\"1992.5\",\"1993.5\",\"1994.5\",\"1995.5\",\"1996.5\",\"1997.5\",\"1998.5\",\"1999.5\",\"2000.5\",\"2001.5\",\"2002.5\",\"2003.5\",\"2004.5\",\"2005.5\",\"2006.5\",\"2007.5\",\"2008.5\",\"2009.5\",\"2010.5\",\"2011.5\",\"2012.5\",\"2013.5\",\"2014.5\",\"2015.5\",\"2016.5\"]},\"id\":\"4495\",\"type\":\"FactorRange\"},{\"attributes\":{\"callback\":null,\"data\":{\"x\":[\"1990.5\",\"1991.5\",\"1992.5\",\"1993.5\",\"1994.5\",\"1995.5\",\"1996.5\",\"1997.5\",\"1998.5\",\"1999.5\",\"2000.5\",\"2001.5\",\"2002.5\",\"2003.5\",\"2004.5\",\"2005.5\",\"2006.5\",\"2007.5\",\"2008.5\",\"2009.5\",\"2010.5\",\"2011.5\",\"2012.5\",\"2013.5\",\"2014.5\",\"2015.5\",\"2016.5\"],\"y\":{\"__ndarray__\":\"7+7u7u4uYEDw7u7u7m5fQIiIiIiIiF5Aq6qqqqqqXUCIiIiIiMhcQKuqqqqq6ltAiIiIiIgIW0BFRERERCRaQLy7u7u7O1lAMzMzMzNTWEDNzMzMzGxXQM3MzMzMjFZAMzMzMzOzVUBERERERORUQAAAAAAAIFRANDMzMzNTU0A0MzMzM5NSQJqZmZmZ2VFAIyIiIiIiUUDv7u7u7m5QQAAAAAAAgE9A7+7u7u4uTkDd3d3d3d1MQJuZmZmZmUtA3d3d3d1dSkC8u7u7uztJQKuqqqqqKkhA\",\"dtype\":\"float64\",\"shape\":[27]}},\"selected\":{\"id\":\"4595\",\"type\":\"Selection\"},\"selection_policy\":{\"id\":\"4596\",\"type\":\"UnionRenderers\"}},\"id\":\"4520\",\"type\":\"ColumnDataSource\"},{\"attributes\":{\"source\":{\"id\":\"4513\",\"type\":\"ColumnDataSource\"}},\"id\":\"4517\",\"type\":\"CDSView\"},{\"attributes\":{\"data_source\":{\"id\":\"4520\",\"type\":\"ColumnDataSource\"},\"glyph\":{\"id\":\"4521\",\"type\":\"Line\"},\"hover_glyph\":null,\"muted_glyph\":null,\"nonselection_glyph\":{\"id\":\"4522\",\"type\":\"Line\"},\"selection_glyph\":null,\"view\":{\"id\":\"4524\",\"type\":\"CDSView\"}},\"id\":\"4523\",\"type\":\"GlyphRenderer\"},{\"attributes\":{},\"id\":\"4596\",\"type\":\"UnionRenderers\"},{\"attributes\":{\"plot\":{\"id\":\"4493\",\"subtype\":\"Figure\",\"type\":\"Plot\"},\"ticker\":{\"id\":\"4504\",\"type\":\"CategoricalTicker\"}},\"id\":\"4506\",\"type\":\"Grid\"},{\"attributes\":{\"axis_label\":\"Year\",\"formatter\":{\"id\":\"4591\",\"type\":\"CategoricalTickFormatter\"},\"major_label_orientation\":1.2,\"plot\":{\"id\":\"4493\",\"subtype\":\"Figure\",\"type\":\"Plot\"},\"ticker\":{\"id\":\"4504\",\"type\":\"CategoricalTicker\"}},\"id\":\"4503\",\"type\":\"CategoricalAxis\"},{\"attributes\":{},\"id\":\"4594\",\"type\":\"UnionRenderers\"},{\"attributes\":{},\"id\":\"4591\",\"type\":\"CategoricalTickFormatter\"},{\"attributes\":{\"source\":{\"id\":\"4520\",\"type\":\"ColumnDataSource\"}},\"id\":\"4524\",\"type\":\"CDSView\"},{\"attributes\":{},\"id\":\"4589\",\"type\":\"BasicTickFormatter\"},{\"attributes\":{\"callback\":null,\"start\":0},\"id\":\"4497\",\"type\":\"DataRange1d\"},{\"attributes\":{},\"id\":\"4501\",\"type\":\"LinearScale\"},{\"attributes\":{\"fill_alpha\":{\"value\":0.1},\"fill_color\":{\"value\":\"#1f77b4\"},\"line_alpha\":{\"value\":0.1},\"line_color\":{\"value\":\"#1f77b4\"},\"x\":{\"field\":\"x\"},\"y\":{\"field\":\"y\"}},\"id\":\"4515\",\"type\":\"Circle\"},{\"attributes\":{\"axis_label\":\"Number of children\",\"formatter\":{\"id\":\"4589\",\"type\":\"BasicTickFormatter\"},\"plot\":{\"id\":\"4493\",\"subtype\":\"Figure\",\"type\":\"Plot\"},\"ticker\":{\"id\":\"4508\",\"type\":\"BasicTicker\"}},\"id\":\"4507\",\"type\":\"LinearAxis\"},{\"attributes\":{\"line_color\":\"#1f77b4\",\"x\":{\"field\":\"x\"},\"y\":{\"field\":\"y\"}},\"id\":\"4521\",\"type\":\"Line\"},{\"attributes\":{\"plot\":null,\"text\":\"South Asia\"},\"id\":\"4492\",\"type\":\"Title\"},{\"attributes\":{},\"id\":\"4593\",\"type\":\"Selection\"},{\"attributes\":{\"active_drag\":\"auto\",\"active_inspect\":\"auto\",\"active_multi\":null,\"active_scroll\":\"auto\",\"active_tap\":\"auto\",\"tools\":[{\"id\":\"4518\",\"type\":\"HoverTool\"}]},\"id\":\"4512\",\"type\":\"Toolbar\"},{\"attributes\":{\"callback\":null,\"data\":{\"x\":[\"1990.5\",\"1991.5\",\"1992.5\",\"1993.5\",\"1994.5\",\"1995.5\",\"1996.5\",\"1997.5\",\"1998.5\",\"1999.5\",\"2000.5\",\"2001.5\",\"2002.5\",\"2003.5\",\"2004.5\",\"2005.5\",\"2006.5\",\"2007.5\",\"2008.5\",\"2009.5\",\"2010.5\",\"2011.5\",\"2012.5\",\"2013.5\",\"2014.5\",\"2015.5\",\"2016.5\"],\"y\":{\"__ndarray__\":\"7+7u7u4uYEDw7u7u7m5fQIiIiIiIiF5Aq6qqqqqqXUCIiIiIiMhcQKuqqqqq6ltAiIiIiIgIW0BFRERERCRaQLy7u7u7O1lAMzMzMzNTWEDNzMzMzGxXQM3MzMzMjFZAMzMzMzOzVUBERERERORUQAAAAAAAIFRANDMzMzNTU0A0MzMzM5NSQJqZmZmZ2VFAIyIiIiIiUUDv7u7u7m5QQAAAAAAAgE9A7+7u7u4uTkDd3d3d3d1MQJuZmZmZmUtA3d3d3d1dSkC8u7u7uztJQKuqqqqqKkhA\",\"dtype\":\"float64\",\"shape\":[27]}},\"selected\":{\"id\":\"4593\",\"type\":\"Selection\"},\"selection_policy\":{\"id\":\"4594\",\"type\":\"UnionRenderers\"}},\"id\":\"4513\",\"type\":\"ColumnDataSource\"},{\"attributes\":{},\"id\":\"4499\",\"type\":\"CategoricalScale\"},{\"attributes\":{\"fill_color\":{\"value\":\"#D9371B\"},\"line_color\":{\"value\":\"#1f77b4\"},\"x\":{\"field\":\"x\"},\"y\":{\"field\":\"y\"}},\"id\":\"4514\",\"type\":\"Circle\"},{\"attributes\":{\"callback\":null},\"id\":\"4518\",\"type\":\"HoverTool\"},{\"attributes\":{},\"id\":\"4508\",\"type\":\"BasicTicker\"}],\"root_ids\":[\"4493\"]},\"title\":\"Bokeh Application\",\"version\":\"1.0.3\"}};\n",
       "  var render_items = [{\"docid\":\"306ba435-edac-4584-a2c5-8f8965a74982\",\"roots\":{\"4493\":\"2cd33c08-ef94-4474-9d45-fa12baed75ce\"}}];\n",
       "  root.Bokeh.embed.embed_items_notebook(docs_json, render_items);\n",
       "\n",
       "  }\n",
       "  if (root.Bokeh !== undefined) {\n",
       "    embed_document(root);\n",
       "  } else {\n",
       "    var attempts = 0;\n",
       "    var timer = setInterval(function(root) {\n",
       "      if (root.Bokeh !== undefined) {\n",
       "        embed_document(root);\n",
       "        clearInterval(timer);\n",
       "      }\n",
       "      attempts++;\n",
       "      if (attempts > 100) {\n",
       "        console.log(\"Bokeh: ERROR: Unable to run BokehJS code because BokehJS library is missing\");\n",
       "        clearInterval(timer);\n",
       "      }\n",
       "    }, 10, root)\n",
       "  }\n",
       "})(window);"
      ],
      "application/vnd.bokehjs_exec.v0+json": ""
     },
     "metadata": {
      "application/vnd.bokehjs_exec.v0+json": {
       "id": "4493"
      }
     },
     "output_type": "display_data"
    },
    {
     "data": {
      "text/html": [
       "\n",
       "\n",
       "\n",
       "\n",
       "\n",
       "\n",
       "  <div class=\"bk-root\" id=\"4d4c405f-4853-483c-aa04-e7769b1e6e47\" data-root-id=\"4734\"></div>\n"
      ]
     },
     "metadata": {},
     "output_type": "display_data"
    },
    {
     "data": {
      "application/javascript": [
       "(function(root) {\n",
       "  function embed_document(root) {\n",
       "    \n",
       "  var docs_json = {\"b58543c7-a541-413d-8494-283c87c0de0f\":{\"roots\":{\"references\":[{\"attributes\":{\"below\":[{\"id\":\"4744\",\"type\":\"CategoricalAxis\"}],\"left\":[{\"id\":\"4748\",\"type\":\"LinearAxis\"}],\"plot_height\":550,\"renderers\":[{\"id\":\"4744\",\"type\":\"CategoricalAxis\"},{\"id\":\"4747\",\"type\":\"Grid\"},{\"id\":\"4748\",\"type\":\"LinearAxis\"},{\"id\":\"4752\",\"type\":\"Grid\"},{\"id\":\"4757\",\"type\":\"GlyphRenderer\"},{\"id\":\"4764\",\"type\":\"GlyphRenderer\"}],\"title\":{\"id\":\"4733\",\"type\":\"Title\"},\"toolbar\":{\"id\":\"4753\",\"type\":\"Toolbar\"},\"toolbar_location\":null,\"x_range\":{\"id\":\"4736\",\"type\":\"FactorRange\"},\"x_scale\":{\"id\":\"4740\",\"type\":\"CategoricalScale\"},\"y_range\":{\"id\":\"4738\",\"type\":\"DataRange1d\"},\"y_scale\":{\"id\":\"4742\",\"type\":\"LinearScale\"}},\"id\":\"4734\",\"subtype\":\"Figure\",\"type\":\"Plot\"},{\"attributes\":{\"fill_color\":{\"value\":\"#D9371B\"},\"line_color\":{\"value\":\"#1f77b4\"},\"x\":{\"field\":\"x\"},\"y\":{\"field\":\"y\"}},\"id\":\"4755\",\"type\":\"Circle\"},{\"attributes\":{\"data_source\":{\"id\":\"4761\",\"type\":\"ColumnDataSource\"},\"glyph\":{\"id\":\"4762\",\"type\":\"Line\"},\"hover_glyph\":null,\"muted_glyph\":null,\"nonselection_glyph\":{\"id\":\"4763\",\"type\":\"Line\"},\"selection_glyph\":null,\"view\":{\"id\":\"4765\",\"type\":\"CDSView\"}},\"id\":\"4764\",\"type\":\"GlyphRenderer\"},{\"attributes\":{\"axis_label\":\"Number of children\",\"formatter\":{\"id\":\"4839\",\"type\":\"BasicTickFormatter\"},\"plot\":{\"id\":\"4734\",\"subtype\":\"Figure\",\"type\":\"Plot\"},\"ticker\":{\"id\":\"4749\",\"type\":\"BasicTicker\"}},\"id\":\"4748\",\"type\":\"LinearAxis\"},{\"attributes\":{},\"id\":\"4742\",\"type\":\"LinearScale\"},{\"attributes\":{},\"id\":\"4749\",\"type\":\"BasicTicker\"},{\"attributes\":{\"data_source\":{\"id\":\"4754\",\"type\":\"ColumnDataSource\"},\"glyph\":{\"id\":\"4755\",\"type\":\"Circle\"},\"hover_glyph\":null,\"muted_glyph\":null,\"nonselection_glyph\":{\"id\":\"4756\",\"type\":\"Circle\"},\"selection_glyph\":null,\"view\":{\"id\":\"4758\",\"type\":\"CDSView\"}},\"id\":\"4757\",\"type\":\"GlyphRenderer\"},{\"attributes\":{\"source\":{\"id\":\"4754\",\"type\":\"ColumnDataSource\"}},\"id\":\"4758\",\"type\":\"CDSView\"},{\"attributes\":{\"active_drag\":\"auto\",\"active_inspect\":\"auto\",\"active_multi\":null,\"active_scroll\":\"auto\",\"active_tap\":\"auto\",\"tools\":[{\"id\":\"4759\",\"type\":\"HoverTool\"}]},\"id\":\"4753\",\"type\":\"Toolbar\"},{\"attributes\":{\"line_color\":\"#1f77b4\",\"x\":{\"field\":\"x\"},\"y\":{\"field\":\"y\"}},\"id\":\"4762\",\"type\":\"Line\"},{\"attributes\":{\"plot\":null,\"text\":\"Sub-Saharan Africa\"},\"id\":\"4733\",\"type\":\"Title\"},{\"attributes\":{\"dimension\":1,\"plot\":{\"id\":\"4734\",\"subtype\":\"Figure\",\"type\":\"Plot\"},\"ticker\":{\"id\":\"4749\",\"type\":\"BasicTicker\"}},\"id\":\"4752\",\"type\":\"Grid\"},{\"attributes\":{\"callback\":null},\"id\":\"4759\",\"type\":\"HoverTool\"},{\"attributes\":{},\"id\":\"4740\",\"type\":\"CategoricalScale\"},{\"attributes\":{\"callback\":null,\"data\":{\"x\":[\"1990.5\",\"1991.5\",\"1992.5\",\"1993.5\",\"1994.5\",\"1995.5\",\"1996.5\",\"1997.5\",\"1998.5\",\"1999.5\",\"2000.5\",\"2001.5\",\"2002.5\",\"2003.5\",\"2004.5\",\"2005.5\",\"2006.5\",\"2007.5\",\"2008.5\",\"2009.5\",\"2010.5\",\"2011.5\",\"2012.5\",\"2013.5\",\"2014.5\",\"2015.5\",\"2016.5\"],\"y\":{\"__ndarray__\":\"q6qqqqqaZkB4d3d3d2dmQFVVVVVVNWZAZ2ZmZmYGZkBVVVVVVfVlQCMiIiIiomVAAAAAAABAZUDMzMzMzOxkQFVVVVVVhWRAeHd3d3f3Y0AjIiIiImJjQHd3d3d3t2JAMzMzMzMDYkCZmZmZmUlhQAAAAAAAkGBAzczMzMysX0BnZmZmZkZeQM3MzMzM7FxAIyIiIiKiW0CIiIiIiGhaQLy7u7u7O1lAIyIiIiIiWEAAAAAAACBXQDMzMzMzM1ZAmZmZmZlZVUCZmZmZmZlUQImIiIiI6FNA\",\"dtype\":\"float64\",\"shape\":[27]}},\"selected\":{\"id\":\"4845\",\"type\":\"Selection\"},\"selection_policy\":{\"id\":\"4846\",\"type\":\"UnionRenderers\"}},\"id\":\"4761\",\"type\":\"ColumnDataSource\"},{\"attributes\":{},\"id\":\"4841\",\"type\":\"CategoricalTickFormatter\"},{\"attributes\":{\"fill_alpha\":{\"value\":0.1},\"fill_color\":{\"value\":\"#1f77b4\"},\"line_alpha\":{\"value\":0.1},\"line_color\":{\"value\":\"#1f77b4\"},\"x\":{\"field\":\"x\"},\"y\":{\"field\":\"y\"}},\"id\":\"4756\",\"type\":\"Circle\"},{\"attributes\":{},\"id\":\"4843\",\"type\":\"Selection\"},{\"attributes\":{\"callback\":null,\"start\":0},\"id\":\"4738\",\"type\":\"DataRange1d\"},{\"attributes\":{\"plot\":{\"id\":\"4734\",\"subtype\":\"Figure\",\"type\":\"Plot\"},\"ticker\":{\"id\":\"4745\",\"type\":\"CategoricalTicker\"}},\"id\":\"4747\",\"type\":\"Grid\"},{\"attributes\":{\"callback\":null,\"factors\":[\"1990.5\",\"1991.5\",\"1992.5\",\"1993.5\",\"1994.5\",\"1995.5\",\"1996.5\",\"1997.5\",\"1998.5\",\"1999.5\",\"2000.5\",\"2001.5\",\"2002.5\",\"2003.5\",\"2004.5\",\"2005.5\",\"2006.5\",\"2007.5\",\"2008.5\",\"2009.5\",\"2010.5\",\"2011.5\",\"2012.5\",\"2013.5\",\"2014.5\",\"2015.5\",\"2016.5\"]},\"id\":\"4736\",\"type\":\"FactorRange\"},{\"attributes\":{},\"id\":\"4839\",\"type\":\"BasicTickFormatter\"},{\"attributes\":{},\"id\":\"4845\",\"type\":\"Selection\"},{\"attributes\":{},\"id\":\"4846\",\"type\":\"UnionRenderers\"},{\"attributes\":{},\"id\":\"4844\",\"type\":\"UnionRenderers\"},{\"attributes\":{\"callback\":null,\"data\":{\"x\":[\"1990.5\",\"1991.5\",\"1992.5\",\"1993.5\",\"1994.5\",\"1995.5\",\"1996.5\",\"1997.5\",\"1998.5\",\"1999.5\",\"2000.5\",\"2001.5\",\"2002.5\",\"2003.5\",\"2004.5\",\"2005.5\",\"2006.5\",\"2007.5\",\"2008.5\",\"2009.5\",\"2010.5\",\"2011.5\",\"2012.5\",\"2013.5\",\"2014.5\",\"2015.5\",\"2016.5\"],\"y\":{\"__ndarray__\":\"q6qqqqqaZkB4d3d3d2dmQFVVVVVVNWZAZ2ZmZmYGZkBVVVVVVfVlQCMiIiIiomVAAAAAAABAZUDMzMzMzOxkQFVVVVVVhWRAeHd3d3f3Y0AjIiIiImJjQHd3d3d3t2JAMzMzMzMDYkCZmZmZmUlhQAAAAAAAkGBAzczMzMysX0BnZmZmZkZeQM3MzMzM7FxAIyIiIiKiW0CIiIiIiGhaQLy7u7u7O1lAIyIiIiIiWEAAAAAAACBXQDMzMzMzM1ZAmZmZmZlZVUCZmZmZmZlUQImIiIiI6FNA\",\"dtype\":\"float64\",\"shape\":[27]}},\"selected\":{\"id\":\"4843\",\"type\":\"Selection\"},\"selection_policy\":{\"id\":\"4844\",\"type\":\"UnionRenderers\"}},\"id\":\"4754\",\"type\":\"ColumnDataSource\"},{\"attributes\":{\"source\":{\"id\":\"4761\",\"type\":\"ColumnDataSource\"}},\"id\":\"4765\",\"type\":\"CDSView\"},{\"attributes\":{\"line_alpha\":0.1,\"line_color\":\"#1f77b4\",\"x\":{\"field\":\"x\"},\"y\":{\"field\":\"y\"}},\"id\":\"4763\",\"type\":\"Line\"},{\"attributes\":{},\"id\":\"4745\",\"type\":\"CategoricalTicker\"},{\"attributes\":{\"axis_label\":\"Year\",\"formatter\":{\"id\":\"4841\",\"type\":\"CategoricalTickFormatter\"},\"major_label_orientation\":1.2,\"plot\":{\"id\":\"4734\",\"subtype\":\"Figure\",\"type\":\"Plot\"},\"ticker\":{\"id\":\"4745\",\"type\":\"CategoricalTicker\"}},\"id\":\"4744\",\"type\":\"CategoricalAxis\"}],\"root_ids\":[\"4734\"]},\"title\":\"Bokeh Application\",\"version\":\"1.0.3\"}};\n",
       "  var render_items = [{\"docid\":\"b58543c7-a541-413d-8494-283c87c0de0f\",\"roots\":{\"4734\":\"4d4c405f-4853-483c-aa04-e7769b1e6e47\"}}];\n",
       "  root.Bokeh.embed.embed_items_notebook(docs_json, render_items);\n",
       "\n",
       "  }\n",
       "  if (root.Bokeh !== undefined) {\n",
       "    embed_document(root);\n",
       "  } else {\n",
       "    var attempts = 0;\n",
       "    var timer = setInterval(function(root) {\n",
       "      if (root.Bokeh !== undefined) {\n",
       "        embed_document(root);\n",
       "        clearInterval(timer);\n",
       "      }\n",
       "      attempts++;\n",
       "      if (attempts > 100) {\n",
       "        console.log(\"Bokeh: ERROR: Unable to run BokehJS code because BokehJS library is missing\");\n",
       "        clearInterval(timer);\n",
       "      }\n",
       "    }, 10, root)\n",
       "  }\n",
       "})(window);"
      ],
      "application/vnd.bokehjs_exec.v0+json": ""
     },
     "metadata": {
      "application/vnd.bokehjs_exec.v0+json": {
       "id": "4734"
      }
     },
     "output_type": "display_data"
    },
    {
     "data": {
      "text/html": [
       "\n",
       "\n",
       "\n",
       "\n",
       "\n",
       "\n",
       "  <div class=\"bk-root\" id=\"51cdebc0-41ff-4e76-9499-cc9c68bc2c21\" data-root-id=\"4984\"></div>\n"
      ]
     },
     "metadata": {},
     "output_type": "display_data"
    },
    {
     "data": {
      "application/javascript": [
       "(function(root) {\n",
       "  function embed_document(root) {\n",
       "    \n",
       "  var docs_json = {\"9f6eab4b-d1f3-4b0d-94fe-dc16a8a1fdb5\":{\"roots\":{\"references\":[{\"attributes\":{\"below\":[{\"id\":\"4994\",\"type\":\"CategoricalAxis\"}],\"left\":[{\"id\":\"4998\",\"type\":\"LinearAxis\"}],\"plot_height\":550,\"renderers\":[{\"id\":\"4994\",\"type\":\"CategoricalAxis\"},{\"id\":\"4997\",\"type\":\"Grid\"},{\"id\":\"4998\",\"type\":\"LinearAxis\"},{\"id\":\"5002\",\"type\":\"Grid\"},{\"id\":\"5007\",\"type\":\"GlyphRenderer\"},{\"id\":\"5014\",\"type\":\"GlyphRenderer\"}],\"title\":{\"id\":\"4983\",\"type\":\"Title\"},\"toolbar\":{\"id\":\"5003\",\"type\":\"Toolbar\"},\"toolbar_location\":null,\"x_range\":{\"id\":\"4986\",\"type\":\"FactorRange\"},\"x_scale\":{\"id\":\"4990\",\"type\":\"CategoricalScale\"},\"y_range\":{\"id\":\"4988\",\"type\":\"DataRange1d\"},\"y_scale\":{\"id\":\"4992\",\"type\":\"LinearScale\"}},\"id\":\"4984\",\"subtype\":\"Figure\",\"type\":\"Plot\"},{\"attributes\":{},\"id\":\"5098\",\"type\":\"BasicTickFormatter\"},{\"attributes\":{},\"id\":\"4990\",\"type\":\"CategoricalScale\"},{\"attributes\":{\"fill_alpha\":{\"value\":0.1},\"fill_color\":{\"value\":\"#1f77b4\"},\"line_alpha\":{\"value\":0.1},\"line_color\":{\"value\":\"#1f77b4\"},\"x\":{\"field\":\"x\"},\"y\":{\"field\":\"y\"}},\"id\":\"5006\",\"type\":\"Circle\"},{\"attributes\":{\"axis_label\":\"Number of children\",\"formatter\":{\"id\":\"5098\",\"type\":\"BasicTickFormatter\"},\"plot\":{\"id\":\"4984\",\"subtype\":\"Figure\",\"type\":\"Plot\"},\"ticker\":{\"id\":\"4999\",\"type\":\"BasicTicker\"}},\"id\":\"4998\",\"type\":\"LinearAxis\"},{\"attributes\":{},\"id\":\"5105\",\"type\":\"UnionRenderers\"},{\"attributes\":{},\"id\":\"4999\",\"type\":\"BasicTicker\"},{\"attributes\":{\"active_drag\":\"auto\",\"active_inspect\":\"auto\",\"active_multi\":null,\"active_scroll\":\"auto\",\"active_tap\":\"auto\",\"tools\":[{\"id\":\"5009\",\"type\":\"HoverTool\"}]},\"id\":\"5003\",\"type\":\"Toolbar\"},{\"attributes\":{\"callback\":null,\"factors\":[\"1990.5\",\"1991.5\",\"1992.5\",\"1993.5\",\"1994.5\",\"1995.5\",\"1996.5\",\"1997.5\",\"1998.5\",\"1999.5\",\"2000.5\",\"2001.5\",\"2002.5\",\"2003.5\",\"2004.5\",\"2005.5\",\"2006.5\",\"2007.5\",\"2008.5\",\"2009.5\",\"2010.5\",\"2011.5\",\"2012.5\",\"2013.5\",\"2014.5\",\"2015.5\",\"2016.5\"]},\"id\":\"4986\",\"type\":\"FactorRange\"},{\"attributes\":{},\"id\":\"4992\",\"type\":\"LinearScale\"},{\"attributes\":{\"callback\":null,\"start\":0},\"id\":\"4988\",\"type\":\"DataRange1d\"},{\"attributes\":{\"callback\":null,\"data\":{\"x\":[\"1990.5\",\"1991.5\",\"1992.5\",\"1993.5\",\"1994.5\",\"1995.5\",\"1996.5\",\"1997.5\",\"1998.5\",\"1999.5\",\"2000.5\",\"2001.5\",\"2002.5\",\"2003.5\",\"2004.5\",\"2005.5\",\"2006.5\",\"2007.5\",\"2008.5\",\"2009.5\",\"2010.5\",\"2011.5\",\"2012.5\",\"2013.5\",\"2014.5\",\"2015.5\",\"2016.5\"],\"y\":{\"__ndarray__\":\"u7u7u7vbaEDd3d3d3a1oQBERERERgWhARURERERUaEAQERERESFoQBERERER4WdARERERESUZ0AzMzMzMzNnQPDu7u7uvmZAmZmZmZk5ZkAjIiIiIqJlQLy7u7u7+2RAqqqqqqpKZEBVVVVVVZVjQO/u7u7u3mJAd3d3d3cnYkAzMzMzM3NhQERERERExGBAmZmZmZkZYECrqqqqqupeQDMzMzMzs11A8O7u7u6OXEAjIiIiIoJbQGdmZmZmhlpAIyIiIiKiWUDNzMzMzMxYQImIiIiICFhA\",\"dtype\":\"float64\",\"shape\":[27]}},\"selected\":{\"id\":\"5104\",\"type\":\"Selection\"},\"selection_policy\":{\"id\":\"5105\",\"type\":\"UnionRenderers\"}},\"id\":\"5011\",\"type\":\"ColumnDataSource\"},{\"attributes\":{\"data_source\":{\"id\":\"5004\",\"type\":\"ColumnDataSource\"},\"glyph\":{\"id\":\"5005\",\"type\":\"Circle\"},\"hover_glyph\":null,\"muted_glyph\":null,\"nonselection_glyph\":{\"id\":\"5006\",\"type\":\"Circle\"},\"selection_glyph\":null,\"view\":{\"id\":\"5008\",\"type\":\"CDSView\"}},\"id\":\"5007\",\"type\":\"GlyphRenderer\"},{\"attributes\":{\"line_alpha\":0.1,\"line_color\":\"#1f77b4\",\"x\":{\"field\":\"x\"},\"y\":{\"field\":\"y\"}},\"id\":\"5013\",\"type\":\"Line\"},{\"attributes\":{\"dimension\":1,\"plot\":{\"id\":\"4984\",\"subtype\":\"Figure\",\"type\":\"Plot\"},\"ticker\":{\"id\":\"4999\",\"type\":\"BasicTicker\"}},\"id\":\"5002\",\"type\":\"Grid\"},{\"attributes\":{},\"id\":\"5102\",\"type\":\"Selection\"},{\"attributes\":{\"callback\":null},\"id\":\"5009\",\"type\":\"HoverTool\"},{\"attributes\":{\"callback\":null,\"data\":{\"x\":[\"1990.5\",\"1991.5\",\"1992.5\",\"1993.5\",\"1994.5\",\"1995.5\",\"1996.5\",\"1997.5\",\"1998.5\",\"1999.5\",\"2000.5\",\"2001.5\",\"2002.5\",\"2003.5\",\"2004.5\",\"2005.5\",\"2006.5\",\"2007.5\",\"2008.5\",\"2009.5\",\"2010.5\",\"2011.5\",\"2012.5\",\"2013.5\",\"2014.5\",\"2015.5\",\"2016.5\"],\"y\":{\"__ndarray__\":\"u7u7u7vbaEDd3d3d3a1oQBERERERgWhARURERERUaEAQERERESFoQBERERER4WdARERERESUZ0AzMzMzMzNnQPDu7u7uvmZAmZmZmZk5ZkAjIiIiIqJlQLy7u7u7+2RAqqqqqqpKZEBVVVVVVZVjQO/u7u7u3mJAd3d3d3cnYkAzMzMzM3NhQERERERExGBAmZmZmZkZYECrqqqqqupeQDMzMzMzs11A8O7u7u6OXEAjIiIiIoJbQGdmZmZmhlpAIyIiIiKiWUDNzMzMzMxYQImIiIiICFhA\",\"dtype\":\"float64\",\"shape\":[27]}},\"selected\":{\"id\":\"5102\",\"type\":\"Selection\"},\"selection_policy\":{\"id\":\"5103\",\"type\":\"UnionRenderers\"}},\"id\":\"5004\",\"type\":\"ColumnDataSource\"},{\"attributes\":{\"plot\":{\"id\":\"4984\",\"subtype\":\"Figure\",\"type\":\"Plot\"},\"ticker\":{\"id\":\"4995\",\"type\":\"CategoricalTicker\"}},\"id\":\"4997\",\"type\":\"Grid\"},{\"attributes\":{\"data_source\":{\"id\":\"5011\",\"type\":\"ColumnDataSource\"},\"glyph\":{\"id\":\"5012\",\"type\":\"Line\"},\"hover_glyph\":null,\"muted_glyph\":null,\"nonselection_glyph\":{\"id\":\"5013\",\"type\":\"Line\"},\"selection_glyph\":null,\"view\":{\"id\":\"5015\",\"type\":\"CDSView\"}},\"id\":\"5014\",\"type\":\"GlyphRenderer\"},{\"attributes\":{\"line_color\":\"#1f77b4\",\"x\":{\"field\":\"x\"},\"y\":{\"field\":\"y\"}},\"id\":\"5012\",\"type\":\"Line\"},{\"attributes\":{\"axis_label\":\"Year\",\"formatter\":{\"id\":\"5100\",\"type\":\"CategoricalTickFormatter\"},\"major_label_orientation\":1.2,\"plot\":{\"id\":\"4984\",\"subtype\":\"Figure\",\"type\":\"Plot\"},\"ticker\":{\"id\":\"4995\",\"type\":\"CategoricalTicker\"}},\"id\":\"4994\",\"type\":\"CategoricalAxis\"},{\"attributes\":{},\"id\":\"5104\",\"type\":\"Selection\"},{\"attributes\":{},\"id\":\"5100\",\"type\":\"CategoricalTickFormatter\"},{\"attributes\":{},\"id\":\"5103\",\"type\":\"UnionRenderers\"},{\"attributes\":{\"plot\":null,\"text\":\"West and Central Africa\"},\"id\":\"4983\",\"type\":\"Title\"},{\"attributes\":{\"source\":{\"id\":\"5011\",\"type\":\"ColumnDataSource\"}},\"id\":\"5015\",\"type\":\"CDSView\"},{\"attributes\":{},\"id\":\"4995\",\"type\":\"CategoricalTicker\"},{\"attributes\":{\"source\":{\"id\":\"5004\",\"type\":\"ColumnDataSource\"}},\"id\":\"5008\",\"type\":\"CDSView\"},{\"attributes\":{\"fill_color\":{\"value\":\"#D9371B\"},\"line_color\":{\"value\":\"#1f77b4\"},\"x\":{\"field\":\"x\"},\"y\":{\"field\":\"y\"}},\"id\":\"5005\",\"type\":\"Circle\"}],\"root_ids\":[\"4984\"]},\"title\":\"Bokeh Application\",\"version\":\"1.0.3\"}};\n",
       "  var render_items = [{\"docid\":\"9f6eab4b-d1f3-4b0d-94fe-dc16a8a1fdb5\",\"roots\":{\"4984\":\"51cdebc0-41ff-4e76-9499-cc9c68bc2c21\"}}];\n",
       "  root.Bokeh.embed.embed_items_notebook(docs_json, render_items);\n",
       "\n",
       "  }\n",
       "  if (root.Bokeh !== undefined) {\n",
       "    embed_document(root);\n",
       "  } else {\n",
       "    var attempts = 0;\n",
       "    var timer = setInterval(function(root) {\n",
       "      if (root.Bokeh !== undefined) {\n",
       "        embed_document(root);\n",
       "        clearInterval(timer);\n",
       "      }\n",
       "      attempts++;\n",
       "      if (attempts > 100) {\n",
       "        console.log(\"Bokeh: ERROR: Unable to run BokehJS code because BokehJS library is missing\");\n",
       "        clearInterval(timer);\n",
       "      }\n",
       "    }, 10, root)\n",
       "  }\n",
       "})(window);"
      ],
      "application/vnd.bokehjs_exec.v0+json": ""
     },
     "metadata": {
      "application/vnd.bokehjs_exec.v0+json": {
       "id": "4984"
      }
     },
     "output_type": "display_data"
    },
    {
     "data": {
      "text/html": [
       "\n",
       "\n",
       "\n",
       "\n",
       "\n",
       "\n",
       "  <div class=\"bk-root\" id=\"a7382e62-7472-441c-b284-8bf785797887\" data-root-id=\"5243\"></div>\n"
      ]
     },
     "metadata": {},
     "output_type": "display_data"
    },
    {
     "data": {
      "application/javascript": [
       "(function(root) {\n",
       "  function embed_document(root) {\n",
       "    \n",
       "  var docs_json = {\"a1f1c7ba-4e00-4585-a836-b350f23c3d29\":{\"roots\":{\"references\":[{\"attributes\":{\"below\":[{\"id\":\"5253\",\"type\":\"CategoricalAxis\"}],\"left\":[{\"id\":\"5257\",\"type\":\"LinearAxis\"}],\"plot_height\":550,\"renderers\":[{\"id\":\"5253\",\"type\":\"CategoricalAxis\"},{\"id\":\"5256\",\"type\":\"Grid\"},{\"id\":\"5257\",\"type\":\"LinearAxis\"},{\"id\":\"5261\",\"type\":\"Grid\"},{\"id\":\"5266\",\"type\":\"GlyphRenderer\"},{\"id\":\"5273\",\"type\":\"GlyphRenderer\"}],\"title\":{\"id\":\"5242\",\"type\":\"Title\"},\"toolbar\":{\"id\":\"5262\",\"type\":\"Toolbar\"},\"toolbar_location\":null,\"x_range\":{\"id\":\"5245\",\"type\":\"FactorRange\"},\"x_scale\":{\"id\":\"5249\",\"type\":\"CategoricalScale\"},\"y_range\":{\"id\":\"5247\",\"type\":\"DataRange1d\"},\"y_scale\":{\"id\":\"5251\",\"type\":\"LinearScale\"}},\"id\":\"5243\",\"subtype\":\"Figure\",\"type\":\"Plot\"},{\"attributes\":{},\"id\":\"5251\",\"type\":\"LinearScale\"},{\"attributes\":{},\"id\":\"5373\",\"type\":\"UnionRenderers\"},{\"attributes\":{},\"id\":\"5254\",\"type\":\"CategoricalTicker\"},{\"attributes\":{},\"id\":\"5370\",\"type\":\"Selection\"},{\"attributes\":{\"callback\":null,\"start\":0},\"id\":\"5247\",\"type\":\"DataRange1d\"},{\"attributes\":{\"dimension\":1,\"plot\":{\"id\":\"5243\",\"subtype\":\"Figure\",\"type\":\"Plot\"},\"ticker\":{\"id\":\"5258\",\"type\":\"BasicTicker\"}},\"id\":\"5261\",\"type\":\"Grid\"},{\"attributes\":{\"data_source\":{\"id\":\"5270\",\"type\":\"ColumnDataSource\"},\"glyph\":{\"id\":\"5271\",\"type\":\"Line\"},\"hover_glyph\":null,\"muted_glyph\":null,\"nonselection_glyph\":{\"id\":\"5272\",\"type\":\"Line\"},\"selection_glyph\":null,\"view\":{\"id\":\"5274\",\"type\":\"CDSView\"}},\"id\":\"5273\",\"type\":\"GlyphRenderer\"},{\"attributes\":{\"plot\":null,\"text\":\"Western Europe\"},\"id\":\"5242\",\"type\":\"Title\"},{\"attributes\":{},\"id\":\"5371\",\"type\":\"UnionRenderers\"},{\"attributes\":{},\"id\":\"5366\",\"type\":\"BasicTickFormatter\"},{\"attributes\":{\"axis_label\":\"Number of children\",\"formatter\":{\"id\":\"5366\",\"type\":\"BasicTickFormatter\"},\"plot\":{\"id\":\"5243\",\"subtype\":\"Figure\",\"type\":\"Plot\"},\"ticker\":{\"id\":\"5258\",\"type\":\"BasicTicker\"}},\"id\":\"5257\",\"type\":\"LinearAxis\"},{\"attributes\":{\"axis_label\":\"Year\",\"formatter\":{\"id\":\"5368\",\"type\":\"CategoricalTickFormatter\"},\"major_label_orientation\":1.2,\"plot\":{\"id\":\"5243\",\"subtype\":\"Figure\",\"type\":\"Plot\"},\"ticker\":{\"id\":\"5254\",\"type\":\"CategoricalTicker\"}},\"id\":\"5253\",\"type\":\"CategoricalAxis\"},{\"attributes\":{},\"id\":\"5249\",\"type\":\"CategoricalScale\"},{\"attributes\":{},\"id\":\"5372\",\"type\":\"Selection\"},{\"attributes\":{\"callback\":null,\"factors\":[\"1990.5\",\"1991.5\",\"1992.5\",\"1993.5\",\"1994.5\",\"1995.5\",\"1996.5\",\"1997.5\",\"1998.5\",\"1999.5\",\"2000.5\",\"2001.5\",\"2002.5\",\"2003.5\",\"2004.5\",\"2005.5\",\"2006.5\",\"2007.5\",\"2008.5\",\"2009.5\",\"2010.5\",\"2011.5\",\"2012.5\",\"2013.5\",\"2014.5\",\"2015.5\",\"2016.5\"]},\"id\":\"5245\",\"type\":\"FactorRange\"},{\"attributes\":{\"fill_color\":{\"value\":\"#D9371B\"},\"line_color\":{\"value\":\"#1f77b4\"},\"x\":{\"field\":\"x\"},\"y\":{\"field\":\"y\"}},\"id\":\"5264\",\"type\":\"Circle\"},{\"attributes\":{\"active_drag\":\"auto\",\"active_inspect\":\"auto\",\"active_multi\":null,\"active_scroll\":\"auto\",\"active_tap\":\"auto\",\"tools\":[{\"id\":\"5268\",\"type\":\"HoverTool\"}]},\"id\":\"5262\",\"type\":\"Toolbar\"},{\"attributes\":{},\"id\":\"5258\",\"type\":\"BasicTicker\"},{\"attributes\":{},\"id\":\"5368\",\"type\":\"CategoricalTickFormatter\"},{\"attributes\":{\"callback\":null,\"data\":{\"x\":[\"1990.5\",\"1991.5\",\"1992.5\",\"1993.5\",\"1994.5\",\"1995.5\",\"1996.5\",\"1997.5\",\"1998.5\",\"1999.5\",\"2000.5\",\"2001.5\",\"2002.5\",\"2003.5\",\"2004.5\",\"2005.5\",\"2006.5\",\"2007.5\",\"2008.5\",\"2009.5\",\"2010.5\",\"2011.5\",\"2012.5\",\"2013.5\",\"2014.5\",\"2015.5\",\"2016.5\"],\"y\":{\"__ndarray__\":\"AAAAAAAAJUAREREREREkQBERERERESNAERERERERIkAAAAAAAAAhQN3d3d3d3R9AIyIiIiIiHkBEREREREQcQO/u7u7u7hpAvLu7u7u7GUDNzMzMzMwYQN3d3d3d3RdAERERERERF0BEREREREQWQJuZmZmZmRVA7+7u7u7uFEBEREREREQUQJqZmZmZmRNAERERERERE0BmZmZmZmYSQN7d3d3d3RFAVVVVVVVVEUDNzMzMzMwQQGZmZmZmZhBAIiIiIiIiEEB4d3d3d3cPQO/u7u7u7g5A\",\"dtype\":\"float64\",\"shape\":[27]}},\"selected\":{\"id\":\"5370\",\"type\":\"Selection\"},\"selection_policy\":{\"id\":\"5371\",\"type\":\"UnionRenderers\"}},\"id\":\"5263\",\"type\":\"ColumnDataSource\"},{\"attributes\":{\"line_alpha\":0.1,\"line_color\":\"#1f77b4\",\"x\":{\"field\":\"x\"},\"y\":{\"field\":\"y\"}},\"id\":\"5272\",\"type\":\"Line\"},{\"attributes\":{\"callback\":null},\"id\":\"5268\",\"type\":\"HoverTool\"},{\"attributes\":{\"line_color\":\"#1f77b4\",\"x\":{\"field\":\"x\"},\"y\":{\"field\":\"y\"}},\"id\":\"5271\",\"type\":\"Line\"},{\"attributes\":{\"source\":{\"id\":\"5270\",\"type\":\"ColumnDataSource\"}},\"id\":\"5274\",\"type\":\"CDSView\"},{\"attributes\":{\"callback\":null,\"data\":{\"x\":[\"1990.5\",\"1991.5\",\"1992.5\",\"1993.5\",\"1994.5\",\"1995.5\",\"1996.5\",\"1997.5\",\"1998.5\",\"1999.5\",\"2000.5\",\"2001.5\",\"2002.5\",\"2003.5\",\"2004.5\",\"2005.5\",\"2006.5\",\"2007.5\",\"2008.5\",\"2009.5\",\"2010.5\",\"2011.5\",\"2012.5\",\"2013.5\",\"2014.5\",\"2015.5\",\"2016.5\"],\"y\":{\"__ndarray__\":\"AAAAAAAAJUAREREREREkQBERERERESNAERERERERIkAAAAAAAAAhQN3d3d3d3R9AIyIiIiIiHkBEREREREQcQO/u7u7u7hpAvLu7u7u7GUDNzMzMzMwYQN3d3d3d3RdAERERERERF0BEREREREQWQJuZmZmZmRVA7+7u7u7uFEBEREREREQUQJqZmZmZmRNAERERERERE0BmZmZmZmYSQN7d3d3d3RFAVVVVVVVVEUDNzMzMzMwQQGZmZmZmZhBAIiIiIiIiEEB4d3d3d3cPQO/u7u7u7g5A\",\"dtype\":\"float64\",\"shape\":[27]}},\"selected\":{\"id\":\"5372\",\"type\":\"Selection\"},\"selection_policy\":{\"id\":\"5373\",\"type\":\"UnionRenderers\"}},\"id\":\"5270\",\"type\":\"ColumnDataSource\"},{\"attributes\":{\"plot\":{\"id\":\"5243\",\"subtype\":\"Figure\",\"type\":\"Plot\"},\"ticker\":{\"id\":\"5254\",\"type\":\"CategoricalTicker\"}},\"id\":\"5256\",\"type\":\"Grid\"},{\"attributes\":{\"fill_alpha\":{\"value\":0.1},\"fill_color\":{\"value\":\"#1f77b4\"},\"line_alpha\":{\"value\":0.1},\"line_color\":{\"value\":\"#1f77b4\"},\"x\":{\"field\":\"x\"},\"y\":{\"field\":\"y\"}},\"id\":\"5265\",\"type\":\"Circle\"},{\"attributes\":{\"data_source\":{\"id\":\"5263\",\"type\":\"ColumnDataSource\"},\"glyph\":{\"id\":\"5264\",\"type\":\"Circle\"},\"hover_glyph\":null,\"muted_glyph\":null,\"nonselection_glyph\":{\"id\":\"5265\",\"type\":\"Circle\"},\"selection_glyph\":null,\"view\":{\"id\":\"5267\",\"type\":\"CDSView\"}},\"id\":\"5266\",\"type\":\"GlyphRenderer\"},{\"attributes\":{\"source\":{\"id\":\"5263\",\"type\":\"ColumnDataSource\"}},\"id\":\"5267\",\"type\":\"CDSView\"}],\"root_ids\":[\"5243\"]},\"title\":\"Bokeh Application\",\"version\":\"1.0.3\"}};\n",
       "  var render_items = [{\"docid\":\"a1f1c7ba-4e00-4585-a836-b350f23c3d29\",\"roots\":{\"5243\":\"a7382e62-7472-441c-b284-8bf785797887\"}}];\n",
       "  root.Bokeh.embed.embed_items_notebook(docs_json, render_items);\n",
       "\n",
       "  }\n",
       "  if (root.Bokeh !== undefined) {\n",
       "    embed_document(root);\n",
       "  } else {\n",
       "    var attempts = 0;\n",
       "    var timer = setInterval(function(root) {\n",
       "      if (root.Bokeh !== undefined) {\n",
       "        embed_document(root);\n",
       "        clearInterval(timer);\n",
       "      }\n",
       "      attempts++;\n",
       "      if (attempts > 100) {\n",
       "        console.log(\"Bokeh: ERROR: Unable to run BokehJS code because BokehJS library is missing\");\n",
       "        clearInterval(timer);\n",
       "      }\n",
       "    }, 10, root)\n",
       "  }\n",
       "})(window);"
      ],
      "application/vnd.bokehjs_exec.v0+json": ""
     },
     "metadata": {
      "application/vnd.bokehjs_exec.v0+json": {
       "id": "5243"
      }
     },
     "output_type": "display_data"
    },
    {
     "data": {
      "text/html": [
       "\n",
       "\n",
       "\n",
       "\n",
       "\n",
       "\n",
       "  <div class=\"bk-root\" id=\"ae91fec6-9d29-4003-8ad0-bf1ab1ebc1ee\" data-root-id=\"5511\"></div>\n"
      ]
     },
     "metadata": {},
     "output_type": "display_data"
    },
    {
     "data": {
      "application/javascript": [
       "(function(root) {\n",
       "  function embed_document(root) {\n",
       "    \n",
       "  var docs_json = {\"c32e70dc-4f44-4bbb-b149-49ed15bccc6c\":{\"roots\":{\"references\":[{\"attributes\":{\"below\":[{\"id\":\"5521\",\"type\":\"CategoricalAxis\"}],\"left\":[{\"id\":\"5525\",\"type\":\"LinearAxis\"}],\"plot_height\":550,\"renderers\":[{\"id\":\"5521\",\"type\":\"CategoricalAxis\"},{\"id\":\"5524\",\"type\":\"Grid\"},{\"id\":\"5525\",\"type\":\"LinearAxis\"},{\"id\":\"5529\",\"type\":\"Grid\"},{\"id\":\"5534\",\"type\":\"GlyphRenderer\"},{\"id\":\"5541\",\"type\":\"GlyphRenderer\"}],\"title\":{\"id\":\"5510\",\"type\":\"Title\"},\"toolbar\":{\"id\":\"5530\",\"type\":\"Toolbar\"},\"toolbar_location\":null,\"x_range\":{\"id\":\"5513\",\"type\":\"FactorRange\"},\"x_scale\":{\"id\":\"5517\",\"type\":\"CategoricalScale\"},\"y_range\":{\"id\":\"5515\",\"type\":\"DataRange1d\"},\"y_scale\":{\"id\":\"5519\",\"type\":\"LinearScale\"}},\"id\":\"5511\",\"subtype\":\"Figure\",\"type\":\"Plot\"},{\"attributes\":{},\"id\":\"5648\",\"type\":\"UnionRenderers\"},{\"attributes\":{},\"id\":\"5517\",\"type\":\"CategoricalScale\"},{\"attributes\":{\"plot\":{\"id\":\"5511\",\"subtype\":\"Figure\",\"type\":\"Plot\"},\"ticker\":{\"id\":\"5522\",\"type\":\"CategoricalTicker\"}},\"id\":\"5524\",\"type\":\"Grid\"},{\"attributes\":{},\"id\":\"5645\",\"type\":\"CategoricalTickFormatter\"},{\"attributes\":{},\"id\":\"5519\",\"type\":\"LinearScale\"},{\"attributes\":{\"axis_label\":\"Year\",\"formatter\":{\"id\":\"5645\",\"type\":\"CategoricalTickFormatter\"},\"major_label_orientation\":1.2,\"plot\":{\"id\":\"5511\",\"subtype\":\"Figure\",\"type\":\"Plot\"},\"ticker\":{\"id\":\"5522\",\"type\":\"CategoricalTicker\"}},\"id\":\"5521\",\"type\":\"CategoricalAxis\"},{\"attributes\":{\"axis_label\":\"Number of children\",\"formatter\":{\"id\":\"5643\",\"type\":\"BasicTickFormatter\"},\"plot\":{\"id\":\"5511\",\"subtype\":\"Figure\",\"type\":\"Plot\"},\"ticker\":{\"id\":\"5526\",\"type\":\"BasicTicker\"}},\"id\":\"5525\",\"type\":\"LinearAxis\"},{\"attributes\":{\"callback\":null},\"id\":\"5536\",\"type\":\"HoverTool\"},{\"attributes\":{},\"id\":\"5643\",\"type\":\"BasicTickFormatter\"},{\"attributes\":{\"callback\":null,\"data\":{\"x\":[\"1990.5\",\"1991.5\",\"1992.5\",\"1993.5\",\"1994.5\",\"1995.5\",\"1996.5\",\"1997.5\",\"1998.5\",\"1999.5\",\"2000.5\",\"2001.5\",\"2002.5\",\"2003.5\",\"2004.5\",\"2005.5\",\"2006.5\",\"2007.5\",\"2008.5\",\"2009.5\",\"2010.5\",\"2011.5\",\"2012.5\",\"2013.5\",\"2014.5\",\"2015.5\",\"2016.5\"],\"y\":{\"__ndarray__\":\"3d3d3d1dV0CrqqqqqgpXQLy7u7u7u1ZAERERERFxVkARERERETFWQHh3d3d311VAzczMzMxsVUAjIiIiIgJVQM3MzMzMjFRA3t3d3d39U0AAAAAAAGBTQHd3d3d3t1JAZ2ZmZmYGUkAzMzMzM1NRQBERERERsVBAIyIiIiLiT0AREREREZFOQIiIiIiISE1AIyIiIiIiTEBnZmZmZuZKQGdmZmZm5klAvLu7u7u7SEAAAAAAAMBHQJmZmZmZ2UZAREREREQERkBFRERERERFQJqZmZmZmURA\",\"dtype\":\"float64\",\"shape\":[27]}},\"selected\":{\"id\":\"5647\",\"type\":\"Selection\"},\"selection_policy\":{\"id\":\"5648\",\"type\":\"UnionRenderers\"}},\"id\":\"5531\",\"type\":\"ColumnDataSource\"},{\"attributes\":{},\"id\":\"5650\",\"type\":\"UnionRenderers\"},{\"attributes\":{\"source\":{\"id\":\"5531\",\"type\":\"ColumnDataSource\"}},\"id\":\"5535\",\"type\":\"CDSView\"},{\"attributes\":{\"fill_color\":{\"value\":\"#D9371B\"},\"line_color\":{\"value\":\"#1f77b4\"},\"x\":{\"field\":\"x\"},\"y\":{\"field\":\"y\"}},\"id\":\"5532\",\"type\":\"Circle\"},{\"attributes\":{\"active_drag\":\"auto\",\"active_inspect\":\"auto\",\"active_multi\":null,\"active_scroll\":\"auto\",\"active_tap\":\"auto\",\"tools\":[{\"id\":\"5536\",\"type\":\"HoverTool\"}]},\"id\":\"5530\",\"type\":\"Toolbar\"},{\"attributes\":{\"line_color\":\"#1f77b4\",\"x\":{\"field\":\"x\"},\"y\":{\"field\":\"y\"}},\"id\":\"5539\",\"type\":\"Line\"},{\"attributes\":{\"fill_alpha\":{\"value\":0.1},\"fill_color\":{\"value\":\"#1f77b4\"},\"line_alpha\":{\"value\":0.1},\"line_color\":{\"value\":\"#1f77b4\"},\"x\":{\"field\":\"x\"},\"y\":{\"field\":\"y\"}},\"id\":\"5533\",\"type\":\"Circle\"},{\"attributes\":{\"callback\":null,\"factors\":[\"1990.5\",\"1991.5\",\"1992.5\",\"1993.5\",\"1994.5\",\"1995.5\",\"1996.5\",\"1997.5\",\"1998.5\",\"1999.5\",\"2000.5\",\"2001.5\",\"2002.5\",\"2003.5\",\"2004.5\",\"2005.5\",\"2006.5\",\"2007.5\",\"2008.5\",\"2009.5\",\"2010.5\",\"2011.5\",\"2012.5\",\"2013.5\",\"2014.5\",\"2015.5\",\"2016.5\"]},\"id\":\"5513\",\"type\":\"FactorRange\"},{\"attributes\":{\"callback\":null,\"start\":0},\"id\":\"5515\",\"type\":\"DataRange1d\"},{\"attributes\":{\"data_source\":{\"id\":\"5531\",\"type\":\"ColumnDataSource\"},\"glyph\":{\"id\":\"5532\",\"type\":\"Circle\"},\"hover_glyph\":null,\"muted_glyph\":null,\"nonselection_glyph\":{\"id\":\"5533\",\"type\":\"Circle\"},\"selection_glyph\":null,\"view\":{\"id\":\"5535\",\"type\":\"CDSView\"}},\"id\":\"5534\",\"type\":\"GlyphRenderer\"},{\"attributes\":{},\"id\":\"5647\",\"type\":\"Selection\"},{\"attributes\":{},\"id\":\"5649\",\"type\":\"Selection\"},{\"attributes\":{\"dimension\":1,\"plot\":{\"id\":\"5511\",\"subtype\":\"Figure\",\"type\":\"Plot\"},\"ticker\":{\"id\":\"5526\",\"type\":\"BasicTicker\"}},\"id\":\"5529\",\"type\":\"Grid\"},{\"attributes\":{\"data_source\":{\"id\":\"5538\",\"type\":\"ColumnDataSource\"},\"glyph\":{\"id\":\"5539\",\"type\":\"Line\"},\"hover_glyph\":null,\"muted_glyph\":null,\"nonselection_glyph\":{\"id\":\"5540\",\"type\":\"Line\"},\"selection_glyph\":null,\"view\":{\"id\":\"5542\",\"type\":\"CDSView\"}},\"id\":\"5541\",\"type\":\"GlyphRenderer\"},{\"attributes\":{\"line_alpha\":0.1,\"line_color\":\"#1f77b4\",\"x\":{\"field\":\"x\"},\"y\":{\"field\":\"y\"}},\"id\":\"5540\",\"type\":\"Line\"},{\"attributes\":{},\"id\":\"5526\",\"type\":\"BasicTicker\"},{\"attributes\":{\"source\":{\"id\":\"5538\",\"type\":\"ColumnDataSource\"}},\"id\":\"5542\",\"type\":\"CDSView\"},{\"attributes\":{\"callback\":null,\"data\":{\"x\":[\"1990.5\",\"1991.5\",\"1992.5\",\"1993.5\",\"1994.5\",\"1995.5\",\"1996.5\",\"1997.5\",\"1998.5\",\"1999.5\",\"2000.5\",\"2001.5\",\"2002.5\",\"2003.5\",\"2004.5\",\"2005.5\",\"2006.5\",\"2007.5\",\"2008.5\",\"2009.5\",\"2010.5\",\"2011.5\",\"2012.5\",\"2013.5\",\"2014.5\",\"2015.5\",\"2016.5\"],\"y\":{\"__ndarray__\":\"3d3d3d1dV0CrqqqqqgpXQLy7u7u7u1ZAERERERFxVkARERERETFWQHh3d3d311VAzczMzMxsVUAjIiIiIgJVQM3MzMzMjFRA3t3d3d39U0AAAAAAAGBTQHd3d3d3t1JAZ2ZmZmYGUkAzMzMzM1NRQBERERERsVBAIyIiIiLiT0AREREREZFOQIiIiIiISE1AIyIiIiIiTEBnZmZmZuZKQGdmZmZm5klAvLu7u7u7SEAAAAAAAMBHQJmZmZmZ2UZAREREREQERkBFRERERERFQJqZmZmZmURA\",\"dtype\":\"float64\",\"shape\":[27]}},\"selected\":{\"id\":\"5649\",\"type\":\"Selection\"},\"selection_policy\":{\"id\":\"5650\",\"type\":\"UnionRenderers\"}},\"id\":\"5538\",\"type\":\"ColumnDataSource\"},{\"attributes\":{\"plot\":null,\"text\":\"World\"},\"id\":\"5510\",\"type\":\"Title\"},{\"attributes\":{},\"id\":\"5522\",\"type\":\"CategoricalTicker\"}],\"root_ids\":[\"5511\"]},\"title\":\"Bokeh Application\",\"version\":\"1.0.3\"}};\n",
       "  var render_items = [{\"docid\":\"c32e70dc-4f44-4bbb-b149-49ed15bccc6c\",\"roots\":{\"5511\":\"ae91fec6-9d29-4003-8ad0-bf1ab1ebc1ee\"}}];\n",
       "  root.Bokeh.embed.embed_items_notebook(docs_json, render_items);\n",
       "\n",
       "  }\n",
       "  if (root.Bokeh !== undefined) {\n",
       "    embed_document(root);\n",
       "  } else {\n",
       "    var attempts = 0;\n",
       "    var timer = setInterval(function(root) {\n",
       "      if (root.Bokeh !== undefined) {\n",
       "        embed_document(root);\n",
       "        clearInterval(timer);\n",
       "      }\n",
       "      attempts++;\n",
       "      if (attempts > 100) {\n",
       "        console.log(\"Bokeh: ERROR: Unable to run BokehJS code because BokehJS library is missing\");\n",
       "        clearInterval(timer);\n",
       "      }\n",
       "    }, 10, root)\n",
       "  }\n",
       "})(window);"
      ],
      "application/vnd.bokehjs_exec.v0+json": ""
     },
     "metadata": {
      "application/vnd.bokehjs_exec.v0+json": {
       "id": "5511"
      }
     },
     "output_type": "display_data"
    }
   ],
   "source": [
    "%run Read.ipynb # Leemos el archivo\n",
    "# Ahora vamos a graficar una linea region por region\n",
    "\n",
    "# Standard imports \n",
    "from bokeh.io import output_notebook\n",
    "from bokeh.plotting import figure, output_notebook, save, show\n",
    "from bokeh.models import ColumnDataSource, HoverTool\n",
    "output_notebook()\n",
    "\n",
    "group01 = group.drop('Averages', 1)\n",
    "group01 = group01.drop('Region Name', 1)\n",
    "group01\n",
    "x_range = group01.to_dict('split')['columns']\n",
    "\n",
    "# Lo metemos dentro de un ciclo\n",
    "index = 0\n",
    "\n",
    "\n",
    "while index <= 11:\n",
    "    title = str(group['Region Name'][index])\n",
    "    y_range = group01.iloc[index]\n",
    "\n",
    "    figure02 = figure(x_range=x_range, plot_height=550, title=title, toolbar_location=None, tools=\"\")\n",
    "    figure02.circle(x=x_range, y=y_range, size=4, fill_color=colors01[10])\n",
    "    figure02.add_tools(HoverTool())\n",
    "    figure02.line(x=x_range, y=y_range)\n",
    "    figure02.y_range.start = 0\n",
    "    figure02.yaxis.axis_label = \"Number of children\"\n",
    "    figure02.xaxis.axis_label = \"Year\"\n",
    "    figure02.xaxis.major_label_orientation = 1.2\n",
    "    \n",
    "\n",
    "\n",
    "    \n",
    "    index+=1\n",
    "    filename = \"figures/figuresByRegion/\"\n",
    "    filename += title.replace(\" \", \"_\")\n",
    "    filename += \".html\"\n",
    "    show(figure02)\n",
    "    save(obj=figure02, filename=filename, title=\"Figure02\")"
   ]
  }
 ],
 "metadata": {
  "kernelspec": {
   "display_name": "Python 3",
   "language": "python",
   "name": "python3"
  },
  "language_info": {
   "codemirror_mode": {
    "name": "ipython",
    "version": 3
   },
   "file_extension": ".py",
   "mimetype": "text/x-python",
   "name": "python",
   "nbconvert_exporter": "python",
   "pygments_lexer": "ipython3",
   "version": "3.7.2"
  }
 },
 "nbformat": 4,
 "nbformat_minor": 2
}
