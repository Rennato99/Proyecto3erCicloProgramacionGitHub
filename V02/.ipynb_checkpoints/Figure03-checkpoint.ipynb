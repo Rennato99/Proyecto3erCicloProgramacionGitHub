{
 "cells": [
  {
   "cell_type": "code",
   "execution_count": 7,
   "metadata": {},
   "outputs": [],
   "source": [
    "%run Read.ipynb # Leemos el archivo\n",
    "# Ahora vamos a graficar una linea region por region\n",
    "\n",
    "# Standard imports \n",
    "from bokeh.io import output_notebook\n",
    "from bokeh.plotting import figure, output_notebook, save\n",
    "from bokeh.models import ColumnDataSource, HoverTool\n",
    "\n",
    "\n",
    "# Ahora vamos a graficar una linea region por region\n",
    "\n",
    "\n",
    "group01 = group.drop('Averages', 1)\n",
    "group01 = group01.drop('Region Name', 1)\n",
    "group01 = group01.drop(group01.index[11])\n",
    "x_range = group01.to_dict('split')['columns']\n",
    "\n",
    "# Lo metemos dentro de un ciclo\n",
    "index = 0\n",
    "figure03 = figure(x_range=x_range, plot_width=1000, plot_height=1000)    \n",
    "\n",
    "while index <= 10:\n",
    "    title = str(group['Region Name'][index])\n",
    "    y_range = group01.iloc[index]\n",
    "\n",
    "\n",
    "    figure03.circle(x=x_range, y=y_range, size=4, fill_color=colors01[10])\n",
    "    figure03.add_tools(HoverTool())\n",
    "    figure03.line(x=x_range, y=y_range, legend=title, line_color=colors01[index])\n",
    "    figure03.y_range.start = 0\n",
    "    figure03.yaxis.axis_label = \"Number of children\"\n",
    "    figure03.xaxis.axis_label = \"Year\"\n",
    "    figure03.xaxis.major_label_orientation = 1.2\n",
    "    \n",
    "    \n",
    "    index+=1\n",
    "    save(obj=figure03, filename=\"figures/Figure03.html\", title=\"Figure03\")\n"
   ]
  }
 ],
 "metadata": {
  "kernelspec": {
   "display_name": "Python 3",
   "language": "python",
   "name": "python3"
  },
  "language_info": {
   "codemirror_mode": {
    "name": "ipython",
    "version": 3
   },
   "file_extension": ".py",
   "mimetype": "text/x-python",
   "name": "python",
   "nbconvert_exporter": "python",
   "pygments_lexer": "ipython3",
   "version": "3.7.2"
  }
 },
 "nbformat": 4,
 "nbformat_minor": 2
}
