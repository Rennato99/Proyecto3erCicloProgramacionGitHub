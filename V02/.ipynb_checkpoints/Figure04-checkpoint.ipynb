{
 "cells": [
  {
   "cell_type": "code",
   "execution_count": 4,
   "metadata": {},
   "outputs": [
    {
     "data": {
      "text/plain": [
       "'C:\\\\Users\\\\renat\\\\OneDrive - Universidad Técnica Particular de Loja - UTPL\\\\Componentes_03\\\\Programacion_De_Algoritmos\\\\Repositorios_03\\\\Proyecto3erCicloProgramcion\\\\V02\\\\figures\\\\Figure04.html'"
      ]
     },
     "execution_count": 4,
     "metadata": {},
     "output_type": "execute_result"
    }
   ],
   "source": [
    "%run Read.ipynb # Leemos el archivo\n",
    "# Ahora vamos a graficar una linea region por region\n",
    "\n",
    "# Standard imports \n",
    "from bokeh.io import output_notebook\n",
    "from bokeh.plotting import figure, output_notebook, save\n",
    "from bokeh.models import ColumnDataSource, HoverTool\n",
    "\n",
    "\n",
    "\n",
    "# Ahora crearemos un grafico de pastel usando wedge\n",
    "import math\n",
    "pi = math.pi\n",
    "\n",
    "# Metodo para obtener el porcentaje de un numero\n",
    "def getPercentage(total, part):\n",
    "    return (part*100)/total\n",
    "\n",
    "def getAngle(percentage):\n",
    "    return (2*pi*percentage)/(100)\n",
    "\n",
    "# Lo metemos dentro de un ciclo\n",
    "index = 0\n",
    "\n",
    "# Creamos la figura\n",
    "figure04 = figure(plot_width=1000, plot_height=1000)    \n",
    "group03 = group.drop(group.index[11])\n",
    "\n",
    "total = group03.sum()['Averages']# Variable que servira para obtener el porcentaje\n",
    "\n",
    "start_angle = 0 # El valor inicial del angula será 0\n",
    "end_angle = 0  # El valor inicial del angula será 0\n",
    "while index <= 10:\n",
    "    \n",
    "    \n",
    "    # Obtenemos el promedio\n",
    "    part = group03.iloc[index]['Averages']\n",
    " \n",
    "    # Obtenemos el porcentaje de su promedio\n",
    "    percentage = getPercentage(total, part)\n",
    "\n",
    "    # Obtenemos el valor en radianes\n",
    "    end_angle += getAngle(percentage)\n",
    "\n",
    "    # Leyenda\n",
    "    legend = (\"%s - %.2f \" %(str(group03['Region Name'][index]), percentage))\n",
    "    legend += \" %\"\n",
    "\n",
    "    # Agregamos un wedge\n",
    "    figure04.wedge(x=[500], y=[500], radius=300, start_angle=start_angle,\n",
    "           end_angle=end_angle, radius_units=\"screen\", color=colors01[index], legend=legend, direction=\"anticlock\")\n",
    "    \n",
    "    \n",
    "    \n",
    "    \n",
    "    \n",
    "    # El angulo final de este wedge será el inicio del siguiente\n",
    "    start_angle=end_angle\n",
    "\n",
    "    # Aumentamos el contador\n",
    "    index+=1\n",
    "\n",
    "save(obj=figure04, filename=\"figures/Figure04.html\", title=\"Figure04\")\n"
   ]
  }
 ],
 "metadata": {
  "kernelspec": {
   "display_name": "Python 3",
   "language": "python",
   "name": "python3"
  },
  "language_info": {
   "codemirror_mode": {
    "name": "ipython",
    "version": 3
   },
   "file_extension": ".py",
   "mimetype": "text/x-python",
   "name": "python",
   "nbconvert_exporter": "python",
   "pygments_lexer": "ipython3",
   "version": "3.7.2"
  }
 },
 "nbformat": 4,
 "nbformat_minor": 2
}
