{
 "cells": [
  {
   "cell_type": "code",
   "execution_count": null,
   "metadata": {},
   "outputs": [],
   "source": [
    "# Main03\n",
    "# Standard imports \n",
    "from bokeh.io import output_notebook\n",
    "from bokeh.plotting import figure, output_file, output_notebook, show\n",
    "import pandas as pd\n",
    "import numpy as np\n",
    "output_notebook()\n",
    "\n",
    "\n",
    "from bokeh.models import ColumnDataSource, HoverTool\n",
    "from bokeh.sampledata.autompg import autompg_clean as df\n",
    "from bokeh.transform import factor_cmap\n",
    "\n",
    "# Abrimos el archivo csv y lo convertimos en un DataFrame\n",
    "dataFrame01 = pd.read_csv(\"data/Estimates-of-under-five mortality.csv\", sep=\";\", engine='python')\n",
    "\n",
    "# Declaramos una paleta de colores\n",
    "colors01 = ['#EF7A63', '#BFF14A', '#5EB3BB', '#21738C', '#792E9C', '#8C8EC9', '#17A655', '#C4C81C', '#BDBE90', '#DAA37B', \n",
    "            '#D9371B', '#5C81EA', '#04F7DA', '#833235', '#437032', '#FFD500', '#B2FF00', '#FF9C00', '#FFD8EE', '#E4D8FF', \n",
    "            '#D8DFFF', '#D8FAFF', '#D8FFE2', '#F3FFD8', '#FFE7D8', '#6B6464', '#813C3C']\n",
    "\n",
    "# Calculamos un total de muertes por año y lo agregamos como una columna al final de dataFrame\n",
    "\n",
    "\n",
    "generalAverage = {'Averages': []}\n",
    "# Recorremos cada fila\n",
    "index = 0\n",
    "while index <= 35:\n",
    "    year = 1990.5\n",
    "    \n",
    "    sum_ = 0 \n",
    "    # Recorremos cada columna\n",
    "    while(year <= 2016.5):\n",
    "        sum_ += dataFrame01[str(year)][index]      \n",
    "        year += 1\n",
    "    average = np.round((sum_ / 28), 2)\n",
    "    generalAverage['Averages'].append(average)\n",
    "    \n",
    "    index += 1\n",
    "# Obtenemos un diccionario:  {'Averages': [130.34, 147.66, 113.48, 38.53, 82.63, 33.75, 30.82, 7.89, 18.84, 30.08, 5.92, 66.1]}\n",
    "\n",
    "# Lo agregamos como columna a nuestro dataFrame\n",
    "dataFrame01['Averages'] = generalAverage['Averages']\n",
    "\n",
    "\n",
    "# Agrupamos segun el nombre de la region\n",
    "group = dataFrame01.groupby('Region Name', as_index = False).mean()\n"
   ]
  }
 ],
 "metadata": {
  "kernelspec": {
   "display_name": "Python 3",
   "language": "python",
   "name": "python3"
  },
  "language_info": {
   "codemirror_mode": {
    "name": "ipython",
    "version": 3
   },
   "file_extension": ".py",
   "mimetype": "text/x-python",
   "name": "python",
   "nbconvert_exporter": "python",
   "pygments_lexer": "ipython3",
   "version": "3.7.2"
  }
 },
 "nbformat": 4,
 "nbformat_minor": 2
}
