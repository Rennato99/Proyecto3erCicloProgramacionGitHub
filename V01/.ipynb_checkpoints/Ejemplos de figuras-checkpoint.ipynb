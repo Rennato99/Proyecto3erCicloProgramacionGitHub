{
 "cells": [
  {
   "cell_type": "code",
   "execution_count": 1,
   "metadata": {},
   "outputs": [
    {
     "data": {
      "text/html": [
       "\n",
       "    <div class=\"bk-root\">\n",
       "        <a href=\"https://bokeh.pydata.org\" target=\"_blank\" class=\"bk-logo bk-logo-small bk-logo-notebook\"></a>\n",
       "        <span id=\"1001\">Loading BokehJS ...</span>\n",
       "    </div>"
      ]
     },
     "metadata": {},
     "output_type": "display_data"
    },
    {
     "data": {
      "application/javascript": [
       "\n",
       "(function(root) {\n",
       "  function now() {\n",
       "    return new Date();\n",
       "  }\n",
       "\n",
       "  var force = true;\n",
       "\n",
       "  if (typeof (root._bokeh_onload_callbacks) === \"undefined\" || force === true) {\n",
       "    root._bokeh_onload_callbacks = [];\n",
       "    root._bokeh_is_loading = undefined;\n",
       "  }\n",
       "\n",
       "  var JS_MIME_TYPE = 'application/javascript';\n",
       "  var HTML_MIME_TYPE = 'text/html';\n",
       "  var EXEC_MIME_TYPE = 'application/vnd.bokehjs_exec.v0+json';\n",
       "  var CLASS_NAME = 'output_bokeh rendered_html';\n",
       "\n",
       "  /**\n",
       "   * Render data to the DOM node\n",
       "   */\n",
       "  function render(props, node) {\n",
       "    var script = document.createElement(\"script\");\n",
       "    node.appendChild(script);\n",
       "  }\n",
       "\n",
       "  /**\n",
       "   * Handle when an output is cleared or removed\n",
       "   */\n",
       "  function handleClearOutput(event, handle) {\n",
       "    var cell = handle.cell;\n",
       "\n",
       "    var id = cell.output_area._bokeh_element_id;\n",
       "    var server_id = cell.output_area._bokeh_server_id;\n",
       "    // Clean up Bokeh references\n",
       "    if (id != null && id in Bokeh.index) {\n",
       "      Bokeh.index[id].model.document.clear();\n",
       "      delete Bokeh.index[id];\n",
       "    }\n",
       "\n",
       "    if (server_id !== undefined) {\n",
       "      // Clean up Bokeh references\n",
       "      var cmd = \"from bokeh.io.state import curstate; print(curstate().uuid_to_server['\" + server_id + \"'].get_sessions()[0].document.roots[0]._id)\";\n",
       "      cell.notebook.kernel.execute(cmd, {\n",
       "        iopub: {\n",
       "          output: function(msg) {\n",
       "            var id = msg.content.text.trim();\n",
       "            if (id in Bokeh.index) {\n",
       "              Bokeh.index[id].model.document.clear();\n",
       "              delete Bokeh.index[id];\n",
       "            }\n",
       "          }\n",
       "        }\n",
       "      });\n",
       "      // Destroy server and session\n",
       "      var cmd = \"import bokeh.io.notebook as ion; ion.destroy_server('\" + server_id + \"')\";\n",
       "      cell.notebook.kernel.execute(cmd);\n",
       "    }\n",
       "  }\n",
       "\n",
       "  /**\n",
       "   * Handle when a new output is added\n",
       "   */\n",
       "  function handleAddOutput(event, handle) {\n",
       "    var output_area = handle.output_area;\n",
       "    var output = handle.output;\n",
       "\n",
       "    // limit handleAddOutput to display_data with EXEC_MIME_TYPE content only\n",
       "    if ((output.output_type != \"display_data\") || (!output.data.hasOwnProperty(EXEC_MIME_TYPE))) {\n",
       "      return\n",
       "    }\n",
       "\n",
       "    var toinsert = output_area.element.find(\".\" + CLASS_NAME.split(' ')[0]);\n",
       "\n",
       "    if (output.metadata[EXEC_MIME_TYPE][\"id\"] !== undefined) {\n",
       "      toinsert[toinsert.length - 1].firstChild.textContent = output.data[JS_MIME_TYPE];\n",
       "      // store reference to embed id on output_area\n",
       "      output_area._bokeh_element_id = output.metadata[EXEC_MIME_TYPE][\"id\"];\n",
       "    }\n",
       "    if (output.metadata[EXEC_MIME_TYPE][\"server_id\"] !== undefined) {\n",
       "      var bk_div = document.createElement(\"div\");\n",
       "      bk_div.innerHTML = output.data[HTML_MIME_TYPE];\n",
       "      var script_attrs = bk_div.children[0].attributes;\n",
       "      for (var i = 0; i < script_attrs.length; i++) {\n",
       "        toinsert[toinsert.length - 1].firstChild.setAttribute(script_attrs[i].name, script_attrs[i].value);\n",
       "      }\n",
       "      // store reference to server id on output_area\n",
       "      output_area._bokeh_server_id = output.metadata[EXEC_MIME_TYPE][\"server_id\"];\n",
       "    }\n",
       "  }\n",
       "\n",
       "  function register_renderer(events, OutputArea) {\n",
       "\n",
       "    function append_mime(data, metadata, element) {\n",
       "      // create a DOM node to render to\n",
       "      var toinsert = this.create_output_subarea(\n",
       "        metadata,\n",
       "        CLASS_NAME,\n",
       "        EXEC_MIME_TYPE\n",
       "      );\n",
       "      this.keyboard_manager.register_events(toinsert);\n",
       "      // Render to node\n",
       "      var props = {data: data, metadata: metadata[EXEC_MIME_TYPE]};\n",
       "      render(props, toinsert[toinsert.length - 1]);\n",
       "      element.append(toinsert);\n",
       "      return toinsert\n",
       "    }\n",
       "\n",
       "    /* Handle when an output is cleared or removed */\n",
       "    events.on('clear_output.CodeCell', handleClearOutput);\n",
       "    events.on('delete.Cell', handleClearOutput);\n",
       "\n",
       "    /* Handle when a new output is added */\n",
       "    events.on('output_added.OutputArea', handleAddOutput);\n",
       "\n",
       "    /**\n",
       "     * Register the mime type and append_mime function with output_area\n",
       "     */\n",
       "    OutputArea.prototype.register_mime_type(EXEC_MIME_TYPE, append_mime, {\n",
       "      /* Is output safe? */\n",
       "      safe: true,\n",
       "      /* Index of renderer in `output_area.display_order` */\n",
       "      index: 0\n",
       "    });\n",
       "  }\n",
       "\n",
       "  // register the mime type if in Jupyter Notebook environment and previously unregistered\n",
       "  if (root.Jupyter !== undefined) {\n",
       "    var events = require('base/js/events');\n",
       "    var OutputArea = require('notebook/js/outputarea').OutputArea;\n",
       "\n",
       "    if (OutputArea.prototype.mime_types().indexOf(EXEC_MIME_TYPE) == -1) {\n",
       "      register_renderer(events, OutputArea);\n",
       "    }\n",
       "  }\n",
       "\n",
       "  \n",
       "  if (typeof (root._bokeh_timeout) === \"undefined\" || force === true) {\n",
       "    root._bokeh_timeout = Date.now() + 5000;\n",
       "    root._bokeh_failed_load = false;\n",
       "  }\n",
       "\n",
       "  var NB_LOAD_WARNING = {'data': {'text/html':\n",
       "     \"<div style='background-color: #fdd'>\\n\"+\n",
       "     \"<p>\\n\"+\n",
       "     \"BokehJS does not appear to have successfully loaded. If loading BokehJS from CDN, this \\n\"+\n",
       "     \"may be due to a slow or bad network connection. Possible fixes:\\n\"+\n",
       "     \"</p>\\n\"+\n",
       "     \"<ul>\\n\"+\n",
       "     \"<li>re-rerun `output_notebook()` to attempt to load from CDN again, or</li>\\n\"+\n",
       "     \"<li>use INLINE resources instead, as so:</li>\\n\"+\n",
       "     \"</ul>\\n\"+\n",
       "     \"<code>\\n\"+\n",
       "     \"from bokeh.resources import INLINE\\n\"+\n",
       "     \"output_notebook(resources=INLINE)\\n\"+\n",
       "     \"</code>\\n\"+\n",
       "     \"</div>\"}};\n",
       "\n",
       "  function display_loaded() {\n",
       "    var el = document.getElementById(\"1001\");\n",
       "    if (el != null) {\n",
       "      el.textContent = \"BokehJS is loading...\";\n",
       "    }\n",
       "    if (root.Bokeh !== undefined) {\n",
       "      if (el != null) {\n",
       "        el.textContent = \"BokehJS \" + root.Bokeh.version + \" successfully loaded.\";\n",
       "      }\n",
       "    } else if (Date.now() < root._bokeh_timeout) {\n",
       "      setTimeout(display_loaded, 100)\n",
       "    }\n",
       "  }\n",
       "\n",
       "\n",
       "  function run_callbacks() {\n",
       "    try {\n",
       "      root._bokeh_onload_callbacks.forEach(function(callback) { callback() });\n",
       "    }\n",
       "    finally {\n",
       "      delete root._bokeh_onload_callbacks\n",
       "    }\n",
       "    console.info(\"Bokeh: all callbacks have finished\");\n",
       "  }\n",
       "\n",
       "  function load_libs(js_urls, callback) {\n",
       "    root._bokeh_onload_callbacks.push(callback);\n",
       "    if (root._bokeh_is_loading > 0) {\n",
       "      console.log(\"Bokeh: BokehJS is being loaded, scheduling callback at\", now());\n",
       "      return null;\n",
       "    }\n",
       "    if (js_urls == null || js_urls.length === 0) {\n",
       "      run_callbacks();\n",
       "      return null;\n",
       "    }\n",
       "    console.log(\"Bokeh: BokehJS not loaded, scheduling load and callback at\", now());\n",
       "    root._bokeh_is_loading = js_urls.length;\n",
       "    for (var i = 0; i < js_urls.length; i++) {\n",
       "      var url = js_urls[i];\n",
       "      var s = document.createElement('script');\n",
       "      s.src = url;\n",
       "      s.async = false;\n",
       "      s.onreadystatechange = s.onload = function() {\n",
       "        root._bokeh_is_loading--;\n",
       "        if (root._bokeh_is_loading === 0) {\n",
       "          console.log(\"Bokeh: all BokehJS libraries loaded\");\n",
       "          run_callbacks()\n",
       "        }\n",
       "      };\n",
       "      s.onerror = function() {\n",
       "        console.warn(\"failed to load library \" + url);\n",
       "      };\n",
       "      console.log(\"Bokeh: injecting script tag for BokehJS library: \", url);\n",
       "      document.getElementsByTagName(\"head\")[0].appendChild(s);\n",
       "    }\n",
       "  };var element = document.getElementById(\"1001\");\n",
       "  if (element == null) {\n",
       "    console.log(\"Bokeh: ERROR: autoload.js configured with elementid '1001' but no matching script tag was found. \")\n",
       "    return false;\n",
       "  }\n",
       "\n",
       "  var js_urls = [\"https://cdn.pydata.org/bokeh/release/bokeh-1.0.3.min.js\", \"https://cdn.pydata.org/bokeh/release/bokeh-widgets-1.0.3.min.js\", \"https://cdn.pydata.org/bokeh/release/bokeh-tables-1.0.3.min.js\", \"https://cdn.pydata.org/bokeh/release/bokeh-gl-1.0.3.min.js\"];\n",
       "\n",
       "  var inline_js = [\n",
       "    function(Bokeh) {\n",
       "      Bokeh.set_log_level(\"info\");\n",
       "    },\n",
       "    \n",
       "    function(Bokeh) {\n",
       "      \n",
       "    },\n",
       "    function(Bokeh) {\n",
       "      console.log(\"Bokeh: injecting CSS: https://cdn.pydata.org/bokeh/release/bokeh-1.0.3.min.css\");\n",
       "      Bokeh.embed.inject_css(\"https://cdn.pydata.org/bokeh/release/bokeh-1.0.3.min.css\");\n",
       "      console.log(\"Bokeh: injecting CSS: https://cdn.pydata.org/bokeh/release/bokeh-widgets-1.0.3.min.css\");\n",
       "      Bokeh.embed.inject_css(\"https://cdn.pydata.org/bokeh/release/bokeh-widgets-1.0.3.min.css\");\n",
       "      console.log(\"Bokeh: injecting CSS: https://cdn.pydata.org/bokeh/release/bokeh-tables-1.0.3.min.css\");\n",
       "      Bokeh.embed.inject_css(\"https://cdn.pydata.org/bokeh/release/bokeh-tables-1.0.3.min.css\");\n",
       "    }\n",
       "  ];\n",
       "\n",
       "  function run_inline_js() {\n",
       "    \n",
       "    if ((root.Bokeh !== undefined) || (force === true)) {\n",
       "      for (var i = 0; i < inline_js.length; i++) {\n",
       "        inline_js[i].call(root, root.Bokeh);\n",
       "      }if (force === true) {\n",
       "        display_loaded();\n",
       "      }} else if (Date.now() < root._bokeh_timeout) {\n",
       "      setTimeout(run_inline_js, 100);\n",
       "    } else if (!root._bokeh_failed_load) {\n",
       "      console.log(\"Bokeh: BokehJS failed to load within specified timeout.\");\n",
       "      root._bokeh_failed_load = true;\n",
       "    } else if (force !== true) {\n",
       "      var cell = $(document.getElementById(\"1001\")).parents('.cell').data().cell;\n",
       "      cell.output_area.append_execute_result(NB_LOAD_WARNING)\n",
       "    }\n",
       "\n",
       "  }\n",
       "\n",
       "  if (root._bokeh_is_loading === 0) {\n",
       "    console.log(\"Bokeh: BokehJS loaded, going straight to plotting\");\n",
       "    run_inline_js();\n",
       "  } else {\n",
       "    load_libs(js_urls, function() {\n",
       "      console.log(\"Bokeh: BokehJS plotting callback run at\", now());\n",
       "      run_inline_js();\n",
       "    });\n",
       "  }\n",
       "}(window));"
      ],
      "application/vnd.bokehjs_load.v0+json": "\n(function(root) {\n  function now() {\n    return new Date();\n  }\n\n  var force = true;\n\n  if (typeof (root._bokeh_onload_callbacks) === \"undefined\" || force === true) {\n    root._bokeh_onload_callbacks = [];\n    root._bokeh_is_loading = undefined;\n  }\n\n  \n\n  \n  if (typeof (root._bokeh_timeout) === \"undefined\" || force === true) {\n    root._bokeh_timeout = Date.now() + 5000;\n    root._bokeh_failed_load = false;\n  }\n\n  var NB_LOAD_WARNING = {'data': {'text/html':\n     \"<div style='background-color: #fdd'>\\n\"+\n     \"<p>\\n\"+\n     \"BokehJS does not appear to have successfully loaded. If loading BokehJS from CDN, this \\n\"+\n     \"may be due to a slow or bad network connection. Possible fixes:\\n\"+\n     \"</p>\\n\"+\n     \"<ul>\\n\"+\n     \"<li>re-rerun `output_notebook()` to attempt to load from CDN again, or</li>\\n\"+\n     \"<li>use INLINE resources instead, as so:</li>\\n\"+\n     \"</ul>\\n\"+\n     \"<code>\\n\"+\n     \"from bokeh.resources import INLINE\\n\"+\n     \"output_notebook(resources=INLINE)\\n\"+\n     \"</code>\\n\"+\n     \"</div>\"}};\n\n  function display_loaded() {\n    var el = document.getElementById(\"1001\");\n    if (el != null) {\n      el.textContent = \"BokehJS is loading...\";\n    }\n    if (root.Bokeh !== undefined) {\n      if (el != null) {\n        el.textContent = \"BokehJS \" + root.Bokeh.version + \" successfully loaded.\";\n      }\n    } else if (Date.now() < root._bokeh_timeout) {\n      setTimeout(display_loaded, 100)\n    }\n  }\n\n\n  function run_callbacks() {\n    try {\n      root._bokeh_onload_callbacks.forEach(function(callback) { callback() });\n    }\n    finally {\n      delete root._bokeh_onload_callbacks\n    }\n    console.info(\"Bokeh: all callbacks have finished\");\n  }\n\n  function load_libs(js_urls, callback) {\n    root._bokeh_onload_callbacks.push(callback);\n    if (root._bokeh_is_loading > 0) {\n      console.log(\"Bokeh: BokehJS is being loaded, scheduling callback at\", now());\n      return null;\n    }\n    if (js_urls == null || js_urls.length === 0) {\n      run_callbacks();\n      return null;\n    }\n    console.log(\"Bokeh: BokehJS not loaded, scheduling load and callback at\", now());\n    root._bokeh_is_loading = js_urls.length;\n    for (var i = 0; i < js_urls.length; i++) {\n      var url = js_urls[i];\n      var s = document.createElement('script');\n      s.src = url;\n      s.async = false;\n      s.onreadystatechange = s.onload = function() {\n        root._bokeh_is_loading--;\n        if (root._bokeh_is_loading === 0) {\n          console.log(\"Bokeh: all BokehJS libraries loaded\");\n          run_callbacks()\n        }\n      };\n      s.onerror = function() {\n        console.warn(\"failed to load library \" + url);\n      };\n      console.log(\"Bokeh: injecting script tag for BokehJS library: \", url);\n      document.getElementsByTagName(\"head\")[0].appendChild(s);\n    }\n  };var element = document.getElementById(\"1001\");\n  if (element == null) {\n    console.log(\"Bokeh: ERROR: autoload.js configured with elementid '1001' but no matching script tag was found. \")\n    return false;\n  }\n\n  var js_urls = [\"https://cdn.pydata.org/bokeh/release/bokeh-1.0.3.min.js\", \"https://cdn.pydata.org/bokeh/release/bokeh-widgets-1.0.3.min.js\", \"https://cdn.pydata.org/bokeh/release/bokeh-tables-1.0.3.min.js\", \"https://cdn.pydata.org/bokeh/release/bokeh-gl-1.0.3.min.js\"];\n\n  var inline_js = [\n    function(Bokeh) {\n      Bokeh.set_log_level(\"info\");\n    },\n    \n    function(Bokeh) {\n      \n    },\n    function(Bokeh) {\n      console.log(\"Bokeh: injecting CSS: https://cdn.pydata.org/bokeh/release/bokeh-1.0.3.min.css\");\n      Bokeh.embed.inject_css(\"https://cdn.pydata.org/bokeh/release/bokeh-1.0.3.min.css\");\n      console.log(\"Bokeh: injecting CSS: https://cdn.pydata.org/bokeh/release/bokeh-widgets-1.0.3.min.css\");\n      Bokeh.embed.inject_css(\"https://cdn.pydata.org/bokeh/release/bokeh-widgets-1.0.3.min.css\");\n      console.log(\"Bokeh: injecting CSS: https://cdn.pydata.org/bokeh/release/bokeh-tables-1.0.3.min.css\");\n      Bokeh.embed.inject_css(\"https://cdn.pydata.org/bokeh/release/bokeh-tables-1.0.3.min.css\");\n    }\n  ];\n\n  function run_inline_js() {\n    \n    if ((root.Bokeh !== undefined) || (force === true)) {\n      for (var i = 0; i < inline_js.length; i++) {\n        inline_js[i].call(root, root.Bokeh);\n      }if (force === true) {\n        display_loaded();\n      }} else if (Date.now() < root._bokeh_timeout) {\n      setTimeout(run_inline_js, 100);\n    } else if (!root._bokeh_failed_load) {\n      console.log(\"Bokeh: BokehJS failed to load within specified timeout.\");\n      root._bokeh_failed_load = true;\n    } else if (force !== true) {\n      var cell = $(document.getElementById(\"1001\")).parents('.cell').data().cell;\n      cell.output_area.append_execute_result(NB_LOAD_WARNING)\n    }\n\n  }\n\n  if (root._bokeh_is_loading === 0) {\n    console.log(\"Bokeh: BokehJS loaded, going straight to plotting\");\n    run_inline_js();\n  } else {\n    load_libs(js_urls, function() {\n      console.log(\"Bokeh: BokehJS plotting callback run at\", now());\n      run_inline_js();\n    });\n  }\n}(window));"
     },
     "metadata": {},
     "output_type": "display_data"
    }
   ],
   "source": [
    "# Standard imports \n",
    "from bokeh.io import output_notebook\n",
    "from bokeh.plotting import figure, output_file, output_notebook, show\n",
    "import pandas as pd\n",
    "import numpy as np\n",
    "output_notebook()\n",
    "\n",
    "from bokeh.models import ColumnDataSource, HoverTool\n",
    "from bokeh.sampledata.autompg import autompg_clean as df\n",
    "from bokeh.transform import factor_cmap\n",
    "\n",
    "\n"
   ]
  },
  {
   "cell_type": "code",
   "execution_count": null,
   "metadata": {},
   "outputs": [],
   "source": []
  },
  {
   "cell_type": "code",
   "execution_count": 2,
   "metadata": {},
   "outputs": [
    {
     "data": {
      "text/html": [
       "\n",
       "\n",
       "\n",
       "\n",
       "\n",
       "\n",
       "  <div class=\"bk-root\" id=\"d29d3f71-1234-42c5-a716-58fe314ba545\" data-root-id=\"1002\"></div>\n"
      ]
     },
     "metadata": {},
     "output_type": "display_data"
    },
    {
     "data": {
      "application/javascript": [
       "(function(root) {\n",
       "  function embed_document(root) {\n",
       "    \n",
       "  var docs_json = {\"9b3c45df-6734-419e-8a7f-af0331c0c67e\":{\"roots\":{\"references\":[{\"attributes\":{\"below\":[{\"id\":\"1011\",\"type\":\"LinearAxis\"}],\"left\":[{\"id\":\"1016\",\"type\":\"LinearAxis\"}],\"plot_height\":300,\"plot_width\":300,\"renderers\":[{\"id\":\"1011\",\"type\":\"LinearAxis\"},{\"id\":\"1015\",\"type\":\"Grid\"},{\"id\":\"1016\",\"type\":\"LinearAxis\"},{\"id\":\"1020\",\"type\":\"Grid\"},{\"id\":\"1029\",\"type\":\"BoxAnnotation\"},{\"id\":\"1039\",\"type\":\"GlyphRenderer\"}],\"title\":{\"id\":\"1041\",\"type\":\"Title\"},\"toolbar\":{\"id\":\"1027\",\"type\":\"Toolbar\"},\"x_range\":{\"id\":\"1003\",\"type\":\"DataRange1d\"},\"x_scale\":{\"id\":\"1007\",\"type\":\"LinearScale\"},\"y_range\":{\"id\":\"1005\",\"type\":\"DataRange1d\"},\"y_scale\":{\"id\":\"1009\",\"type\":\"LinearScale\"}},\"id\":\"1002\",\"subtype\":\"Figure\",\"type\":\"Plot\"},{\"attributes\":{\"fill_color\":{\"value\":\"#7FC97F\"},\"inner_radius\":{\"units\":\"data\",\"value\":0.2},\"line_color\":{\"value\":\"#7FC97F\"},\"outer_radius\":{\"units\":\"data\",\"value\":0.5},\"x\":{\"field\":\"x\"},\"y\":{\"field\":\"y\"}},\"id\":\"1037\",\"type\":\"Annulus\"},{\"attributes\":{\"fill_alpha\":{\"value\":0.1},\"fill_color\":{\"value\":\"#1f77b4\"},\"inner_radius\":{\"units\":\"data\",\"value\":0.2},\"line_alpha\":{\"value\":0.1},\"line_color\":{\"value\":\"#1f77b4\"},\"outer_radius\":{\"units\":\"data\",\"value\":0.5},\"x\":{\"field\":\"x\"},\"y\":{\"field\":\"y\"}},\"id\":\"1038\",\"type\":\"Annulus\"},{\"attributes\":{\"callback\":null},\"id\":\"1005\",\"type\":\"DataRange1d\"},{\"attributes\":{},\"id\":\"1021\",\"type\":\"PanTool\"},{\"attributes\":{},\"id\":\"1044\",\"type\":\"BasicTickFormatter\"},{\"attributes\":{},\"id\":\"1007\",\"type\":\"LinearScale\"},{\"attributes\":{\"active_drag\":\"auto\",\"active_inspect\":\"auto\",\"active_multi\":null,\"active_scroll\":\"auto\",\"active_tap\":\"auto\",\"tools\":[{\"id\":\"1021\",\"type\":\"PanTool\"},{\"id\":\"1022\",\"type\":\"WheelZoomTool\"},{\"id\":\"1023\",\"type\":\"BoxZoomTool\"},{\"id\":\"1024\",\"type\":\"SaveTool\"},{\"id\":\"1025\",\"type\":\"ResetTool\"},{\"id\":\"1026\",\"type\":\"HelpTool\"}]},\"id\":\"1027\",\"type\":\"Toolbar\"},{\"attributes\":{\"formatter\":{\"id\":\"1044\",\"type\":\"BasicTickFormatter\"},\"plot\":{\"id\":\"1002\",\"subtype\":\"Figure\",\"type\":\"Plot\"},\"ticker\":{\"id\":\"1017\",\"type\":\"BasicTicker\"}},\"id\":\"1016\",\"type\":\"LinearAxis\"},{\"attributes\":{\"plot\":null,\"text\":\"\"},\"id\":\"1041\",\"type\":\"Title\"},{\"attributes\":{},\"id\":\"1012\",\"type\":\"BasicTicker\"},{\"attributes\":{},\"id\":\"1049\",\"type\":\"Selection\"},{\"attributes\":{\"dimension\":1,\"plot\":{\"id\":\"1002\",\"subtype\":\"Figure\",\"type\":\"Plot\"},\"ticker\":{\"id\":\"1017\",\"type\":\"BasicTicker\"}},\"id\":\"1020\",\"type\":\"Grid\"},{\"attributes\":{\"formatter\":{\"id\":\"1046\",\"type\":\"BasicTickFormatter\"},\"plot\":{\"id\":\"1002\",\"subtype\":\"Figure\",\"type\":\"Plot\"},\"ticker\":{\"id\":\"1012\",\"type\":\"BasicTicker\"}},\"id\":\"1011\",\"type\":\"LinearAxis\"},{\"attributes\":{},\"id\":\"1017\",\"type\":\"BasicTicker\"},{\"attributes\":{},\"id\":\"1009\",\"type\":\"LinearScale\"},{\"attributes\":{},\"id\":\"1024\",\"type\":\"SaveTool\"},{\"attributes\":{},\"id\":\"1022\",\"type\":\"WheelZoomTool\"},{\"attributes\":{\"bottom_units\":\"screen\",\"fill_alpha\":{\"value\":0.5},\"fill_color\":{\"value\":\"lightgrey\"},\"left_units\":\"screen\",\"level\":\"overlay\",\"line_alpha\":{\"value\":1.0},\"line_color\":{\"value\":\"black\"},\"line_dash\":[4,4],\"line_width\":{\"value\":2},\"plot\":null,\"render_mode\":\"css\",\"right_units\":\"screen\",\"top_units\":\"screen\"},\"id\":\"1029\",\"type\":\"BoxAnnotation\"},{\"attributes\":{\"data_source\":{\"id\":\"1036\",\"type\":\"ColumnDataSource\"},\"glyph\":{\"id\":\"1037\",\"type\":\"Annulus\"},\"hover_glyph\":null,\"muted_glyph\":null,\"nonselection_glyph\":{\"id\":\"1038\",\"type\":\"Annulus\"},\"selection_glyph\":null,\"view\":{\"id\":\"1040\",\"type\":\"CDSView\"}},\"id\":\"1039\",\"type\":\"GlyphRenderer\"},{\"attributes\":{\"source\":{\"id\":\"1036\",\"type\":\"ColumnDataSource\"}},\"id\":\"1040\",\"type\":\"CDSView\"},{\"attributes\":{},\"id\":\"1026\",\"type\":\"HelpTool\"},{\"attributes\":{\"overlay\":{\"id\":\"1029\",\"type\":\"BoxAnnotation\"}},\"id\":\"1023\",\"type\":\"BoxZoomTool\"},{\"attributes\":{},\"id\":\"1025\",\"type\":\"ResetTool\"},{\"attributes\":{},\"id\":\"1046\",\"type\":\"BasicTickFormatter\"},{\"attributes\":{},\"id\":\"1048\",\"type\":\"UnionRenderers\"},{\"attributes\":{\"plot\":{\"id\":\"1002\",\"subtype\":\"Figure\",\"type\":\"Plot\"},\"ticker\":{\"id\":\"1012\",\"type\":\"BasicTicker\"}},\"id\":\"1015\",\"type\":\"Grid\"},{\"attributes\":{\"callback\":null,\"data\":{\"x\":[1,2,3],\"y\":[1,2,3]},\"selected\":{\"id\":\"1049\",\"type\":\"Selection\"},\"selection_policy\":{\"id\":\"1048\",\"type\":\"UnionRenderers\"}},\"id\":\"1036\",\"type\":\"ColumnDataSource\"},{\"attributes\":{\"callback\":null},\"id\":\"1003\",\"type\":\"DataRange1d\"}],\"root_ids\":[\"1002\"]},\"title\":\"Bokeh Application\",\"version\":\"1.0.3\"}};\n",
       "  var render_items = [{\"docid\":\"9b3c45df-6734-419e-8a7f-af0331c0c67e\",\"roots\":{\"1002\":\"d29d3f71-1234-42c5-a716-58fe314ba545\"}}];\n",
       "  root.Bokeh.embed.embed_items_notebook(docs_json, render_items);\n",
       "\n",
       "  }\n",
       "  if (root.Bokeh !== undefined) {\n",
       "    embed_document(root);\n",
       "  } else {\n",
       "    var attempts = 0;\n",
       "    var timer = setInterval(function(root) {\n",
       "      if (root.Bokeh !== undefined) {\n",
       "        embed_document(root);\n",
       "        clearInterval(timer);\n",
       "      }\n",
       "      attempts++;\n",
       "      if (attempts > 100) {\n",
       "        console.log(\"Bokeh: ERROR: Unable to run BokehJS code because BokehJS library is missing\");\n",
       "        clearInterval(timer);\n",
       "      }\n",
       "    }, 10, root)\n",
       "  }\n",
       "})(window);"
      ],
      "application/vnd.bokehjs_exec.v0+json": ""
     },
     "metadata": {
      "application/vnd.bokehjs_exec.v0+json": {
       "id": "1002"
      }
     },
     "output_type": "display_data"
    }
   ],
   "source": [
    "# Annulus\n",
    "plot = figure(plot_width=300, plot_height=300)\n",
    "plot.annulus(x=[1, 2, 3], y=[1, 2, 3], color=\"#7FC97F\",\n",
    "                         inner_radius=0.2, outer_radius=0.5)\n",
    "show(plot)"
   ]
  },
  {
   "cell_type": "code",
   "execution_count": 3,
   "metadata": {},
   "outputs": [
    {
     "data": {
      "text/html": [
       "\n",
       "\n",
       "\n",
       "\n",
       "\n",
       "\n",
       "  <div class=\"bk-root\" id=\"1f84fbdb-496b-4346-9816-b6c4ec53c7cc\" data-root-id=\"1104\"></div>\n"
      ]
     },
     "metadata": {},
     "output_type": "display_data"
    },
    {
     "data": {
      "application/javascript": [
       "(function(root) {\n",
       "  function embed_document(root) {\n",
       "    \n",
       "  var docs_json = {\"b3a7f2dd-b8fd-4d19-bec5-eb6a30e39b20\":{\"roots\":{\"references\":[{\"attributes\":{\"below\":[{\"id\":\"1113\",\"type\":\"LinearAxis\"}],\"left\":[{\"id\":\"1118\",\"type\":\"LinearAxis\"}],\"plot_height\":300,\"plot_width\":300,\"renderers\":[{\"id\":\"1113\",\"type\":\"LinearAxis\"},{\"id\":\"1117\",\"type\":\"Grid\"},{\"id\":\"1118\",\"type\":\"LinearAxis\"},{\"id\":\"1122\",\"type\":\"Grid\"},{\"id\":\"1131\",\"type\":\"BoxAnnotation\"},{\"id\":\"1141\",\"type\":\"GlyphRenderer\"}],\"title\":{\"id\":\"1152\",\"type\":\"Title\"},\"toolbar\":{\"id\":\"1129\",\"type\":\"Toolbar\"},\"x_range\":{\"id\":\"1105\",\"type\":\"DataRange1d\"},\"x_scale\":{\"id\":\"1109\",\"type\":\"LinearScale\"},\"y_range\":{\"id\":\"1107\",\"type\":\"DataRange1d\"},\"y_scale\":{\"id\":\"1111\",\"type\":\"LinearScale\"}},\"id\":\"1104\",\"subtype\":\"Figure\",\"type\":\"Plot\"},{\"attributes\":{},\"id\":\"1119\",\"type\":\"BasicTicker\"},{\"attributes\":{},\"id\":\"1127\",\"type\":\"ResetTool\"},{\"attributes\":{\"active_drag\":\"auto\",\"active_inspect\":\"auto\",\"active_multi\":null,\"active_scroll\":\"auto\",\"active_tap\":\"auto\",\"tools\":[{\"id\":\"1123\",\"type\":\"PanTool\"},{\"id\":\"1124\",\"type\":\"WheelZoomTool\"},{\"id\":\"1125\",\"type\":\"BoxZoomTool\"},{\"id\":\"1126\",\"type\":\"SaveTool\"},{\"id\":\"1127\",\"type\":\"ResetTool\"},{\"id\":\"1128\",\"type\":\"HelpTool\"}]},\"id\":\"1129\",\"type\":\"Toolbar\"},{\"attributes\":{},\"id\":\"1123\",\"type\":\"PanTool\"},{\"attributes\":{},\"id\":\"1126\",\"type\":\"SaveTool\"},{\"attributes\":{\"fill_color\":{\"value\":\"#F0027F\"},\"line_color\":{\"value\":\"#F0027F\"},\"size\":{\"units\":\"screen\",\"value\":20},\"x\":{\"field\":\"x\"},\"y\":{\"field\":\"y\"}},\"id\":\"1139\",\"type\":\"Asterisk\"},{\"attributes\":{\"plot\":null,\"text\":\"\"},\"id\":\"1152\",\"type\":\"Title\"},{\"attributes\":{},\"id\":\"1128\",\"type\":\"HelpTool\"},{\"attributes\":{\"fill_alpha\":{\"value\":0.1},\"fill_color\":{\"value\":\"#1f77b4\"},\"line_alpha\":{\"value\":0.1},\"line_color\":{\"value\":\"#1f77b4\"},\"size\":{\"units\":\"screen\",\"value\":20},\"x\":{\"field\":\"x\"},\"y\":{\"field\":\"y\"}},\"id\":\"1140\",\"type\":\"Asterisk\"},{\"attributes\":{\"callback\":null},\"id\":\"1107\",\"type\":\"DataRange1d\"},{\"attributes\":{},\"id\":\"1124\",\"type\":\"WheelZoomTool\"},{\"attributes\":{\"callback\":null},\"id\":\"1105\",\"type\":\"DataRange1d\"},{\"attributes\":{\"overlay\":{\"id\":\"1131\",\"type\":\"BoxAnnotation\"}},\"id\":\"1125\",\"type\":\"BoxZoomTool\"},{\"attributes\":{\"bottom_units\":\"screen\",\"fill_alpha\":{\"value\":0.5},\"fill_color\":{\"value\":\"lightgrey\"},\"left_units\":\"screen\",\"level\":\"overlay\",\"line_alpha\":{\"value\":1.0},\"line_color\":{\"value\":\"black\"},\"line_dash\":[4,4],\"line_width\":{\"value\":2},\"plot\":null,\"render_mode\":\"css\",\"right_units\":\"screen\",\"top_units\":\"screen\"},\"id\":\"1131\",\"type\":\"BoxAnnotation\"},{\"attributes\":{\"dimension\":1,\"plot\":{\"id\":\"1104\",\"subtype\":\"Figure\",\"type\":\"Plot\"},\"ticker\":{\"id\":\"1119\",\"type\":\"BasicTicker\"}},\"id\":\"1122\",\"type\":\"Grid\"},{\"attributes\":{},\"id\":\"1157\",\"type\":\"BasicTickFormatter\"},{\"attributes\":{\"data_source\":{\"id\":\"1138\",\"type\":\"ColumnDataSource\"},\"glyph\":{\"id\":\"1139\",\"type\":\"Asterisk\"},\"hover_glyph\":null,\"muted_glyph\":null,\"nonselection_glyph\":{\"id\":\"1140\",\"type\":\"Asterisk\"},\"selection_glyph\":null,\"view\":{\"id\":\"1142\",\"type\":\"CDSView\"}},\"id\":\"1141\",\"type\":\"GlyphRenderer\"},{\"attributes\":{},\"id\":\"1109\",\"type\":\"LinearScale\"},{\"attributes\":{},\"id\":\"1114\",\"type\":\"BasicTicker\"},{\"attributes\":{\"source\":{\"id\":\"1138\",\"type\":\"ColumnDataSource\"}},\"id\":\"1142\",\"type\":\"CDSView\"},{\"attributes\":{},\"id\":\"1111\",\"type\":\"LinearScale\"},{\"attributes\":{\"formatter\":{\"id\":\"1157\",\"type\":\"BasicTickFormatter\"},\"plot\":{\"id\":\"1104\",\"subtype\":\"Figure\",\"type\":\"Plot\"},\"ticker\":{\"id\":\"1114\",\"type\":\"BasicTicker\"}},\"id\":\"1113\",\"type\":\"LinearAxis\"},{\"attributes\":{\"plot\":{\"id\":\"1104\",\"subtype\":\"Figure\",\"type\":\"Plot\"},\"ticker\":{\"id\":\"1114\",\"type\":\"BasicTicker\"}},\"id\":\"1117\",\"type\":\"Grid\"},{\"attributes\":{\"formatter\":{\"id\":\"1155\",\"type\":\"BasicTickFormatter\"},\"plot\":{\"id\":\"1104\",\"subtype\":\"Figure\",\"type\":\"Plot\"},\"ticker\":{\"id\":\"1119\",\"type\":\"BasicTicker\"}},\"id\":\"1118\",\"type\":\"LinearAxis\"},{\"attributes\":{\"callback\":null,\"data\":{\"x\":[1,2,3],\"y\":[1,2,3]},\"selected\":{\"id\":\"1160\",\"type\":\"Selection\"},\"selection_policy\":{\"id\":\"1159\",\"type\":\"UnionRenderers\"}},\"id\":\"1138\",\"type\":\"ColumnDataSource\"},{\"attributes\":{},\"id\":\"1159\",\"type\":\"UnionRenderers\"},{\"attributes\":{},\"id\":\"1155\",\"type\":\"BasicTickFormatter\"},{\"attributes\":{},\"id\":\"1160\",\"type\":\"Selection\"}],\"root_ids\":[\"1104\"]},\"title\":\"Bokeh Application\",\"version\":\"1.0.3\"}};\n",
       "  var render_items = [{\"docid\":\"b3a7f2dd-b8fd-4d19-bec5-eb6a30e39b20\",\"roots\":{\"1104\":\"1f84fbdb-496b-4346-9816-b6c4ec53c7cc\"}}];\n",
       "  root.Bokeh.embed.embed_items_notebook(docs_json, render_items);\n",
       "\n",
       "  }\n",
       "  if (root.Bokeh !== undefined) {\n",
       "    embed_document(root);\n",
       "  } else {\n",
       "    var attempts = 0;\n",
       "    var timer = setInterval(function(root) {\n",
       "      if (root.Bokeh !== undefined) {\n",
       "        embed_document(root);\n",
       "        clearInterval(timer);\n",
       "      }\n",
       "      attempts++;\n",
       "      if (attempts > 100) {\n",
       "        console.log(\"Bokeh: ERROR: Unable to run BokehJS code because BokehJS library is missing\");\n",
       "        clearInterval(timer);\n",
       "      }\n",
       "    }, 10, root)\n",
       "  }\n",
       "})(window);"
      ],
      "application/vnd.bokehjs_exec.v0+json": ""
     },
     "metadata": {
      "application/vnd.bokehjs_exec.v0+json": {
       "id": "1104"
      }
     },
     "output_type": "display_data"
    }
   ],
   "source": [
    "# Asterisk\n",
    "plot = figure(plot_width=300, plot_height=300)\n",
    "plot.asterisk(x=[1,2,3], y=[1,2,3], size=20, color=\"#F0027F\")\n",
    "\n",
    "show(plot)"
   ]
  },
  {
   "cell_type": "code",
   "execution_count": 4,
   "metadata": {},
   "outputs": [
    {
     "data": {
      "text/html": [
       "\n",
       "\n",
       "\n",
       "\n",
       "\n",
       "\n",
       "  <div class=\"bk-root\" id=\"1ea0b94b-e1e0-4e5d-bf6f-7128d26fd773\" data-root-id=\"1215\"></div>\n"
      ]
     },
     "metadata": {},
     "output_type": "display_data"
    },
    {
     "data": {
      "application/javascript": [
       "(function(root) {\n",
       "  function embed_document(root) {\n",
       "    \n",
       "  var docs_json = {\"c4e2e63e-ed1b-47bf-bd70-0f0f2c266fc1\":{\"roots\":{\"references\":[{\"attributes\":{\"below\":[{\"id\":\"1224\",\"type\":\"LinearAxis\"}],\"left\":[{\"id\":\"1229\",\"type\":\"LinearAxis\"}],\"plot_height\":300,\"plot_width\":300,\"renderers\":[{\"id\":\"1224\",\"type\":\"LinearAxis\"},{\"id\":\"1228\",\"type\":\"Grid\"},{\"id\":\"1229\",\"type\":\"LinearAxis\"},{\"id\":\"1233\",\"type\":\"Grid\"},{\"id\":\"1242\",\"type\":\"BoxAnnotation\"},{\"id\":\"1252\",\"type\":\"GlyphRenderer\"}],\"title\":{\"id\":\"1272\",\"type\":\"Title\"},\"toolbar\":{\"id\":\"1240\",\"type\":\"Toolbar\"},\"x_range\":{\"id\":\"1216\",\"type\":\"DataRange1d\"},\"x_scale\":{\"id\":\"1220\",\"type\":\"LinearScale\"},\"y_range\":{\"id\":\"1218\",\"type\":\"DataRange1d\"},\"y_scale\":{\"id\":\"1222\",\"type\":\"LinearScale\"}},\"id\":\"1215\",\"subtype\":\"Figure\",\"type\":\"Plot\"},{\"attributes\":{\"plot\":null,\"text\":\"\"},\"id\":\"1272\",\"type\":\"Title\"},{\"attributes\":{},\"id\":\"1275\",\"type\":\"BasicTickFormatter\"},{\"attributes\":{},\"id\":\"1237\",\"type\":\"SaveTool\"},{\"attributes\":{\"callback\":null,\"data\":{\"x\":[1,2,3],\"y\":[1,2,3]},\"selected\":{\"id\":\"1280\",\"type\":\"Selection\"},\"selection_policy\":{\"id\":\"1279\",\"type\":\"UnionRenderers\"}},\"id\":\"1249\",\"type\":\"ColumnDataSource\"},{\"attributes\":{},\"id\":\"1279\",\"type\":\"UnionRenderers\"},{\"attributes\":{},\"id\":\"1277\",\"type\":\"BasicTickFormatter\"},{\"attributes\":{},\"id\":\"1230\",\"type\":\"BasicTicker\"},{\"attributes\":{\"source\":{\"id\":\"1249\",\"type\":\"ColumnDataSource\"}},\"id\":\"1253\",\"type\":\"CDSView\"},{\"attributes\":{},\"id\":\"1280\",\"type\":\"Selection\"},{\"attributes\":{},\"id\":\"1222\",\"type\":\"LinearScale\"},{\"attributes\":{\"formatter\":{\"id\":\"1275\",\"type\":\"BasicTickFormatter\"},\"plot\":{\"id\":\"1215\",\"subtype\":\"Figure\",\"type\":\"Plot\"},\"ticker\":{\"id\":\"1230\",\"type\":\"BasicTicker\"}},\"id\":\"1229\",\"type\":\"LinearAxis\"},{\"attributes\":{\"data_source\":{\"id\":\"1249\",\"type\":\"ColumnDataSource\"},\"glyph\":{\"id\":\"1250\",\"type\":\"Circle\"},\"hover_glyph\":null,\"muted_glyph\":null,\"nonselection_glyph\":{\"id\":\"1251\",\"type\":\"Circle\"},\"selection_glyph\":null,\"view\":{\"id\":\"1253\",\"type\":\"CDSView\"}},\"id\":\"1252\",\"type\":\"GlyphRenderer\"},{\"attributes\":{\"callback\":null},\"id\":\"1216\",\"type\":\"DataRange1d\"},{\"attributes\":{\"plot\":{\"id\":\"1215\",\"subtype\":\"Figure\",\"type\":\"Plot\"},\"ticker\":{\"id\":\"1225\",\"type\":\"BasicTicker\"}},\"id\":\"1228\",\"type\":\"Grid\"},{\"attributes\":{},\"id\":\"1239\",\"type\":\"HelpTool\"},{\"attributes\":{\"fill_color\":{\"value\":\"#1f77b4\"},\"line_color\":{\"value\":\"#1f77b4\"},\"size\":{\"units\":\"screen\",\"value\":20},\"x\":{\"field\":\"x\"},\"y\":{\"field\":\"y\"}},\"id\":\"1250\",\"type\":\"Circle\"},{\"attributes\":{\"callback\":null},\"id\":\"1218\",\"type\":\"DataRange1d\"},{\"attributes\":{\"active_drag\":\"auto\",\"active_inspect\":\"auto\",\"active_multi\":null,\"active_scroll\":\"auto\",\"active_tap\":\"auto\",\"tools\":[{\"id\":\"1234\",\"type\":\"PanTool\"},{\"id\":\"1235\",\"type\":\"WheelZoomTool\"},{\"id\":\"1236\",\"type\":\"BoxZoomTool\"},{\"id\":\"1237\",\"type\":\"SaveTool\"},{\"id\":\"1238\",\"type\":\"ResetTool\"},{\"id\":\"1239\",\"type\":\"HelpTool\"}]},\"id\":\"1240\",\"type\":\"Toolbar\"},{\"attributes\":{},\"id\":\"1238\",\"type\":\"ResetTool\"},{\"attributes\":{},\"id\":\"1235\",\"type\":\"WheelZoomTool\"},{\"attributes\":{},\"id\":\"1220\",\"type\":\"LinearScale\"},{\"attributes\":{},\"id\":\"1225\",\"type\":\"BasicTicker\"},{\"attributes\":{\"dimension\":1,\"plot\":{\"id\":\"1215\",\"subtype\":\"Figure\",\"type\":\"Plot\"},\"ticker\":{\"id\":\"1230\",\"type\":\"BasicTicker\"}},\"id\":\"1233\",\"type\":\"Grid\"},{\"attributes\":{\"fill_alpha\":{\"value\":0.1},\"fill_color\":{\"value\":\"#1f77b4\"},\"line_alpha\":{\"value\":0.1},\"line_color\":{\"value\":\"#1f77b4\"},\"size\":{\"units\":\"screen\",\"value\":20},\"x\":{\"field\":\"x\"},\"y\":{\"field\":\"y\"}},\"id\":\"1251\",\"type\":\"Circle\"},{\"attributes\":{},\"id\":\"1234\",\"type\":\"PanTool\"},{\"attributes\":{\"bottom_units\":\"screen\",\"fill_alpha\":{\"value\":0.5},\"fill_color\":{\"value\":\"lightgrey\"},\"left_units\":\"screen\",\"level\":\"overlay\",\"line_alpha\":{\"value\":1.0},\"line_color\":{\"value\":\"black\"},\"line_dash\":[4,4],\"line_width\":{\"value\":2},\"plot\":null,\"render_mode\":\"css\",\"right_units\":\"screen\",\"top_units\":\"screen\"},\"id\":\"1242\",\"type\":\"BoxAnnotation\"},{\"attributes\":{\"formatter\":{\"id\":\"1277\",\"type\":\"BasicTickFormatter\"},\"plot\":{\"id\":\"1215\",\"subtype\":\"Figure\",\"type\":\"Plot\"},\"ticker\":{\"id\":\"1225\",\"type\":\"BasicTicker\"}},\"id\":\"1224\",\"type\":\"LinearAxis\"},{\"attributes\":{\"overlay\":{\"id\":\"1242\",\"type\":\"BoxAnnotation\"}},\"id\":\"1236\",\"type\":\"BoxZoomTool\"}],\"root_ids\":[\"1215\"]},\"title\":\"Bokeh Application\",\"version\":\"1.0.3\"}};\n",
       "  var render_items = [{\"docid\":\"c4e2e63e-ed1b-47bf-bd70-0f0f2c266fc1\",\"roots\":{\"1215\":\"1ea0b94b-e1e0-4e5d-bf6f-7128d26fd773\"}}];\n",
       "  root.Bokeh.embed.embed_items_notebook(docs_json, render_items);\n",
       "\n",
       "  }\n",
       "  if (root.Bokeh !== undefined) {\n",
       "    embed_document(root);\n",
       "  } else {\n",
       "    var attempts = 0;\n",
       "    var timer = setInterval(function(root) {\n",
       "      if (root.Bokeh !== undefined) {\n",
       "        embed_document(root);\n",
       "        clearInterval(timer);\n",
       "      }\n",
       "      attempts++;\n",
       "      if (attempts > 100) {\n",
       "        console.log(\"Bokeh: ERROR: Unable to run BokehJS code because BokehJS library is missing\");\n",
       "        clearInterval(timer);\n",
       "      }\n",
       "    }, 10, root)\n",
       "  }\n",
       "})(window);"
      ],
      "application/vnd.bokehjs_exec.v0+json": ""
     },
     "metadata": {
      "application/vnd.bokehjs_exec.v0+json": {
       "id": "1215"
      }
     },
     "output_type": "display_data"
    }
   ],
   "source": [
    "# Circle\n",
    "plot = figure(plot_width=300, plot_height=300)\n",
    "plot.circle(x=[1, 2, 3], y=[1, 2, 3], size=20)\n",
    "\n",
    "show(plot)"
   ]
  },
  {
   "cell_type": "code",
   "execution_count": 5,
   "metadata": {},
   "outputs": [
    {
     "data": {
      "text/html": [
       "\n",
       "\n",
       "\n",
       "\n",
       "\n",
       "\n",
       "  <div class=\"bk-root\" id=\"2bff4cf6-cbae-419a-abb6-d0edffdfbd33\" data-root-id=\"1335\"></div>\n"
      ]
     },
     "metadata": {},
     "output_type": "display_data"
    },
    {
     "data": {
      "application/javascript": [
       "(function(root) {\n",
       "  function embed_document(root) {\n",
       "    \n",
       "  var docs_json = {\"bf4a5b98-8f41-46e4-9899-a4c1cf90baf5\":{\"roots\":{\"references\":[{\"attributes\":{\"below\":[{\"id\":\"1344\",\"type\":\"LinearAxis\"}],\"left\":[{\"id\":\"1349\",\"type\":\"LinearAxis\"}],\"plot_height\":300,\"plot_width\":300,\"renderers\":[{\"id\":\"1344\",\"type\":\"LinearAxis\"},{\"id\":\"1348\",\"type\":\"Grid\"},{\"id\":\"1349\",\"type\":\"LinearAxis\"},{\"id\":\"1353\",\"type\":\"Grid\"},{\"id\":\"1362\",\"type\":\"BoxAnnotation\"},{\"id\":\"1372\",\"type\":\"GlyphRenderer\"}],\"title\":{\"id\":\"1401\",\"type\":\"Title\"},\"toolbar\":{\"id\":\"1360\",\"type\":\"Toolbar\"},\"x_range\":{\"id\":\"1336\",\"type\":\"DataRange1d\"},\"x_scale\":{\"id\":\"1340\",\"type\":\"LinearScale\"},\"y_range\":{\"id\":\"1338\",\"type\":\"DataRange1d\"},\"y_scale\":{\"id\":\"1342\",\"type\":\"LinearScale\"}},\"id\":\"1335\",\"subtype\":\"Figure\",\"type\":\"Plot\"},{\"attributes\":{\"source\":{\"id\":\"1369\",\"type\":\"ColumnDataSource\"}},\"id\":\"1373\",\"type\":\"CDSView\"},{\"attributes\":{\"active_drag\":\"auto\",\"active_inspect\":\"auto\",\"active_multi\":null,\"active_scroll\":\"auto\",\"active_tap\":\"auto\",\"tools\":[{\"id\":\"1354\",\"type\":\"PanTool\"},{\"id\":\"1355\",\"type\":\"WheelZoomTool\"},{\"id\":\"1356\",\"type\":\"BoxZoomTool\"},{\"id\":\"1357\",\"type\":\"SaveTool\"},{\"id\":\"1358\",\"type\":\"ResetTool\"},{\"id\":\"1359\",\"type\":\"HelpTool\"}]},\"id\":\"1360\",\"type\":\"Toolbar\"},{\"attributes\":{\"plot\":{\"id\":\"1335\",\"subtype\":\"Figure\",\"type\":\"Plot\"},\"ticker\":{\"id\":\"1345\",\"type\":\"BasicTicker\"}},\"id\":\"1348\",\"type\":\"Grid\"},{\"attributes\":{},\"id\":\"1354\",\"type\":\"PanTool\"},{\"attributes\":{},\"id\":\"1345\",\"type\":\"BasicTicker\"},{\"attributes\":{\"formatter\":{\"id\":\"1404\",\"type\":\"BasicTickFormatter\"},\"plot\":{\"id\":\"1335\",\"subtype\":\"Figure\",\"type\":\"Plot\"},\"ticker\":{\"id\":\"1350\",\"type\":\"BasicTicker\"}},\"id\":\"1349\",\"type\":\"LinearAxis\"},{\"attributes\":{},\"id\":\"1355\",\"type\":\"WheelZoomTool\"},{\"attributes\":{\"overlay\":{\"id\":\"1362\",\"type\":\"BoxAnnotation\"}},\"id\":\"1356\",\"type\":\"BoxZoomTool\"},{\"attributes\":{},\"id\":\"1357\",\"type\":\"SaveTool\"},{\"attributes\":{},\"id\":\"1358\",\"type\":\"ResetTool\"},{\"attributes\":{\"formatter\":{\"id\":\"1406\",\"type\":\"BasicTickFormatter\"},\"plot\":{\"id\":\"1335\",\"subtype\":\"Figure\",\"type\":\"Plot\"},\"ticker\":{\"id\":\"1345\",\"type\":\"BasicTicker\"}},\"id\":\"1344\",\"type\":\"LinearAxis\"},{\"attributes\":{\"plot\":null,\"text\":\"\"},\"id\":\"1401\",\"type\":\"Title\"},{\"attributes\":{},\"id\":\"1359\",\"type\":\"HelpTool\"},{\"attributes\":{},\"id\":\"1350\",\"type\":\"BasicTicker\"},{\"attributes\":{\"callback\":null,\"data\":{\"x\":[1,2,3],\"y\":[4,5,6]},\"selected\":{\"id\":\"1409\",\"type\":\"Selection\"},\"selection_policy\":{\"id\":\"1408\",\"type\":\"UnionRenderers\"}},\"id\":\"1369\",\"type\":\"ColumnDataSource\"},{\"attributes\":{\"fill_alpha\":{\"value\":0.1},\"fill_color\":{\"value\":\"#1f77b4\"},\"line_alpha\":{\"value\":0.1},\"line_color\":{\"value\":\"#1f77b4\"},\"line_width\":{\"value\":2},\"size\":{\"units\":\"screen\",\"value\":20},\"x\":{\"field\":\"x\"},\"y\":{\"field\":\"y\"}},\"id\":\"1371\",\"type\":\"CircleCross\"},{\"attributes\":{\"bottom_units\":\"screen\",\"fill_alpha\":{\"value\":0.5},\"fill_color\":{\"value\":\"lightgrey\"},\"left_units\":\"screen\",\"level\":\"overlay\",\"line_alpha\":{\"value\":1.0},\"line_color\":{\"value\":\"black\"},\"line_dash\":[4,4],\"line_width\":{\"value\":2},\"plot\":null,\"render_mode\":\"css\",\"right_units\":\"screen\",\"top_units\":\"screen\"},\"id\":\"1362\",\"type\":\"BoxAnnotation\"},{\"attributes\":{},\"id\":\"1342\",\"type\":\"LinearScale\"},{\"attributes\":{\"data_source\":{\"id\":\"1369\",\"type\":\"ColumnDataSource\"},\"glyph\":{\"id\":\"1370\",\"type\":\"CircleCross\"},\"hover_glyph\":null,\"muted_glyph\":null,\"nonselection_glyph\":{\"id\":\"1371\",\"type\":\"CircleCross\"},\"selection_glyph\":null,\"view\":{\"id\":\"1373\",\"type\":\"CDSView\"}},\"id\":\"1372\",\"type\":\"GlyphRenderer\"},{\"attributes\":{\"callback\":null},\"id\":\"1336\",\"type\":\"DataRange1d\"},{\"attributes\":{},\"id\":\"1404\",\"type\":\"BasicTickFormatter\"},{\"attributes\":{},\"id\":\"1406\",\"type\":\"BasicTickFormatter\"},{\"attributes\":{},\"id\":\"1408\",\"type\":\"UnionRenderers\"},{\"attributes\":{},\"id\":\"1340\",\"type\":\"LinearScale\"},{\"attributes\":{},\"id\":\"1409\",\"type\":\"Selection\"},{\"attributes\":{\"callback\":null},\"id\":\"1338\",\"type\":\"DataRange1d\"},{\"attributes\":{\"dimension\":1,\"plot\":{\"id\":\"1335\",\"subtype\":\"Figure\",\"type\":\"Plot\"},\"ticker\":{\"id\":\"1350\",\"type\":\"BasicTicker\"}},\"id\":\"1353\",\"type\":\"Grid\"},{\"attributes\":{\"fill_alpha\":{\"value\":0.2},\"fill_color\":{\"value\":\"#FB8072\"},\"line_color\":{\"value\":\"#FB8072\"},\"line_width\":{\"value\":2},\"size\":{\"units\":\"screen\",\"value\":20},\"x\":{\"field\":\"x\"},\"y\":{\"field\":\"y\"}},\"id\":\"1370\",\"type\":\"CircleCross\"}],\"root_ids\":[\"1335\"]},\"title\":\"Bokeh Application\",\"version\":\"1.0.3\"}};\n",
       "  var render_items = [{\"docid\":\"bf4a5b98-8f41-46e4-9899-a4c1cf90baf5\",\"roots\":{\"1335\":\"2bff4cf6-cbae-419a-abb6-d0edffdfbd33\"}}];\n",
       "  root.Bokeh.embed.embed_items_notebook(docs_json, render_items);\n",
       "\n",
       "  }\n",
       "  if (root.Bokeh !== undefined) {\n",
       "    embed_document(root);\n",
       "  } else {\n",
       "    var attempts = 0;\n",
       "    var timer = setInterval(function(root) {\n",
       "      if (root.Bokeh !== undefined) {\n",
       "        embed_document(root);\n",
       "        clearInterval(timer);\n",
       "      }\n",
       "      attempts++;\n",
       "      if (attempts > 100) {\n",
       "        console.log(\"Bokeh: ERROR: Unable to run BokehJS code because BokehJS library is missing\");\n",
       "        clearInterval(timer);\n",
       "      }\n",
       "    }, 10, root)\n",
       "  }\n",
       "})(window);"
      ],
      "application/vnd.bokehjs_exec.v0+json": ""
     },
     "metadata": {
      "application/vnd.bokehjs_exec.v0+json": {
       "id": "1335"
      }
     },
     "output_type": "display_data"
    }
   ],
   "source": [
    "# Circle cross\n",
    "plot = figure(plot_width=300, plot_height=300)\n",
    "plot.circle_cross(x=[1,2,3], y=[4,5,6], size=20,\n",
    "                  color=\"#FB8072\", fill_alpha=0.2, line_width=2)\n",
    "\n",
    "show(plot)"
   ]
  },
  {
   "cell_type": "code",
   "execution_count": 6,
   "metadata": {},
   "outputs": [
    {
     "data": {
      "text/html": [
       "\n",
       "\n",
       "\n",
       "\n",
       "\n",
       "\n",
       "  <div class=\"bk-root\" id=\"3d51f5b0-faa5-488e-92df-e9109bf32574\" data-root-id=\"1464\"></div>\n"
      ]
     },
     "metadata": {},
     "output_type": "display_data"
    },
    {
     "data": {
      "application/javascript": [
       "(function(root) {\n",
       "  function embed_document(root) {\n",
       "    \n",
       "  var docs_json = {\"ad99b76c-e847-4a9c-b30d-ab21dcdc6176\":{\"roots\":{\"references\":[{\"attributes\":{\"below\":[{\"id\":\"1473\",\"type\":\"LinearAxis\"}],\"left\":[{\"id\":\"1478\",\"type\":\"LinearAxis\"}],\"plot_height\":300,\"plot_width\":300,\"renderers\":[{\"id\":\"1473\",\"type\":\"LinearAxis\"},{\"id\":\"1477\",\"type\":\"Grid\"},{\"id\":\"1478\",\"type\":\"LinearAxis\"},{\"id\":\"1482\",\"type\":\"Grid\"},{\"id\":\"1491\",\"type\":\"BoxAnnotation\"},{\"id\":\"1501\",\"type\":\"GlyphRenderer\"}],\"title\":{\"id\":\"1539\",\"type\":\"Title\"},\"toolbar\":{\"id\":\"1489\",\"type\":\"Toolbar\"},\"x_range\":{\"id\":\"1465\",\"type\":\"DataRange1d\"},\"x_scale\":{\"id\":\"1469\",\"type\":\"LinearScale\"},\"y_range\":{\"id\":\"1467\",\"type\":\"DataRange1d\"},\"y_scale\":{\"id\":\"1471\",\"type\":\"LinearScale\"}},\"id\":\"1464\",\"subtype\":\"Figure\",\"type\":\"Plot\"},{\"attributes\":{\"callback\":null},\"id\":\"1467\",\"type\":\"DataRange1d\"},{\"attributes\":{\"callback\":null},\"id\":\"1465\",\"type\":\"DataRange1d\"},{\"attributes\":{\"fill_alpha\":{\"value\":0.2},\"fill_color\":{\"value\":\"#DD1C77\"},\"line_color\":{\"value\":\"#DD1C77\"},\"size\":{\"units\":\"screen\",\"value\":20},\"x\":{\"field\":\"x\"},\"y\":{\"field\":\"y\"}},\"id\":\"1499\",\"type\":\"CircleX\"},{\"attributes\":{},\"id\":\"1479\",\"type\":\"BasicTicker\"},{\"attributes\":{\"dimension\":1,\"plot\":{\"id\":\"1464\",\"subtype\":\"Figure\",\"type\":\"Plot\"},\"ticker\":{\"id\":\"1479\",\"type\":\"BasicTicker\"}},\"id\":\"1482\",\"type\":\"Grid\"},{\"attributes\":{\"callback\":null,\"data\":{\"x\":[1,2,3],\"y\":[1,2,3]},\"selected\":{\"id\":\"1547\",\"type\":\"Selection\"},\"selection_policy\":{\"id\":\"1546\",\"type\":\"UnionRenderers\"}},\"id\":\"1498\",\"type\":\"ColumnDataSource\"},{\"attributes\":{},\"id\":\"1488\",\"type\":\"HelpTool\"},{\"attributes\":{},\"id\":\"1487\",\"type\":\"ResetTool\"},{\"attributes\":{},\"id\":\"1483\",\"type\":\"PanTool\"},{\"attributes\":{},\"id\":\"1484\",\"type\":\"WheelZoomTool\"},{\"attributes\":{\"overlay\":{\"id\":\"1491\",\"type\":\"BoxAnnotation\"}},\"id\":\"1485\",\"type\":\"BoxZoomTool\"},{\"attributes\":{\"active_drag\":\"auto\",\"active_inspect\":\"auto\",\"active_multi\":null,\"active_scroll\":\"auto\",\"active_tap\":\"auto\",\"tools\":[{\"id\":\"1483\",\"type\":\"PanTool\"},{\"id\":\"1484\",\"type\":\"WheelZoomTool\"},{\"id\":\"1485\",\"type\":\"BoxZoomTool\"},{\"id\":\"1486\",\"type\":\"SaveTool\"},{\"id\":\"1487\",\"type\":\"ResetTool\"},{\"id\":\"1488\",\"type\":\"HelpTool\"}]},\"id\":\"1489\",\"type\":\"Toolbar\"},{\"attributes\":{},\"id\":\"1486\",\"type\":\"SaveTool\"},{\"attributes\":{\"data_source\":{\"id\":\"1498\",\"type\":\"ColumnDataSource\"},\"glyph\":{\"id\":\"1499\",\"type\":\"CircleX\"},\"hover_glyph\":null,\"muted_glyph\":null,\"nonselection_glyph\":{\"id\":\"1500\",\"type\":\"CircleX\"},\"selection_glyph\":null,\"view\":{\"id\":\"1502\",\"type\":\"CDSView\"}},\"id\":\"1501\",\"type\":\"GlyphRenderer\"},{\"attributes\":{\"bottom_units\":\"screen\",\"fill_alpha\":{\"value\":0.5},\"fill_color\":{\"value\":\"lightgrey\"},\"left_units\":\"screen\",\"level\":\"overlay\",\"line_alpha\":{\"value\":1.0},\"line_color\":{\"value\":\"black\"},\"line_dash\":[4,4],\"line_width\":{\"value\":2},\"plot\":null,\"render_mode\":\"css\",\"right_units\":\"screen\",\"top_units\":\"screen\"},\"id\":\"1491\",\"type\":\"BoxAnnotation\"},{\"attributes\":{\"source\":{\"id\":\"1498\",\"type\":\"ColumnDataSource\"}},\"id\":\"1502\",\"type\":\"CDSView\"},{\"attributes\":{\"fill_alpha\":{\"value\":0.1},\"fill_color\":{\"value\":\"#1f77b4\"},\"line_alpha\":{\"value\":0.1},\"line_color\":{\"value\":\"#1f77b4\"},\"size\":{\"units\":\"screen\",\"value\":20},\"x\":{\"field\":\"x\"},\"y\":{\"field\":\"y\"}},\"id\":\"1500\",\"type\":\"CircleX\"},{\"attributes\":{\"plot\":null,\"text\":\"\"},\"id\":\"1539\",\"type\":\"Title\"},{\"attributes\":{},\"id\":\"1471\",\"type\":\"LinearScale\"},{\"attributes\":{},\"id\":\"1474\",\"type\":\"BasicTicker\"},{\"attributes\":{},\"id\":\"1544\",\"type\":\"BasicTickFormatter\"},{\"attributes\":{\"plot\":{\"id\":\"1464\",\"subtype\":\"Figure\",\"type\":\"Plot\"},\"ticker\":{\"id\":\"1474\",\"type\":\"BasicTicker\"}},\"id\":\"1477\",\"type\":\"Grid\"},{\"attributes\":{\"formatter\":{\"id\":\"1544\",\"type\":\"BasicTickFormatter\"},\"plot\":{\"id\":\"1464\",\"subtype\":\"Figure\",\"type\":\"Plot\"},\"ticker\":{\"id\":\"1474\",\"type\":\"BasicTicker\"}},\"id\":\"1473\",\"type\":\"LinearAxis\"},{\"attributes\":{},\"id\":\"1546\",\"type\":\"UnionRenderers\"},{\"attributes\":{\"formatter\":{\"id\":\"1542\",\"type\":\"BasicTickFormatter\"},\"plot\":{\"id\":\"1464\",\"subtype\":\"Figure\",\"type\":\"Plot\"},\"ticker\":{\"id\":\"1479\",\"type\":\"BasicTicker\"}},\"id\":\"1478\",\"type\":\"LinearAxis\"},{\"attributes\":{},\"id\":\"1547\",\"type\":\"Selection\"},{\"attributes\":{},\"id\":\"1542\",\"type\":\"BasicTickFormatter\"},{\"attributes\":{},\"id\":\"1469\",\"type\":\"LinearScale\"}],\"root_ids\":[\"1464\"]},\"title\":\"Bokeh Application\",\"version\":\"1.0.3\"}};\n",
       "  var render_items = [{\"docid\":\"ad99b76c-e847-4a9c-b30d-ab21dcdc6176\",\"roots\":{\"1464\":\"3d51f5b0-faa5-488e-92df-e9109bf32574\"}}];\n",
       "  root.Bokeh.embed.embed_items_notebook(docs_json, render_items);\n",
       "\n",
       "  }\n",
       "  if (root.Bokeh !== undefined) {\n",
       "    embed_document(root);\n",
       "  } else {\n",
       "    var attempts = 0;\n",
       "    var timer = setInterval(function(root) {\n",
       "      if (root.Bokeh !== undefined) {\n",
       "        embed_document(root);\n",
       "        clearInterval(timer);\n",
       "      }\n",
       "      attempts++;\n",
       "      if (attempts > 100) {\n",
       "        console.log(\"Bokeh: ERROR: Unable to run BokehJS code because BokehJS library is missing\");\n",
       "        clearInterval(timer);\n",
       "      }\n",
       "    }, 10, root)\n",
       "  }\n",
       "})(window);"
      ],
      "application/vnd.bokehjs_exec.v0+json": ""
     },
     "metadata": {
      "application/vnd.bokehjs_exec.v0+json": {
       "id": "1464"
      }
     },
     "output_type": "display_data"
    }
   ],
   "source": [
    "# Cricle_x\n",
    "plot = figure(plot_width=300, plot_height=300)\n",
    "plot.circle_x(x=[1, 2, 3], y=[1, 2, 3], size=20,\n",
    "             color=\"#DD1C77\", fill_alpha=0.2)\n",
    "\n",
    "show(plot)"
   ]
  },
  {
   "cell_type": "code",
   "execution_count": 7,
   "metadata": {},
   "outputs": [
    {
     "data": {
      "text/html": [
       "\n",
       "\n",
       "\n",
       "\n",
       "\n",
       "\n",
       "  <div class=\"bk-root\" id=\"0f397e28-726c-4aaf-bf89-dfea6691ef8c\" data-root-id=\"1602\"></div>\n"
      ]
     },
     "metadata": {},
     "output_type": "display_data"
    },
    {
     "data": {
      "application/javascript": [
       "(function(root) {\n",
       "  function embed_document(root) {\n",
       "    \n",
       "  var docs_json = {\"886e0a2a-899f-44da-be4b-4f7efcbdca99\":{\"roots\":{\"references\":[{\"attributes\":{\"below\":[{\"id\":\"1611\",\"type\":\"LinearAxis\"}],\"left\":[{\"id\":\"1616\",\"type\":\"LinearAxis\"}],\"plot_height\":300,\"plot_width\":300,\"renderers\":[{\"id\":\"1611\",\"type\":\"LinearAxis\"},{\"id\":\"1615\",\"type\":\"Grid\"},{\"id\":\"1616\",\"type\":\"LinearAxis\"},{\"id\":\"1620\",\"type\":\"Grid\"},{\"id\":\"1629\",\"type\":\"BoxAnnotation\"},{\"id\":\"1639\",\"type\":\"GlyphRenderer\"}],\"title\":{\"id\":\"1686\",\"type\":\"Title\"},\"toolbar\":{\"id\":\"1627\",\"type\":\"Toolbar\"},\"x_range\":{\"id\":\"1603\",\"type\":\"DataRange1d\"},\"x_scale\":{\"id\":\"1607\",\"type\":\"LinearScale\"},\"y_range\":{\"id\":\"1605\",\"type\":\"DataRange1d\"},\"y_scale\":{\"id\":\"1609\",\"type\":\"LinearScale\"}},\"id\":\"1602\",\"subtype\":\"Figure\",\"type\":\"Plot\"},{\"attributes\":{},\"id\":\"1694\",\"type\":\"Selection\"},{\"attributes\":{\"fill_color\":{\"value\":\"#E6550D\"},\"line_color\":{\"value\":\"#E6550D\"},\"line_width\":{\"value\":2},\"size\":{\"units\":\"screen\",\"value\":20},\"x\":{\"field\":\"x\"},\"y\":{\"field\":\"y\"}},\"id\":\"1637\",\"type\":\"Cross\"},{\"attributes\":{},\"id\":\"1693\",\"type\":\"UnionRenderers\"},{\"attributes\":{},\"id\":\"1689\",\"type\":\"BasicTickFormatter\"},{\"attributes\":{\"callback\":null},\"id\":\"1603\",\"type\":\"DataRange1d\"},{\"attributes\":{\"callback\":null},\"id\":\"1605\",\"type\":\"DataRange1d\"},{\"attributes\":{},\"id\":\"1607\",\"type\":\"LinearScale\"},{\"attributes\":{},\"id\":\"1609\",\"type\":\"LinearScale\"},{\"attributes\":{},\"id\":\"1612\",\"type\":\"BasicTicker\"},{\"attributes\":{\"formatter\":{\"id\":\"1691\",\"type\":\"BasicTickFormatter\"},\"plot\":{\"id\":\"1602\",\"subtype\":\"Figure\",\"type\":\"Plot\"},\"ticker\":{\"id\":\"1612\",\"type\":\"BasicTicker\"}},\"id\":\"1611\",\"type\":\"LinearAxis\"},{\"attributes\":{\"plot\":{\"id\":\"1602\",\"subtype\":\"Figure\",\"type\":\"Plot\"},\"ticker\":{\"id\":\"1612\",\"type\":\"BasicTicker\"}},\"id\":\"1615\",\"type\":\"Grid\"},{\"attributes\":{\"formatter\":{\"id\":\"1689\",\"type\":\"BasicTickFormatter\"},\"plot\":{\"id\":\"1602\",\"subtype\":\"Figure\",\"type\":\"Plot\"},\"ticker\":{\"id\":\"1617\",\"type\":\"BasicTicker\"}},\"id\":\"1616\",\"type\":\"LinearAxis\"},{\"attributes\":{\"callback\":null,\"data\":{\"x\":[1,2,3],\"y\":[1,2,3]},\"selected\":{\"id\":\"1694\",\"type\":\"Selection\"},\"selection_policy\":{\"id\":\"1693\",\"type\":\"UnionRenderers\"}},\"id\":\"1636\",\"type\":\"ColumnDataSource\"},{\"attributes\":{\"dimension\":1,\"plot\":{\"id\":\"1602\",\"subtype\":\"Figure\",\"type\":\"Plot\"},\"ticker\":{\"id\":\"1617\",\"type\":\"BasicTicker\"}},\"id\":\"1620\",\"type\":\"Grid\"},{\"attributes\":{},\"id\":\"1617\",\"type\":\"BasicTicker\"},{\"attributes\":{\"active_drag\":\"auto\",\"active_inspect\":\"auto\",\"active_multi\":null,\"active_scroll\":\"auto\",\"active_tap\":\"auto\",\"tools\":[{\"id\":\"1621\",\"type\":\"PanTool\"},{\"id\":\"1622\",\"type\":\"WheelZoomTool\"},{\"id\":\"1623\",\"type\":\"BoxZoomTool\"},{\"id\":\"1624\",\"type\":\"SaveTool\"},{\"id\":\"1625\",\"type\":\"ResetTool\"},{\"id\":\"1626\",\"type\":\"HelpTool\"}]},\"id\":\"1627\",\"type\":\"Toolbar\"},{\"attributes\":{},\"id\":\"1621\",\"type\":\"PanTool\"},{\"attributes\":{},\"id\":\"1622\",\"type\":\"WheelZoomTool\"},{\"attributes\":{\"overlay\":{\"id\":\"1629\",\"type\":\"BoxAnnotation\"}},\"id\":\"1623\",\"type\":\"BoxZoomTool\"},{\"attributes\":{},\"id\":\"1624\",\"type\":\"SaveTool\"},{\"attributes\":{},\"id\":\"1625\",\"type\":\"ResetTool\"},{\"attributes\":{\"source\":{\"id\":\"1636\",\"type\":\"ColumnDataSource\"}},\"id\":\"1640\",\"type\":\"CDSView\"},{\"attributes\":{},\"id\":\"1626\",\"type\":\"HelpTool\"},{\"attributes\":{\"fill_alpha\":{\"value\":0.1},\"fill_color\":{\"value\":\"#1f77b4\"},\"line_alpha\":{\"value\":0.1},\"line_color\":{\"value\":\"#1f77b4\"},\"line_width\":{\"value\":2},\"size\":{\"units\":\"screen\",\"value\":20},\"x\":{\"field\":\"x\"},\"y\":{\"field\":\"y\"}},\"id\":\"1638\",\"type\":\"Cross\"},{\"attributes\":{\"bottom_units\":\"screen\",\"fill_alpha\":{\"value\":0.5},\"fill_color\":{\"value\":\"lightgrey\"},\"left_units\":\"screen\",\"level\":\"overlay\",\"line_alpha\":{\"value\":1.0},\"line_color\":{\"value\":\"black\"},\"line_dash\":[4,4],\"line_width\":{\"value\":2},\"plot\":null,\"render_mode\":\"css\",\"right_units\":\"screen\",\"top_units\":\"screen\"},\"id\":\"1629\",\"type\":\"BoxAnnotation\"},{\"attributes\":{\"data_source\":{\"id\":\"1636\",\"type\":\"ColumnDataSource\"},\"glyph\":{\"id\":\"1637\",\"type\":\"Cross\"},\"hover_glyph\":null,\"muted_glyph\":null,\"nonselection_glyph\":{\"id\":\"1638\",\"type\":\"Cross\"},\"selection_glyph\":null,\"view\":{\"id\":\"1640\",\"type\":\"CDSView\"}},\"id\":\"1639\",\"type\":\"GlyphRenderer\"},{\"attributes\":{\"plot\":null,\"text\":\"\"},\"id\":\"1686\",\"type\":\"Title\"},{\"attributes\":{},\"id\":\"1691\",\"type\":\"BasicTickFormatter\"}],\"root_ids\":[\"1602\"]},\"title\":\"Bokeh Application\",\"version\":\"1.0.3\"}};\n",
       "  var render_items = [{\"docid\":\"886e0a2a-899f-44da-be4b-4f7efcbdca99\",\"roots\":{\"1602\":\"0f397e28-726c-4aaf-bf89-dfea6691ef8c\"}}];\n",
       "  root.Bokeh.embed.embed_items_notebook(docs_json, render_items);\n",
       "\n",
       "  }\n",
       "  if (root.Bokeh !== undefined) {\n",
       "    embed_document(root);\n",
       "  } else {\n",
       "    var attempts = 0;\n",
       "    var timer = setInterval(function(root) {\n",
       "      if (root.Bokeh !== undefined) {\n",
       "        embed_document(root);\n",
       "        clearInterval(timer);\n",
       "      }\n",
       "      attempts++;\n",
       "      if (attempts > 100) {\n",
       "        console.log(\"Bokeh: ERROR: Unable to run BokehJS code because BokehJS library is missing\");\n",
       "        clearInterval(timer);\n",
       "      }\n",
       "    }, 10, root)\n",
       "  }\n",
       "})(window);"
      ],
      "application/vnd.bokehjs_exec.v0+json": ""
     },
     "metadata": {
      "application/vnd.bokehjs_exec.v0+json": {
       "id": "1602"
      }
     },
     "output_type": "display_data"
    }
   ],
   "source": [
    "# Cross\n",
    "plot = figure(plot_width=300, plot_height=300)\n",
    "plot.cross(x=[1, 2, 3], y=[1, 2, 3], size=20,\n",
    "           color=\"#E6550D\", line_width=2)\n",
    "\n",
    "show(plot)"
   ]
  },
  {
   "cell_type": "code",
   "execution_count": 8,
   "metadata": {},
   "outputs": [
    {
     "data": {
      "text/html": [
       "\n",
       "\n",
       "\n",
       "\n",
       "\n",
       "\n",
       "  <div class=\"bk-root\" id=\"4e43b367-c70e-479c-96a8-9d330f95b537\" data-root-id=\"1749\"></div>\n"
      ]
     },
     "metadata": {},
     "output_type": "display_data"
    },
    {
     "data": {
      "application/javascript": [
       "(function(root) {\n",
       "  function embed_document(root) {\n",
       "    \n",
       "  var docs_json = {\"5e4e77fe-3140-45c6-9b40-36b1af1b0cc0\":{\"roots\":{\"references\":[{\"attributes\":{\"below\":[{\"id\":\"1758\",\"type\":\"LinearAxis\"}],\"left\":[{\"id\":\"1763\",\"type\":\"LinearAxis\"}],\"plot_height\":300,\"plot_width\":300,\"renderers\":[{\"id\":\"1758\",\"type\":\"LinearAxis\"},{\"id\":\"1762\",\"type\":\"Grid\"},{\"id\":\"1763\",\"type\":\"LinearAxis\"},{\"id\":\"1767\",\"type\":\"Grid\"},{\"id\":\"1776\",\"type\":\"BoxAnnotation\"},{\"id\":\"1786\",\"type\":\"GlyphRenderer\"}],\"title\":{\"id\":\"1842\",\"type\":\"Title\"},\"toolbar\":{\"id\":\"1774\",\"type\":\"Toolbar\"},\"x_range\":{\"id\":\"1750\",\"type\":\"DataRange1d\"},\"x_scale\":{\"id\":\"1754\",\"type\":\"LinearScale\"},\"y_range\":{\"id\":\"1752\",\"type\":\"DataRange1d\"},\"y_scale\":{\"id\":\"1756\",\"type\":\"LinearScale\"}},\"id\":\"1749\",\"subtype\":\"Figure\",\"type\":\"Plot\"},{\"attributes\":{},\"id\":\"1849\",\"type\":\"UnionRenderers\"},{\"attributes\":{},\"id\":\"1847\",\"type\":\"BasicTickFormatter\"},{\"attributes\":{\"bottom_units\":\"screen\",\"fill_alpha\":{\"value\":0.5},\"fill_color\":{\"value\":\"lightgrey\"},\"left_units\":\"screen\",\"level\":\"overlay\",\"line_alpha\":{\"value\":1.0},\"line_color\":{\"value\":\"black\"},\"line_dash\":[4,4],\"line_width\":{\"value\":2},\"plot\":null,\"render_mode\":\"css\",\"right_units\":\"screen\",\"top_units\":\"screen\"},\"id\":\"1776\",\"type\":\"BoxAnnotation\"},{\"attributes\":{\"source\":{\"id\":\"1783\",\"type\":\"ColumnDataSource\"}},\"id\":\"1787\",\"type\":\"CDSView\"},{\"attributes\":{},\"id\":\"1754\",\"type\":\"LinearScale\"},{\"attributes\":{\"plot\":null,\"text\":\"\"},\"id\":\"1842\",\"type\":\"Title\"},{\"attributes\":{},\"id\":\"1756\",\"type\":\"LinearScale\"},{\"attributes\":{\"callback\":null},\"id\":\"1752\",\"type\":\"DataRange1d\"},{\"attributes\":{\"callback\":null},\"id\":\"1750\",\"type\":\"DataRange1d\"},{\"attributes\":{},\"id\":\"1845\",\"type\":\"BasicTickFormatter\"},{\"attributes\":{},\"id\":\"1850\",\"type\":\"Selection\"},{\"attributes\":{},\"id\":\"1759\",\"type\":\"BasicTicker\"},{\"attributes\":{\"fill_alpha\":{\"value\":0.1},\"fill_color\":{\"value\":\"#1f77b4\"},\"line_alpha\":{\"value\":0.1},\"line_color\":{\"value\":\"#1f77b4\"},\"line_width\":{\"value\":2},\"size\":{\"field\":\"size\",\"units\":\"screen\"},\"x\":{\"field\":\"x\"},\"y\":{\"field\":\"y\"}},\"id\":\"1785\",\"type\":\"Dash\"},{\"attributes\":{\"fill_color\":{\"value\":\"#99D594\"},\"line_color\":{\"value\":\"#99D594\"},\"line_width\":{\"value\":2},\"size\":{\"field\":\"size\",\"units\":\"screen\"},\"x\":{\"field\":\"x\"},\"y\":{\"field\":\"y\"}},\"id\":\"1784\",\"type\":\"Dash\"},{\"attributes\":{\"formatter\":{\"id\":\"1847\",\"type\":\"BasicTickFormatter\"},\"plot\":{\"id\":\"1749\",\"subtype\":\"Figure\",\"type\":\"Plot\"},\"ticker\":{\"id\":\"1759\",\"type\":\"BasicTicker\"}},\"id\":\"1758\",\"type\":\"LinearAxis\"},{\"attributes\":{\"dimension\":1,\"plot\":{\"id\":\"1749\",\"subtype\":\"Figure\",\"type\":\"Plot\"},\"ticker\":{\"id\":\"1764\",\"type\":\"BasicTicker\"}},\"id\":\"1767\",\"type\":\"Grid\"},{\"attributes\":{\"callback\":null,\"data\":{\"size\":[10,20,25],\"x\":[1,2,3],\"y\":[1,2,3]},\"selected\":{\"id\":\"1850\",\"type\":\"Selection\"},\"selection_policy\":{\"id\":\"1849\",\"type\":\"UnionRenderers\"}},\"id\":\"1783\",\"type\":\"ColumnDataSource\"},{\"attributes\":{\"formatter\":{\"id\":\"1845\",\"type\":\"BasicTickFormatter\"},\"plot\":{\"id\":\"1749\",\"subtype\":\"Figure\",\"type\":\"Plot\"},\"ticker\":{\"id\":\"1764\",\"type\":\"BasicTicker\"}},\"id\":\"1763\",\"type\":\"LinearAxis\"},{\"attributes\":{\"plot\":{\"id\":\"1749\",\"subtype\":\"Figure\",\"type\":\"Plot\"},\"ticker\":{\"id\":\"1759\",\"type\":\"BasicTicker\"}},\"id\":\"1762\",\"type\":\"Grid\"},{\"attributes\":{},\"id\":\"1764\",\"type\":\"BasicTicker\"},{\"attributes\":{\"active_drag\":\"auto\",\"active_inspect\":\"auto\",\"active_multi\":null,\"active_scroll\":\"auto\",\"active_tap\":\"auto\",\"tools\":[{\"id\":\"1768\",\"type\":\"PanTool\"},{\"id\":\"1769\",\"type\":\"WheelZoomTool\"},{\"id\":\"1770\",\"type\":\"BoxZoomTool\"},{\"id\":\"1771\",\"type\":\"SaveTool\"},{\"id\":\"1772\",\"type\":\"ResetTool\"},{\"id\":\"1773\",\"type\":\"HelpTool\"}]},\"id\":\"1774\",\"type\":\"Toolbar\"},{\"attributes\":{},\"id\":\"1768\",\"type\":\"PanTool\"},{\"attributes\":{\"overlay\":{\"id\":\"1776\",\"type\":\"BoxAnnotation\"}},\"id\":\"1770\",\"type\":\"BoxZoomTool\"},{\"attributes\":{},\"id\":\"1772\",\"type\":\"ResetTool\"},{\"attributes\":{},\"id\":\"1771\",\"type\":\"SaveTool\"},{\"attributes\":{\"data_source\":{\"id\":\"1783\",\"type\":\"ColumnDataSource\"},\"glyph\":{\"id\":\"1784\",\"type\":\"Dash\"},\"hover_glyph\":null,\"muted_glyph\":null,\"nonselection_glyph\":{\"id\":\"1785\",\"type\":\"Dash\"},\"selection_glyph\":null,\"view\":{\"id\":\"1787\",\"type\":\"CDSView\"}},\"id\":\"1786\",\"type\":\"GlyphRenderer\"},{\"attributes\":{},\"id\":\"1769\",\"type\":\"WheelZoomTool\"},{\"attributes\":{},\"id\":\"1773\",\"type\":\"HelpTool\"}],\"root_ids\":[\"1749\"]},\"title\":\"Bokeh Application\",\"version\":\"1.0.3\"}};\n",
       "  var render_items = [{\"docid\":\"5e4e77fe-3140-45c6-9b40-36b1af1b0cc0\",\"roots\":{\"1749\":\"4e43b367-c70e-479c-96a8-9d330f95b537\"}}];\n",
       "  root.Bokeh.embed.embed_items_notebook(docs_json, render_items);\n",
       "\n",
       "  }\n",
       "  if (root.Bokeh !== undefined) {\n",
       "    embed_document(root);\n",
       "  } else {\n",
       "    var attempts = 0;\n",
       "    var timer = setInterval(function(root) {\n",
       "      if (root.Bokeh !== undefined) {\n",
       "        embed_document(root);\n",
       "        clearInterval(timer);\n",
       "      }\n",
       "      attempts++;\n",
       "      if (attempts > 100) {\n",
       "        console.log(\"Bokeh: ERROR: Unable to run BokehJS code because BokehJS library is missing\");\n",
       "        clearInterval(timer);\n",
       "      }\n",
       "    }, 10, root)\n",
       "  }\n",
       "})(window);"
      ],
      "application/vnd.bokehjs_exec.v0+json": ""
     },
     "metadata": {
      "application/vnd.bokehjs_exec.v0+json": {
       "id": "1749"
      }
     },
     "output_type": "display_data"
    }
   ],
   "source": [
    "# Dash\n",
    "plot = figure(plot_width=300, plot_height=300)\n",
    "plot.dash(x=[1, 2, 3], y=[1, 2, 3], size=[10,20,25],\n",
    "          color=\"#99D594\", line_width=2)\n",
    "\n",
    "show(plot)"
   ]
  },
  {
   "cell_type": "code",
   "execution_count": 9,
   "metadata": {},
   "outputs": [
    {
     "data": {
      "text/html": [
       "\n",
       "\n",
       "\n",
       "\n",
       "\n",
       "\n",
       "  <div class=\"bk-root\" id=\"cd09cdc9-a071-4f6a-a1e2-76cda589ffe4\" data-root-id=\"1905\"></div>\n"
      ]
     },
     "metadata": {},
     "output_type": "display_data"
    },
    {
     "data": {
      "application/javascript": [
       "(function(root) {\n",
       "  function embed_document(root) {\n",
       "    \n",
       "  var docs_json = {\"4e8c3f30-58a8-4076-be7e-71579d1d7a0b\":{\"roots\":{\"references\":[{\"attributes\":{\"below\":[{\"id\":\"1914\",\"type\":\"LinearAxis\"}],\"left\":[{\"id\":\"1919\",\"type\":\"LinearAxis\"}],\"plot_height\":300,\"plot_width\":300,\"renderers\":[{\"id\":\"1914\",\"type\":\"LinearAxis\"},{\"id\":\"1918\",\"type\":\"Grid\"},{\"id\":\"1919\",\"type\":\"LinearAxis\"},{\"id\":\"1923\",\"type\":\"Grid\"},{\"id\":\"1932\",\"type\":\"BoxAnnotation\"},{\"id\":\"1942\",\"type\":\"GlyphRenderer\"}],\"title\":{\"id\":\"2007\",\"type\":\"Title\"},\"toolbar\":{\"id\":\"1930\",\"type\":\"Toolbar\"},\"x_range\":{\"id\":\"1906\",\"type\":\"DataRange1d\"},\"x_scale\":{\"id\":\"1910\",\"type\":\"LinearScale\"},\"y_range\":{\"id\":\"1908\",\"type\":\"DataRange1d\"},\"y_scale\":{\"id\":\"1912\",\"type\":\"LinearScale\"}},\"id\":\"1905\",\"subtype\":\"Figure\",\"type\":\"Plot\"},{\"attributes\":{},\"id\":\"1910\",\"type\":\"LinearScale\"},{\"attributes\":{\"callback\":null},\"id\":\"1908\",\"type\":\"DataRange1d\"},{\"attributes\":{\"dimension\":1,\"plot\":{\"id\":\"1905\",\"subtype\":\"Figure\",\"type\":\"Plot\"},\"ticker\":{\"id\":\"1920\",\"type\":\"BasicTicker\"}},\"id\":\"1923\",\"type\":\"Grid\"},{\"attributes\":{\"callback\":null,\"data\":{\"x\":[1,2,3],\"y\":[1,2,3]},\"selected\":{\"id\":\"2015\",\"type\":\"Selection\"},\"selection_policy\":{\"id\":\"2014\",\"type\":\"UnionRenderers\"}},\"id\":\"1939\",\"type\":\"ColumnDataSource\"},{\"attributes\":{},\"id\":\"1920\",\"type\":\"BasicTicker\"},{\"attributes\":{},\"id\":\"1928\",\"type\":\"ResetTool\"},{\"attributes\":{\"active_drag\":\"auto\",\"active_inspect\":\"auto\",\"active_multi\":null,\"active_scroll\":\"auto\",\"active_tap\":\"auto\",\"tools\":[{\"id\":\"1924\",\"type\":\"PanTool\"},{\"id\":\"1925\",\"type\":\"WheelZoomTool\"},{\"id\":\"1926\",\"type\":\"BoxZoomTool\"},{\"id\":\"1927\",\"type\":\"SaveTool\"},{\"id\":\"1928\",\"type\":\"ResetTool\"},{\"id\":\"1929\",\"type\":\"HelpTool\"}]},\"id\":\"1930\",\"type\":\"Toolbar\"},{\"attributes\":{},\"id\":\"1924\",\"type\":\"PanTool\"},{\"attributes\":{\"overlay\":{\"id\":\"1932\",\"type\":\"BoxAnnotation\"}},\"id\":\"1926\",\"type\":\"BoxZoomTool\"},{\"attributes\":{},\"id\":\"2012\",\"type\":\"BasicTickFormatter\"},{\"attributes\":{},\"id\":\"1927\",\"type\":\"SaveTool\"},{\"attributes\":{},\"id\":\"1925\",\"type\":\"WheelZoomTool\"},{\"attributes\":{\"fill_alpha\":{\"value\":0.1},\"fill_color\":{\"value\":\"#1f77b4\"},\"line_alpha\":{\"value\":0.1},\"line_color\":{\"value\":\"#1f77b4\"},\"line_width\":{\"value\":2},\"size\":{\"units\":\"screen\",\"value\":20},\"x\":{\"field\":\"x\"},\"y\":{\"field\":\"y\"}},\"id\":\"1941\",\"type\":\"Diamond\"},{\"attributes\":{},\"id\":\"1929\",\"type\":\"HelpTool\"},{\"attributes\":{\"fill_color\":{\"value\":\"#1C9099\"},\"line_color\":{\"value\":\"#1C9099\"},\"line_width\":{\"value\":2},\"size\":{\"units\":\"screen\",\"value\":20},\"x\":{\"field\":\"x\"},\"y\":{\"field\":\"y\"}},\"id\":\"1940\",\"type\":\"Diamond\"},{\"attributes\":{\"source\":{\"id\":\"1939\",\"type\":\"ColumnDataSource\"}},\"id\":\"1943\",\"type\":\"CDSView\"},{\"attributes\":{\"data_source\":{\"id\":\"1939\",\"type\":\"ColumnDataSource\"},\"glyph\":{\"id\":\"1940\",\"type\":\"Diamond\"},\"hover_glyph\":null,\"muted_glyph\":null,\"nonselection_glyph\":{\"id\":\"1941\",\"type\":\"Diamond\"},\"selection_glyph\":null,\"view\":{\"id\":\"1943\",\"type\":\"CDSView\"}},\"id\":\"1942\",\"type\":\"GlyphRenderer\"},{\"attributes\":{\"bottom_units\":\"screen\",\"fill_alpha\":{\"value\":0.5},\"fill_color\":{\"value\":\"lightgrey\"},\"left_units\":\"screen\",\"level\":\"overlay\",\"line_alpha\":{\"value\":1.0},\"line_color\":{\"value\":\"black\"},\"line_dash\":[4,4],\"line_width\":{\"value\":2},\"plot\":null,\"render_mode\":\"css\",\"right_units\":\"screen\",\"top_units\":\"screen\"},\"id\":\"1932\",\"type\":\"BoxAnnotation\"},{\"attributes\":{\"plot\":null,\"text\":\"\"},\"id\":\"2007\",\"type\":\"Title\"},{\"attributes\":{},\"id\":\"2014\",\"type\":\"UnionRenderers\"},{\"attributes\":{},\"id\":\"2010\",\"type\":\"BasicTickFormatter\"},{\"attributes\":{},\"id\":\"2015\",\"type\":\"Selection\"},{\"attributes\":{\"formatter\":{\"id\":\"2010\",\"type\":\"BasicTickFormatter\"},\"plot\":{\"id\":\"1905\",\"subtype\":\"Figure\",\"type\":\"Plot\"},\"ticker\":{\"id\":\"1920\",\"type\":\"BasicTicker\"}},\"id\":\"1919\",\"type\":\"LinearAxis\"},{\"attributes\":{\"callback\":null},\"id\":\"1906\",\"type\":\"DataRange1d\"},{\"attributes\":{\"plot\":{\"id\":\"1905\",\"subtype\":\"Figure\",\"type\":\"Plot\"},\"ticker\":{\"id\":\"1915\",\"type\":\"BasicTicker\"}},\"id\":\"1918\",\"type\":\"Grid\"},{\"attributes\":{\"formatter\":{\"id\":\"2012\",\"type\":\"BasicTickFormatter\"},\"plot\":{\"id\":\"1905\",\"subtype\":\"Figure\",\"type\":\"Plot\"},\"ticker\":{\"id\":\"1915\",\"type\":\"BasicTicker\"}},\"id\":\"1914\",\"type\":\"LinearAxis\"},{\"attributes\":{},\"id\":\"1915\",\"type\":\"BasicTicker\"},{\"attributes\":{},\"id\":\"1912\",\"type\":\"LinearScale\"}],\"root_ids\":[\"1905\"]},\"title\":\"Bokeh Application\",\"version\":\"1.0.3\"}};\n",
       "  var render_items = [{\"docid\":\"4e8c3f30-58a8-4076-be7e-71579d1d7a0b\",\"roots\":{\"1905\":\"cd09cdc9-a071-4f6a-a1e2-76cda589ffe4\"}}];\n",
       "  root.Bokeh.embed.embed_items_notebook(docs_json, render_items);\n",
       "\n",
       "  }\n",
       "  if (root.Bokeh !== undefined) {\n",
       "    embed_document(root);\n",
       "  } else {\n",
       "    var attempts = 0;\n",
       "    var timer = setInterval(function(root) {\n",
       "      if (root.Bokeh !== undefined) {\n",
       "        embed_document(root);\n",
       "        clearInterval(timer);\n",
       "      }\n",
       "      attempts++;\n",
       "      if (attempts > 100) {\n",
       "        console.log(\"Bokeh: ERROR: Unable to run BokehJS code because BokehJS library is missing\");\n",
       "        clearInterval(timer);\n",
       "      }\n",
       "    }, 10, root)\n",
       "  }\n",
       "})(window);"
      ],
      "application/vnd.bokehjs_exec.v0+json": ""
     },
     "metadata": {
      "application/vnd.bokehjs_exec.v0+json": {
       "id": "1905"
      }
     },
     "output_type": "display_data"
    }
   ],
   "source": [
    "# Diamond\n",
    "plot = figure(plot_width=300, plot_height=300)\n",
    "plot.diamond(x=[1, 2, 3], y=[1, 2, 3], size=20,\n",
    "            color=\"#1C9099\", line_width=2)\n",
    "\n",
    "show(plot)"
   ]
  },
  {
   "cell_type": "code",
   "execution_count": 10,
   "metadata": {},
   "outputs": [
    {
     "data": {
      "text/html": [
       "\n",
       "\n",
       "\n",
       "\n",
       "\n",
       "\n",
       "  <div class=\"bk-root\" id=\"74943379-19e2-4e00-99c3-e64da4de690b\" data-root-id=\"2070\"></div>\n"
      ]
     },
     "metadata": {},
     "output_type": "display_data"
    },
    {
     "data": {
      "application/javascript": [
       "(function(root) {\n",
       "  function embed_document(root) {\n",
       "    \n",
       "  var docs_json = {\"5aa7e503-bb66-43ad-a8b5-ea3d833148ec\":{\"roots\":{\"references\":[{\"attributes\":{\"below\":[{\"id\":\"2079\",\"type\":\"LinearAxis\"}],\"left\":[{\"id\":\"2084\",\"type\":\"LinearAxis\"}],\"plot_height\":300,\"plot_width\":300,\"renderers\":[{\"id\":\"2079\",\"type\":\"LinearAxis\"},{\"id\":\"2083\",\"type\":\"Grid\"},{\"id\":\"2084\",\"type\":\"LinearAxis\"},{\"id\":\"2088\",\"type\":\"Grid\"},{\"id\":\"2097\",\"type\":\"BoxAnnotation\"},{\"id\":\"2107\",\"type\":\"GlyphRenderer\"}],\"title\":{\"id\":\"2181\",\"type\":\"Title\"},\"toolbar\":{\"id\":\"2095\",\"type\":\"Toolbar\"},\"x_range\":{\"id\":\"2071\",\"type\":\"DataRange1d\"},\"x_scale\":{\"id\":\"2075\",\"type\":\"LinearScale\"},\"y_range\":{\"id\":\"2073\",\"type\":\"DataRange1d\"},\"y_scale\":{\"id\":\"2077\",\"type\":\"LinearScale\"}},\"id\":\"2070\",\"subtype\":\"Figure\",\"type\":\"Plot\"},{\"attributes\":{},\"id\":\"2080\",\"type\":\"BasicTicker\"},{\"attributes\":{\"formatter\":{\"id\":\"2186\",\"type\":\"BasicTickFormatter\"},\"plot\":{\"id\":\"2070\",\"subtype\":\"Figure\",\"type\":\"Plot\"},\"ticker\":{\"id\":\"2080\",\"type\":\"BasicTicker\"}},\"id\":\"2079\",\"type\":\"LinearAxis\"},{\"attributes\":{\"plot\":{\"id\":\"2070\",\"subtype\":\"Figure\",\"type\":\"Plot\"},\"ticker\":{\"id\":\"2080\",\"type\":\"BasicTicker\"}},\"id\":\"2083\",\"type\":\"Grid\"},{\"attributes\":{\"formatter\":{\"id\":\"2184\",\"type\":\"BasicTickFormatter\"},\"plot\":{\"id\":\"2070\",\"subtype\":\"Figure\",\"type\":\"Plot\"},\"ticker\":{\"id\":\"2085\",\"type\":\"BasicTicker\"}},\"id\":\"2084\",\"type\":\"LinearAxis\"},{\"attributes\":{\"dimension\":1,\"plot\":{\"id\":\"2070\",\"subtype\":\"Figure\",\"type\":\"Plot\"},\"ticker\":{\"id\":\"2085\",\"type\":\"BasicTicker\"}},\"id\":\"2088\",\"type\":\"Grid\"},{\"attributes\":{},\"id\":\"2085\",\"type\":\"BasicTicker\"},{\"attributes\":{\"source\":{\"id\":\"2104\",\"type\":\"ColumnDataSource\"}},\"id\":\"2108\",\"type\":\"CDSView\"},{\"attributes\":{\"callback\":null,\"data\":{\"x\":[1,2,3],\"y\":[1,2,3]},\"selected\":{\"id\":\"2189\",\"type\":\"Selection\"},\"selection_policy\":{\"id\":\"2188\",\"type\":\"UnionRenderers\"}},\"id\":\"2104\",\"type\":\"ColumnDataSource\"},{\"attributes\":{\"active_drag\":\"auto\",\"active_inspect\":\"auto\",\"active_multi\":null,\"active_scroll\":\"auto\",\"active_tap\":\"auto\",\"tools\":[{\"id\":\"2089\",\"type\":\"PanTool\"},{\"id\":\"2090\",\"type\":\"WheelZoomTool\"},{\"id\":\"2091\",\"type\":\"BoxZoomTool\"},{\"id\":\"2092\",\"type\":\"SaveTool\"},{\"id\":\"2093\",\"type\":\"ResetTool\"},{\"id\":\"2094\",\"type\":\"HelpTool\"}]},\"id\":\"2095\",\"type\":\"Toolbar\"},{\"attributes\":{},\"id\":\"2089\",\"type\":\"PanTool\"},{\"attributes\":{},\"id\":\"2090\",\"type\":\"WheelZoomTool\"},{\"attributes\":{\"overlay\":{\"id\":\"2097\",\"type\":\"BoxAnnotation\"}},\"id\":\"2091\",\"type\":\"BoxZoomTool\"},{\"attributes\":{},\"id\":\"2092\",\"type\":\"SaveTool\"},{\"attributes\":{},\"id\":\"2093\",\"type\":\"ResetTool\"},{\"attributes\":{},\"id\":\"2094\",\"type\":\"HelpTool\"},{\"attributes\":{\"fill_alpha\":{\"value\":0.1},\"fill_color\":{\"value\":\"#1f77b4\"},\"line_alpha\":{\"value\":0.1},\"line_color\":{\"value\":\"#1f77b4\"},\"line_width\":{\"value\":2},\"size\":{\"units\":\"screen\",\"value\":20},\"x\":{\"field\":\"x\"},\"y\":{\"field\":\"y\"}},\"id\":\"2106\",\"type\":\"DiamondCross\"},{\"attributes\":{\"data_source\":{\"id\":\"2104\",\"type\":\"ColumnDataSource\"},\"glyph\":{\"id\":\"2105\",\"type\":\"DiamondCross\"},\"hover_glyph\":null,\"muted_glyph\":null,\"nonselection_glyph\":{\"id\":\"2106\",\"type\":\"DiamondCross\"},\"selection_glyph\":null,\"view\":{\"id\":\"2108\",\"type\":\"CDSView\"}},\"id\":\"2107\",\"type\":\"GlyphRenderer\"},{\"attributes\":{\"bottom_units\":\"screen\",\"fill_alpha\":{\"value\":0.5},\"fill_color\":{\"value\":\"lightgrey\"},\"left_units\":\"screen\",\"level\":\"overlay\",\"line_alpha\":{\"value\":1.0},\"line_color\":{\"value\":\"black\"},\"line_dash\":[4,4],\"line_width\":{\"value\":2},\"plot\":null,\"render_mode\":\"css\",\"right_units\":\"screen\",\"top_units\":\"screen\"},\"id\":\"2097\",\"type\":\"BoxAnnotation\"},{\"attributes\":{\"plot\":null,\"text\":\"\"},\"id\":\"2181\",\"type\":\"Title\"},{\"attributes\":{},\"id\":\"2186\",\"type\":\"BasicTickFormatter\"},{\"attributes\":{},\"id\":\"2189\",\"type\":\"Selection\"},{\"attributes\":{},\"id\":\"2075\",\"type\":\"LinearScale\"},{\"attributes\":{},\"id\":\"2188\",\"type\":\"UnionRenderers\"},{\"attributes\":{\"callback\":null},\"id\":\"2073\",\"type\":\"DataRange1d\"},{\"attributes\":{},\"id\":\"2184\",\"type\":\"BasicTickFormatter\"},{\"attributes\":{\"fill_color\":{\"value\":null},\"line_color\":{\"value\":\"#386CB0\"},\"line_width\":{\"value\":2},\"size\":{\"units\":\"screen\",\"value\":20},\"x\":{\"field\":\"x\"},\"y\":{\"field\":\"y\"}},\"id\":\"2105\",\"type\":\"DiamondCross\"},{\"attributes\":{\"callback\":null},\"id\":\"2071\",\"type\":\"DataRange1d\"},{\"attributes\":{},\"id\":\"2077\",\"type\":\"LinearScale\"}],\"root_ids\":[\"2070\"]},\"title\":\"Bokeh Application\",\"version\":\"1.0.3\"}};\n",
       "  var render_items = [{\"docid\":\"5aa7e503-bb66-43ad-a8b5-ea3d833148ec\",\"roots\":{\"2070\":\"74943379-19e2-4e00-99c3-e64da4de690b\"}}];\n",
       "  root.Bokeh.embed.embed_items_notebook(docs_json, render_items);\n",
       "\n",
       "  }\n",
       "  if (root.Bokeh !== undefined) {\n",
       "    embed_document(root);\n",
       "  } else {\n",
       "    var attempts = 0;\n",
       "    var timer = setInterval(function(root) {\n",
       "      if (root.Bokeh !== undefined) {\n",
       "        embed_document(root);\n",
       "        clearInterval(timer);\n",
       "      }\n",
       "      attempts++;\n",
       "      if (attempts > 100) {\n",
       "        console.log(\"Bokeh: ERROR: Unable to run BokehJS code because BokehJS library is missing\");\n",
       "        clearInterval(timer);\n",
       "      }\n",
       "    }, 10, root)\n",
       "  }\n",
       "})(window);"
      ],
      "application/vnd.bokehjs_exec.v0+json": ""
     },
     "metadata": {
      "application/vnd.bokehjs_exec.v0+json": {
       "id": "2070"
      }
     },
     "output_type": "display_data"
    }
   ],
   "source": [
    "# Diamond_cross\n",
    "plot = figure(plot_width=300, plot_height=300)\n",
    "plot.diamond_cross(x=[1, 2, 3], y=[1, 2, 3], size=20,\n",
    "                   color=\"#386CB0\", fill_color=None, line_width=2)\n",
    "\n",
    "show(plot)"
   ]
  },
  {
   "cell_type": "code",
   "execution_count": 38,
   "metadata": {},
   "outputs": [
    {
     "data": {
      "text/html": [
       "\n",
       "\n",
       "\n",
       "\n",
       "\n",
       "\n",
       "  <div class=\"bk-root\" id=\"427efaed-de9a-4fac-95a0-b2ac809a34b9\" data-root-id=\"9526\"></div>\n"
      ]
     },
     "metadata": {},
     "output_type": "display_data"
    },
    {
     "data": {
      "application/javascript": [
       "(function(root) {\n",
       "  function embed_document(root) {\n",
       "    \n",
       "  var docs_json = {\"86b4fe6a-bdf8-419a-8d47-c36f5ff68ce5\":{\"roots\":{\"references\":[{\"attributes\":{\"below\":[{\"id\":\"9535\",\"type\":\"LinearAxis\"}],\"left\":[{\"id\":\"9540\",\"type\":\"LinearAxis\"}],\"plot_height\":300,\"plot_width\":300,\"renderers\":[{\"id\":\"9535\",\"type\":\"LinearAxis\"},{\"id\":\"9539\",\"type\":\"Grid\"},{\"id\":\"9540\",\"type\":\"LinearAxis\"},{\"id\":\"9544\",\"type\":\"Grid\"},{\"id\":\"9553\",\"type\":\"BoxAnnotation\"},{\"id\":\"9563\",\"type\":\"GlyphRenderer\"}],\"title\":{\"id\":\"9869\",\"type\":\"Title\"},\"toolbar\":{\"id\":\"9551\",\"type\":\"Toolbar\"},\"x_range\":{\"id\":\"9527\",\"type\":\"DataRange1d\"},\"x_scale\":{\"id\":\"9531\",\"type\":\"LinearScale\"},\"y_range\":{\"id\":\"9529\",\"type\":\"DataRange1d\"},\"y_scale\":{\"id\":\"9533\",\"type\":\"LinearScale\"}},\"id\":\"9526\",\"subtype\":\"Figure\",\"type\":\"Plot\"},{\"attributes\":{\"bottom_units\":\"screen\",\"fill_alpha\":{\"value\":0.5},\"fill_color\":{\"value\":\"lightgrey\"},\"left_units\":\"screen\",\"level\":\"overlay\",\"line_alpha\":{\"value\":1.0},\"line_color\":{\"value\":\"black\"},\"line_dash\":[4,4],\"line_width\":{\"value\":2},\"plot\":null,\"render_mode\":\"css\",\"right_units\":\"screen\",\"top_units\":\"screen\"},\"id\":\"9553\",\"type\":\"BoxAnnotation\"},{\"attributes\":{},\"id\":\"9874\",\"type\":\"BasicTickFormatter\"},{\"attributes\":{\"formatter\":{\"id\":\"9874\",\"type\":\"BasicTickFormatter\"},\"plot\":{\"id\":\"9526\",\"subtype\":\"Figure\",\"type\":\"Plot\"},\"ticker\":{\"id\":\"9536\",\"type\":\"BasicTicker\"}},\"id\":\"9535\",\"type\":\"LinearAxis\"},{\"attributes\":{\"overlay\":{\"id\":\"9553\",\"type\":\"BoxAnnotation\"}},\"id\":\"9547\",\"type\":\"BoxZoomTool\"},{\"attributes\":{\"plot\":null,\"text\":\"\"},\"id\":\"9869\",\"type\":\"Title\"},{\"attributes\":{},\"id\":\"9548\",\"type\":\"SaveTool\"},{\"attributes\":{\"active_drag\":\"auto\",\"active_inspect\":\"auto\",\"active_multi\":null,\"active_scroll\":\"auto\",\"active_tap\":\"auto\",\"tools\":[{\"id\":\"9545\",\"type\":\"PanTool\"},{\"id\":\"9546\",\"type\":\"WheelZoomTool\"},{\"id\":\"9547\",\"type\":\"BoxZoomTool\"},{\"id\":\"9548\",\"type\":\"SaveTool\"},{\"id\":\"9549\",\"type\":\"ResetTool\"},{\"id\":\"9550\",\"type\":\"HelpTool\"}]},\"id\":\"9551\",\"type\":\"Toolbar\"},{\"attributes\":{},\"id\":\"9541\",\"type\":\"BasicTicker\"},{\"attributes\":{\"fill_alpha\":{\"value\":0.1},\"fill_color\":{\"value\":\"#1f77b4\"},\"height\":{\"value\":0.5},\"line_alpha\":{\"value\":0.1},\"line_color\":{\"value\":\"#1f77b4\"},\"right\":{\"field\":\"right\"},\"y\":{\"field\":\"y\"}},\"id\":\"9562\",\"type\":\"HBar\"},{\"attributes\":{},\"id\":\"9546\",\"type\":\"WheelZoomTool\"},{\"attributes\":{},\"id\":\"9876\",\"type\":\"UnionRenderers\"},{\"attributes\":{\"callback\":null},\"id\":\"9527\",\"type\":\"DataRange1d\"},{\"attributes\":{},\"id\":\"9531\",\"type\":\"LinearScale\"},{\"attributes\":{},\"id\":\"9872\",\"type\":\"BasicTickFormatter\"},{\"attributes\":{},\"id\":\"9550\",\"type\":\"HelpTool\"},{\"attributes\":{\"callback\":null},\"id\":\"9529\",\"type\":\"DataRange1d\"},{\"attributes\":{\"callback\":null,\"data\":{\"right\":[1,2,5],\"y\":[1,2,3]},\"selected\":{\"id\":\"9877\",\"type\":\"Selection\"},\"selection_policy\":{\"id\":\"9876\",\"type\":\"UnionRenderers\"}},\"id\":\"9560\",\"type\":\"ColumnDataSource\"},{\"attributes\":{},\"id\":\"9536\",\"type\":\"BasicTicker\"},{\"attributes\":{\"plot\":{\"id\":\"9526\",\"subtype\":\"Figure\",\"type\":\"Plot\"},\"ticker\":{\"id\":\"9536\",\"type\":\"BasicTicker\"}},\"id\":\"9539\",\"type\":\"Grid\"},{\"attributes\":{},\"id\":\"9533\",\"type\":\"LinearScale\"},{\"attributes\":{\"data_source\":{\"id\":\"9560\",\"type\":\"ColumnDataSource\"},\"glyph\":{\"id\":\"9561\",\"type\":\"HBar\"},\"hover_glyph\":null,\"muted_glyph\":null,\"nonselection_glyph\":{\"id\":\"9562\",\"type\":\"HBar\"},\"selection_glyph\":null,\"view\":{\"id\":\"9564\",\"type\":\"CDSView\"}},\"id\":\"9563\",\"type\":\"GlyphRenderer\"},{\"attributes\":{\"formatter\":{\"id\":\"9872\",\"type\":\"BasicTickFormatter\"},\"plot\":{\"id\":\"9526\",\"subtype\":\"Figure\",\"type\":\"Plot\"},\"ticker\":{\"id\":\"9541\",\"type\":\"BasicTicker\"}},\"id\":\"9540\",\"type\":\"LinearAxis\"},{\"attributes\":{\"source\":{\"id\":\"9560\",\"type\":\"ColumnDataSource\"}},\"id\":\"9564\",\"type\":\"CDSView\"},{\"attributes\":{\"fill_color\":{\"value\":\"#CAB2D6\"},\"height\":{\"value\":0.5},\"line_color\":{\"value\":\"#CAB2D6\"},\"right\":{\"field\":\"right\"},\"y\":{\"field\":\"y\"}},\"id\":\"9561\",\"type\":\"HBar\"},{\"attributes\":{},\"id\":\"9549\",\"type\":\"ResetTool\"},{\"attributes\":{},\"id\":\"9877\",\"type\":\"Selection\"},{\"attributes\":{\"dimension\":1,\"plot\":{\"id\":\"9526\",\"subtype\":\"Figure\",\"type\":\"Plot\"},\"ticker\":{\"id\":\"9541\",\"type\":\"BasicTicker\"}},\"id\":\"9544\",\"type\":\"Grid\"},{\"attributes\":{},\"id\":\"9545\",\"type\":\"PanTool\"}],\"root_ids\":[\"9526\"]},\"title\":\"Bokeh Application\",\"version\":\"1.0.3\"}};\n",
       "  var render_items = [{\"docid\":\"86b4fe6a-bdf8-419a-8d47-c36f5ff68ce5\",\"roots\":{\"9526\":\"427efaed-de9a-4fac-95a0-b2ac809a34b9\"}}];\n",
       "  root.Bokeh.embed.embed_items_notebook(docs_json, render_items);\n",
       "\n",
       "  }\n",
       "  if (root.Bokeh !== undefined) {\n",
       "    embed_document(root);\n",
       "  } else {\n",
       "    var attempts = 0;\n",
       "    var timer = setInterval(function(root) {\n",
       "      if (root.Bokeh !== undefined) {\n",
       "        embed_document(root);\n",
       "        clearInterval(timer);\n",
       "      }\n",
       "      attempts++;\n",
       "      if (attempts > 100) {\n",
       "        console.log(\"Bokeh: ERROR: Unable to run BokehJS code because BokehJS library is missing\");\n",
       "        clearInterval(timer);\n",
       "      }\n",
       "    }, 10, root)\n",
       "  }\n",
       "})(window);"
      ],
      "application/vnd.bokehjs_exec.v0+json": ""
     },
     "metadata": {
      "application/vnd.bokehjs_exec.v0+json": {
       "id": "9526"
      }
     },
     "output_type": "display_data"
    }
   ],
   "source": [
    "# Hbar\n",
    "plot = figure(plot_width=300, plot_height=300)\n",
    "plot.hbar(y=[1, 2, 3], height=0.5, left=0, right=[1,2,5], color=\"#CAB2D6\")\n",
    "\n",
    "show(plot)"
   ]
  },
  {
   "cell_type": "code",
   "execution_count": 12,
   "metadata": {},
   "outputs": [
    {
     "data": {
      "text/html": [
       "\n",
       "\n",
       "\n",
       "\n",
       "\n",
       "\n",
       "  <div class=\"bk-root\" id=\"d3322af7-418d-499d-bfe8-a0726e0a2b77\" data-root-id=\"2427\"></div>\n"
      ]
     },
     "metadata": {},
     "output_type": "display_data"
    },
    {
     "data": {
      "application/javascript": [
       "(function(root) {\n",
       "  function embed_document(root) {\n",
       "    \n",
       "  var docs_json = {\"d83ade52-8a2c-40a5-af39-e0bc823ade99\":{\"roots\":{\"references\":[{\"attributes\":{\"below\":[{\"id\":\"2436\",\"type\":\"LinearAxis\"}],\"left\":[{\"id\":\"2441\",\"type\":\"LinearAxis\"}],\"plot_height\":300,\"plot_width\":300,\"renderers\":[{\"id\":\"2436\",\"type\":\"LinearAxis\"},{\"id\":\"2440\",\"type\":\"Grid\"},{\"id\":\"2441\",\"type\":\"LinearAxis\"},{\"id\":\"2445\",\"type\":\"Grid\"},{\"id\":\"2454\",\"type\":\"BoxAnnotation\"},{\"id\":\"2464\",\"type\":\"GlyphRenderer\"}],\"title\":{\"id\":\"2556\",\"type\":\"Title\"},\"toolbar\":{\"id\":\"2452\",\"type\":\"Toolbar\"},\"x_range\":{\"id\":\"2428\",\"type\":\"DataRange1d\"},\"x_scale\":{\"id\":\"2432\",\"type\":\"LinearScale\"},\"y_range\":{\"id\":\"2430\",\"type\":\"DataRange1d\"},\"y_scale\":{\"id\":\"2434\",\"type\":\"LinearScale\"}},\"id\":\"2427\",\"subtype\":\"Figure\",\"type\":\"Plot\"},{\"attributes\":{\"dimension\":1,\"plot\":{\"id\":\"2427\",\"subtype\":\"Figure\",\"type\":\"Plot\"},\"ticker\":{\"id\":\"2442\",\"type\":\"BasicTicker\"}},\"id\":\"2445\",\"type\":\"Grid\"},{\"attributes\":{\"callback\":null,\"data\":{\"x\":[1,2,3],\"y\":[1,2,3]},\"selected\":{\"id\":\"2564\",\"type\":\"Selection\"},\"selection_policy\":{\"id\":\"2563\",\"type\":\"UnionRenderers\"}},\"id\":\"2461\",\"type\":\"ColumnDataSource\"},{\"attributes\":{},\"id\":\"2442\",\"type\":\"BasicTicker\"},{\"attributes\":{},\"id\":\"2561\",\"type\":\"BasicTickFormatter\"},{\"attributes\":{\"overlay\":{\"id\":\"2454\",\"type\":\"BoxAnnotation\"}},\"id\":\"2448\",\"type\":\"BoxZoomTool\"},{\"attributes\":{},\"id\":\"2451\",\"type\":\"HelpTool\"},{\"attributes\":{},\"id\":\"2450\",\"type\":\"ResetTool\"},{\"attributes\":{},\"id\":\"2447\",\"type\":\"WheelZoomTool\"},{\"attributes\":{\"source\":{\"id\":\"2461\",\"type\":\"ColumnDataSource\"}},\"id\":\"2465\",\"type\":\"CDSView\"},{\"attributes\":{},\"id\":\"2449\",\"type\":\"SaveTool\"},{\"attributes\":{},\"id\":\"2446\",\"type\":\"PanTool\"},{\"attributes\":{\"active_drag\":\"auto\",\"active_inspect\":\"auto\",\"active_multi\":null,\"active_scroll\":\"auto\",\"active_tap\":\"auto\",\"tools\":[{\"id\":\"2446\",\"type\":\"PanTool\"},{\"id\":\"2447\",\"type\":\"WheelZoomTool\"},{\"id\":\"2448\",\"type\":\"BoxZoomTool\"},{\"id\":\"2449\",\"type\":\"SaveTool\"},{\"id\":\"2450\",\"type\":\"ResetTool\"},{\"id\":\"2451\",\"type\":\"HelpTool\"}]},\"id\":\"2452\",\"type\":\"Toolbar\"},{\"attributes\":{\"fill_alpha\":{\"value\":0.1},\"fill_color\":{\"value\":\"#1f77b4\"},\"height\":{\"units\":\"data\",\"value\":20},\"line_alpha\":{\"value\":0.1},\"line_color\":{\"value\":\"#1f77b4\"},\"line_width\":{\"value\":2},\"width\":{\"units\":\"data\",\"value\":30},\"x\":{\"field\":\"x\"},\"y\":{\"field\":\"y\"}},\"id\":\"2463\",\"type\":\"Ellipse\"},{\"attributes\":{},\"id\":\"2563\",\"type\":\"UnionRenderers\"},{\"attributes\":{\"bottom_units\":\"screen\",\"fill_alpha\":{\"value\":0.5},\"fill_color\":{\"value\":\"lightgrey\"},\"left_units\":\"screen\",\"level\":\"overlay\",\"line_alpha\":{\"value\":1.0},\"line_color\":{\"value\":\"black\"},\"line_dash\":[4,4],\"line_width\":{\"value\":2},\"plot\":null,\"render_mode\":\"css\",\"right_units\":\"screen\",\"top_units\":\"screen\"},\"id\":\"2454\",\"type\":\"BoxAnnotation\"},{\"attributes\":{},\"id\":\"2559\",\"type\":\"BasicTickFormatter\"},{\"attributes\":{\"data_source\":{\"id\":\"2461\",\"type\":\"ColumnDataSource\"},\"glyph\":{\"id\":\"2462\",\"type\":\"Ellipse\"},\"hover_glyph\":null,\"muted_glyph\":null,\"nonselection_glyph\":{\"id\":\"2463\",\"type\":\"Ellipse\"},\"selection_glyph\":null,\"view\":{\"id\":\"2465\",\"type\":\"CDSView\"}},\"id\":\"2464\",\"type\":\"GlyphRenderer\"},{\"attributes\":{\"plot\":null,\"text\":\"\"},\"id\":\"2556\",\"type\":\"Title\"},{\"attributes\":{},\"id\":\"2432\",\"type\":\"LinearScale\"},{\"attributes\":{\"callback\":null},\"id\":\"2428\",\"type\":\"DataRange1d\"},{\"attributes\":{},\"id\":\"2564\",\"type\":\"Selection\"},{\"attributes\":{\"fill_color\":{\"value\":null},\"height\":{\"units\":\"data\",\"value\":20},\"line_color\":{\"value\":\"#386CB0\"},\"line_width\":{\"value\":2},\"width\":{\"units\":\"data\",\"value\":30},\"x\":{\"field\":\"x\"},\"y\":{\"field\":\"y\"}},\"id\":\"2462\",\"type\":\"Ellipse\"},{\"attributes\":{\"callback\":null},\"id\":\"2430\",\"type\":\"DataRange1d\"},{\"attributes\":{\"plot\":{\"id\":\"2427\",\"subtype\":\"Figure\",\"type\":\"Plot\"},\"ticker\":{\"id\":\"2437\",\"type\":\"BasicTicker\"}},\"id\":\"2440\",\"type\":\"Grid\"},{\"attributes\":{\"formatter\":{\"id\":\"2561\",\"type\":\"BasicTickFormatter\"},\"plot\":{\"id\":\"2427\",\"subtype\":\"Figure\",\"type\":\"Plot\"},\"ticker\":{\"id\":\"2437\",\"type\":\"BasicTicker\"}},\"id\":\"2436\",\"type\":\"LinearAxis\"},{\"attributes\":{},\"id\":\"2437\",\"type\":\"BasicTicker\"},{\"attributes\":{},\"id\":\"2434\",\"type\":\"LinearScale\"},{\"attributes\":{\"formatter\":{\"id\":\"2559\",\"type\":\"BasicTickFormatter\"},\"plot\":{\"id\":\"2427\",\"subtype\":\"Figure\",\"type\":\"Plot\"},\"ticker\":{\"id\":\"2442\",\"type\":\"BasicTicker\"}},\"id\":\"2441\",\"type\":\"LinearAxis\"}],\"root_ids\":[\"2427\"]},\"title\":\"Bokeh Application\",\"version\":\"1.0.3\"}};\n",
       "  var render_items = [{\"docid\":\"d83ade52-8a2c-40a5-af39-e0bc823ade99\",\"roots\":{\"2427\":\"d3322af7-418d-499d-bfe8-a0726e0a2b77\"}}];\n",
       "  root.Bokeh.embed.embed_items_notebook(docs_json, render_items);\n",
       "\n",
       "  }\n",
       "  if (root.Bokeh !== undefined) {\n",
       "    embed_document(root);\n",
       "  } else {\n",
       "    var attempts = 0;\n",
       "    var timer = setInterval(function(root) {\n",
       "      if (root.Bokeh !== undefined) {\n",
       "        embed_document(root);\n",
       "        clearInterval(timer);\n",
       "      }\n",
       "      attempts++;\n",
       "      if (attempts > 100) {\n",
       "        console.log(\"Bokeh: ERROR: Unable to run BokehJS code because BokehJS library is missing\");\n",
       "        clearInterval(timer);\n",
       "      }\n",
       "    }, 10, root)\n",
       "  }\n",
       "})(window);"
      ],
      "application/vnd.bokehjs_exec.v0+json": ""
     },
     "metadata": {
      "application/vnd.bokehjs_exec.v0+json": {
       "id": "2427"
      }
     },
     "output_type": "display_data"
    }
   ],
   "source": [
    "# Ellipse\n",
    "plot = figure(plot_width=300, plot_height=300)\n",
    "plot.ellipse(x=[1, 2, 3], y=[1, 2, 3], width=30, height=20,\n",
    "             color=\"#386CB0\", fill_color=None, line_width=2)\n",
    "\n",
    "show(plot)\n"
   ]
  },
  {
   "cell_type": "code",
   "execution_count": 13,
   "metadata": {},
   "outputs": [
    {
     "data": {
      "text/html": [
       "\n",
       "\n",
       "\n",
       "\n",
       "\n",
       "\n",
       "  <div class=\"bk-root\" id=\"50a67e24-b683-4ceb-bc5d-b76409d6a2b8\" data-root-id=\"2619\"></div>\n"
      ]
     },
     "metadata": {},
     "output_type": "display_data"
    },
    {
     "data": {
      "application/javascript": [
       "(function(root) {\n",
       "  function embed_document(root) {\n",
       "    \n",
       "  var docs_json = {\"d44ae700-944f-402f-b1a7-8375a6f5d2a1\":{\"roots\":{\"references\":[{\"attributes\":{\"below\":[{\"id\":\"2628\",\"type\":\"LinearAxis\"}],\"left\":[{\"id\":\"2633\",\"type\":\"LinearAxis\"}],\"plot_height\":300,\"plot_width\":300,\"renderers\":[{\"id\":\"2628\",\"type\":\"LinearAxis\"},{\"id\":\"2632\",\"type\":\"Grid\"},{\"id\":\"2633\",\"type\":\"LinearAxis\"},{\"id\":\"2637\",\"type\":\"Grid\"},{\"id\":\"2646\",\"type\":\"BoxAnnotation\"},{\"id\":\"2656\",\"type\":\"GlyphRenderer\"}],\"title\":{\"id\":\"2757\",\"type\":\"Title\"},\"toolbar\":{\"id\":\"2644\",\"type\":\"Toolbar\"},\"x_range\":{\"id\":\"2620\",\"type\":\"DataRange1d\"},\"x_scale\":{\"id\":\"2624\",\"type\":\"LinearScale\"},\"y_range\":{\"id\":\"2622\",\"type\":\"DataRange1d\"},\"y_scale\":{\"id\":\"2626\",\"type\":\"LinearScale\"}},\"id\":\"2619\",\"subtype\":\"Figure\",\"type\":\"Plot\"},{\"attributes\":{\"dimension\":1,\"plot\":{\"id\":\"2619\",\"subtype\":\"Figure\",\"type\":\"Plot\"},\"ticker\":{\"id\":\"2634\",\"type\":\"BasicTicker\"}},\"id\":\"2637\",\"type\":\"Grid\"},{\"attributes\":{},\"id\":\"2624\",\"type\":\"LinearScale\"},{\"attributes\":{},\"id\":\"2762\",\"type\":\"BasicTickFormatter\"},{\"attributes\":{\"fill_alpha\":{\"value\":0.1},\"fill_color\":{\"value\":\"#1f77b4\"},\"line_alpha\":{\"value\":0.1},\"line_color\":{\"value\":\"#1f77b4\"},\"size\":{\"field\":\"size\",\"units\":\"screen\"},\"x\":{\"field\":\"x\"},\"y\":{\"field\":\"y\"}},\"id\":\"2655\",\"type\":\"Hex\"},{\"attributes\":{\"callback\":null,\"data\":{\"size\":[10,20,30],\"x\":[1,2,3],\"y\":[1,2,3]},\"selected\":{\"id\":\"2765\",\"type\":\"Selection\"},\"selection_policy\":{\"id\":\"2764\",\"type\":\"UnionRenderers\"}},\"id\":\"2653\",\"type\":\"ColumnDataSource\"},{\"attributes\":{\"active_drag\":\"auto\",\"active_inspect\":\"auto\",\"active_multi\":null,\"active_scroll\":\"auto\",\"active_tap\":\"auto\",\"tools\":[{\"id\":\"2638\",\"type\":\"PanTool\"},{\"id\":\"2639\",\"type\":\"WheelZoomTool\"},{\"id\":\"2640\",\"type\":\"BoxZoomTool\"},{\"id\":\"2641\",\"type\":\"SaveTool\"},{\"id\":\"2642\",\"type\":\"ResetTool\"},{\"id\":\"2643\",\"type\":\"HelpTool\"}]},\"id\":\"2644\",\"type\":\"Toolbar\"},{\"attributes\":{},\"id\":\"2638\",\"type\":\"PanTool\"},{\"attributes\":{},\"id\":\"2639\",\"type\":\"WheelZoomTool\"},{\"attributes\":{\"overlay\":{\"id\":\"2646\",\"type\":\"BoxAnnotation\"}},\"id\":\"2640\",\"type\":\"BoxZoomTool\"},{\"attributes\":{},\"id\":\"2641\",\"type\":\"SaveTool\"},{\"attributes\":{},\"id\":\"2642\",\"type\":\"ResetTool\"},{\"attributes\":{},\"id\":\"2643\",\"type\":\"HelpTool\"},{\"attributes\":{\"bottom_units\":\"screen\",\"fill_alpha\":{\"value\":0.5},\"fill_color\":{\"value\":\"lightgrey\"},\"left_units\":\"screen\",\"level\":\"overlay\",\"line_alpha\":{\"value\":1.0},\"line_color\":{\"value\":\"black\"},\"line_dash\":[4,4],\"line_width\":{\"value\":2},\"plot\":null,\"render_mode\":\"css\",\"right_units\":\"screen\",\"top_units\":\"screen\"},\"id\":\"2646\",\"type\":\"BoxAnnotation\"},{\"attributes\":{\"source\":{\"id\":\"2653\",\"type\":\"ColumnDataSource\"}},\"id\":\"2657\",\"type\":\"CDSView\"},{\"attributes\":{},\"id\":\"2760\",\"type\":\"BasicTickFormatter\"},{\"attributes\":{\"data_source\":{\"id\":\"2653\",\"type\":\"ColumnDataSource\"},\"glyph\":{\"id\":\"2654\",\"type\":\"Hex\"},\"hover_glyph\":null,\"muted_glyph\":null,\"nonselection_glyph\":{\"id\":\"2655\",\"type\":\"Hex\"},\"selection_glyph\":null,\"view\":{\"id\":\"2657\",\"type\":\"CDSView\"}},\"id\":\"2656\",\"type\":\"GlyphRenderer\"},{\"attributes\":{\"formatter\":{\"id\":\"2760\",\"type\":\"BasicTickFormatter\"},\"plot\":{\"id\":\"2619\",\"subtype\":\"Figure\",\"type\":\"Plot\"},\"ticker\":{\"id\":\"2634\",\"type\":\"BasicTicker\"}},\"id\":\"2633\",\"type\":\"LinearAxis\"},{\"attributes\":{\"plot\":null,\"text\":\"\"},\"id\":\"2757\",\"type\":\"Title\"},{\"attributes\":{},\"id\":\"2764\",\"type\":\"UnionRenderers\"},{\"attributes\":{},\"id\":\"2765\",\"type\":\"Selection\"},{\"attributes\":{\"plot\":{\"id\":\"2619\",\"subtype\":\"Figure\",\"type\":\"Plot\"},\"ticker\":{\"id\":\"2629\",\"type\":\"BasicTicker\"}},\"id\":\"2632\",\"type\":\"Grid\"},{\"attributes\":{\"formatter\":{\"id\":\"2762\",\"type\":\"BasicTickFormatter\"},\"plot\":{\"id\":\"2619\",\"subtype\":\"Figure\",\"type\":\"Plot\"},\"ticker\":{\"id\":\"2629\",\"type\":\"BasicTicker\"}},\"id\":\"2628\",\"type\":\"LinearAxis\"},{\"attributes\":{\"callback\":null},\"id\":\"2622\",\"type\":\"DataRange1d\"},{\"attributes\":{\"fill_color\":{\"value\":\"#74ADD1\"},\"line_color\":{\"value\":\"#74ADD1\"},\"size\":{\"field\":\"size\",\"units\":\"screen\"},\"x\":{\"field\":\"x\"},\"y\":{\"field\":\"y\"}},\"id\":\"2654\",\"type\":\"Hex\"},{\"attributes\":{},\"id\":\"2626\",\"type\":\"LinearScale\"},{\"attributes\":{\"callback\":null},\"id\":\"2620\",\"type\":\"DataRange1d\"},{\"attributes\":{},\"id\":\"2629\",\"type\":\"BasicTicker\"},{\"attributes\":{},\"id\":\"2634\",\"type\":\"BasicTicker\"}],\"root_ids\":[\"2619\"]},\"title\":\"Bokeh Application\",\"version\":\"1.0.3\"}};\n",
       "  var render_items = [{\"docid\":\"d44ae700-944f-402f-b1a7-8375a6f5d2a1\",\"roots\":{\"2619\":\"50a67e24-b683-4ceb-bc5d-b76409d6a2b8\"}}];\n",
       "  root.Bokeh.embed.embed_items_notebook(docs_json, render_items);\n",
       "\n",
       "  }\n",
       "  if (root.Bokeh !== undefined) {\n",
       "    embed_document(root);\n",
       "  } else {\n",
       "    var attempts = 0;\n",
       "    var timer = setInterval(function(root) {\n",
       "      if (root.Bokeh !== undefined) {\n",
       "        embed_document(root);\n",
       "        clearInterval(timer);\n",
       "      }\n",
       "      attempts++;\n",
       "      if (attempts > 100) {\n",
       "        console.log(\"Bokeh: ERROR: Unable to run BokehJS code because BokehJS library is missing\");\n",
       "        clearInterval(timer);\n",
       "      }\n",
       "    }, 10, root)\n",
       "  }\n",
       "})(window);"
      ],
      "application/vnd.bokehjs_exec.v0+json": ""
     },
     "metadata": {
      "application/vnd.bokehjs_exec.v0+json": {
       "id": "2619"
      }
     },
     "output_type": "display_data"
    }
   ],
   "source": [
    "# Hex\n",
    "plot = figure(plot_width=300, plot_height=300)\n",
    "plot.hex(x=[1, 2, 3], y=[1, 2, 3], size=[10,20,30], color=\"#74ADD1\")\n",
    "\n",
    "show(plot)"
   ]
  },
  {
   "cell_type": "code",
   "execution_count": 14,
   "metadata": {},
   "outputs": [
    {
     "data": {
      "text/html": [
       "\n",
       "\n",
       "\n",
       "\n",
       "\n",
       "\n",
       "  <div class=\"bk-root\" id=\"0fac7dd7-8e21-4b27-b0dc-8f5df52eea88\" data-root-id=\"2820\"></div>\n"
      ]
     },
     "metadata": {},
     "output_type": "display_data"
    },
    {
     "data": {
      "application/javascript": [
       "(function(root) {\n",
       "  function embed_document(root) {\n",
       "    \n",
       "  var docs_json = {\"03d863ee-3686-4f13-b8cb-4a3d3ff0399d\":{\"roots\":{\"references\":[{\"attributes\":{\"below\":[{\"id\":\"2829\",\"type\":\"LinearAxis\"}],\"left\":[{\"id\":\"2834\",\"type\":\"LinearAxis\"}],\"match_aspect\":true,\"plot_height\":300,\"plot_width\":300,\"renderers\":[{\"id\":\"2829\",\"type\":\"LinearAxis\"},{\"id\":\"2833\",\"type\":\"Grid\"},{\"id\":\"2834\",\"type\":\"LinearAxis\"},{\"id\":\"2838\",\"type\":\"Grid\"},{\"id\":\"2847\",\"type\":\"BoxAnnotation\"},{\"id\":\"2857\",\"type\":\"GlyphRenderer\"}],\"title\":{\"id\":\"2967\",\"type\":\"Title\"},\"toolbar\":{\"id\":\"2845\",\"type\":\"Toolbar\"},\"x_range\":{\"id\":\"2821\",\"type\":\"DataRange1d\"},\"x_scale\":{\"id\":\"2825\",\"type\":\"LinearScale\"},\"y_range\":{\"id\":\"2823\",\"type\":\"DataRange1d\"},\"y_scale\":{\"id\":\"2827\",\"type\":\"LinearScale\"}},\"id\":\"2820\",\"subtype\":\"Figure\",\"type\":\"Plot\"},{\"attributes\":{},\"id\":\"2975\",\"type\":\"Selection\"},{\"attributes\":{},\"id\":\"2974\",\"type\":\"UnionRenderers\"},{\"attributes\":{},\"id\":\"2835\",\"type\":\"BasicTicker\"},{\"attributes\":{\"formatter\":{\"id\":\"2970\",\"type\":\"BasicTickFormatter\"},\"plot\":{\"id\":\"2820\",\"subtype\":\"Figure\",\"type\":\"Plot\"},\"ticker\":{\"id\":\"2835\",\"type\":\"BasicTicker\"}},\"id\":\"2834\",\"type\":\"LinearAxis\"},{\"attributes\":{\"plot\":{\"id\":\"2820\",\"subtype\":\"Figure\",\"type\":\"Plot\"},\"ticker\":{\"id\":\"2830\",\"type\":\"BasicTicker\"}},\"id\":\"2833\",\"type\":\"Grid\"},{\"attributes\":{\"formatter\":{\"id\":\"2972\",\"type\":\"BasicTickFormatter\"},\"plot\":{\"id\":\"2820\",\"subtype\":\"Figure\",\"type\":\"Plot\"},\"ticker\":{\"id\":\"2830\",\"type\":\"BasicTicker\"}},\"id\":\"2829\",\"type\":\"LinearAxis\"},{\"attributes\":{},\"id\":\"2830\",\"type\":\"BasicTicker\"},{\"attributes\":{},\"id\":\"2827\",\"type\":\"LinearScale\"},{\"attributes\":{\"active_drag\":\"auto\",\"active_inspect\":\"auto\",\"active_multi\":null,\"active_scroll\":\"auto\",\"active_tap\":\"auto\",\"tools\":[{\"id\":\"2839\",\"type\":\"PanTool\"},{\"id\":\"2840\",\"type\":\"WheelZoomTool\"},{\"id\":\"2841\",\"type\":\"BoxZoomTool\"},{\"id\":\"2842\",\"type\":\"SaveTool\"},{\"id\":\"2843\",\"type\":\"ResetTool\"},{\"id\":\"2844\",\"type\":\"HelpTool\"}]},\"id\":\"2845\",\"type\":\"Toolbar\"},{\"attributes\":{\"source\":{\"id\":\"2854\",\"type\":\"ColumnDataSource\"}},\"id\":\"2858\",\"type\":\"CDSView\"},{\"attributes\":{\"dimension\":1,\"plot\":{\"id\":\"2820\",\"subtype\":\"Figure\",\"type\":\"Plot\"},\"ticker\":{\"id\":\"2835\",\"type\":\"BasicTicker\"}},\"id\":\"2838\",\"type\":\"Grid\"},{\"attributes\":{\"callback\":null,\"data\":{\"q\":[1,2,2],\"r\":[0,0,1]},\"selected\":{\"id\":\"2975\",\"type\":\"Selection\"},\"selection_policy\":{\"id\":\"2974\",\"type\":\"UnionRenderers\"}},\"id\":\"2854\",\"type\":\"ColumnDataSource\"},{\"attributes\":{},\"id\":\"2840\",\"type\":\"WheelZoomTool\"},{\"attributes\":{\"callback\":null},\"id\":\"2821\",\"type\":\"DataRange1d\"},{\"attributes\":{},\"id\":\"2839\",\"type\":\"PanTool\"},{\"attributes\":{\"bottom_units\":\"screen\",\"fill_alpha\":{\"value\":0.5},\"fill_color\":{\"value\":\"lightgrey\"},\"left_units\":\"screen\",\"level\":\"overlay\",\"line_alpha\":{\"value\":1.0},\"line_color\":{\"value\":\"black\"},\"line_dash\":[4,4],\"line_width\":{\"value\":2},\"plot\":null,\"render_mode\":\"css\",\"right_units\":\"screen\",\"top_units\":\"screen\"},\"id\":\"2847\",\"type\":\"BoxAnnotation\"},{\"attributes\":{},\"id\":\"2843\",\"type\":\"ResetTool\"},{\"attributes\":{\"callback\":null},\"id\":\"2823\",\"type\":\"DataRange1d\"},{\"attributes\":{},\"id\":\"2825\",\"type\":\"LinearScale\"},{\"attributes\":{},\"id\":\"2844\",\"type\":\"HelpTool\"},{\"attributes\":{},\"id\":\"2842\",\"type\":\"SaveTool\"},{\"attributes\":{},\"id\":\"2972\",\"type\":\"BasicTickFormatter\"},{\"attributes\":{\"fill_alpha\":{\"value\":0.1},\"fill_color\":{\"value\":\"#1f77b4\"},\"line_alpha\":{\"value\":0.1},\"line_color\":{\"value\":\"#1f77b4\"},\"q\":{\"field\":\"q\"},\"r\":{\"field\":\"r\"}},\"id\":\"2856\",\"type\":\"HexTile\"},{\"attributes\":{\"fill_color\":{\"value\":\"#74ADD1\"},\"line_color\":{\"value\":\"#1f77b4\"},\"q\":{\"field\":\"q\"},\"r\":{\"field\":\"r\"}},\"id\":\"2855\",\"type\":\"HexTile\"},{\"attributes\":{\"overlay\":{\"id\":\"2847\",\"type\":\"BoxAnnotation\"}},\"id\":\"2841\",\"type\":\"BoxZoomTool\"},{\"attributes\":{},\"id\":\"2970\",\"type\":\"BasicTickFormatter\"},{\"attributes\":{\"data_source\":{\"id\":\"2854\",\"type\":\"ColumnDataSource\"},\"glyph\":{\"id\":\"2855\",\"type\":\"HexTile\"},\"hover_glyph\":null,\"muted_glyph\":null,\"nonselection_glyph\":{\"id\":\"2856\",\"type\":\"HexTile\"},\"selection_glyph\":null,\"view\":{\"id\":\"2858\",\"type\":\"CDSView\"}},\"id\":\"2857\",\"type\":\"GlyphRenderer\"},{\"attributes\":{\"plot\":null,\"text\":\"\"},\"id\":\"2967\",\"type\":\"Title\"}],\"root_ids\":[\"2820\"]},\"title\":\"Bokeh Application\",\"version\":\"1.0.3\"}};\n",
       "  var render_items = [{\"docid\":\"03d863ee-3686-4f13-b8cb-4a3d3ff0399d\",\"roots\":{\"2820\":\"0fac7dd7-8e21-4b27-b0dc-8f5df52eea88\"}}];\n",
       "  root.Bokeh.embed.embed_items_notebook(docs_json, render_items);\n",
       "\n",
       "  }\n",
       "  if (root.Bokeh !== undefined) {\n",
       "    embed_document(root);\n",
       "  } else {\n",
       "    var attempts = 0;\n",
       "    var timer = setInterval(function(root) {\n",
       "      if (root.Bokeh !== undefined) {\n",
       "        embed_document(root);\n",
       "        clearInterval(timer);\n",
       "      }\n",
       "      attempts++;\n",
       "      if (attempts > 100) {\n",
       "        console.log(\"Bokeh: ERROR: Unable to run BokehJS code because BokehJS library is missing\");\n",
       "        clearInterval(timer);\n",
       "      }\n",
       "    }, 10, root)\n",
       "  }\n",
       "})(window);"
      ],
      "application/vnd.bokehjs_exec.v0+json": ""
     },
     "metadata": {
      "application/vnd.bokehjs_exec.v0+json": {
       "id": "2820"
      }
     },
     "output_type": "display_data"
    }
   ],
   "source": [
    "# Hex_tile\n",
    "plot = figure(plot_width=300, plot_height=300, match_aspect=True)\n",
    "plot.hex_tile(r=[0, 0, 1], q=[1, 2, 2], fill_color=\"#74ADD1\")\n",
    "\n",
    "show(plot)"
   ]
  },
  {
   "cell_type": "code",
   "execution_count": 15,
   "metadata": {},
   "outputs": [
    {
     "data": {
      "text/html": [
       "\n",
       "\n",
       "\n",
       "\n",
       "\n",
       "\n",
       "  <div class=\"bk-root\" id=\"73451fed-3d1c-43b9-82c8-19a3293faf57\" data-root-id=\"3030\"></div>\n"
      ]
     },
     "metadata": {},
     "output_type": "display_data"
    },
    {
     "data": {
      "application/javascript": [
       "(function(root) {\n",
       "  function embed_document(root) {\n",
       "    \n",
       "  var docs_json = {\"86491488-d07b-47dd-bbd1-4a08416d141d\":{\"roots\":{\"references\":[{\"attributes\":{\"below\":[{\"id\":\"3039\",\"type\":\"LinearAxis\"}],\"left\":[{\"id\":\"3044\",\"type\":\"LinearAxis\"}],\"plot_height\":300,\"plot_width\":300,\"renderers\":[{\"id\":\"3039\",\"type\":\"LinearAxis\"},{\"id\":\"3043\",\"type\":\"Grid\"},{\"id\":\"3044\",\"type\":\"LinearAxis\"},{\"id\":\"3048\",\"type\":\"Grid\"},{\"id\":\"3057\",\"type\":\"BoxAnnotation\"},{\"id\":\"3067\",\"type\":\"GlyphRenderer\"}],\"title\":{\"id\":\"3186\",\"type\":\"Title\"},\"toolbar\":{\"id\":\"3055\",\"type\":\"Toolbar\"},\"x_range\":{\"id\":\"3031\",\"type\":\"DataRange1d\"},\"x_scale\":{\"id\":\"3035\",\"type\":\"LinearScale\"},\"y_range\":{\"id\":\"3033\",\"type\":\"DataRange1d\"},\"y_scale\":{\"id\":\"3037\",\"type\":\"LinearScale\"}},\"id\":\"3030\",\"subtype\":\"Figure\",\"type\":\"Plot\"},{\"attributes\":{},\"id\":\"3194\",\"type\":\"Selection\"},{\"attributes\":{\"fill_color\":{\"value\":\"#DE2D26\"},\"line_color\":{\"value\":\"#DE2D26\"},\"size\":{\"units\":\"screen\",\"value\":20},\"x\":{\"field\":\"x\"},\"y\":{\"field\":\"y\"}},\"id\":\"3065\",\"type\":\"InvertedTriangle\"},{\"attributes\":{},\"id\":\"3193\",\"type\":\"UnionRenderers\"},{\"attributes\":{},\"id\":\"3189\",\"type\":\"BasicTickFormatter\"},{\"attributes\":{\"callback\":null},\"id\":\"3031\",\"type\":\"DataRange1d\"},{\"attributes\":{\"callback\":null},\"id\":\"3033\",\"type\":\"DataRange1d\"},{\"attributes\":{},\"id\":\"3035\",\"type\":\"LinearScale\"},{\"attributes\":{},\"id\":\"3037\",\"type\":\"LinearScale\"},{\"attributes\":{},\"id\":\"3040\",\"type\":\"BasicTicker\"},{\"attributes\":{\"formatter\":{\"id\":\"3191\",\"type\":\"BasicTickFormatter\"},\"plot\":{\"id\":\"3030\",\"subtype\":\"Figure\",\"type\":\"Plot\"},\"ticker\":{\"id\":\"3040\",\"type\":\"BasicTicker\"}},\"id\":\"3039\",\"type\":\"LinearAxis\"},{\"attributes\":{\"plot\":{\"id\":\"3030\",\"subtype\":\"Figure\",\"type\":\"Plot\"},\"ticker\":{\"id\":\"3040\",\"type\":\"BasicTicker\"}},\"id\":\"3043\",\"type\":\"Grid\"},{\"attributes\":{\"formatter\":{\"id\":\"3189\",\"type\":\"BasicTickFormatter\"},\"plot\":{\"id\":\"3030\",\"subtype\":\"Figure\",\"type\":\"Plot\"},\"ticker\":{\"id\":\"3045\",\"type\":\"BasicTicker\"}},\"id\":\"3044\",\"type\":\"LinearAxis\"},{\"attributes\":{\"callback\":null,\"data\":{\"x\":[1,2,3],\"y\":[1,2,3]},\"selected\":{\"id\":\"3194\",\"type\":\"Selection\"},\"selection_policy\":{\"id\":\"3193\",\"type\":\"UnionRenderers\"}},\"id\":\"3064\",\"type\":\"ColumnDataSource\"},{\"attributes\":{\"dimension\":1,\"plot\":{\"id\":\"3030\",\"subtype\":\"Figure\",\"type\":\"Plot\"},\"ticker\":{\"id\":\"3045\",\"type\":\"BasicTicker\"}},\"id\":\"3048\",\"type\":\"Grid\"},{\"attributes\":{},\"id\":\"3045\",\"type\":\"BasicTicker\"},{\"attributes\":{\"active_drag\":\"auto\",\"active_inspect\":\"auto\",\"active_multi\":null,\"active_scroll\":\"auto\",\"active_tap\":\"auto\",\"tools\":[{\"id\":\"3049\",\"type\":\"PanTool\"},{\"id\":\"3050\",\"type\":\"WheelZoomTool\"},{\"id\":\"3051\",\"type\":\"BoxZoomTool\"},{\"id\":\"3052\",\"type\":\"SaveTool\"},{\"id\":\"3053\",\"type\":\"ResetTool\"},{\"id\":\"3054\",\"type\":\"HelpTool\"}]},\"id\":\"3055\",\"type\":\"Toolbar\"},{\"attributes\":{},\"id\":\"3049\",\"type\":\"PanTool\"},{\"attributes\":{},\"id\":\"3050\",\"type\":\"WheelZoomTool\"},{\"attributes\":{\"overlay\":{\"id\":\"3057\",\"type\":\"BoxAnnotation\"}},\"id\":\"3051\",\"type\":\"BoxZoomTool\"},{\"attributes\":{},\"id\":\"3052\",\"type\":\"SaveTool\"},{\"attributes\":{},\"id\":\"3053\",\"type\":\"ResetTool\"},{\"attributes\":{},\"id\":\"3054\",\"type\":\"HelpTool\"},{\"attributes\":{\"fill_alpha\":{\"value\":0.1},\"fill_color\":{\"value\":\"#1f77b4\"},\"line_alpha\":{\"value\":0.1},\"line_color\":{\"value\":\"#1f77b4\"},\"size\":{\"units\":\"screen\",\"value\":20},\"x\":{\"field\":\"x\"},\"y\":{\"field\":\"y\"}},\"id\":\"3066\",\"type\":\"InvertedTriangle\"},{\"attributes\":{\"data_source\":{\"id\":\"3064\",\"type\":\"ColumnDataSource\"},\"glyph\":{\"id\":\"3065\",\"type\":\"InvertedTriangle\"},\"hover_glyph\":null,\"muted_glyph\":null,\"nonselection_glyph\":{\"id\":\"3066\",\"type\":\"InvertedTriangle\"},\"selection_glyph\":null,\"view\":{\"id\":\"3068\",\"type\":\"CDSView\"}},\"id\":\"3067\",\"type\":\"GlyphRenderer\"},{\"attributes\":{\"bottom_units\":\"screen\",\"fill_alpha\":{\"value\":0.5},\"fill_color\":{\"value\":\"lightgrey\"},\"left_units\":\"screen\",\"level\":\"overlay\",\"line_alpha\":{\"value\":1.0},\"line_color\":{\"value\":\"black\"},\"line_dash\":[4,4],\"line_width\":{\"value\":2},\"plot\":null,\"render_mode\":\"css\",\"right_units\":\"screen\",\"top_units\":\"screen\"},\"id\":\"3057\",\"type\":\"BoxAnnotation\"},{\"attributes\":{},\"id\":\"3191\",\"type\":\"BasicTickFormatter\"},{\"attributes\":{\"source\":{\"id\":\"3064\",\"type\":\"ColumnDataSource\"}},\"id\":\"3068\",\"type\":\"CDSView\"},{\"attributes\":{\"plot\":null,\"text\":\"\"},\"id\":\"3186\",\"type\":\"Title\"}],\"root_ids\":[\"3030\"]},\"title\":\"Bokeh Application\",\"version\":\"1.0.3\"}};\n",
       "  var render_items = [{\"docid\":\"86491488-d07b-47dd-bbd1-4a08416d141d\",\"roots\":{\"3030\":\"73451fed-3d1c-43b9-82c8-19a3293faf57\"}}];\n",
       "  root.Bokeh.embed.embed_items_notebook(docs_json, render_items);\n",
       "\n",
       "  }\n",
       "  if (root.Bokeh !== undefined) {\n",
       "    embed_document(root);\n",
       "  } else {\n",
       "    var attempts = 0;\n",
       "    var timer = setInterval(function(root) {\n",
       "      if (root.Bokeh !== undefined) {\n",
       "        embed_document(root);\n",
       "        clearInterval(timer);\n",
       "      }\n",
       "      attempts++;\n",
       "      if (attempts > 100) {\n",
       "        console.log(\"Bokeh: ERROR: Unable to run BokehJS code because BokehJS library is missing\");\n",
       "        clearInterval(timer);\n",
       "      }\n",
       "    }, 10, root)\n",
       "  }\n",
       "})(window);"
      ],
      "application/vnd.bokehjs_exec.v0+json": ""
     },
     "metadata": {
      "application/vnd.bokehjs_exec.v0+json": {
       "id": "3030"
      }
     },
     "output_type": "display_data"
    }
   ],
   "source": [
    "# Inverted_triangle\n",
    "plot = figure(plot_width=300, plot_height=300)\n",
    "plot.inverted_triangle(x=[1, 2, 3], y=[1, 2, 3], size=20, color=\"#DE2D26\")\n",
    "\n",
    "show(plot)"
   ]
  },
  {
   "cell_type": "code",
   "execution_count": 16,
   "metadata": {},
   "outputs": [
    {
     "data": {
      "text/html": [
       "\n",
       "\n",
       "\n",
       "\n",
       "\n",
       "\n",
       "  <div class=\"bk-root\" id=\"b8005b72-fc04-43e9-9668-a6abf1b07c69\" data-root-id=\"3250\"></div>\n"
      ]
     },
     "metadata": {},
     "output_type": "display_data"
    },
    {
     "data": {
      "application/javascript": [
       "(function(root) {\n",
       "  function embed_document(root) {\n",
       "    \n",
       "  var docs_json = {\"eab8c947-c42a-4de3-960d-1a8beee44ce3\":{\"roots\":{\"references\":[{\"attributes\":{\"below\":[{\"id\":\"3260\",\"type\":\"LinearAxis\"}],\"left\":[{\"id\":\"3265\",\"type\":\"LinearAxis\"}],\"plot_height\":300,\"plot_width\":300,\"renderers\":[{\"id\":\"3260\",\"type\":\"LinearAxis\"},{\"id\":\"3264\",\"type\":\"Grid\"},{\"id\":\"3265\",\"type\":\"LinearAxis\"},{\"id\":\"3269\",\"type\":\"Grid\"},{\"id\":\"3278\",\"type\":\"BoxAnnotation\"},{\"id\":\"3288\",\"type\":\"GlyphRenderer\"}],\"title\":{\"id\":\"3249\",\"type\":\"Title\"},\"toolbar\":{\"id\":\"3276\",\"type\":\"Toolbar\"},\"x_range\":{\"id\":\"3252\",\"type\":\"DataRange1d\"},\"x_scale\":{\"id\":\"3256\",\"type\":\"LinearScale\"},\"y_range\":{\"id\":\"3254\",\"type\":\"DataRange1d\"},\"y_scale\":{\"id\":\"3258\",\"type\":\"LinearScale\"}},\"id\":\"3250\",\"subtype\":\"Figure\",\"type\":\"Plot\"},{\"attributes\":{},\"id\":\"3270\",\"type\":\"PanTool\"},{\"attributes\":{},\"id\":\"3271\",\"type\":\"WheelZoomTool\"},{\"attributes\":{\"overlay\":{\"id\":\"3278\",\"type\":\"BoxAnnotation\"}},\"id\":\"3272\",\"type\":\"BoxZoomTool\"},{\"attributes\":{},\"id\":\"3273\",\"type\":\"SaveTool\"},{\"attributes\":{},\"id\":\"3274\",\"type\":\"ResetTool\"},{\"attributes\":{\"line_alpha\":0.1,\"line_color\":\"#1f77b4\",\"x\":{\"field\":\"x\"},\"y\":{\"field\":\"y\"}},\"id\":\"3287\",\"type\":\"Line\"},{\"attributes\":{\"source\":{\"id\":\"3285\",\"type\":\"ColumnDataSource\"}},\"id\":\"3289\",\"type\":\"CDSView\"},{\"attributes\":{},\"id\":\"3275\",\"type\":\"HelpTool\"},{\"attributes\":{\"active_drag\":\"auto\",\"active_inspect\":\"auto\",\"active_multi\":null,\"active_scroll\":\"auto\",\"active_tap\":\"auto\",\"tools\":[{\"id\":\"3270\",\"type\":\"PanTool\"},{\"id\":\"3271\",\"type\":\"WheelZoomTool\"},{\"id\":\"3272\",\"type\":\"BoxZoomTool\"},{\"id\":\"3273\",\"type\":\"SaveTool\"},{\"id\":\"3274\",\"type\":\"ResetTool\"},{\"id\":\"3275\",\"type\":\"HelpTool\"}]},\"id\":\"3276\",\"type\":\"Toolbar\"},{\"attributes\":{\"callback\":null},\"id\":\"3252\",\"type\":\"DataRange1d\"},{\"attributes\":{},\"id\":\"3420\",\"type\":\"BasicTickFormatter\"},{\"attributes\":{\"bottom_units\":\"screen\",\"fill_alpha\":{\"value\":0.5},\"fill_color\":{\"value\":\"lightgrey\"},\"left_units\":\"screen\",\"level\":\"overlay\",\"line_alpha\":{\"value\":1.0},\"line_color\":{\"value\":\"black\"},\"line_dash\":[4,4],\"line_width\":{\"value\":2},\"plot\":null,\"render_mode\":\"css\",\"right_units\":\"screen\",\"top_units\":\"screen\"},\"id\":\"3278\",\"type\":\"BoxAnnotation\"},{\"attributes\":{\"callback\":null},\"id\":\"3254\",\"type\":\"DataRange1d\"},{\"attributes\":{\"plot\":null,\"text\":\"line\"},\"id\":\"3249\",\"type\":\"Title\"},{\"attributes\":{\"line_color\":\"#1f77b4\",\"x\":{\"field\":\"x\"},\"y\":{\"field\":\"y\"}},\"id\":\"3286\",\"type\":\"Line\"},{\"attributes\":{},\"id\":\"3418\",\"type\":\"BasicTickFormatter\"},{\"attributes\":{},\"id\":\"3423\",\"type\":\"Selection\"},{\"attributes\":{},\"id\":\"3422\",\"type\":\"UnionRenderers\"},{\"attributes\":{\"dimension\":1,\"plot\":{\"id\":\"3250\",\"subtype\":\"Figure\",\"type\":\"Plot\"},\"ticker\":{\"id\":\"3266\",\"type\":\"BasicTicker\"}},\"id\":\"3269\",\"type\":\"Grid\"},{\"attributes\":{},\"id\":\"3258\",\"type\":\"LinearScale\"},{\"attributes\":{\"formatter\":{\"id\":\"3418\",\"type\":\"BasicTickFormatter\"},\"plot\":{\"id\":\"3250\",\"subtype\":\"Figure\",\"type\":\"Plot\"},\"ticker\":{\"id\":\"3266\",\"type\":\"BasicTicker\"}},\"id\":\"3265\",\"type\":\"LinearAxis\"},{\"attributes\":{\"plot\":{\"id\":\"3250\",\"subtype\":\"Figure\",\"type\":\"Plot\"},\"ticker\":{\"id\":\"3261\",\"type\":\"BasicTicker\"}},\"id\":\"3264\",\"type\":\"Grid\"},{\"attributes\":{\"formatter\":{\"id\":\"3420\",\"type\":\"BasicTickFormatter\"},\"plot\":{\"id\":\"3250\",\"subtype\":\"Figure\",\"type\":\"Plot\"},\"ticker\":{\"id\":\"3261\",\"type\":\"BasicTicker\"}},\"id\":\"3260\",\"type\":\"LinearAxis\"},{\"attributes\":{},\"id\":\"3261\",\"type\":\"BasicTicker\"},{\"attributes\":{},\"id\":\"3256\",\"type\":\"LinearScale\"},{\"attributes\":{},\"id\":\"3266\",\"type\":\"BasicTicker\"},{\"attributes\":{\"callback\":null,\"data\":{\"x\":[1,2,3,4,5],\"y\":[6,7,2,4,5]},\"selected\":{\"id\":\"3423\",\"type\":\"Selection\"},\"selection_policy\":{\"id\":\"3422\",\"type\":\"UnionRenderers\"}},\"id\":\"3285\",\"type\":\"ColumnDataSource\"},{\"attributes\":{\"data_source\":{\"id\":\"3285\",\"type\":\"ColumnDataSource\"},\"glyph\":{\"id\":\"3286\",\"type\":\"Line\"},\"hover_glyph\":null,\"muted_glyph\":null,\"nonselection_glyph\":{\"id\":\"3287\",\"type\":\"Line\"},\"selection_glyph\":null,\"view\":{\"id\":\"3289\",\"type\":\"CDSView\"}},\"id\":\"3288\",\"type\":\"GlyphRenderer\"}],\"root_ids\":[\"3250\"]},\"title\":\"Bokeh Application\",\"version\":\"1.0.3\"}};\n",
       "  var render_items = [{\"docid\":\"eab8c947-c42a-4de3-960d-1a8beee44ce3\",\"roots\":{\"3250\":\"b8005b72-fc04-43e9-9668-a6abf1b07c69\"}}];\n",
       "  root.Bokeh.embed.embed_items_notebook(docs_json, render_items);\n",
       "\n",
       "  }\n",
       "  if (root.Bokeh !== undefined) {\n",
       "    embed_document(root);\n",
       "  } else {\n",
       "    var attempts = 0;\n",
       "    var timer = setInterval(function(root) {\n",
       "      if (root.Bokeh !== undefined) {\n",
       "        embed_document(root);\n",
       "        clearInterval(timer);\n",
       "      }\n",
       "      attempts++;\n",
       "      if (attempts > 100) {\n",
       "        console.log(\"Bokeh: ERROR: Unable to run BokehJS code because BokehJS library is missing\");\n",
       "        clearInterval(timer);\n",
       "      }\n",
       "    }, 10, root)\n",
       "  }\n",
       "})(window);"
      ],
      "application/vnd.bokehjs_exec.v0+json": ""
     },
     "metadata": {
      "application/vnd.bokehjs_exec.v0+json": {
       "id": "3250"
      }
     },
     "output_type": "display_data"
    }
   ],
   "source": [
    "# Line \n",
    "p = figure(title=\"line\", plot_width=300, plot_height=300)\n",
    "p.line(x=[1, 2, 3, 4, 5], y=[6, 7, 2, 4, 5])\n",
    "\n",
    "show(p)\n"
   ]
  },
  {
   "cell_type": "code",
   "execution_count": 17,
   "metadata": {},
   "outputs": [
    {
     "data": {
      "text/html": [
       "\n",
       "\n",
       "\n",
       "\n",
       "\n",
       "\n",
       "  <div class=\"bk-root\" id=\"da234ca1-e378-47dd-b0df-8229971dfa93\" data-root-id=\"3472\"></div>\n"
      ]
     },
     "metadata": {},
     "output_type": "display_data"
    },
    {
     "data": {
      "application/javascript": [
       "(function(root) {\n",
       "  function embed_document(root) {\n",
       "    \n",
       "  var docs_json = {\"c741866b-56a7-4ef1-bb7c-2019a4d19ba8\":{\"roots\":{\"references\":[{\"attributes\":{\"below\":[{\"id\":\"3481\",\"type\":\"LinearAxis\"}],\"left\":[{\"id\":\"3486\",\"type\":\"LinearAxis\"}],\"plot_height\":300,\"plot_width\":300,\"renderers\":[{\"id\":\"3481\",\"type\":\"LinearAxis\"},{\"id\":\"3485\",\"type\":\"Grid\"},{\"id\":\"3486\",\"type\":\"LinearAxis\"},{\"id\":\"3490\",\"type\":\"Grid\"},{\"id\":\"3499\",\"type\":\"BoxAnnotation\"},{\"id\":\"3509\",\"type\":\"GlyphRenderer\"}],\"title\":{\"id\":\"3645\",\"type\":\"Title\"},\"toolbar\":{\"id\":\"3497\",\"type\":\"Toolbar\"},\"x_range\":{\"id\":\"3473\",\"type\":\"DataRange1d\"},\"x_scale\":{\"id\":\"3477\",\"type\":\"LinearScale\"},\"y_range\":{\"id\":\"3475\",\"type\":\"DataRange1d\"},\"y_scale\":{\"id\":\"3479\",\"type\":\"LinearScale\"}},\"id\":\"3472\",\"subtype\":\"Figure\",\"type\":\"Plot\"},{\"attributes\":{\"callback\":null,\"data\":{\"line_color\":[\"red\",\"green\"],\"xs\":[[1,2,3],[2,3,4]],\"ys\":[[6,7,2],[4,5,7]]},\"selected\":{\"id\":\"3653\",\"type\":\"Selection\"},\"selection_policy\":{\"id\":\"3652\",\"type\":\"UnionRenderers\"}},\"id\":\"3506\",\"type\":\"ColumnDataSource\"},{\"attributes\":{\"line_color\":{\"field\":\"line_color\"},\"xs\":{\"field\":\"xs\"},\"ys\":{\"field\":\"ys\"}},\"id\":\"3507\",\"type\":\"MultiLine\"},{\"attributes\":{},\"id\":\"3477\",\"type\":\"LinearScale\"},{\"attributes\":{\"callback\":null},\"id\":\"3475\",\"type\":\"DataRange1d\"},{\"attributes\":{},\"id\":\"3479\",\"type\":\"LinearScale\"},{\"attributes\":{},\"id\":\"3482\",\"type\":\"BasicTicker\"},{\"attributes\":{\"formatter\":{\"id\":\"3650\",\"type\":\"BasicTickFormatter\"},\"plot\":{\"id\":\"3472\",\"subtype\":\"Figure\",\"type\":\"Plot\"},\"ticker\":{\"id\":\"3482\",\"type\":\"BasicTicker\"}},\"id\":\"3481\",\"type\":\"LinearAxis\"},{\"attributes\":{},\"id\":\"3652\",\"type\":\"UnionRenderers\"},{\"attributes\":{\"callback\":null},\"id\":\"3473\",\"type\":\"DataRange1d\"},{\"attributes\":{},\"id\":\"3650\",\"type\":\"BasicTickFormatter\"},{\"attributes\":{\"plot\":{\"id\":\"3472\",\"subtype\":\"Figure\",\"type\":\"Plot\"},\"ticker\":{\"id\":\"3482\",\"type\":\"BasicTicker\"}},\"id\":\"3485\",\"type\":\"Grid\"},{\"attributes\":{\"formatter\":{\"id\":\"3648\",\"type\":\"BasicTickFormatter\"},\"plot\":{\"id\":\"3472\",\"subtype\":\"Figure\",\"type\":\"Plot\"},\"ticker\":{\"id\":\"3487\",\"type\":\"BasicTicker\"}},\"id\":\"3486\",\"type\":\"LinearAxis\"},{\"attributes\":{\"dimension\":1,\"plot\":{\"id\":\"3472\",\"subtype\":\"Figure\",\"type\":\"Plot\"},\"ticker\":{\"id\":\"3487\",\"type\":\"BasicTicker\"}},\"id\":\"3490\",\"type\":\"Grid\"},{\"attributes\":{\"plot\":null,\"text\":\"\"},\"id\":\"3645\",\"type\":\"Title\"},{\"attributes\":{},\"id\":\"3487\",\"type\":\"BasicTicker\"},{\"attributes\":{},\"id\":\"3494\",\"type\":\"SaveTool\"},{\"attributes\":{},\"id\":\"3648\",\"type\":\"BasicTickFormatter\"},{\"attributes\":{\"overlay\":{\"id\":\"3499\",\"type\":\"BoxAnnotation\"}},\"id\":\"3493\",\"type\":\"BoxZoomTool\"},{\"attributes\":{},\"id\":\"3492\",\"type\":\"WheelZoomTool\"},{\"attributes\":{},\"id\":\"3491\",\"type\":\"PanTool\"},{\"attributes\":{\"active_drag\":\"auto\",\"active_inspect\":\"auto\",\"active_multi\":null,\"active_scroll\":\"auto\",\"active_tap\":\"auto\",\"tools\":[{\"id\":\"3491\",\"type\":\"PanTool\"},{\"id\":\"3492\",\"type\":\"WheelZoomTool\"},{\"id\":\"3493\",\"type\":\"BoxZoomTool\"},{\"id\":\"3494\",\"type\":\"SaveTool\"},{\"id\":\"3495\",\"type\":\"ResetTool\"},{\"id\":\"3496\",\"type\":\"HelpTool\"}]},\"id\":\"3497\",\"type\":\"Toolbar\"},{\"attributes\":{},\"id\":\"3653\",\"type\":\"Selection\"},{\"attributes\":{\"line_alpha\":{\"value\":0.1},\"line_color\":{\"value\":\"#1f77b4\"},\"xs\":{\"field\":\"xs\"},\"ys\":{\"field\":\"ys\"}},\"id\":\"3508\",\"type\":\"MultiLine\"},{\"attributes\":{},\"id\":\"3495\",\"type\":\"ResetTool\"},{\"attributes\":{},\"id\":\"3496\",\"type\":\"HelpTool\"},{\"attributes\":{\"data_source\":{\"id\":\"3506\",\"type\":\"ColumnDataSource\"},\"glyph\":{\"id\":\"3507\",\"type\":\"MultiLine\"},\"hover_glyph\":null,\"muted_glyph\":null,\"nonselection_glyph\":{\"id\":\"3508\",\"type\":\"MultiLine\"},\"selection_glyph\":null,\"view\":{\"id\":\"3510\",\"type\":\"CDSView\"}},\"id\":\"3509\",\"type\":\"GlyphRenderer\"},{\"attributes\":{\"bottom_units\":\"screen\",\"fill_alpha\":{\"value\":0.5},\"fill_color\":{\"value\":\"lightgrey\"},\"left_units\":\"screen\",\"level\":\"overlay\",\"line_alpha\":{\"value\":1.0},\"line_color\":{\"value\":\"black\"},\"line_dash\":[4,4],\"line_width\":{\"value\":2},\"plot\":null,\"render_mode\":\"css\",\"right_units\":\"screen\",\"top_units\":\"screen\"},\"id\":\"3499\",\"type\":\"BoxAnnotation\"},{\"attributes\":{\"source\":{\"id\":\"3506\",\"type\":\"ColumnDataSource\"}},\"id\":\"3510\",\"type\":\"CDSView\"}],\"root_ids\":[\"3472\"]},\"title\":\"Bokeh Application\",\"version\":\"1.0.3\"}};\n",
       "  var render_items = [{\"docid\":\"c741866b-56a7-4ef1-bb7c-2019a4d19ba8\",\"roots\":{\"3472\":\"da234ca1-e378-47dd-b0df-8229971dfa93\"}}];\n",
       "  root.Bokeh.embed.embed_items_notebook(docs_json, render_items);\n",
       "\n",
       "  }\n",
       "  if (root.Bokeh !== undefined) {\n",
       "    embed_document(root);\n",
       "  } else {\n",
       "    var attempts = 0;\n",
       "    var timer = setInterval(function(root) {\n",
       "      if (root.Bokeh !== undefined) {\n",
       "        embed_document(root);\n",
       "        clearInterval(timer);\n",
       "      }\n",
       "      attempts++;\n",
       "      if (attempts > 100) {\n",
       "        console.log(\"Bokeh: ERROR: Unable to run BokehJS code because BokehJS library is missing\");\n",
       "        clearInterval(timer);\n",
       "      }\n",
       "    }, 10, root)\n",
       "  }\n",
       "})(window);"
      ],
      "application/vnd.bokehjs_exec.v0+json": ""
     },
     "metadata": {
      "application/vnd.bokehjs_exec.v0+json": {
       "id": "3472"
      }
     },
     "output_type": "display_data"
    }
   ],
   "source": [
    "# Multi_line\n",
    "p = figure(plot_width=300, plot_height=300)\n",
    "p.multi_line(xs=[[1, 2, 3], [2, 3, 4]], ys=[[6, 7, 2], [4, 5, 7]],\n",
    "            color=['red','green'])\n",
    "\n",
    "show(p)"
   ]
  },
  {
   "cell_type": "code",
   "execution_count": 18,
   "metadata": {},
   "outputs": [
    {
     "data": {
      "text/html": [
       "\n",
       "\n",
       "\n",
       "\n",
       "\n",
       "\n",
       "  <div class=\"bk-root\" id=\"ac0c7cec-d42a-4ca4-8480-ca4cbbb10386\" data-root-id=\"3708\"></div>\n"
      ]
     },
     "metadata": {},
     "output_type": "display_data"
    },
    {
     "data": {
      "application/javascript": [
       "(function(root) {\n",
       "  function embed_document(root) {\n",
       "    \n",
       "  var docs_json = {\"b350987b-8a6b-4f36-bab9-8fcb26e9ab2f\":{\"roots\":{\"references\":[{\"attributes\":{\"below\":[{\"id\":\"3717\",\"type\":\"LinearAxis\"}],\"left\":[{\"id\":\"3722\",\"type\":\"LinearAxis\"}],\"plot_height\":300,\"plot_width\":300,\"renderers\":[{\"id\":\"3717\",\"type\":\"LinearAxis\"},{\"id\":\"3721\",\"type\":\"Grid\"},{\"id\":\"3722\",\"type\":\"LinearAxis\"},{\"id\":\"3726\",\"type\":\"Grid\"},{\"id\":\"3735\",\"type\":\"BoxAnnotation\"},{\"id\":\"3745\",\"type\":\"GlyphRenderer\"}],\"title\":{\"id\":\"3890\",\"type\":\"Title\"},\"toolbar\":{\"id\":\"3733\",\"type\":\"Toolbar\"},\"x_range\":{\"id\":\"3709\",\"type\":\"DataRange1d\"},\"x_scale\":{\"id\":\"3713\",\"type\":\"LinearScale\"},\"y_range\":{\"id\":\"3711\",\"type\":\"DataRange1d\"},\"y_scale\":{\"id\":\"3715\",\"type\":\"LinearScale\"}},\"id\":\"3708\",\"subtype\":\"Figure\",\"type\":\"Plot\"},{\"attributes\":{},\"id\":\"3727\",\"type\":\"PanTool\"},{\"attributes\":{},\"id\":\"3728\",\"type\":\"WheelZoomTool\"},{\"attributes\":{\"fill_alpha\":{\"value\":0.1},\"fill_color\":{\"value\":\"#1f77b4\"},\"line_alpha\":{\"value\":0.1},\"line_color\":{\"value\":\"#1f77b4\"},\"xs\":{\"field\":\"xs\"},\"ys\":{\"field\":\"ys\"}},\"id\":\"3744\",\"type\":\"MultiPolygons\"},{\"attributes\":{},\"id\":\"3732\",\"type\":\"HelpTool\"},{\"attributes\":{\"plot\":{\"id\":\"3708\",\"subtype\":\"Figure\",\"type\":\"Plot\"},\"ticker\":{\"id\":\"3718\",\"type\":\"BasicTicker\"}},\"id\":\"3721\",\"type\":\"Grid\"},{\"attributes\":{},\"id\":\"3898\",\"type\":\"Selection\"},{\"attributes\":{},\"id\":\"3723\",\"type\":\"BasicTicker\"},{\"attributes\":{\"fill_color\":{\"field\":\"fill_color\"},\"line_color\":{\"field\":\"line_color\"},\"xs\":{\"field\":\"xs\"},\"ys\":{\"field\":\"ys\"}},\"id\":\"3743\",\"type\":\"MultiPolygons\"},{\"attributes\":{},\"id\":\"3713\",\"type\":\"LinearScale\"},{\"attributes\":{\"formatter\":{\"id\":\"3895\",\"type\":\"BasicTickFormatter\"},\"plot\":{\"id\":\"3708\",\"subtype\":\"Figure\",\"type\":\"Plot\"},\"ticker\":{\"id\":\"3718\",\"type\":\"BasicTicker\"}},\"id\":\"3717\",\"type\":\"LinearAxis\"},{\"attributes\":{},\"id\":\"3718\",\"type\":\"BasicTicker\"},{\"attributes\":{\"callback\":null},\"id\":\"3709\",\"type\":\"DataRange1d\"},{\"attributes\":{\"overlay\":{\"id\":\"3735\",\"type\":\"BoxAnnotation\"}},\"id\":\"3729\",\"type\":\"BoxZoomTool\"},{\"attributes\":{\"dimension\":1,\"plot\":{\"id\":\"3708\",\"subtype\":\"Figure\",\"type\":\"Plot\"},\"ticker\":{\"id\":\"3723\",\"type\":\"BasicTicker\"}},\"id\":\"3726\",\"type\":\"Grid\"},{\"attributes\":{},\"id\":\"3893\",\"type\":\"BasicTickFormatter\"},{\"attributes\":{},\"id\":\"3731\",\"type\":\"ResetTool\"},{\"attributes\":{},\"id\":\"3895\",\"type\":\"BasicTickFormatter\"},{\"attributes\":{\"plot\":null,\"text\":\"\"},\"id\":\"3890\",\"type\":\"Title\"},{\"attributes\":{\"callback\":null,\"data\":{\"fill_color\":[\"red\",\"green\"],\"line_color\":[\"red\",\"green\"],\"xs\":[[[[1,1,2,2]]],[[[1,1,3],[1.5,1.5,2]]]],\"ys\":[[[[4,3,3,4]]],[[[1,3,1],[1.5,2,1.5]]]]},\"selected\":{\"id\":\"3898\",\"type\":\"Selection\"},\"selection_policy\":{\"id\":\"3897\",\"type\":\"UnionRenderers\"}},\"id\":\"3742\",\"type\":\"ColumnDataSource\"},{\"attributes\":{\"formatter\":{\"id\":\"3893\",\"type\":\"BasicTickFormatter\"},\"plot\":{\"id\":\"3708\",\"subtype\":\"Figure\",\"type\":\"Plot\"},\"ticker\":{\"id\":\"3723\",\"type\":\"BasicTicker\"}},\"id\":\"3722\",\"type\":\"LinearAxis\"},{\"attributes\":{},\"id\":\"3730\",\"type\":\"SaveTool\"},{\"attributes\":{},\"id\":\"3897\",\"type\":\"UnionRenderers\"},{\"attributes\":{\"bottom_units\":\"screen\",\"fill_alpha\":{\"value\":0.5},\"fill_color\":{\"value\":\"lightgrey\"},\"left_units\":\"screen\",\"level\":\"overlay\",\"line_alpha\":{\"value\":1.0},\"line_color\":{\"value\":\"black\"},\"line_dash\":[4,4],\"line_width\":{\"value\":2},\"plot\":null,\"render_mode\":\"css\",\"right_units\":\"screen\",\"top_units\":\"screen\"},\"id\":\"3735\",\"type\":\"BoxAnnotation\"},{\"attributes\":{\"active_drag\":\"auto\",\"active_inspect\":\"auto\",\"active_multi\":null,\"active_scroll\":\"auto\",\"active_tap\":\"auto\",\"tools\":[{\"id\":\"3727\",\"type\":\"PanTool\"},{\"id\":\"3728\",\"type\":\"WheelZoomTool\"},{\"id\":\"3729\",\"type\":\"BoxZoomTool\"},{\"id\":\"3730\",\"type\":\"SaveTool\"},{\"id\":\"3731\",\"type\":\"ResetTool\"},{\"id\":\"3732\",\"type\":\"HelpTool\"}]},\"id\":\"3733\",\"type\":\"Toolbar\"},{\"attributes\":{\"data_source\":{\"id\":\"3742\",\"type\":\"ColumnDataSource\"},\"glyph\":{\"id\":\"3743\",\"type\":\"MultiPolygons\"},\"hover_glyph\":null,\"muted_glyph\":null,\"nonselection_glyph\":{\"id\":\"3744\",\"type\":\"MultiPolygons\"},\"selection_glyph\":null,\"view\":{\"id\":\"3746\",\"type\":\"CDSView\"}},\"id\":\"3745\",\"type\":\"GlyphRenderer\"},{\"attributes\":{\"source\":{\"id\":\"3742\",\"type\":\"ColumnDataSource\"}},\"id\":\"3746\",\"type\":\"CDSView\"},{\"attributes\":{},\"id\":\"3715\",\"type\":\"LinearScale\"},{\"attributes\":{\"callback\":null},\"id\":\"3711\",\"type\":\"DataRange1d\"}],\"root_ids\":[\"3708\"]},\"title\":\"Bokeh Application\",\"version\":\"1.0.3\"}};\n",
       "  var render_items = [{\"docid\":\"b350987b-8a6b-4f36-bab9-8fcb26e9ab2f\",\"roots\":{\"3708\":\"ac0c7cec-d42a-4ca4-8480-ca4cbbb10386\"}}];\n",
       "  root.Bokeh.embed.embed_items_notebook(docs_json, render_items);\n",
       "\n",
       "  }\n",
       "  if (root.Bokeh !== undefined) {\n",
       "    embed_document(root);\n",
       "  } else {\n",
       "    var attempts = 0;\n",
       "    var timer = setInterval(function(root) {\n",
       "      if (root.Bokeh !== undefined) {\n",
       "        embed_document(root);\n",
       "        clearInterval(timer);\n",
       "      }\n",
       "      attempts++;\n",
       "      if (attempts > 100) {\n",
       "        console.log(\"Bokeh: ERROR: Unable to run BokehJS code because BokehJS library is missing\");\n",
       "        clearInterval(timer);\n",
       "      }\n",
       "    }, 10, root)\n",
       "  }\n",
       "})(window);"
      ],
      "application/vnd.bokehjs_exec.v0+json": ""
     },
     "metadata": {
      "application/vnd.bokehjs_exec.v0+json": {
       "id": "3708"
      }
     },
     "output_type": "display_data"
    }
   ],
   "source": [
    "# Multy_Polygons\n",
    "p = figure(plot_width=300, plot_height=300)\n",
    "p.multi_polygons(xs=[[[[1, 1, 2, 2]]], [[[1, 1, 3], [1.5, 1.5, 2]]]],\n",
    "                ys=[[[[4, 3, 3, 4]]], [[[1, 3, 1], [1.5, 2, 1.5]]]],\n",
    "                color=['red', 'green'])\n",
    "show(p)"
   ]
  },
  {
   "cell_type": "code",
   "execution_count": 19,
   "metadata": {},
   "outputs": [
    {
     "data": {
      "text/html": [
       "\n",
       "\n",
       "\n",
       "\n",
       "\n",
       "\n",
       "  <div class=\"bk-root\" id=\"6b736865-5437-4617-911a-544339bb2346\" data-root-id=\"3953\"></div>\n"
      ]
     },
     "metadata": {},
     "output_type": "display_data"
    },
    {
     "data": {
      "application/javascript": [
       "(function(root) {\n",
       "  function embed_document(root) {\n",
       "    \n",
       "  var docs_json = {\"a328543c-6ce6-493b-9930-4f25ef8b6400\":{\"roots\":{\"references\":[{\"attributes\":{\"below\":[{\"id\":\"3962\",\"type\":\"LinearAxis\"}],\"left\":[{\"id\":\"3967\",\"type\":\"LinearAxis\"}],\"plot_height\":300,\"plot_width\":300,\"renderers\":[{\"id\":\"3962\",\"type\":\"LinearAxis\"},{\"id\":\"3966\",\"type\":\"Grid\"},{\"id\":\"3967\",\"type\":\"LinearAxis\"},{\"id\":\"3971\",\"type\":\"Grid\"},{\"id\":\"3980\",\"type\":\"BoxAnnotation\"},{\"id\":\"3990\",\"type\":\"GlyphRenderer\"}],\"title\":{\"id\":\"4144\",\"type\":\"Title\"},\"toolbar\":{\"id\":\"3978\",\"type\":\"Toolbar\"},\"x_range\":{\"id\":\"3954\",\"type\":\"DataRange1d\"},\"x_scale\":{\"id\":\"3958\",\"type\":\"LinearScale\"},\"y_range\":{\"id\":\"3956\",\"type\":\"DataRange1d\"},\"y_scale\":{\"id\":\"3960\",\"type\":\"LinearScale\"}},\"id\":\"3953\",\"subtype\":\"Figure\",\"type\":\"Plot\"},{\"attributes\":{},\"id\":\"4151\",\"type\":\"UnionRenderers\"},{\"attributes\":{},\"id\":\"4149\",\"type\":\"BasicTickFormatter\"},{\"attributes\":{\"overlay\":{\"id\":\"3980\",\"type\":\"BoxAnnotation\"}},\"id\":\"3974\",\"type\":\"BoxZoomTool\"},{\"attributes\":{\"plot\":null,\"text\":\"\"},\"id\":\"4144\",\"type\":\"Title\"},{\"attributes\":{\"dimension\":1,\"plot\":{\"id\":\"3953\",\"subtype\":\"Figure\",\"type\":\"Plot\"},\"ticker\":{\"id\":\"3968\",\"type\":\"BasicTicker\"}},\"id\":\"3971\",\"type\":\"Grid\"},{\"attributes\":{\"data_source\":{\"id\":\"3987\",\"type\":\"ColumnDataSource\"},\"glyph\":{\"id\":\"3988\",\"type\":\"Oval\"},\"hover_glyph\":null,\"muted_glyph\":null,\"nonselection_glyph\":{\"id\":\"3989\",\"type\":\"Oval\"},\"selection_glyph\":null,\"view\":{\"id\":\"3991\",\"type\":\"CDSView\"}},\"id\":\"3990\",\"type\":\"GlyphRenderer\"},{\"attributes\":{},\"id\":\"3976\",\"type\":\"ResetTool\"},{\"attributes\":{},\"id\":\"3975\",\"type\":\"SaveTool\"},{\"attributes\":{},\"id\":\"3963\",\"type\":\"BasicTicker\"},{\"attributes\":{\"callback\":null},\"id\":\"3956\",\"type\":\"DataRange1d\"},{\"attributes\":{\"callback\":null,\"data\":{\"x\":[1,2,3],\"y\":[1,2,3]},\"selected\":{\"id\":\"4152\",\"type\":\"Selection\"},\"selection_policy\":{\"id\":\"4151\",\"type\":\"UnionRenderers\"}},\"id\":\"3987\",\"type\":\"ColumnDataSource\"},{\"attributes\":{\"angle\":{\"units\":\"rad\",\"value\":-0.7},\"fill_alpha\":{\"value\":0.1},\"fill_color\":{\"value\":\"#1f77b4\"},\"height\":{\"units\":\"data\",\"value\":0.4},\"line_alpha\":{\"value\":0.1},\"line_color\":{\"value\":\"#1f77b4\"},\"width\":{\"units\":\"data\",\"value\":0.2},\"x\":{\"field\":\"x\"},\"y\":{\"field\":\"y\"}},\"id\":\"3989\",\"type\":\"Oval\"},{\"attributes\":{},\"id\":\"3958\",\"type\":\"LinearScale\"},{\"attributes\":{},\"id\":\"4152\",\"type\":\"Selection\"},{\"attributes\":{},\"id\":\"3968\",\"type\":\"BasicTicker\"},{\"attributes\":{},\"id\":\"4147\",\"type\":\"BasicTickFormatter\"},{\"attributes\":{},\"id\":\"3972\",\"type\":\"PanTool\"},{\"attributes\":{\"callback\":null},\"id\":\"3954\",\"type\":\"DataRange1d\"},{\"attributes\":{},\"id\":\"3977\",\"type\":\"HelpTool\"},{\"attributes\":{\"bottom_units\":\"screen\",\"fill_alpha\":{\"value\":0.5},\"fill_color\":{\"value\":\"lightgrey\"},\"left_units\":\"screen\",\"level\":\"overlay\",\"line_alpha\":{\"value\":1.0},\"line_color\":{\"value\":\"black\"},\"line_dash\":[4,4],\"line_width\":{\"value\":2},\"plot\":null,\"render_mode\":\"css\",\"right_units\":\"screen\",\"top_units\":\"screen\"},\"id\":\"3980\",\"type\":\"BoxAnnotation\"},{\"attributes\":{\"angle\":{\"units\":\"rad\",\"value\":-0.7},\"fill_color\":{\"value\":\"#1D91C0\"},\"height\":{\"units\":\"data\",\"value\":0.4},\"line_color\":{\"value\":\"#1D91C0\"},\"width\":{\"units\":\"data\",\"value\":0.2},\"x\":{\"field\":\"x\"},\"y\":{\"field\":\"y\"}},\"id\":\"3988\",\"type\":\"Oval\"},{\"attributes\":{\"formatter\":{\"id\":\"4147\",\"type\":\"BasicTickFormatter\"},\"plot\":{\"id\":\"3953\",\"subtype\":\"Figure\",\"type\":\"Plot\"},\"ticker\":{\"id\":\"3968\",\"type\":\"BasicTicker\"}},\"id\":\"3967\",\"type\":\"LinearAxis\"},{\"attributes\":{\"formatter\":{\"id\":\"4149\",\"type\":\"BasicTickFormatter\"},\"plot\":{\"id\":\"3953\",\"subtype\":\"Figure\",\"type\":\"Plot\"},\"ticker\":{\"id\":\"3963\",\"type\":\"BasicTicker\"}},\"id\":\"3962\",\"type\":\"LinearAxis\"},{\"attributes\":{\"source\":{\"id\":\"3987\",\"type\":\"ColumnDataSource\"}},\"id\":\"3991\",\"type\":\"CDSView\"},{\"attributes\":{},\"id\":\"3960\",\"type\":\"LinearScale\"},{\"attributes\":{},\"id\":\"3973\",\"type\":\"WheelZoomTool\"},{\"attributes\":{\"plot\":{\"id\":\"3953\",\"subtype\":\"Figure\",\"type\":\"Plot\"},\"ticker\":{\"id\":\"3963\",\"type\":\"BasicTicker\"}},\"id\":\"3966\",\"type\":\"Grid\"},{\"attributes\":{\"active_drag\":\"auto\",\"active_inspect\":\"auto\",\"active_multi\":null,\"active_scroll\":\"auto\",\"active_tap\":\"auto\",\"tools\":[{\"id\":\"3972\",\"type\":\"PanTool\"},{\"id\":\"3973\",\"type\":\"WheelZoomTool\"},{\"id\":\"3974\",\"type\":\"BoxZoomTool\"},{\"id\":\"3975\",\"type\":\"SaveTool\"},{\"id\":\"3976\",\"type\":\"ResetTool\"},{\"id\":\"3977\",\"type\":\"HelpTool\"}]},\"id\":\"3978\",\"type\":\"Toolbar\"}],\"root_ids\":[\"3953\"]},\"title\":\"Bokeh Application\",\"version\":\"1.0.3\"}};\n",
       "  var render_items = [{\"docid\":\"a328543c-6ce6-493b-9930-4f25ef8b6400\",\"roots\":{\"3953\":\"6b736865-5437-4617-911a-544339bb2346\"}}];\n",
       "  root.Bokeh.embed.embed_items_notebook(docs_json, render_items);\n",
       "\n",
       "  }\n",
       "  if (root.Bokeh !== undefined) {\n",
       "    embed_document(root);\n",
       "  } else {\n",
       "    var attempts = 0;\n",
       "    var timer = setInterval(function(root) {\n",
       "      if (root.Bokeh !== undefined) {\n",
       "        embed_document(root);\n",
       "        clearInterval(timer);\n",
       "      }\n",
       "      attempts++;\n",
       "      if (attempts > 100) {\n",
       "        console.log(\"Bokeh: ERROR: Unable to run BokehJS code because BokehJS library is missing\");\n",
       "        clearInterval(timer);\n",
       "      }\n",
       "    }, 10, root)\n",
       "  }\n",
       "})(window);"
      ],
      "application/vnd.bokehjs_exec.v0+json": ""
     },
     "metadata": {
      "application/vnd.bokehjs_exec.v0+json": {
       "id": "3953"
      }
     },
     "output_type": "display_data"
    }
   ],
   "source": [
    "# Oval\n",
    "plot = figure(plot_width=300, plot_height=300)\n",
    "plot.oval(x=[1, 2, 3], y=[1, 2, 3], width=0.2, height=0.4,\n",
    "          angle=-0.7, color=\"#1D91C0\")\n",
    "\n",
    "show(plot)"
   ]
  },
  {
   "cell_type": "code",
   "execution_count": 20,
   "metadata": {},
   "outputs": [
    {
     "data": {
      "text/html": [
       "\n",
       "\n",
       "\n",
       "\n",
       "\n",
       "\n",
       "  <div class=\"bk-root\" id=\"dced0330-f1d3-45e2-b7a9-997806b9c192\" data-root-id=\"4207\"></div>\n"
      ]
     },
     "metadata": {},
     "output_type": "display_data"
    },
    {
     "data": {
      "application/javascript": [
       "(function(root) {\n",
       "  function embed_document(root) {\n",
       "    \n",
       "  var docs_json = {\"660bc8ab-f94a-41ab-acd3-767e0b594af1\":{\"roots\":{\"references\":[{\"attributes\":{\"below\":[{\"id\":\"4216\",\"type\":\"LinearAxis\"}],\"left\":[{\"id\":\"4221\",\"type\":\"LinearAxis\"}],\"plot_height\":300,\"plot_width\":300,\"renderers\":[{\"id\":\"4216\",\"type\":\"LinearAxis\"},{\"id\":\"4220\",\"type\":\"Grid\"},{\"id\":\"4221\",\"type\":\"LinearAxis\"},{\"id\":\"4225\",\"type\":\"Grid\"},{\"id\":\"4234\",\"type\":\"BoxAnnotation\"},{\"id\":\"4244\",\"type\":\"GlyphRenderer\"}],\"title\":{\"id\":\"4407\",\"type\":\"Title\"},\"toolbar\":{\"id\":\"4232\",\"type\":\"Toolbar\"},\"x_range\":{\"id\":\"4208\",\"type\":\"DataRange1d\"},\"x_scale\":{\"id\":\"4212\",\"type\":\"LinearScale\"},\"y_range\":{\"id\":\"4210\",\"type\":\"DataRange1d\"},\"y_scale\":{\"id\":\"4214\",\"type\":\"LinearScale\"}},\"id\":\"4207\",\"subtype\":\"Figure\",\"type\":\"Plot\"},{\"attributes\":{\"formatter\":{\"id\":\"4410\",\"type\":\"BasicTickFormatter\"},\"plot\":{\"id\":\"4207\",\"subtype\":\"Figure\",\"type\":\"Plot\"},\"ticker\":{\"id\":\"4222\",\"type\":\"BasicTicker\"}},\"id\":\"4221\",\"type\":\"LinearAxis\"},{\"attributes\":{},\"id\":\"4212\",\"type\":\"LinearScale\"},{\"attributes\":{\"source\":{\"id\":\"4241\",\"type\":\"ColumnDataSource\"}},\"id\":\"4245\",\"type\":\"CDSView\"},{\"attributes\":{\"callback\":null},\"id\":\"4208\",\"type\":\"DataRange1d\"},{\"attributes\":{\"dimension\":1,\"plot\":{\"id\":\"4207\",\"subtype\":\"Figure\",\"type\":\"Plot\"},\"ticker\":{\"id\":\"4222\",\"type\":\"BasicTicker\"}},\"id\":\"4225\",\"type\":\"Grid\"},{\"attributes\":{},\"id\":\"4222\",\"type\":\"BasicTicker\"},{\"attributes\":{\"formatter\":{\"id\":\"4412\",\"type\":\"BasicTickFormatter\"},\"plot\":{\"id\":\"4207\",\"subtype\":\"Figure\",\"type\":\"Plot\"},\"ticker\":{\"id\":\"4217\",\"type\":\"BasicTicker\"}},\"id\":\"4216\",\"type\":\"LinearAxis\"},{\"attributes\":{\"fill_alpha\":0.1,\"fill_color\":\"#1f77b4\",\"line_alpha\":0.1,\"line_color\":\"#1f77b4\",\"x\":{\"field\":\"x\"},\"y\":{\"field\":\"y\"}},\"id\":\"4243\",\"type\":\"Patch\"},{\"attributes\":{\"callback\":null,\"data\":{\"x\":[1,2,3,2],\"y\":[6,7,2,2]},\"selected\":{\"id\":\"4415\",\"type\":\"Selection\"},\"selection_policy\":{\"id\":\"4414\",\"type\":\"UnionRenderers\"}},\"id\":\"4241\",\"type\":\"ColumnDataSource\"},{\"attributes\":{\"active_drag\":\"auto\",\"active_inspect\":\"auto\",\"active_multi\":null,\"active_scroll\":\"auto\",\"active_tap\":\"auto\",\"tools\":[{\"id\":\"4226\",\"type\":\"PanTool\"},{\"id\":\"4227\",\"type\":\"WheelZoomTool\"},{\"id\":\"4228\",\"type\":\"BoxZoomTool\"},{\"id\":\"4229\",\"type\":\"SaveTool\"},{\"id\":\"4230\",\"type\":\"ResetTool\"},{\"id\":\"4231\",\"type\":\"HelpTool\"}]},\"id\":\"4232\",\"type\":\"Toolbar\"},{\"attributes\":{},\"id\":\"4226\",\"type\":\"PanTool\"},{\"attributes\":{},\"id\":\"4217\",\"type\":\"BasicTicker\"},{\"attributes\":{},\"id\":\"4227\",\"type\":\"WheelZoomTool\"},{\"attributes\":{\"overlay\":{\"id\":\"4234\",\"type\":\"BoxAnnotation\"}},\"id\":\"4228\",\"type\":\"BoxZoomTool\"},{\"attributes\":{},\"id\":\"4229\",\"type\":\"SaveTool\"},{\"attributes\":{},\"id\":\"4230\",\"type\":\"ResetTool\"},{\"attributes\":{\"fill_color\":\"#99d8c9\",\"line_color\":\"#99d8c9\",\"x\":{\"field\":\"x\"},\"y\":{\"field\":\"y\"}},\"id\":\"4242\",\"type\":\"Patch\"},{\"attributes\":{},\"id\":\"4231\",\"type\":\"HelpTool\"},{\"attributes\":{\"plot\":{\"id\":\"4207\",\"subtype\":\"Figure\",\"type\":\"Plot\"},\"ticker\":{\"id\":\"4217\",\"type\":\"BasicTicker\"}},\"id\":\"4220\",\"type\":\"Grid\"},{\"attributes\":{\"bottom_units\":\"screen\",\"fill_alpha\":{\"value\":0.5},\"fill_color\":{\"value\":\"lightgrey\"},\"left_units\":\"screen\",\"level\":\"overlay\",\"line_alpha\":{\"value\":1.0},\"line_color\":{\"value\":\"black\"},\"line_dash\":[4,4],\"line_width\":{\"value\":2},\"plot\":null,\"render_mode\":\"css\",\"right_units\":\"screen\",\"top_units\":\"screen\"},\"id\":\"4234\",\"type\":\"BoxAnnotation\"},{\"attributes\":{},\"id\":\"4412\",\"type\":\"BasicTickFormatter\"},{\"attributes\":{\"data_source\":{\"id\":\"4241\",\"type\":\"ColumnDataSource\"},\"glyph\":{\"id\":\"4242\",\"type\":\"Patch\"},\"hover_glyph\":null,\"muted_glyph\":null,\"nonselection_glyph\":{\"id\":\"4243\",\"type\":\"Patch\"},\"selection_glyph\":null,\"view\":{\"id\":\"4245\",\"type\":\"CDSView\"}},\"id\":\"4244\",\"type\":\"GlyphRenderer\"},{\"attributes\":{\"plot\":null,\"text\":\"\"},\"id\":\"4407\",\"type\":\"Title\"},{\"attributes\":{},\"id\":\"4214\",\"type\":\"LinearScale\"},{\"attributes\":{\"callback\":null},\"id\":\"4210\",\"type\":\"DataRange1d\"},{\"attributes\":{},\"id\":\"4415\",\"type\":\"Selection\"},{\"attributes\":{},\"id\":\"4414\",\"type\":\"UnionRenderers\"},{\"attributes\":{},\"id\":\"4410\",\"type\":\"BasicTickFormatter\"}],\"root_ids\":[\"4207\"]},\"title\":\"Bokeh Application\",\"version\":\"1.0.3\"}};\n",
       "  var render_items = [{\"docid\":\"660bc8ab-f94a-41ab-acd3-767e0b594af1\",\"roots\":{\"4207\":\"dced0330-f1d3-45e2-b7a9-997806b9c192\"}}];\n",
       "  root.Bokeh.embed.embed_items_notebook(docs_json, render_items);\n",
       "\n",
       "  }\n",
       "  if (root.Bokeh !== undefined) {\n",
       "    embed_document(root);\n",
       "  } else {\n",
       "    var attempts = 0;\n",
       "    var timer = setInterval(function(root) {\n",
       "      if (root.Bokeh !== undefined) {\n",
       "        embed_document(root);\n",
       "        clearInterval(timer);\n",
       "      }\n",
       "      attempts++;\n",
       "      if (attempts > 100) {\n",
       "        console.log(\"Bokeh: ERROR: Unable to run BokehJS code because BokehJS library is missing\");\n",
       "        clearInterval(timer);\n",
       "      }\n",
       "    }, 10, root)\n",
       "  }\n",
       "})(window);"
      ],
      "application/vnd.bokehjs_exec.v0+json": ""
     },
     "metadata": {
      "application/vnd.bokehjs_exec.v0+json": {
       "id": "4207"
      }
     },
     "output_type": "display_data"
    }
   ],
   "source": [
    "# Patch\n",
    "p = figure(plot_width=300, plot_height=300)\n",
    "p.patch(x=[1, 2, 3, 2], y=[6, 7, 2, 2], color=\"#99d8c9\")\n",
    "\n",
    "show(p)\n"
   ]
  },
  {
   "cell_type": "code",
   "execution_count": 21,
   "metadata": {},
   "outputs": [
    {
     "data": {
      "text/html": [
       "\n",
       "\n",
       "\n",
       "\n",
       "\n",
       "\n",
       "  <div class=\"bk-root\" id=\"adc655cb-4df3-403c-8b20-9160d04bec8e\" data-root-id=\"4470\"></div>\n"
      ]
     },
     "metadata": {},
     "output_type": "display_data"
    },
    {
     "data": {
      "application/javascript": [
       "(function(root) {\n",
       "  function embed_document(root) {\n",
       "    \n",
       "  var docs_json = {\"d7cb4b60-47f8-4b2c-a664-f3aba4c5ea38\":{\"roots\":{\"references\":[{\"attributes\":{\"below\":[{\"id\":\"4479\",\"type\":\"LinearAxis\"}],\"left\":[{\"id\":\"4484\",\"type\":\"LinearAxis\"}],\"plot_height\":300,\"plot_width\":300,\"renderers\":[{\"id\":\"4479\",\"type\":\"LinearAxis\"},{\"id\":\"4483\",\"type\":\"Grid\"},{\"id\":\"4484\",\"type\":\"LinearAxis\"},{\"id\":\"4488\",\"type\":\"Grid\"},{\"id\":\"4497\",\"type\":\"BoxAnnotation\"},{\"id\":\"4507\",\"type\":\"GlyphRenderer\"}],\"title\":{\"id\":\"4679\",\"type\":\"Title\"},\"toolbar\":{\"id\":\"4495\",\"type\":\"Toolbar\"},\"x_range\":{\"id\":\"4471\",\"type\":\"DataRange1d\"},\"x_scale\":{\"id\":\"4475\",\"type\":\"LinearScale\"},\"y_range\":{\"id\":\"4473\",\"type\":\"DataRange1d\"},\"y_scale\":{\"id\":\"4477\",\"type\":\"LinearScale\"}},\"id\":\"4470\",\"subtype\":\"Figure\",\"type\":\"Plot\"},{\"attributes\":{\"callback\":null},\"id\":\"4471\",\"type\":\"DataRange1d\"},{\"attributes\":{},\"id\":\"4475\",\"type\":\"LinearScale\"},{\"attributes\":{\"fill_color\":{\"field\":\"fill_color\"},\"line_color\":{\"field\":\"line_color\"},\"xs\":{\"field\":\"xs\"},\"ys\":{\"field\":\"ys\"}},\"id\":\"4505\",\"type\":\"Patches\"},{\"attributes\":{},\"id\":\"4687\",\"type\":\"Selection\"},{\"attributes\":{},\"id\":\"4686\",\"type\":\"UnionRenderers\"},{\"attributes\":{\"data_source\":{\"id\":\"4504\",\"type\":\"ColumnDataSource\"},\"glyph\":{\"id\":\"4505\",\"type\":\"Patches\"},\"hover_glyph\":null,\"muted_glyph\":null,\"nonselection_glyph\":{\"id\":\"4506\",\"type\":\"Patches\"},\"selection_glyph\":null,\"view\":{\"id\":\"4508\",\"type\":\"CDSView\"}},\"id\":\"4507\",\"type\":\"GlyphRenderer\"},{\"attributes\":{\"formatter\":{\"id\":\"4682\",\"type\":\"BasicTickFormatter\"},\"plot\":{\"id\":\"4470\",\"subtype\":\"Figure\",\"type\":\"Plot\"},\"ticker\":{\"id\":\"4485\",\"type\":\"BasicTicker\"}},\"id\":\"4484\",\"type\":\"LinearAxis\"},{\"attributes\":{\"plot\":{\"id\":\"4470\",\"subtype\":\"Figure\",\"type\":\"Plot\"},\"ticker\":{\"id\":\"4480\",\"type\":\"BasicTicker\"}},\"id\":\"4483\",\"type\":\"Grid\"},{\"attributes\":{\"formatter\":{\"id\":\"4684\",\"type\":\"BasicTickFormatter\"},\"plot\":{\"id\":\"4470\",\"subtype\":\"Figure\",\"type\":\"Plot\"},\"ticker\":{\"id\":\"4480\",\"type\":\"BasicTicker\"}},\"id\":\"4479\",\"type\":\"LinearAxis\"},{\"attributes\":{},\"id\":\"4480\",\"type\":\"BasicTicker\"},{\"attributes\":{},\"id\":\"4477\",\"type\":\"LinearScale\"},{\"attributes\":{},\"id\":\"4485\",\"type\":\"BasicTicker\"},{\"attributes\":{\"dimension\":1,\"plot\":{\"id\":\"4470\",\"subtype\":\"Figure\",\"type\":\"Plot\"},\"ticker\":{\"id\":\"4485\",\"type\":\"BasicTicker\"}},\"id\":\"4488\",\"type\":\"Grid\"},{\"attributes\":{\"callback\":null,\"data\":{\"fill_color\":[\"#43a2ca\",\"#a8ddb5\"],\"line_color\":[\"#43a2ca\",\"#a8ddb5\"],\"xs\":[[1,2,3],[4,5,6,5]],\"ys\":[[1,2,1],[4,5,5,4]]},\"selected\":{\"id\":\"4687\",\"type\":\"Selection\"},\"selection_policy\":{\"id\":\"4686\",\"type\":\"UnionRenderers\"}},\"id\":\"4504\",\"type\":\"ColumnDataSource\"},{\"attributes\":{\"source\":{\"id\":\"4504\",\"type\":\"ColumnDataSource\"}},\"id\":\"4508\",\"type\":\"CDSView\"},{\"attributes\":{\"bottom_units\":\"screen\",\"fill_alpha\":{\"value\":0.5},\"fill_color\":{\"value\":\"lightgrey\"},\"left_units\":\"screen\",\"level\":\"overlay\",\"line_alpha\":{\"value\":1.0},\"line_color\":{\"value\":\"black\"},\"line_dash\":[4,4],\"line_width\":{\"value\":2},\"plot\":null,\"render_mode\":\"css\",\"right_units\":\"screen\",\"top_units\":\"screen\"},\"id\":\"4497\",\"type\":\"BoxAnnotation\"},{\"attributes\":{},\"id\":\"4490\",\"type\":\"WheelZoomTool\"},{\"attributes\":{},\"id\":\"4489\",\"type\":\"PanTool\"},{\"attributes\":{\"active_drag\":\"auto\",\"active_inspect\":\"auto\",\"active_multi\":null,\"active_scroll\":\"auto\",\"active_tap\":\"auto\",\"tools\":[{\"id\":\"4489\",\"type\":\"PanTool\"},{\"id\":\"4490\",\"type\":\"WheelZoomTool\"},{\"id\":\"4491\",\"type\":\"BoxZoomTool\"},{\"id\":\"4492\",\"type\":\"SaveTool\"},{\"id\":\"4493\",\"type\":\"ResetTool\"},{\"id\":\"4494\",\"type\":\"HelpTool\"}]},\"id\":\"4495\",\"type\":\"Toolbar\"},{\"attributes\":{},\"id\":\"4493\",\"type\":\"ResetTool\"},{\"attributes\":{\"plot\":null,\"text\":\"\"},\"id\":\"4679\",\"type\":\"Title\"},{\"attributes\":{},\"id\":\"4492\",\"type\":\"SaveTool\"},{\"attributes\":{\"overlay\":{\"id\":\"4497\",\"type\":\"BoxAnnotation\"}},\"id\":\"4491\",\"type\":\"BoxZoomTool\"},{\"attributes\":{},\"id\":\"4682\",\"type\":\"BasicTickFormatter\"},{\"attributes\":{},\"id\":\"4684\",\"type\":\"BasicTickFormatter\"},{\"attributes\":{\"fill_alpha\":{\"value\":0.1},\"fill_color\":{\"value\":\"#1f77b4\"},\"line_alpha\":{\"value\":0.1},\"line_color\":{\"value\":\"#1f77b4\"},\"xs\":{\"field\":\"xs\"},\"ys\":{\"field\":\"ys\"}},\"id\":\"4506\",\"type\":\"Patches\"},{\"attributes\":{},\"id\":\"4494\",\"type\":\"HelpTool\"},{\"attributes\":{\"callback\":null},\"id\":\"4473\",\"type\":\"DataRange1d\"}],\"root_ids\":[\"4470\"]},\"title\":\"Bokeh Application\",\"version\":\"1.0.3\"}};\n",
       "  var render_items = [{\"docid\":\"d7cb4b60-47f8-4b2c-a664-f3aba4c5ea38\",\"roots\":{\"4470\":\"adc655cb-4df3-403c-8b20-9160d04bec8e\"}}];\n",
       "  root.Bokeh.embed.embed_items_notebook(docs_json, render_items);\n",
       "\n",
       "  }\n",
       "  if (root.Bokeh !== undefined) {\n",
       "    embed_document(root);\n",
       "  } else {\n",
       "    var attempts = 0;\n",
       "    var timer = setInterval(function(root) {\n",
       "      if (root.Bokeh !== undefined) {\n",
       "        embed_document(root);\n",
       "        clearInterval(timer);\n",
       "      }\n",
       "      attempts++;\n",
       "      if (attempts > 100) {\n",
       "        console.log(\"Bokeh: ERROR: Unable to run BokehJS code because BokehJS library is missing\");\n",
       "        clearInterval(timer);\n",
       "      }\n",
       "    }, 10, root)\n",
       "  }\n",
       "})(window);"
      ],
      "application/vnd.bokehjs_exec.v0+json": ""
     },
     "metadata": {
      "application/vnd.bokehjs_exec.v0+json": {
       "id": "4470"
      }
     },
     "output_type": "display_data"
    }
   ],
   "source": [
    "# Patches\n",
    "p = figure(plot_width=300, plot_height=300)\n",
    "p.patches(xs=[[1,2,3],[4,5,6,5]], ys=[[1,2,1],[4,5,5,4]],\n",
    "         color=[\"#43a2ca\", \"#a8ddb5\"])\n",
    "\n",
    "show(p)"
   ]
  },
  {
   "cell_type": "code",
   "execution_count": 22,
   "metadata": {},
   "outputs": [
    {
     "data": {
      "text/html": [
       "\n",
       "\n",
       "\n",
       "\n",
       "\n",
       "\n",
       "  <div class=\"bk-root\" id=\"a8baaae6-8f75-4197-b26b-d3e4c1cd06a5\" data-root-id=\"4742\"></div>\n"
      ]
     },
     "metadata": {},
     "output_type": "display_data"
    },
    {
     "data": {
      "application/javascript": [
       "(function(root) {\n",
       "  function embed_document(root) {\n",
       "    \n",
       "  var docs_json = {\"c0ab87bd-84c9-4bd0-882a-764b64b39dad\":{\"roots\":{\"references\":[{\"attributes\":{\"below\":[{\"id\":\"4751\",\"type\":\"LinearAxis\"}],\"left\":[{\"id\":\"4756\",\"type\":\"LinearAxis\"}],\"plot_height\":300,\"plot_width\":300,\"renderers\":[{\"id\":\"4751\",\"type\":\"LinearAxis\"},{\"id\":\"4755\",\"type\":\"Grid\"},{\"id\":\"4756\",\"type\":\"LinearAxis\"},{\"id\":\"4760\",\"type\":\"Grid\"},{\"id\":\"4769\",\"type\":\"BoxAnnotation\"},{\"id\":\"4779\",\"type\":\"GlyphRenderer\"}],\"title\":{\"id\":\"4960\",\"type\":\"Title\"},\"toolbar\":{\"id\":\"4767\",\"type\":\"Toolbar\"},\"x_range\":{\"id\":\"4743\",\"type\":\"DataRange1d\"},\"x_scale\":{\"id\":\"4747\",\"type\":\"LinearScale\"},\"y_range\":{\"id\":\"4745\",\"type\":\"DataRange1d\"},\"y_scale\":{\"id\":\"4749\",\"type\":\"LinearScale\"}},\"id\":\"4742\",\"subtype\":\"Figure\",\"type\":\"Plot\"},{\"attributes\":{\"callback\":null,\"data\":{\"bottom\":[1,2,3],\"left\":[1,2,3],\"right\":[1.2,2.5,3.7],\"top\":[2,3,4]},\"selected\":{\"id\":\"4968\",\"type\":\"Selection\"},\"selection_policy\":{\"id\":\"4967\",\"type\":\"UnionRenderers\"}},\"id\":\"4776\",\"type\":\"ColumnDataSource\"},{\"attributes\":{\"bottom\":{\"field\":\"bottom\"},\"fill_alpha\":{\"value\":0.1},\"fill_color\":{\"value\":\"#1f77b4\"},\"left\":{\"field\":\"left\"},\"line_alpha\":{\"value\":0.1},\"line_color\":{\"value\":\"#1f77b4\"},\"right\":{\"field\":\"right\"},\"top\":{\"field\":\"top\"}},\"id\":\"4778\",\"type\":\"Quad\"},{\"attributes\":{\"bottom\":{\"field\":\"bottom\"},\"fill_color\":{\"value\":\"#B3DE69\"},\"left\":{\"field\":\"left\"},\"line_color\":{\"value\":\"#B3DE69\"},\"right\":{\"field\":\"right\"},\"top\":{\"field\":\"top\"}},\"id\":\"4777\",\"type\":\"Quad\"},{\"attributes\":{\"dimension\":1,\"plot\":{\"id\":\"4742\",\"subtype\":\"Figure\",\"type\":\"Plot\"},\"ticker\":{\"id\":\"4757\",\"type\":\"BasicTicker\"}},\"id\":\"4760\",\"type\":\"Grid\"},{\"attributes\":{},\"id\":\"4965\",\"type\":\"BasicTickFormatter\"},{\"attributes\":{\"data_source\":{\"id\":\"4776\",\"type\":\"ColumnDataSource\"},\"glyph\":{\"id\":\"4777\",\"type\":\"Quad\"},\"hover_glyph\":null,\"muted_glyph\":null,\"nonselection_glyph\":{\"id\":\"4778\",\"type\":\"Quad\"},\"selection_glyph\":null,\"view\":{\"id\":\"4780\",\"type\":\"CDSView\"}},\"id\":\"4779\",\"type\":\"GlyphRenderer\"},{\"attributes\":{\"callback\":null},\"id\":\"4743\",\"type\":\"DataRange1d\"},{\"attributes\":{\"callback\":null},\"id\":\"4745\",\"type\":\"DataRange1d\"},{\"attributes\":{},\"id\":\"4747\",\"type\":\"LinearScale\"},{\"attributes\":{},\"id\":\"4749\",\"type\":\"LinearScale\"},{\"attributes\":{},\"id\":\"4752\",\"type\":\"BasicTicker\"},{\"attributes\":{\"formatter\":{\"id\":\"4965\",\"type\":\"BasicTickFormatter\"},\"plot\":{\"id\":\"4742\",\"subtype\":\"Figure\",\"type\":\"Plot\"},\"ticker\":{\"id\":\"4752\",\"type\":\"BasicTicker\"}},\"id\":\"4751\",\"type\":\"LinearAxis\"},{\"attributes\":{\"plot\":{\"id\":\"4742\",\"subtype\":\"Figure\",\"type\":\"Plot\"},\"ticker\":{\"id\":\"4752\",\"type\":\"BasicTicker\"}},\"id\":\"4755\",\"type\":\"Grid\"},{\"attributes\":{\"formatter\":{\"id\":\"4963\",\"type\":\"BasicTickFormatter\"},\"plot\":{\"id\":\"4742\",\"subtype\":\"Figure\",\"type\":\"Plot\"},\"ticker\":{\"id\":\"4757\",\"type\":\"BasicTicker\"}},\"id\":\"4756\",\"type\":\"LinearAxis\"},{\"attributes\":{\"overlay\":{\"id\":\"4769\",\"type\":\"BoxAnnotation\"}},\"id\":\"4763\",\"type\":\"BoxZoomTool\"},{\"attributes\":{},\"id\":\"4762\",\"type\":\"WheelZoomTool\"},{\"attributes\":{},\"id\":\"4757\",\"type\":\"BasicTicker\"},{\"attributes\":{},\"id\":\"4764\",\"type\":\"SaveTool\"},{\"attributes\":{},\"id\":\"4765\",\"type\":\"ResetTool\"},{\"attributes\":{\"source\":{\"id\":\"4776\",\"type\":\"ColumnDataSource\"}},\"id\":\"4780\",\"type\":\"CDSView\"},{\"attributes\":{},\"id\":\"4766\",\"type\":\"HelpTool\"},{\"attributes\":{\"active_drag\":\"auto\",\"active_inspect\":\"auto\",\"active_multi\":null,\"active_scroll\":\"auto\",\"active_tap\":\"auto\",\"tools\":[{\"id\":\"4761\",\"type\":\"PanTool\"},{\"id\":\"4762\",\"type\":\"WheelZoomTool\"},{\"id\":\"4763\",\"type\":\"BoxZoomTool\"},{\"id\":\"4764\",\"type\":\"SaveTool\"},{\"id\":\"4765\",\"type\":\"ResetTool\"},{\"id\":\"4766\",\"type\":\"HelpTool\"}]},\"id\":\"4767\",\"type\":\"Toolbar\"},{\"attributes\":{\"bottom_units\":\"screen\",\"fill_alpha\":{\"value\":0.5},\"fill_color\":{\"value\":\"lightgrey\"},\"left_units\":\"screen\",\"level\":\"overlay\",\"line_alpha\":{\"value\":1.0},\"line_color\":{\"value\":\"black\"},\"line_dash\":[4,4],\"line_width\":{\"value\":2},\"plot\":null,\"render_mode\":\"css\",\"right_units\":\"screen\",\"top_units\":\"screen\"},\"id\":\"4769\",\"type\":\"BoxAnnotation\"},{\"attributes\":{\"plot\":null,\"text\":\"\"},\"id\":\"4960\",\"type\":\"Title\"},{\"attributes\":{},\"id\":\"4761\",\"type\":\"PanTool\"},{\"attributes\":{},\"id\":\"4963\",\"type\":\"BasicTickFormatter\"},{\"attributes\":{},\"id\":\"4967\",\"type\":\"UnionRenderers\"},{\"attributes\":{},\"id\":\"4968\",\"type\":\"Selection\"}],\"root_ids\":[\"4742\"]},\"title\":\"Bokeh Application\",\"version\":\"1.0.3\"}};\n",
       "  var render_items = [{\"docid\":\"c0ab87bd-84c9-4bd0-882a-764b64b39dad\",\"roots\":{\"4742\":\"a8baaae6-8f75-4197-b26b-d3e4c1cd06a5\"}}];\n",
       "  root.Bokeh.embed.embed_items_notebook(docs_json, render_items);\n",
       "\n",
       "  }\n",
       "  if (root.Bokeh !== undefined) {\n",
       "    embed_document(root);\n",
       "  } else {\n",
       "    var attempts = 0;\n",
       "    var timer = setInterval(function(root) {\n",
       "      if (root.Bokeh !== undefined) {\n",
       "        embed_document(root);\n",
       "        clearInterval(timer);\n",
       "      }\n",
       "      attempts++;\n",
       "      if (attempts > 100) {\n",
       "        console.log(\"Bokeh: ERROR: Unable to run BokehJS code because BokehJS library is missing\");\n",
       "        clearInterval(timer);\n",
       "      }\n",
       "    }, 10, root)\n",
       "  }\n",
       "})(window);"
      ],
      "application/vnd.bokehjs_exec.v0+json": ""
     },
     "metadata": {
      "application/vnd.bokehjs_exec.v0+json": {
       "id": "4742"
      }
     },
     "output_type": "display_data"
    }
   ],
   "source": [
    "# Quad\n",
    "plot = figure(plot_width=300, plot_height=300)\n",
    "plot.quad(top=[2, 3, 4], bottom=[1, 2, 3], left=[1, 2, 3],\n",
    "          right=[1.2, 2.5, 3.7], color=\"#B3DE69\")\n",
    "\n",
    "show(plot)"
   ]
  },
  {
   "cell_type": "code",
   "execution_count": 23,
   "metadata": {},
   "outputs": [
    {
     "data": {
      "text/html": [
       "\n",
       "\n",
       "\n",
       "\n",
       "\n",
       "\n",
       "  <div class=\"bk-root\" id=\"d448ee3a-7a5b-4ee4-a33f-23c59ae46741\" data-root-id=\"5023\"></div>\n"
      ]
     },
     "metadata": {},
     "output_type": "display_data"
    },
    {
     "data": {
      "application/javascript": [
       "(function(root) {\n",
       "  function embed_document(root) {\n",
       "    \n",
       "  var docs_json = {\"4fd24eda-7e94-4c46-bfcb-02ec748580d6\":{\"roots\":{\"references\":[{\"attributes\":{\"below\":[{\"id\":\"5032\",\"type\":\"LinearAxis\"}],\"left\":[{\"id\":\"5037\",\"type\":\"LinearAxis\"}],\"plot_height\":300,\"plot_width\":300,\"renderers\":[{\"id\":\"5032\",\"type\":\"LinearAxis\"},{\"id\":\"5036\",\"type\":\"Grid\"},{\"id\":\"5037\",\"type\":\"LinearAxis\"},{\"id\":\"5041\",\"type\":\"Grid\"},{\"id\":\"5050\",\"type\":\"BoxAnnotation\"},{\"id\":\"5060\",\"type\":\"GlyphRenderer\"}],\"title\":{\"id\":\"5250\",\"type\":\"Title\"},\"toolbar\":{\"id\":\"5048\",\"type\":\"Toolbar\"},\"x_range\":{\"id\":\"5024\",\"type\":\"DataRange1d\"},\"x_scale\":{\"id\":\"5028\",\"type\":\"LinearScale\"},\"y_range\":{\"id\":\"5026\",\"type\":\"DataRange1d\"},\"y_scale\":{\"id\":\"5030\",\"type\":\"LinearScale\"}},\"id\":\"5023\",\"subtype\":\"Figure\",\"type\":\"Plot\"},{\"attributes\":{\"formatter\":{\"id\":\"5253\",\"type\":\"BasicTickFormatter\"},\"plot\":{\"id\":\"5023\",\"subtype\":\"Figure\",\"type\":\"Plot\"},\"ticker\":{\"id\":\"5038\",\"type\":\"BasicTicker\"}},\"id\":\"5037\",\"type\":\"LinearAxis\"},{\"attributes\":{\"formatter\":{\"id\":\"5255\",\"type\":\"BasicTickFormatter\"},\"plot\":{\"id\":\"5023\",\"subtype\":\"Figure\",\"type\":\"Plot\"},\"ticker\":{\"id\":\"5033\",\"type\":\"BasicTicker\"}},\"id\":\"5032\",\"type\":\"LinearAxis\"},{\"attributes\":{\"plot\":null,\"text\":\"\"},\"id\":\"5250\",\"type\":\"Title\"},{\"attributes\":{},\"id\":\"5047\",\"type\":\"HelpTool\"},{\"attributes\":{\"callback\":null},\"id\":\"5026\",\"type\":\"DataRange1d\"},{\"attributes\":{},\"id\":\"5045\",\"type\":\"SaveTool\"},{\"attributes\":{\"source\":{\"id\":\"5057\",\"type\":\"ColumnDataSource\"}},\"id\":\"5061\",\"type\":\"CDSView\"},{\"attributes\":{},\"id\":\"5043\",\"type\":\"WheelZoomTool\"},{\"attributes\":{\"active_drag\":\"auto\",\"active_inspect\":\"auto\",\"active_multi\":null,\"active_scroll\":\"auto\",\"active_tap\":\"auto\",\"tools\":[{\"id\":\"5042\",\"type\":\"PanTool\"},{\"id\":\"5043\",\"type\":\"WheelZoomTool\"},{\"id\":\"5044\",\"type\":\"BoxZoomTool\"},{\"id\":\"5045\",\"type\":\"SaveTool\"},{\"id\":\"5046\",\"type\":\"ResetTool\"},{\"id\":\"5047\",\"type\":\"HelpTool\"}]},\"id\":\"5048\",\"type\":\"Toolbar\"},{\"attributes\":{},\"id\":\"5028\",\"type\":\"LinearScale\"},{\"attributes\":{\"data_source\":{\"id\":\"5057\",\"type\":\"ColumnDataSource\"},\"glyph\":{\"id\":\"5058\",\"type\":\"Ray\"},\"hover_glyph\":null,\"muted_glyph\":null,\"nonselection_glyph\":{\"id\":\"5059\",\"type\":\"Ray\"},\"selection_glyph\":null,\"view\":{\"id\":\"5061\",\"type\":\"CDSView\"}},\"id\":\"5060\",\"type\":\"GlyphRenderer\"},{\"attributes\":{},\"id\":\"5038\",\"type\":\"BasicTicker\"},{\"attributes\":{},\"id\":\"5258\",\"type\":\"Selection\"},{\"attributes\":{},\"id\":\"5042\",\"type\":\"PanTool\"},{\"attributes\":{\"bottom_units\":\"screen\",\"fill_alpha\":{\"value\":0.5},\"fill_color\":{\"value\":\"lightgrey\"},\"left_units\":\"screen\",\"level\":\"overlay\",\"line_alpha\":{\"value\":1.0},\"line_color\":{\"value\":\"black\"},\"line_dash\":[4,4],\"line_width\":{\"value\":2},\"plot\":null,\"render_mode\":\"css\",\"right_units\":\"screen\",\"top_units\":\"screen\"},\"id\":\"5050\",\"type\":\"BoxAnnotation\"},{\"attributes\":{},\"id\":\"5046\",\"type\":\"ResetTool\"},{\"attributes\":{\"callback\":null,\"data\":{\"x\":[1,2,3],\"y\":[1,2,3]},\"selected\":{\"id\":\"5258\",\"type\":\"Selection\"},\"selection_policy\":{\"id\":\"5257\",\"type\":\"UnionRenderers\"}},\"id\":\"5057\",\"type\":\"ColumnDataSource\"},{\"attributes\":{},\"id\":\"5253\",\"type\":\"BasicTickFormatter\"},{\"attributes\":{},\"id\":\"5033\",\"type\":\"BasicTicker\"},{\"attributes\":{\"plot\":{\"id\":\"5023\",\"subtype\":\"Figure\",\"type\":\"Plot\"},\"ticker\":{\"id\":\"5033\",\"type\":\"BasicTicker\"}},\"id\":\"5036\",\"type\":\"Grid\"},{\"attributes\":{},\"id\":\"5255\",\"type\":\"BasicTickFormatter\"},{\"attributes\":{},\"id\":\"5257\",\"type\":\"UnionRenderers\"},{\"attributes\":{\"callback\":null},\"id\":\"5024\",\"type\":\"DataRange1d\"},{\"attributes\":{\"angle\":{\"units\":\"rad\",\"value\":-0.7},\"length\":{\"units\":\"data\",\"value\":45},\"line_color\":{\"value\":\"#FB8072\"},\"line_width\":{\"value\":2},\"x\":{\"field\":\"x\"},\"y\":{\"field\":\"y\"}},\"id\":\"5058\",\"type\":\"Ray\"},{\"attributes\":{\"angle\":{\"units\":\"rad\",\"value\":-0.7},\"length\":{\"units\":\"data\",\"value\":45},\"line_alpha\":{\"value\":0.1},\"line_color\":{\"value\":\"#1f77b4\"},\"line_width\":{\"value\":2},\"x\":{\"field\":\"x\"},\"y\":{\"field\":\"y\"}},\"id\":\"5059\",\"type\":\"Ray\"},{\"attributes\":{},\"id\":\"5030\",\"type\":\"LinearScale\"},{\"attributes\":{\"dimension\":1,\"plot\":{\"id\":\"5023\",\"subtype\":\"Figure\",\"type\":\"Plot\"},\"ticker\":{\"id\":\"5038\",\"type\":\"BasicTicker\"}},\"id\":\"5041\",\"type\":\"Grid\"},{\"attributes\":{\"overlay\":{\"id\":\"5050\",\"type\":\"BoxAnnotation\"}},\"id\":\"5044\",\"type\":\"BoxZoomTool\"}],\"root_ids\":[\"5023\"]},\"title\":\"Bokeh Application\",\"version\":\"1.0.3\"}};\n",
       "  var render_items = [{\"docid\":\"4fd24eda-7e94-4c46-bfcb-02ec748580d6\",\"roots\":{\"5023\":\"d448ee3a-7a5b-4ee4-a33f-23c59ae46741\"}}];\n",
       "  root.Bokeh.embed.embed_items_notebook(docs_json, render_items);\n",
       "\n",
       "  }\n",
       "  if (root.Bokeh !== undefined) {\n",
       "    embed_document(root);\n",
       "  } else {\n",
       "    var attempts = 0;\n",
       "    var timer = setInterval(function(root) {\n",
       "      if (root.Bokeh !== undefined) {\n",
       "        embed_document(root);\n",
       "        clearInterval(timer);\n",
       "      }\n",
       "      attempts++;\n",
       "      if (attempts > 100) {\n",
       "        console.log(\"Bokeh: ERROR: Unable to run BokehJS code because BokehJS library is missing\");\n",
       "        clearInterval(timer);\n",
       "      }\n",
       "    }, 10, root)\n",
       "  }\n",
       "})(window);"
      ],
      "application/vnd.bokehjs_exec.v0+json": ""
     },
     "metadata": {
      "application/vnd.bokehjs_exec.v0+json": {
       "id": "5023"
      }
     },
     "output_type": "display_data"
    }
   ],
   "source": [
    "# Ray\n",
    "plot = figure(plot_width=300, plot_height=300)\n",
    "plot.ray(x=[1, 2, 3], y=[1, 2, 3], length=45, angle=-0.7, color=\"#FB8072\",\n",
    "         line_width=2)\n",
    "\n",
    "show(plot)"
   ]
  },
  {
   "cell_type": "code",
   "execution_count": 24,
   "metadata": {},
   "outputs": [
    {
     "data": {
      "text/html": [
       "\n",
       "\n",
       "\n",
       "\n",
       "\n",
       "\n",
       "  <div class=\"bk-root\" id=\"3922d225-230e-4d72-96ee-f6b8a4a11f87\" data-root-id=\"5313\"></div>\n"
      ]
     },
     "metadata": {},
     "output_type": "display_data"
    },
    {
     "data": {
      "application/javascript": [
       "(function(root) {\n",
       "  function embed_document(root) {\n",
       "    \n",
       "  var docs_json = {\"c10535fe-f1b1-4aad-ad58-047831490004\":{\"roots\":{\"references\":[{\"attributes\":{\"below\":[{\"id\":\"5322\",\"type\":\"LinearAxis\"}],\"left\":[{\"id\":\"5327\",\"type\":\"LinearAxis\"}],\"plot_height\":300,\"plot_width\":300,\"renderers\":[{\"id\":\"5322\",\"type\":\"LinearAxis\"},{\"id\":\"5326\",\"type\":\"Grid\"},{\"id\":\"5327\",\"type\":\"LinearAxis\"},{\"id\":\"5331\",\"type\":\"Grid\"},{\"id\":\"5340\",\"type\":\"BoxAnnotation\"},{\"id\":\"5350\",\"type\":\"GlyphRenderer\"}],\"title\":{\"id\":\"5549\",\"type\":\"Title\"},\"toolbar\":{\"id\":\"5338\",\"type\":\"Toolbar\"},\"x_range\":{\"id\":\"5314\",\"type\":\"DataRange1d\"},\"x_scale\":{\"id\":\"5318\",\"type\":\"LinearScale\"},\"y_range\":{\"id\":\"5316\",\"type\":\"DataRange1d\"},\"y_scale\":{\"id\":\"5320\",\"type\":\"LinearScale\"}},\"id\":\"5313\",\"subtype\":\"Figure\",\"type\":\"Plot\"},{\"attributes\":{\"bottom_units\":\"screen\",\"fill_alpha\":{\"value\":0.5},\"fill_color\":{\"value\":\"lightgrey\"},\"left_units\":\"screen\",\"level\":\"overlay\",\"line_alpha\":{\"value\":1.0},\"line_color\":{\"value\":\"black\"},\"line_dash\":[4,4],\"line_width\":{\"value\":2},\"plot\":null,\"render_mode\":\"css\",\"right_units\":\"screen\",\"top_units\":\"screen\"},\"id\":\"5340\",\"type\":\"BoxAnnotation\"},{\"attributes\":{\"callback\":null},\"id\":\"5314\",\"type\":\"DataRange1d\"},{\"attributes\":{\"data_source\":{\"id\":\"5347\",\"type\":\"ColumnDataSource\"},\"glyph\":{\"id\":\"5348\",\"type\":\"Rect\"},\"hover_glyph\":null,\"muted_glyph\":null,\"nonselection_glyph\":{\"id\":\"5349\",\"type\":\"Rect\"},\"selection_glyph\":null,\"view\":{\"id\":\"5351\",\"type\":\"CDSView\"}},\"id\":\"5350\",\"type\":\"GlyphRenderer\"},{\"attributes\":{\"source\":{\"id\":\"5347\",\"type\":\"ColumnDataSource\"}},\"id\":\"5351\",\"type\":\"CDSView\"},{\"attributes\":{\"fill_color\":{\"value\":\"#CAB2D6\"},\"height\":{\"units\":\"screen\",\"value\":20},\"line_color\":{\"value\":\"#CAB2D6\"},\"width\":{\"units\":\"screen\",\"value\":10},\"x\":{\"field\":\"x\"},\"y\":{\"field\":\"y\"}},\"id\":\"5348\",\"type\":\"Rect\"},{\"attributes\":{},\"id\":\"5318\",\"type\":\"LinearScale\"},{\"attributes\":{\"formatter\":{\"id\":\"5554\",\"type\":\"BasicTickFormatter\"},\"plot\":{\"id\":\"5313\",\"subtype\":\"Figure\",\"type\":\"Plot\"},\"ticker\":{\"id\":\"5323\",\"type\":\"BasicTicker\"}},\"id\":\"5322\",\"type\":\"LinearAxis\"},{\"attributes\":{},\"id\":\"5556\",\"type\":\"UnionRenderers\"},{\"attributes\":{},\"id\":\"5323\",\"type\":\"BasicTicker\"},{\"attributes\":{},\"id\":\"5320\",\"type\":\"LinearScale\"},{\"attributes\":{},\"id\":\"5557\",\"type\":\"Selection\"},{\"attributes\":{\"callback\":null},\"id\":\"5316\",\"type\":\"DataRange1d\"},{\"attributes\":{\"plot\":null,\"text\":\"\"},\"id\":\"5549\",\"type\":\"Title\"},{\"attributes\":{\"plot\":{\"id\":\"5313\",\"subtype\":\"Figure\",\"type\":\"Plot\"},\"ticker\":{\"id\":\"5323\",\"type\":\"BasicTicker\"}},\"id\":\"5326\",\"type\":\"Grid\"},{\"attributes\":{\"formatter\":{\"id\":\"5552\",\"type\":\"BasicTickFormatter\"},\"plot\":{\"id\":\"5313\",\"subtype\":\"Figure\",\"type\":\"Plot\"},\"ticker\":{\"id\":\"5328\",\"type\":\"BasicTicker\"}},\"id\":\"5327\",\"type\":\"LinearAxis\"},{\"attributes\":{\"active_drag\":\"auto\",\"active_inspect\":\"auto\",\"active_multi\":null,\"active_scroll\":\"auto\",\"active_tap\":\"auto\",\"tools\":[{\"id\":\"5332\",\"type\":\"PanTool\"},{\"id\":\"5333\",\"type\":\"WheelZoomTool\"},{\"id\":\"5334\",\"type\":\"BoxZoomTool\"},{\"id\":\"5335\",\"type\":\"SaveTool\"},{\"id\":\"5336\",\"type\":\"ResetTool\"},{\"id\":\"5337\",\"type\":\"HelpTool\"}]},\"id\":\"5338\",\"type\":\"Toolbar\"},{\"attributes\":{\"dimension\":1,\"plot\":{\"id\":\"5313\",\"subtype\":\"Figure\",\"type\":\"Plot\"},\"ticker\":{\"id\":\"5328\",\"type\":\"BasicTicker\"}},\"id\":\"5331\",\"type\":\"Grid\"},{\"attributes\":{},\"id\":\"5328\",\"type\":\"BasicTicker\"},{\"attributes\":{\"callback\":null,\"data\":{\"x\":[1,2,3],\"y\":[1,2,3]},\"selected\":{\"id\":\"5557\",\"type\":\"Selection\"},\"selection_policy\":{\"id\":\"5556\",\"type\":\"UnionRenderers\"}},\"id\":\"5347\",\"type\":\"ColumnDataSource\"},{\"attributes\":{},\"id\":\"5554\",\"type\":\"BasicTickFormatter\"},{\"attributes\":{},\"id\":\"5332\",\"type\":\"PanTool\"},{\"attributes\":{\"overlay\":{\"id\":\"5340\",\"type\":\"BoxAnnotation\"}},\"id\":\"5334\",\"type\":\"BoxZoomTool\"},{\"attributes\":{},\"id\":\"5335\",\"type\":\"SaveTool\"},{\"attributes\":{},\"id\":\"5333\",\"type\":\"WheelZoomTool\"},{\"attributes\":{},\"id\":\"5337\",\"type\":\"HelpTool\"},{\"attributes\":{},\"id\":\"5552\",\"type\":\"BasicTickFormatter\"},{\"attributes\":{\"fill_alpha\":{\"value\":0.1},\"fill_color\":{\"value\":\"#1f77b4\"},\"height\":{\"units\":\"screen\",\"value\":20},\"line_alpha\":{\"value\":0.1},\"line_color\":{\"value\":\"#1f77b4\"},\"width\":{\"units\":\"screen\",\"value\":10},\"x\":{\"field\":\"x\"},\"y\":{\"field\":\"y\"}},\"id\":\"5349\",\"type\":\"Rect\"},{\"attributes\":{},\"id\":\"5336\",\"type\":\"ResetTool\"}],\"root_ids\":[\"5313\"]},\"title\":\"Bokeh Application\",\"version\":\"1.0.3\"}};\n",
       "  var render_items = [{\"docid\":\"c10535fe-f1b1-4aad-ad58-047831490004\",\"roots\":{\"5313\":\"3922d225-230e-4d72-96ee-f6b8a4a11f87\"}}];\n",
       "  root.Bokeh.embed.embed_items_notebook(docs_json, render_items);\n",
       "\n",
       "  }\n",
       "  if (root.Bokeh !== undefined) {\n",
       "    embed_document(root);\n",
       "  } else {\n",
       "    var attempts = 0;\n",
       "    var timer = setInterval(function(root) {\n",
       "      if (root.Bokeh !== undefined) {\n",
       "        embed_document(root);\n",
       "        clearInterval(timer);\n",
       "      }\n",
       "      attempts++;\n",
       "      if (attempts > 100) {\n",
       "        console.log(\"Bokeh: ERROR: Unable to run BokehJS code because BokehJS library is missing\");\n",
       "        clearInterval(timer);\n",
       "      }\n",
       "    }, 10, root)\n",
       "  }\n",
       "})(window);"
      ],
      "application/vnd.bokehjs_exec.v0+json": ""
     },
     "metadata": {
      "application/vnd.bokehjs_exec.v0+json": {
       "id": "5313"
      }
     },
     "output_type": "display_data"
    }
   ],
   "source": [
    "# Rect\n",
    "plot = figure(plot_width=300, plot_height=300)\n",
    "plot.rect(x=[1, 2, 3], y=[1, 2, 3], width=10, height=20, color=\"#CAB2D6\",\n",
    "          width_units=\"screen\", height_units=\"screen\")\n",
    "\n",
    "show(plot)\n"
   ]
  },
  {
   "cell_type": "code",
   "execution_count": 25,
   "metadata": {},
   "outputs": [
    {
     "data": {
      "text/html": [
       "\n",
       "\n",
       "\n",
       "\n",
       "\n",
       "\n",
       "  <div class=\"bk-root\" id=\"c632162f-f477-4cec-8c0b-f96e659433bc\" data-root-id=\"5612\"></div>\n"
      ]
     },
     "metadata": {},
     "output_type": "display_data"
    },
    {
     "data": {
      "application/javascript": [
       "(function(root) {\n",
       "  function embed_document(root) {\n",
       "    \n",
       "  var docs_json = {\"92a8b74e-9427-4358-8590-8b250ad27ffa\":{\"roots\":{\"references\":[{\"attributes\":{\"below\":[{\"id\":\"5621\",\"type\":\"LinearAxis\"}],\"left\":[{\"id\":\"5626\",\"type\":\"LinearAxis\"}],\"plot_height\":300,\"plot_width\":300,\"renderers\":[{\"id\":\"5621\",\"type\":\"LinearAxis\"},{\"id\":\"5625\",\"type\":\"Grid\"},{\"id\":\"5626\",\"type\":\"LinearAxis\"},{\"id\":\"5630\",\"type\":\"Grid\"},{\"id\":\"5639\",\"type\":\"BoxAnnotation\"},{\"id\":\"5649\",\"type\":\"GlyphRenderer\"}],\"title\":{\"id\":\"5857\",\"type\":\"Title\"},\"toolbar\":{\"id\":\"5637\",\"type\":\"Toolbar\"},\"x_range\":{\"id\":\"5613\",\"type\":\"DataRange1d\"},\"x_scale\":{\"id\":\"5617\",\"type\":\"LinearScale\"},\"y_range\":{\"id\":\"5615\",\"type\":\"DataRange1d\"},\"y_scale\":{\"id\":\"5619\",\"type\":\"LinearScale\"}},\"id\":\"5612\",\"subtype\":\"Figure\",\"type\":\"Plot\"},{\"attributes\":{\"callback\":null},\"id\":\"5615\",\"type\":\"DataRange1d\"},{\"attributes\":{},\"id\":\"5631\",\"type\":\"PanTool\"},{\"attributes\":{\"callback\":null},\"id\":\"5613\",\"type\":\"DataRange1d\"},{\"attributes\":{},\"id\":\"5632\",\"type\":\"WheelZoomTool\"},{\"attributes\":{},\"id\":\"5617\",\"type\":\"LinearScale\"},{\"attributes\":{\"overlay\":{\"id\":\"5639\",\"type\":\"BoxAnnotation\"}},\"id\":\"5633\",\"type\":\"BoxZoomTool\"},{\"attributes\":{},\"id\":\"5619\",\"type\":\"LinearScale\"},{\"attributes\":{},\"id\":\"5634\",\"type\":\"SaveTool\"},{\"attributes\":{\"callback\":null,\"data\":{\"x\":[1,2,3,4,5],\"y\":[1,2,3,2,5]},\"selected\":{\"id\":\"5865\",\"type\":\"Selection\"},\"selection_policy\":{\"id\":\"5864\",\"type\":\"UnionRenderers\"}},\"id\":\"5646\",\"type\":\"ColumnDataSource\"},{\"attributes\":{},\"id\":\"5635\",\"type\":\"ResetTool\"},{\"attributes\":{},\"id\":\"5636\",\"type\":\"HelpTool\"},{\"attributes\":{},\"id\":\"5622\",\"type\":\"BasicTicker\"},{\"attributes\":{\"active_drag\":\"auto\",\"active_inspect\":\"auto\",\"active_multi\":null,\"active_scroll\":\"auto\",\"active_tap\":\"auto\",\"tools\":[{\"id\":\"5631\",\"type\":\"PanTool\"},{\"id\":\"5632\",\"type\":\"WheelZoomTool\"},{\"id\":\"5633\",\"type\":\"BoxZoomTool\"},{\"id\":\"5634\",\"type\":\"SaveTool\"},{\"id\":\"5635\",\"type\":\"ResetTool\"},{\"id\":\"5636\",\"type\":\"HelpTool\"}]},\"id\":\"5637\",\"type\":\"Toolbar\"},{\"attributes\":{\"data_source\":{\"id\":\"5646\",\"type\":\"ColumnDataSource\"},\"glyph\":{\"id\":\"5647\",\"type\":\"Step\"},\"hover_glyph\":null,\"muted_glyph\":null,\"nonselection_glyph\":{\"id\":\"5648\",\"type\":\"Step\"},\"selection_glyph\":null,\"view\":{\"id\":\"5650\",\"type\":\"CDSView\"}},\"id\":\"5649\",\"type\":\"GlyphRenderer\"},{\"attributes\":{\"dimension\":1,\"plot\":{\"id\":\"5612\",\"subtype\":\"Figure\",\"type\":\"Plot\"},\"ticker\":{\"id\":\"5627\",\"type\":\"BasicTicker\"}},\"id\":\"5630\",\"type\":\"Grid\"},{\"attributes\":{\"bottom_units\":\"screen\",\"fill_alpha\":{\"value\":0.5},\"fill_color\":{\"value\":\"lightgrey\"},\"left_units\":\"screen\",\"level\":\"overlay\",\"line_alpha\":{\"value\":1.0},\"line_color\":{\"value\":\"black\"},\"line_dash\":[4,4],\"line_width\":{\"value\":2},\"plot\":null,\"render_mode\":\"css\",\"right_units\":\"screen\",\"top_units\":\"screen\"},\"id\":\"5639\",\"type\":\"BoxAnnotation\"},{\"attributes\":{},\"id\":\"5627\",\"type\":\"BasicTicker\"},{\"attributes\":{\"source\":{\"id\":\"5646\",\"type\":\"ColumnDataSource\"}},\"id\":\"5650\",\"type\":\"CDSView\"},{\"attributes\":{\"formatter\":{\"id\":\"5860\",\"type\":\"BasicTickFormatter\"},\"plot\":{\"id\":\"5612\",\"subtype\":\"Figure\",\"type\":\"Plot\"},\"ticker\":{\"id\":\"5627\",\"type\":\"BasicTicker\"}},\"id\":\"5626\",\"type\":\"LinearAxis\"},{\"attributes\":{},\"id\":\"5860\",\"type\":\"BasicTickFormatter\"},{\"attributes\":{},\"id\":\"5862\",\"type\":\"BasicTickFormatter\"},{\"attributes\":{\"plot\":{\"id\":\"5612\",\"subtype\":\"Figure\",\"type\":\"Plot\"},\"ticker\":{\"id\":\"5622\",\"type\":\"BasicTicker\"}},\"id\":\"5625\",\"type\":\"Grid\"},{\"attributes\":{\"formatter\":{\"id\":\"5862\",\"type\":\"BasicTickFormatter\"},\"plot\":{\"id\":\"5612\",\"subtype\":\"Figure\",\"type\":\"Plot\"},\"ticker\":{\"id\":\"5622\",\"type\":\"BasicTicker\"}},\"id\":\"5621\",\"type\":\"LinearAxis\"},{\"attributes\":{\"plot\":null,\"text\":\"\"},\"id\":\"5857\",\"type\":\"Title\"},{\"attributes\":{\"line_alpha\":{\"value\":0.1},\"line_color\":{\"value\":\"#1f77b4\"},\"x\":{\"field\":\"x\"},\"y\":{\"field\":\"y\"}},\"id\":\"5648\",\"type\":\"Step\"},{\"attributes\":{},\"id\":\"5865\",\"type\":\"Selection\"},{\"attributes\":{},\"id\":\"5864\",\"type\":\"UnionRenderers\"},{\"attributes\":{\"line_color\":{\"value\":\"#FB8072\"},\"x\":{\"field\":\"x\"},\"y\":{\"field\":\"y\"}},\"id\":\"5647\",\"type\":\"Step\"}],\"root_ids\":[\"5612\"]},\"title\":\"Bokeh Application\",\"version\":\"1.0.3\"}};\n",
       "  var render_items = [{\"docid\":\"92a8b74e-9427-4358-8590-8b250ad27ffa\",\"roots\":{\"5612\":\"c632162f-f477-4cec-8c0b-f96e659433bc\"}}];\n",
       "  root.Bokeh.embed.embed_items_notebook(docs_json, render_items);\n",
       "\n",
       "  }\n",
       "  if (root.Bokeh !== undefined) {\n",
       "    embed_document(root);\n",
       "  } else {\n",
       "    var attempts = 0;\n",
       "    var timer = setInterval(function(root) {\n",
       "      if (root.Bokeh !== undefined) {\n",
       "        embed_document(root);\n",
       "        clearInterval(timer);\n",
       "      }\n",
       "      attempts++;\n",
       "      if (attempts > 100) {\n",
       "        console.log(\"Bokeh: ERROR: Unable to run BokehJS code because BokehJS library is missing\");\n",
       "        clearInterval(timer);\n",
       "      }\n",
       "    }, 10, root)\n",
       "  }\n",
       "})(window);"
      ],
      "application/vnd.bokehjs_exec.v0+json": ""
     },
     "metadata": {
      "application/vnd.bokehjs_exec.v0+json": {
       "id": "5612"
      }
     },
     "output_type": "display_data"
    }
   ],
   "source": [
    "# Step\n",
    "plot = figure(plot_width=300, plot_height=300)\n",
    "plot.step(x=[1, 2, 3, 4, 5], y=[1, 2, 3, 2, 5], color=\"#FB8072\")\n",
    "\n",
    "show(plot)\n"
   ]
  },
  {
   "cell_type": "code",
   "execution_count": 26,
   "metadata": {},
   "outputs": [
    {
     "data": {
      "text/html": [
       "\n",
       "\n",
       "\n",
       "\n",
       "\n",
       "\n",
       "  <div class=\"bk-root\" id=\"43a193d3-39a7-4655-b7cc-fdece7f8484f\" data-root-id=\"5920\"></div>\n"
      ]
     },
     "metadata": {},
     "output_type": "display_data"
    },
    {
     "data": {
      "application/javascript": [
       "(function(root) {\n",
       "  function embed_document(root) {\n",
       "    \n",
       "  var docs_json = {\"69e82054-26a0-4ef9-adba-25dae9c2e8df\":{\"roots\":{\"references\":[{\"attributes\":{\"below\":[{\"id\":\"5929\",\"type\":\"LinearAxis\"}],\"left\":[{\"id\":\"5934\",\"type\":\"LinearAxis\"}],\"plot_height\":300,\"plot_width\":300,\"renderers\":[{\"id\":\"5929\",\"type\":\"LinearAxis\"},{\"id\":\"5933\",\"type\":\"Grid\"},{\"id\":\"5934\",\"type\":\"LinearAxis\"},{\"id\":\"5938\",\"type\":\"Grid\"},{\"id\":\"5947\",\"type\":\"BoxAnnotation\"},{\"id\":\"5957\",\"type\":\"GlyphRenderer\"}],\"title\":{\"id\":\"6174\",\"type\":\"Title\"},\"toolbar\":{\"id\":\"5945\",\"type\":\"Toolbar\"},\"x_range\":{\"id\":\"5921\",\"type\":\"DataRange1d\"},\"x_scale\":{\"id\":\"5925\",\"type\":\"LinearScale\"},\"y_range\":{\"id\":\"5923\",\"type\":\"DataRange1d\"},\"y_scale\":{\"id\":\"5927\",\"type\":\"LinearScale\"}},\"id\":\"5920\",\"subtype\":\"Figure\",\"type\":\"Plot\"},{\"attributes\":{},\"id\":\"5939\",\"type\":\"PanTool\"},{\"attributes\":{},\"id\":\"6179\",\"type\":\"BasicTickFormatter\"},{\"attributes\":{},\"id\":\"6177\",\"type\":\"BasicTickFormatter\"},{\"attributes\":{\"overlay\":{\"id\":\"5947\",\"type\":\"BoxAnnotation\"}},\"id\":\"5941\",\"type\":\"BoxZoomTool\"},{\"attributes\":{},\"id\":\"5942\",\"type\":\"SaveTool\"},{\"attributes\":{\"plot\":{\"id\":\"5920\",\"subtype\":\"Figure\",\"type\":\"Plot\"},\"ticker\":{\"id\":\"5930\",\"type\":\"BasicTicker\"}},\"id\":\"5933\",\"type\":\"Grid\"},{\"attributes\":{},\"id\":\"5930\",\"type\":\"BasicTicker\"},{\"attributes\":{\"data_source\":{\"id\":\"5954\",\"type\":\"ColumnDataSource\"},\"glyph\":{\"id\":\"5955\",\"type\":\"Segment\"},\"hover_glyph\":null,\"muted_glyph\":null,\"nonselection_glyph\":{\"id\":\"5956\",\"type\":\"Segment\"},\"selection_glyph\":null,\"view\":{\"id\":\"5958\",\"type\":\"CDSView\"}},\"id\":\"5957\",\"type\":\"GlyphRenderer\"},{\"attributes\":{},\"id\":\"5944\",\"type\":\"HelpTool\"},{\"attributes\":{\"bottom_units\":\"screen\",\"fill_alpha\":{\"value\":0.5},\"fill_color\":{\"value\":\"lightgrey\"},\"left_units\":\"screen\",\"level\":\"overlay\",\"line_alpha\":{\"value\":1.0},\"line_color\":{\"value\":\"black\"},\"line_dash\":[4,4],\"line_width\":{\"value\":2},\"plot\":null,\"render_mode\":\"css\",\"right_units\":\"screen\",\"top_units\":\"screen\"},\"id\":\"5947\",\"type\":\"BoxAnnotation\"},{\"attributes\":{},\"id\":\"5943\",\"type\":\"ResetTool\"},{\"attributes\":{\"line_color\":{\"value\":\"#F4A582\"},\"line_width\":{\"value\":3},\"x0\":{\"field\":\"x0\"},\"x1\":{\"field\":\"x1\"},\"y0\":{\"field\":\"y0\"},\"y1\":{\"field\":\"y1\"}},\"id\":\"5955\",\"type\":\"Segment\"},{\"attributes\":{\"formatter\":{\"id\":\"6177\",\"type\":\"BasicTickFormatter\"},\"plot\":{\"id\":\"5920\",\"subtype\":\"Figure\",\"type\":\"Plot\"},\"ticker\":{\"id\":\"5935\",\"type\":\"BasicTicker\"}},\"id\":\"5934\",\"type\":\"LinearAxis\"},{\"attributes\":{\"source\":{\"id\":\"5954\",\"type\":\"ColumnDataSource\"}},\"id\":\"5958\",\"type\":\"CDSView\"},{\"attributes\":{},\"id\":\"6182\",\"type\":\"Selection\"},{\"attributes\":{\"line_alpha\":{\"value\":0.1},\"line_color\":{\"value\":\"#1f77b4\"},\"line_width\":{\"value\":3},\"x0\":{\"field\":\"x0\"},\"x1\":{\"field\":\"x1\"},\"y0\":{\"field\":\"y0\"},\"y1\":{\"field\":\"y1\"}},\"id\":\"5956\",\"type\":\"Segment\"},{\"attributes\":{\"active_drag\":\"auto\",\"active_inspect\":\"auto\",\"active_multi\":null,\"active_scroll\":\"auto\",\"active_tap\":\"auto\",\"tools\":[{\"id\":\"5939\",\"type\":\"PanTool\"},{\"id\":\"5940\",\"type\":\"WheelZoomTool\"},{\"id\":\"5941\",\"type\":\"BoxZoomTool\"},{\"id\":\"5942\",\"type\":\"SaveTool\"},{\"id\":\"5943\",\"type\":\"ResetTool\"},{\"id\":\"5944\",\"type\":\"HelpTool\"}]},\"id\":\"5945\",\"type\":\"Toolbar\"},{\"attributes\":{},\"id\":\"5925\",\"type\":\"LinearScale\"},{\"attributes\":{\"callback\":null,\"data\":{\"x0\":[1,2,3],\"x1\":[1,2,3],\"y0\":[1,2,3],\"y1\":[1.2,2.5,3.7]},\"selected\":{\"id\":\"6182\",\"type\":\"Selection\"},\"selection_policy\":{\"id\":\"6181\",\"type\":\"UnionRenderers\"}},\"id\":\"5954\",\"type\":\"ColumnDataSource\"},{\"attributes\":{},\"id\":\"5940\",\"type\":\"WheelZoomTool\"},{\"attributes\":{\"callback\":null},\"id\":\"5923\",\"type\":\"DataRange1d\"},{\"attributes\":{},\"id\":\"5935\",\"type\":\"BasicTicker\"},{\"attributes\":{\"dimension\":1,\"plot\":{\"id\":\"5920\",\"subtype\":\"Figure\",\"type\":\"Plot\"},\"ticker\":{\"id\":\"5935\",\"type\":\"BasicTicker\"}},\"id\":\"5938\",\"type\":\"Grid\"},{\"attributes\":{\"plot\":null,\"text\":\"\"},\"id\":\"6174\",\"type\":\"Title\"},{\"attributes\":{\"callback\":null},\"id\":\"5921\",\"type\":\"DataRange1d\"},{\"attributes\":{},\"id\":\"6181\",\"type\":\"UnionRenderers\"},{\"attributes\":{\"formatter\":{\"id\":\"6179\",\"type\":\"BasicTickFormatter\"},\"plot\":{\"id\":\"5920\",\"subtype\":\"Figure\",\"type\":\"Plot\"},\"ticker\":{\"id\":\"5930\",\"type\":\"BasicTicker\"}},\"id\":\"5929\",\"type\":\"LinearAxis\"},{\"attributes\":{},\"id\":\"5927\",\"type\":\"LinearScale\"}],\"root_ids\":[\"5920\"]},\"title\":\"Bokeh Application\",\"version\":\"1.0.3\"}};\n",
       "  var render_items = [{\"docid\":\"69e82054-26a0-4ef9-adba-25dae9c2e8df\",\"roots\":{\"5920\":\"43a193d3-39a7-4655-b7cc-fdece7f8484f\"}}];\n",
       "  root.Bokeh.embed.embed_items_notebook(docs_json, render_items);\n",
       "\n",
       "  }\n",
       "  if (root.Bokeh !== undefined) {\n",
       "    embed_document(root);\n",
       "  } else {\n",
       "    var attempts = 0;\n",
       "    var timer = setInterval(function(root) {\n",
       "      if (root.Bokeh !== undefined) {\n",
       "        embed_document(root);\n",
       "        clearInterval(timer);\n",
       "      }\n",
       "      attempts++;\n",
       "      if (attempts > 100) {\n",
       "        console.log(\"Bokeh: ERROR: Unable to run BokehJS code because BokehJS library is missing\");\n",
       "        clearInterval(timer);\n",
       "      }\n",
       "    }, 10, root)\n",
       "  }\n",
       "})(window);"
      ],
      "application/vnd.bokehjs_exec.v0+json": ""
     },
     "metadata": {
      "application/vnd.bokehjs_exec.v0+json": {
       "id": "5920"
      }
     },
     "output_type": "display_data"
    }
   ],
   "source": [
    "# Segment\n",
    "plot = figure(plot_width=300, plot_height=300)\n",
    "plot.segment(x0=[1, 2, 3], y0=[1, 2, 3], x1=[1, 2, 3],\n",
    "             y1=[1.2, 2.5, 3.7], color=\"#F4A582\",\n",
    "             line_width=3)\n",
    "\n",
    "show(plot)\n"
   ]
  },
  {
   "cell_type": "code",
   "execution_count": 27,
   "metadata": {},
   "outputs": [
    {
     "data": {
      "text/html": [
       "\n",
       "\n",
       "\n",
       "\n",
       "\n",
       "\n",
       "  <div class=\"bk-root\" id=\"c16b480d-b096-47aa-99f1-7c2888b36e4d\" data-root-id=\"6237\"></div>\n"
      ]
     },
     "metadata": {},
     "output_type": "display_data"
    },
    {
     "data": {
      "application/javascript": [
       "(function(root) {\n",
       "  function embed_document(root) {\n",
       "    \n",
       "  var docs_json = {\"8f626690-c924-4bb3-b8be-ff9c805f4ed9\":{\"roots\":{\"references\":[{\"attributes\":{\"below\":[{\"id\":\"6246\",\"type\":\"LinearAxis\"}],\"left\":[{\"id\":\"6251\",\"type\":\"LinearAxis\"}],\"plot_height\":300,\"plot_width\":300,\"renderers\":[{\"id\":\"6246\",\"type\":\"LinearAxis\"},{\"id\":\"6250\",\"type\":\"Grid\"},{\"id\":\"6251\",\"type\":\"LinearAxis\"},{\"id\":\"6255\",\"type\":\"Grid\"},{\"id\":\"6264\",\"type\":\"BoxAnnotation\"},{\"id\":\"6274\",\"type\":\"GlyphRenderer\"}],\"title\":{\"id\":\"6500\",\"type\":\"Title\"},\"toolbar\":{\"id\":\"6262\",\"type\":\"Toolbar\"},\"x_range\":{\"id\":\"6238\",\"type\":\"DataRange1d\"},\"x_scale\":{\"id\":\"6242\",\"type\":\"LinearScale\"},\"y_range\":{\"id\":\"6240\",\"type\":\"DataRange1d\"},\"y_scale\":{\"id\":\"6244\",\"type\":\"LinearScale\"}},\"id\":\"6237\",\"subtype\":\"Figure\",\"type\":\"Plot\"},{\"attributes\":{\"callback\":null},\"id\":\"6238\",\"type\":\"DataRange1d\"},{\"attributes\":{\"callback\":null},\"id\":\"6240\",\"type\":\"DataRange1d\"},{\"attributes\":{},\"id\":\"6242\",\"type\":\"LinearScale\"},{\"attributes\":{},\"id\":\"6244\",\"type\":\"LinearScale\"},{\"attributes\":{},\"id\":\"6505\",\"type\":\"BasicTickFormatter\"},{\"attributes\":{},\"id\":\"6247\",\"type\":\"BasicTicker\"},{\"attributes\":{\"formatter\":{\"id\":\"6505\",\"type\":\"BasicTickFormatter\"},\"plot\":{\"id\":\"6237\",\"subtype\":\"Figure\",\"type\":\"Plot\"},\"ticker\":{\"id\":\"6247\",\"type\":\"BasicTicker\"}},\"id\":\"6246\",\"type\":\"LinearAxis\"},{\"attributes\":{},\"id\":\"6507\",\"type\":\"UnionRenderers\"},{\"attributes\":{\"plot\":{\"id\":\"6237\",\"subtype\":\"Figure\",\"type\":\"Plot\"},\"ticker\":{\"id\":\"6247\",\"type\":\"BasicTicker\"}},\"id\":\"6250\",\"type\":\"Grid\"},{\"attributes\":{\"formatter\":{\"id\":\"6503\",\"type\":\"BasicTickFormatter\"},\"plot\":{\"id\":\"6237\",\"subtype\":\"Figure\",\"type\":\"Plot\"},\"ticker\":{\"id\":\"6252\",\"type\":\"BasicTicker\"}},\"id\":\"6251\",\"type\":\"LinearAxis\"},{\"attributes\":{},\"id\":\"6508\",\"type\":\"Selection\"},{\"attributes\":{\"active_drag\":\"auto\",\"active_inspect\":\"auto\",\"active_multi\":null,\"active_scroll\":\"auto\",\"active_tap\":\"auto\",\"tools\":[{\"id\":\"6256\",\"type\":\"PanTool\"},{\"id\":\"6257\",\"type\":\"WheelZoomTool\"},{\"id\":\"6258\",\"type\":\"BoxZoomTool\"},{\"id\":\"6259\",\"type\":\"SaveTool\"},{\"id\":\"6260\",\"type\":\"ResetTool\"},{\"id\":\"6261\",\"type\":\"HelpTool\"}]},\"id\":\"6262\",\"type\":\"Toolbar\"},{\"attributes\":{},\"id\":\"6503\",\"type\":\"BasicTickFormatter\"},{\"attributes\":{\"callback\":null,\"data\":{\"size\":[10,20,30],\"x\":[1,2,3],\"y\":[1,2,3]},\"selected\":{\"id\":\"6508\",\"type\":\"Selection\"},\"selection_policy\":{\"id\":\"6507\",\"type\":\"UnionRenderers\"}},\"id\":\"6271\",\"type\":\"ColumnDataSource\"},{\"attributes\":{\"dimension\":1,\"plot\":{\"id\":\"6237\",\"subtype\":\"Figure\",\"type\":\"Plot\"},\"ticker\":{\"id\":\"6252\",\"type\":\"BasicTicker\"}},\"id\":\"6255\",\"type\":\"Grid\"},{\"attributes\":{},\"id\":\"6252\",\"type\":\"BasicTicker\"},{\"attributes\":{},\"id\":\"6256\",\"type\":\"PanTool\"},{\"attributes\":{\"plot\":null,\"text\":\"\"},\"id\":\"6500\",\"type\":\"Title\"},{\"attributes\":{},\"id\":\"6257\",\"type\":\"WheelZoomTool\"},{\"attributes\":{\"fill_alpha\":{\"value\":0.1},\"fill_color\":{\"value\":\"#1f77b4\"},\"line_alpha\":{\"value\":0.1},\"line_color\":{\"value\":\"#1f77b4\"},\"size\":{\"field\":\"size\",\"units\":\"screen\"},\"x\":{\"field\":\"x\"},\"y\":{\"field\":\"y\"}},\"id\":\"6273\",\"type\":\"Square\"},{\"attributes\":{\"overlay\":{\"id\":\"6264\",\"type\":\"BoxAnnotation\"}},\"id\":\"6258\",\"type\":\"BoxZoomTool\"},{\"attributes\":{},\"id\":\"6259\",\"type\":\"SaveTool\"},{\"attributes\":{},\"id\":\"6260\",\"type\":\"ResetTool\"},{\"attributes\":{},\"id\":\"6261\",\"type\":\"HelpTool\"},{\"attributes\":{\"source\":{\"id\":\"6271\",\"type\":\"ColumnDataSource\"}},\"id\":\"6275\",\"type\":\"CDSView\"},{\"attributes\":{\"bottom_units\":\"screen\",\"fill_alpha\":{\"value\":0.5},\"fill_color\":{\"value\":\"lightgrey\"},\"left_units\":\"screen\",\"level\":\"overlay\",\"line_alpha\":{\"value\":1.0},\"line_color\":{\"value\":\"black\"},\"line_dash\":[4,4],\"line_width\":{\"value\":2},\"plot\":null,\"render_mode\":\"css\",\"right_units\":\"screen\",\"top_units\":\"screen\"},\"id\":\"6264\",\"type\":\"BoxAnnotation\"},{\"attributes\":{\"data_source\":{\"id\":\"6271\",\"type\":\"ColumnDataSource\"},\"glyph\":{\"id\":\"6272\",\"type\":\"Square\"},\"hover_glyph\":null,\"muted_glyph\":null,\"nonselection_glyph\":{\"id\":\"6273\",\"type\":\"Square\"},\"selection_glyph\":null,\"view\":{\"id\":\"6275\",\"type\":\"CDSView\"}},\"id\":\"6274\",\"type\":\"GlyphRenderer\"},{\"attributes\":{\"fill_color\":{\"value\":\"#74ADD1\"},\"line_color\":{\"value\":\"#74ADD1\"},\"size\":{\"field\":\"size\",\"units\":\"screen\"},\"x\":{\"field\":\"x\"},\"y\":{\"field\":\"y\"}},\"id\":\"6272\",\"type\":\"Square\"}],\"root_ids\":[\"6237\"]},\"title\":\"Bokeh Application\",\"version\":\"1.0.3\"}};\n",
       "  var render_items = [{\"docid\":\"8f626690-c924-4bb3-b8be-ff9c805f4ed9\",\"roots\":{\"6237\":\"c16b480d-b096-47aa-99f1-7c2888b36e4d\"}}];\n",
       "  root.Bokeh.embed.embed_items_notebook(docs_json, render_items);\n",
       "\n",
       "  }\n",
       "  if (root.Bokeh !== undefined) {\n",
       "    embed_document(root);\n",
       "  } else {\n",
       "    var attempts = 0;\n",
       "    var timer = setInterval(function(root) {\n",
       "      if (root.Bokeh !== undefined) {\n",
       "        embed_document(root);\n",
       "        clearInterval(timer);\n",
       "      }\n",
       "      attempts++;\n",
       "      if (attempts > 100) {\n",
       "        console.log(\"Bokeh: ERROR: Unable to run BokehJS code because BokehJS library is missing\");\n",
       "        clearInterval(timer);\n",
       "      }\n",
       "    }, 10, root)\n",
       "  }\n",
       "})(window);"
      ],
      "application/vnd.bokehjs_exec.v0+json": ""
     },
     "metadata": {
      "application/vnd.bokehjs_exec.v0+json": {
       "id": "6237"
      }
     },
     "output_type": "display_data"
    }
   ],
   "source": [
    "# Square\n",
    "plot = figure(plot_width=300, plot_height=300)\n",
    "plot.square(x=[1, 2, 3], y=[1, 2, 3], size=[10,20,30], color=\"#74ADD1\")\n",
    "\n",
    "show(plot)\n"
   ]
  },
  {
   "cell_type": "code",
   "execution_count": 28,
   "metadata": {},
   "outputs": [
    {
     "data": {
      "text/html": [
       "\n",
       "\n",
       "\n",
       "\n",
       "\n",
       "\n",
       "  <div class=\"bk-root\" id=\"52cd69ce-ccd1-4309-855c-3f6b16d19b07\" data-root-id=\"6563\"></div>\n"
      ]
     },
     "metadata": {},
     "output_type": "display_data"
    },
    {
     "data": {
      "application/javascript": [
       "(function(root) {\n",
       "  function embed_document(root) {\n",
       "    \n",
       "  var docs_json = {\"165e125d-0a4b-4b6a-a807-ecb0f5e59ec8\":{\"roots\":{\"references\":[{\"attributes\":{\"below\":[{\"id\":\"6572\",\"type\":\"LinearAxis\"}],\"left\":[{\"id\":\"6577\",\"type\":\"LinearAxis\"}],\"plot_height\":300,\"plot_width\":300,\"renderers\":[{\"id\":\"6572\",\"type\":\"LinearAxis\"},{\"id\":\"6576\",\"type\":\"Grid\"},{\"id\":\"6577\",\"type\":\"LinearAxis\"},{\"id\":\"6581\",\"type\":\"Grid\"},{\"id\":\"6590\",\"type\":\"BoxAnnotation\"},{\"id\":\"6600\",\"type\":\"GlyphRenderer\"}],\"title\":{\"id\":\"6835\",\"type\":\"Title\"},\"toolbar\":{\"id\":\"6588\",\"type\":\"Toolbar\"},\"x_range\":{\"id\":\"6564\",\"type\":\"DataRange1d\"},\"x_scale\":{\"id\":\"6568\",\"type\":\"LinearScale\"},\"y_range\":{\"id\":\"6566\",\"type\":\"DataRange1d\"},\"y_scale\":{\"id\":\"6570\",\"type\":\"LinearScale\"}},\"id\":\"6563\",\"subtype\":\"Figure\",\"type\":\"Plot\"},{\"attributes\":{},\"id\":\"6842\",\"type\":\"UnionRenderers\"},{\"attributes\":{},\"id\":\"6587\",\"type\":\"HelpTool\"},{\"attributes\":{},\"id\":\"6843\",\"type\":\"Selection\"},{\"attributes\":{\"data_source\":{\"id\":\"6597\",\"type\":\"ColumnDataSource\"},\"glyph\":{\"id\":\"6598\",\"type\":\"SquareCross\"},\"hover_glyph\":null,\"muted_glyph\":null,\"nonselection_glyph\":{\"id\":\"6599\",\"type\":\"SquareCross\"},\"selection_glyph\":null,\"view\":{\"id\":\"6601\",\"type\":\"CDSView\"}},\"id\":\"6600\",\"type\":\"GlyphRenderer\"},{\"attributes\":{\"callback\":null},\"id\":\"6564\",\"type\":\"DataRange1d\"},{\"attributes\":{\"fill_color\":{\"value\":null},\"line_color\":{\"value\":\"#7FC97F\"},\"line_width\":{\"value\":2},\"size\":{\"field\":\"size\",\"units\":\"screen\"},\"x\":{\"field\":\"x\"},\"y\":{\"field\":\"y\"}},\"id\":\"6598\",\"type\":\"SquareCross\"},{\"attributes\":{},\"id\":\"6568\",\"type\":\"LinearScale\"},{\"attributes\":{},\"id\":\"6578\",\"type\":\"BasicTicker\"},{\"attributes\":{},\"id\":\"6840\",\"type\":\"BasicTickFormatter\"},{\"attributes\":{\"callback\":null},\"id\":\"6566\",\"type\":\"DataRange1d\"},{\"attributes\":{\"active_drag\":\"auto\",\"active_inspect\":\"auto\",\"active_multi\":null,\"active_scroll\":\"auto\",\"active_tap\":\"auto\",\"tools\":[{\"id\":\"6582\",\"type\":\"PanTool\"},{\"id\":\"6583\",\"type\":\"WheelZoomTool\"},{\"id\":\"6584\",\"type\":\"BoxZoomTool\"},{\"id\":\"6585\",\"type\":\"SaveTool\"},{\"id\":\"6586\",\"type\":\"ResetTool\"},{\"id\":\"6587\",\"type\":\"HelpTool\"}]},\"id\":\"6588\",\"type\":\"Toolbar\"},{\"attributes\":{\"dimension\":1,\"plot\":{\"id\":\"6563\",\"subtype\":\"Figure\",\"type\":\"Plot\"},\"ticker\":{\"id\":\"6578\",\"type\":\"BasicTicker\"}},\"id\":\"6581\",\"type\":\"Grid\"},{\"attributes\":{},\"id\":\"6570\",\"type\":\"LinearScale\"},{\"attributes\":{},\"id\":\"6573\",\"type\":\"BasicTicker\"},{\"attributes\":{\"formatter\":{\"id\":\"6840\",\"type\":\"BasicTickFormatter\"},\"plot\":{\"id\":\"6563\",\"subtype\":\"Figure\",\"type\":\"Plot\"},\"ticker\":{\"id\":\"6573\",\"type\":\"BasicTicker\"}},\"id\":\"6572\",\"type\":\"LinearAxis\"},{\"attributes\":{\"plot\":{\"id\":\"6563\",\"subtype\":\"Figure\",\"type\":\"Plot\"},\"ticker\":{\"id\":\"6573\",\"type\":\"BasicTicker\"}},\"id\":\"6576\",\"type\":\"Grid\"},{\"attributes\":{},\"id\":\"6586\",\"type\":\"ResetTool\"},{\"attributes\":{},\"id\":\"6838\",\"type\":\"BasicTickFormatter\"},{\"attributes\":{},\"id\":\"6585\",\"type\":\"SaveTool\"},{\"attributes\":{\"formatter\":{\"id\":\"6838\",\"type\":\"BasicTickFormatter\"},\"plot\":{\"id\":\"6563\",\"subtype\":\"Figure\",\"type\":\"Plot\"},\"ticker\":{\"id\":\"6578\",\"type\":\"BasicTicker\"}},\"id\":\"6577\",\"type\":\"LinearAxis\"},{\"attributes\":{\"overlay\":{\"id\":\"6590\",\"type\":\"BoxAnnotation\"}},\"id\":\"6584\",\"type\":\"BoxZoomTool\"},{\"attributes\":{\"source\":{\"id\":\"6597\",\"type\":\"ColumnDataSource\"}},\"id\":\"6601\",\"type\":\"CDSView\"},{\"attributes\":{\"fill_alpha\":{\"value\":0.1},\"fill_color\":{\"value\":\"#1f77b4\"},\"line_alpha\":{\"value\":0.1},\"line_color\":{\"value\":\"#1f77b4\"},\"line_width\":{\"value\":2},\"size\":{\"field\":\"size\",\"units\":\"screen\"},\"x\":{\"field\":\"x\"},\"y\":{\"field\":\"y\"}},\"id\":\"6599\",\"type\":\"SquareCross\"},{\"attributes\":{},\"id\":\"6582\",\"type\":\"PanTool\"},{\"attributes\":{\"callback\":null,\"data\":{\"size\":[10,20,25],\"x\":[1,2,3],\"y\":[1,2,3]},\"selected\":{\"id\":\"6843\",\"type\":\"Selection\"},\"selection_policy\":{\"id\":\"6842\",\"type\":\"UnionRenderers\"}},\"id\":\"6597\",\"type\":\"ColumnDataSource\"},{\"attributes\":{},\"id\":\"6583\",\"type\":\"WheelZoomTool\"},{\"attributes\":{\"bottom_units\":\"screen\",\"fill_alpha\":{\"value\":0.5},\"fill_color\":{\"value\":\"lightgrey\"},\"left_units\":\"screen\",\"level\":\"overlay\",\"line_alpha\":{\"value\":1.0},\"line_color\":{\"value\":\"black\"},\"line_dash\":[4,4],\"line_width\":{\"value\":2},\"plot\":null,\"render_mode\":\"css\",\"right_units\":\"screen\",\"top_units\":\"screen\"},\"id\":\"6590\",\"type\":\"BoxAnnotation\"},{\"attributes\":{\"plot\":null,\"text\":\"\"},\"id\":\"6835\",\"type\":\"Title\"}],\"root_ids\":[\"6563\"]},\"title\":\"Bokeh Application\",\"version\":\"1.0.3\"}};\n",
       "  var render_items = [{\"docid\":\"165e125d-0a4b-4b6a-a807-ecb0f5e59ec8\",\"roots\":{\"6563\":\"52cd69ce-ccd1-4309-855c-3f6b16d19b07\"}}];\n",
       "  root.Bokeh.embed.embed_items_notebook(docs_json, render_items);\n",
       "\n",
       "  }\n",
       "  if (root.Bokeh !== undefined) {\n",
       "    embed_document(root);\n",
       "  } else {\n",
       "    var attempts = 0;\n",
       "    var timer = setInterval(function(root) {\n",
       "      if (root.Bokeh !== undefined) {\n",
       "        embed_document(root);\n",
       "        clearInterval(timer);\n",
       "      }\n",
       "      attempts++;\n",
       "      if (attempts > 100) {\n",
       "        console.log(\"Bokeh: ERROR: Unable to run BokehJS code because BokehJS library is missing\");\n",
       "        clearInterval(timer);\n",
       "      }\n",
       "    }, 10, root)\n",
       "  }\n",
       "})(window);"
      ],
      "application/vnd.bokehjs_exec.v0+json": ""
     },
     "metadata": {
      "application/vnd.bokehjs_exec.v0+json": {
       "id": "6563"
      }
     },
     "output_type": "display_data"
    }
   ],
   "source": [
    "# Square_cross\n",
    "plot = figure(plot_width=300, plot_height=300)\n",
    "plot.square_cross(x=[1, 2, 3], y=[1, 2, 3], size=[10,20,25],\n",
    "                  color=\"#7FC97F\",fill_color=None, line_width=2)\n",
    "\n",
    "show(plot)\n"
   ]
  },
  {
   "cell_type": "code",
   "execution_count": 29,
   "metadata": {},
   "outputs": [
    {
     "data": {
      "text/html": [
       "\n",
       "\n",
       "\n",
       "\n",
       "\n",
       "\n",
       "  <div class=\"bk-root\" id=\"410502b2-471a-4997-9052-d7d99eb20e27\" data-root-id=\"6898\"></div>\n"
      ]
     },
     "metadata": {},
     "output_type": "display_data"
    },
    {
     "data": {
      "application/javascript": [
       "(function(root) {\n",
       "  function embed_document(root) {\n",
       "    \n",
       "  var docs_json = {\"56e5da69-ec2d-4079-be7a-9d5fe0a3e73a\":{\"roots\":{\"references\":[{\"attributes\":{\"below\":[{\"id\":\"6907\",\"type\":\"LinearAxis\"}],\"left\":[{\"id\":\"6912\",\"type\":\"LinearAxis\"}],\"plot_height\":300,\"plot_width\":300,\"renderers\":[{\"id\":\"6907\",\"type\":\"LinearAxis\"},{\"id\":\"6911\",\"type\":\"Grid\"},{\"id\":\"6912\",\"type\":\"LinearAxis\"},{\"id\":\"6916\",\"type\":\"Grid\"},{\"id\":\"6925\",\"type\":\"BoxAnnotation\"},{\"id\":\"6935\",\"type\":\"GlyphRenderer\"}],\"title\":{\"id\":\"7179\",\"type\":\"Title\"},\"toolbar\":{\"id\":\"6923\",\"type\":\"Toolbar\"},\"x_range\":{\"id\":\"6899\",\"type\":\"DataRange1d\"},\"x_scale\":{\"id\":\"6903\",\"type\":\"LinearScale\"},\"y_range\":{\"id\":\"6901\",\"type\":\"DataRange1d\"},\"y_scale\":{\"id\":\"6905\",\"type\":\"LinearScale\"}},\"id\":\"6898\",\"subtype\":\"Figure\",\"type\":\"Plot\"},{\"attributes\":{\"bottom_units\":\"screen\",\"fill_alpha\":{\"value\":0.5},\"fill_color\":{\"value\":\"lightgrey\"},\"left_units\":\"screen\",\"level\":\"overlay\",\"line_alpha\":{\"value\":1.0},\"line_color\":{\"value\":\"black\"},\"line_dash\":[4,4],\"line_width\":{\"value\":2},\"plot\":null,\"render_mode\":\"css\",\"right_units\":\"screen\",\"top_units\":\"screen\"},\"id\":\"6925\",\"type\":\"BoxAnnotation\"},{\"attributes\":{},\"id\":\"6917\",\"type\":\"PanTool\"},{\"attributes\":{},\"id\":\"6918\",\"type\":\"WheelZoomTool\"},{\"attributes\":{\"active_drag\":\"auto\",\"active_inspect\":\"auto\",\"active_multi\":null,\"active_scroll\":\"auto\",\"active_tap\":\"auto\",\"tools\":[{\"id\":\"6917\",\"type\":\"PanTool\"},{\"id\":\"6918\",\"type\":\"WheelZoomTool\"},{\"id\":\"6919\",\"type\":\"BoxZoomTool\"},{\"id\":\"6920\",\"type\":\"SaveTool\"},{\"id\":\"6921\",\"type\":\"ResetTool\"},{\"id\":\"6922\",\"type\":\"HelpTool\"}]},\"id\":\"6923\",\"type\":\"Toolbar\"},{\"attributes\":{\"overlay\":{\"id\":\"6925\",\"type\":\"BoxAnnotation\"}},\"id\":\"6919\",\"type\":\"BoxZoomTool\"},{\"attributes\":{},\"id\":\"7187\",\"type\":\"Selection\"},{\"attributes\":{},\"id\":\"6920\",\"type\":\"SaveTool\"},{\"attributes\":{},\"id\":\"7184\",\"type\":\"BasicTickFormatter\"},{\"attributes\":{},\"id\":\"6921\",\"type\":\"ResetTool\"},{\"attributes\":{\"fill_color\":{\"value\":null},\"line_color\":{\"value\":\"#FDAE6B\"},\"line_width\":{\"value\":2},\"size\":{\"field\":\"size\",\"units\":\"screen\"},\"x\":{\"field\":\"x\"},\"y\":{\"field\":\"y\"}},\"id\":\"6933\",\"type\":\"SquareX\"},{\"attributes\":{\"callback\":null},\"id\":\"6901\",\"type\":\"DataRange1d\"},{\"attributes\":{},\"id\":\"6903\",\"type\":\"LinearScale\"},{\"attributes\":{},\"id\":\"7182\",\"type\":\"BasicTickFormatter\"},{\"attributes\":{\"callback\":null},\"id\":\"6899\",\"type\":\"DataRange1d\"},{\"attributes\":{\"fill_alpha\":{\"value\":0.1},\"fill_color\":{\"value\":\"#1f77b4\"},\"line_alpha\":{\"value\":0.1},\"line_color\":{\"value\":\"#1f77b4\"},\"line_width\":{\"value\":2},\"size\":{\"field\":\"size\",\"units\":\"screen\"},\"x\":{\"field\":\"x\"},\"y\":{\"field\":\"y\"}},\"id\":\"6934\",\"type\":\"SquareX\"},{\"attributes\":{\"plot\":null,\"text\":\"\"},\"id\":\"7179\",\"type\":\"Title\"},{\"attributes\":{\"plot\":{\"id\":\"6898\",\"subtype\":\"Figure\",\"type\":\"Plot\"},\"ticker\":{\"id\":\"6908\",\"type\":\"BasicTicker\"}},\"id\":\"6911\",\"type\":\"Grid\"},{\"attributes\":{\"formatter\":{\"id\":\"7184\",\"type\":\"BasicTickFormatter\"},\"plot\":{\"id\":\"6898\",\"subtype\":\"Figure\",\"type\":\"Plot\"},\"ticker\":{\"id\":\"6908\",\"type\":\"BasicTicker\"}},\"id\":\"6907\",\"type\":\"LinearAxis\"},{\"attributes\":{},\"id\":\"6908\",\"type\":\"BasicTicker\"},{\"attributes\":{\"source\":{\"id\":\"6932\",\"type\":\"ColumnDataSource\"}},\"id\":\"6936\",\"type\":\"CDSView\"},{\"attributes\":{},\"id\":\"6905\",\"type\":\"LinearScale\"},{\"attributes\":{\"data_source\":{\"id\":\"6932\",\"type\":\"ColumnDataSource\"},\"glyph\":{\"id\":\"6933\",\"type\":\"SquareX\"},\"hover_glyph\":null,\"muted_glyph\":null,\"nonselection_glyph\":{\"id\":\"6934\",\"type\":\"SquareX\"},\"selection_glyph\":null,\"view\":{\"id\":\"6936\",\"type\":\"CDSView\"}},\"id\":\"6935\",\"type\":\"GlyphRenderer\"},{\"attributes\":{\"formatter\":{\"id\":\"7182\",\"type\":\"BasicTickFormatter\"},\"plot\":{\"id\":\"6898\",\"subtype\":\"Figure\",\"type\":\"Plot\"},\"ticker\":{\"id\":\"6913\",\"type\":\"BasicTicker\"}},\"id\":\"6912\",\"type\":\"LinearAxis\"},{\"attributes\":{},\"id\":\"6913\",\"type\":\"BasicTicker\"},{\"attributes\":{\"dimension\":1,\"plot\":{\"id\":\"6898\",\"subtype\":\"Figure\",\"type\":\"Plot\"},\"ticker\":{\"id\":\"6913\",\"type\":\"BasicTicker\"}},\"id\":\"6916\",\"type\":\"Grid\"},{\"attributes\":{\"callback\":null,\"data\":{\"size\":[10,20,25],\"x\":[1,2,3],\"y\":[1,2,3]},\"selected\":{\"id\":\"7187\",\"type\":\"Selection\"},\"selection_policy\":{\"id\":\"7186\",\"type\":\"UnionRenderers\"}},\"id\":\"6932\",\"type\":\"ColumnDataSource\"},{\"attributes\":{},\"id\":\"7186\",\"type\":\"UnionRenderers\"},{\"attributes\":{},\"id\":\"6922\",\"type\":\"HelpTool\"}],\"root_ids\":[\"6898\"]},\"title\":\"Bokeh Application\",\"version\":\"1.0.3\"}};\n",
       "  var render_items = [{\"docid\":\"56e5da69-ec2d-4079-be7a-9d5fe0a3e73a\",\"roots\":{\"6898\":\"410502b2-471a-4997-9052-d7d99eb20e27\"}}];\n",
       "  root.Bokeh.embed.embed_items_notebook(docs_json, render_items);\n",
       "\n",
       "  }\n",
       "  if (root.Bokeh !== undefined) {\n",
       "    embed_document(root);\n",
       "  } else {\n",
       "    var attempts = 0;\n",
       "    var timer = setInterval(function(root) {\n",
       "      if (root.Bokeh !== undefined) {\n",
       "        embed_document(root);\n",
       "        clearInterval(timer);\n",
       "      }\n",
       "      attempts++;\n",
       "      if (attempts > 100) {\n",
       "        console.log(\"Bokeh: ERROR: Unable to run BokehJS code because BokehJS library is missing\");\n",
       "        clearInterval(timer);\n",
       "      }\n",
       "    }, 10, root)\n",
       "  }\n",
       "})(window);"
      ],
      "application/vnd.bokehjs_exec.v0+json": ""
     },
     "metadata": {
      "application/vnd.bokehjs_exec.v0+json": {
       "id": "6898"
      }
     },
     "output_type": "display_data"
    }
   ],
   "source": [
    "# Square_x\n",
    "plot = figure(plot_width=300, plot_height=300)\n",
    "plot.square_x(x=[1, 2, 3], y=[1, 2, 3], size=[10,20,25],\n",
    "              color=\"#FDAE6B\",fill_color=None, line_width=2)\n",
    "\n",
    "show(plot)"
   ]
  },
  {
   "cell_type": "code",
   "execution_count": 30,
   "metadata": {
    "scrolled": true
   },
   "outputs": [
    {
     "data": {
      "text/html": [
       "\n",
       "\n",
       "\n",
       "\n",
       "\n",
       "\n",
       "  <div class=\"bk-root\" id=\"c78b7c7f-4ef6-4339-b958-834ff2f9d8c7\" data-root-id=\"7242\"></div>\n"
      ]
     },
     "metadata": {},
     "output_type": "display_data"
    },
    {
     "data": {
      "application/javascript": [
       "(function(root) {\n",
       "  function embed_document(root) {\n",
       "    \n",
       "  var docs_json = {\"bcc18107-4021-4e8d-a054-6451e9323e77\":{\"roots\":{\"references\":[{\"attributes\":{\"below\":[{\"id\":\"7251\",\"type\":\"LinearAxis\"}],\"left\":[{\"id\":\"7256\",\"type\":\"LinearAxis\"}],\"plot_height\":300,\"plot_width\":300,\"renderers\":[{\"id\":\"7251\",\"type\":\"LinearAxis\"},{\"id\":\"7255\",\"type\":\"Grid\"},{\"id\":\"7256\",\"type\":\"LinearAxis\"},{\"id\":\"7260\",\"type\":\"Grid\"},{\"id\":\"7269\",\"type\":\"BoxAnnotation\"},{\"id\":\"7279\",\"type\":\"GlyphRenderer\"}],\"title\":{\"id\":\"7532\",\"type\":\"Title\"},\"toolbar\":{\"id\":\"7267\",\"type\":\"Toolbar\"},\"x_range\":{\"id\":\"7243\",\"type\":\"DataRange1d\"},\"x_scale\":{\"id\":\"7247\",\"type\":\"LinearScale\"},\"y_range\":{\"id\":\"7245\",\"type\":\"DataRange1d\"},\"y_scale\":{\"id\":\"7249\",\"type\":\"LinearScale\"}},\"id\":\"7242\",\"subtype\":\"Figure\",\"type\":\"Plot\"},{\"attributes\":{},\"id\":\"7262\",\"type\":\"WheelZoomTool\"},{\"attributes\":{\"source\":{\"id\":\"7276\",\"type\":\"ColumnDataSource\"}},\"id\":\"7280\",\"type\":\"CDSView\"},{\"attributes\":{},\"id\":\"7264\",\"type\":\"SaveTool\"},{\"attributes\":{},\"id\":\"7266\",\"type\":\"HelpTool\"},{\"attributes\":{\"active_drag\":\"auto\",\"active_inspect\":\"auto\",\"active_multi\":null,\"active_scroll\":\"auto\",\"active_tap\":\"auto\",\"tools\":[{\"id\":\"7261\",\"type\":\"PanTool\"},{\"id\":\"7262\",\"type\":\"WheelZoomTool\"},{\"id\":\"7263\",\"type\":\"BoxZoomTool\"},{\"id\":\"7264\",\"type\":\"SaveTool\"},{\"id\":\"7265\",\"type\":\"ResetTool\"},{\"id\":\"7266\",\"type\":\"HelpTool\"}]},\"id\":\"7267\",\"type\":\"Toolbar\"},{\"attributes\":{\"formatter\":{\"id\":\"7537\",\"type\":\"BasicTickFormatter\"},\"plot\":{\"id\":\"7242\",\"subtype\":\"Figure\",\"type\":\"Plot\"},\"ticker\":{\"id\":\"7252\",\"type\":\"BasicTicker\"}},\"id\":\"7251\",\"type\":\"LinearAxis\"},{\"attributes\":{\"dimension\":1,\"plot\":{\"id\":\"7242\",\"subtype\":\"Figure\",\"type\":\"Plot\"},\"ticker\":{\"id\":\"7257\",\"type\":\"BasicTicker\"}},\"id\":\"7260\",\"type\":\"Grid\"},{\"attributes\":{\"bottom_units\":\"screen\",\"fill_alpha\":{\"value\":0.5},\"fill_color\":{\"value\":\"lightgrey\"},\"left_units\":\"screen\",\"level\":\"overlay\",\"line_alpha\":{\"value\":1.0},\"line_color\":{\"value\":\"black\"},\"line_dash\":[4,4],\"line_width\":{\"value\":2},\"plot\":null,\"render_mode\":\"css\",\"right_units\":\"screen\",\"top_units\":\"screen\"},\"id\":\"7269\",\"type\":\"BoxAnnotation\"},{\"attributes\":{},\"id\":\"7252\",\"type\":\"BasicTicker\"},{\"attributes\":{\"overlay\":{\"id\":\"7269\",\"type\":\"BoxAnnotation\"}},\"id\":\"7263\",\"type\":\"BoxZoomTool\"},{\"attributes\":{},\"id\":\"7537\",\"type\":\"BasicTickFormatter\"},{\"attributes\":{},\"id\":\"7539\",\"type\":\"UnionRenderers\"},{\"attributes\":{\"callback\":null},\"id\":\"7245\",\"type\":\"DataRange1d\"},{\"attributes\":{\"plot\":null,\"text\":\"\"},\"id\":\"7532\",\"type\":\"Title\"},{\"attributes\":{},\"id\":\"7261\",\"type\":\"PanTool\"},{\"attributes\":{},\"id\":\"7265\",\"type\":\"ResetTool\"},{\"attributes\":{},\"id\":\"7249\",\"type\":\"LinearScale\"},{\"attributes\":{},\"id\":\"7535\",\"type\":\"BasicTickFormatter\"},{\"attributes\":{},\"id\":\"7257\",\"type\":\"BasicTicker\"},{\"attributes\":{},\"id\":\"7540\",\"type\":\"Selection\"},{\"attributes\":{\"fill_color\":{\"value\":\"#99D594\"},\"line_color\":{\"value\":\"#99D594\"},\"line_width\":{\"value\":2},\"size\":{\"field\":\"size\",\"units\":\"screen\"},\"x\":{\"field\":\"x\"},\"y\":{\"field\":\"y\"}},\"id\":\"7277\",\"type\":\"Triangle\"},{\"attributes\":{\"formatter\":{\"id\":\"7535\",\"type\":\"BasicTickFormatter\"},\"plot\":{\"id\":\"7242\",\"subtype\":\"Figure\",\"type\":\"Plot\"},\"ticker\":{\"id\":\"7257\",\"type\":\"BasicTicker\"}},\"id\":\"7256\",\"type\":\"LinearAxis\"},{\"attributes\":{\"callback\":null,\"data\":{\"size\":[10,20,25],\"x\":[1,2,3],\"y\":[1,2,3]},\"selected\":{\"id\":\"7540\",\"type\":\"Selection\"},\"selection_policy\":{\"id\":\"7539\",\"type\":\"UnionRenderers\"}},\"id\":\"7276\",\"type\":\"ColumnDataSource\"},{\"attributes\":{\"data_source\":{\"id\":\"7276\",\"type\":\"ColumnDataSource\"},\"glyph\":{\"id\":\"7277\",\"type\":\"Triangle\"},\"hover_glyph\":null,\"muted_glyph\":null,\"nonselection_glyph\":{\"id\":\"7278\",\"type\":\"Triangle\"},\"selection_glyph\":null,\"view\":{\"id\":\"7280\",\"type\":\"CDSView\"}},\"id\":\"7279\",\"type\":\"GlyphRenderer\"},{\"attributes\":{\"fill_alpha\":{\"value\":0.1},\"fill_color\":{\"value\":\"#1f77b4\"},\"line_alpha\":{\"value\":0.1},\"line_color\":{\"value\":\"#1f77b4\"},\"line_width\":{\"value\":2},\"size\":{\"field\":\"size\",\"units\":\"screen\"},\"x\":{\"field\":\"x\"},\"y\":{\"field\":\"y\"}},\"id\":\"7278\",\"type\":\"Triangle\"},{\"attributes\":{},\"id\":\"7247\",\"type\":\"LinearScale\"},{\"attributes\":{\"callback\":null},\"id\":\"7243\",\"type\":\"DataRange1d\"},{\"attributes\":{\"plot\":{\"id\":\"7242\",\"subtype\":\"Figure\",\"type\":\"Plot\"},\"ticker\":{\"id\":\"7252\",\"type\":\"BasicTicker\"}},\"id\":\"7255\",\"type\":\"Grid\"}],\"root_ids\":[\"7242\"]},\"title\":\"Bokeh Application\",\"version\":\"1.0.3\"}};\n",
       "  var render_items = [{\"docid\":\"bcc18107-4021-4e8d-a054-6451e9323e77\",\"roots\":{\"7242\":\"c78b7c7f-4ef6-4339-b958-834ff2f9d8c7\"}}];\n",
       "  root.Bokeh.embed.embed_items_notebook(docs_json, render_items);\n",
       "\n",
       "  }\n",
       "  if (root.Bokeh !== undefined) {\n",
       "    embed_document(root);\n",
       "  } else {\n",
       "    var attempts = 0;\n",
       "    var timer = setInterval(function(root) {\n",
       "      if (root.Bokeh !== undefined) {\n",
       "        embed_document(root);\n",
       "        clearInterval(timer);\n",
       "      }\n",
       "      attempts++;\n",
       "      if (attempts > 100) {\n",
       "        console.log(\"Bokeh: ERROR: Unable to run BokehJS code because BokehJS library is missing\");\n",
       "        clearInterval(timer);\n",
       "      }\n",
       "    }, 10, root)\n",
       "  }\n",
       "})(window);"
      ],
      "application/vnd.bokehjs_exec.v0+json": ""
     },
     "metadata": {
      "application/vnd.bokehjs_exec.v0+json": {
       "id": "7242"
      }
     },
     "output_type": "display_data"
    }
   ],
   "source": [
    "# Triangle\n",
    "plot = figure(plot_width=300, plot_height=300)\n",
    "plot.triangle(x=[1, 2, 3], y=[1, 2, 3], size=[10,20,25],\n",
    "              color=\"#99D594\", line_width=2)\n",
    "\n",
    "show(plot)\n"
   ]
  },
  {
   "cell_type": "code",
   "execution_count": 31,
   "metadata": {
    "scrolled": true
   },
   "outputs": [
    {
     "data": {
      "text/html": [
       "\n",
       "\n",
       "\n",
       "\n",
       "\n",
       "\n",
       "  <div class=\"bk-root\" id=\"7ab454f0-89bc-42a9-96f9-e2f9345f538f\" data-root-id=\"7595\"></div>\n"
      ]
     },
     "metadata": {},
     "output_type": "display_data"
    },
    {
     "data": {
      "application/javascript": [
       "(function(root) {\n",
       "  function embed_document(root) {\n",
       "    \n",
       "  var docs_json = {\"51d6ab44-37ad-4212-8150-9b3e3cb419b9\":{\"roots\":{\"references\":[{\"attributes\":{\"below\":[{\"id\":\"7604\",\"type\":\"LinearAxis\"}],\"left\":[{\"id\":\"7609\",\"type\":\"LinearAxis\"}],\"plot_height\":300,\"plot_width\":300,\"renderers\":[{\"id\":\"7604\",\"type\":\"LinearAxis\"},{\"id\":\"7608\",\"type\":\"Grid\"},{\"id\":\"7609\",\"type\":\"LinearAxis\"},{\"id\":\"7613\",\"type\":\"Grid\"},{\"id\":\"7622\",\"type\":\"BoxAnnotation\"},{\"id\":\"7632\",\"type\":\"GlyphRenderer\"}],\"title\":{\"id\":\"7894\",\"type\":\"Title\"},\"toolbar\":{\"id\":\"7620\",\"type\":\"Toolbar\"},\"x_range\":{\"id\":\"7596\",\"type\":\"DataRange1d\"},\"x_scale\":{\"id\":\"7600\",\"type\":\"LinearScale\"},\"y_range\":{\"id\":\"7598\",\"type\":\"DataRange1d\"},\"y_scale\":{\"id\":\"7602\",\"type\":\"LinearScale\"}},\"id\":\"7595\",\"subtype\":\"Figure\",\"type\":\"Plot\"},{\"attributes\":{\"plot\":null,\"text\":\"\"},\"id\":\"7894\",\"type\":\"Title\"},{\"attributes\":{},\"id\":\"7897\",\"type\":\"BasicTickFormatter\"},{\"attributes\":{},\"id\":\"7614\",\"type\":\"PanTool\"},{\"attributes\":{\"callback\":null},\"id\":\"7596\",\"type\":\"DataRange1d\"},{\"attributes\":{\"fill_color\":{\"value\":\"#CAB2D6\"},\"line_color\":{\"value\":\"#CAB2D6\"},\"top\":{\"field\":\"top\"},\"width\":{\"value\":0.5},\"x\":{\"field\":\"x\"}},\"id\":\"7630\",\"type\":\"VBar\"},{\"attributes\":{},\"id\":\"7902\",\"type\":\"Selection\"},{\"attributes\":{},\"id\":\"7602\",\"type\":\"LinearScale\"},{\"attributes\":{},\"id\":\"7600\",\"type\":\"LinearScale\"},{\"attributes\":{\"source\":{\"id\":\"7629\",\"type\":\"ColumnDataSource\"}},\"id\":\"7633\",\"type\":\"CDSView\"},{\"attributes\":{\"callback\":null},\"id\":\"7598\",\"type\":\"DataRange1d\"},{\"attributes\":{},\"id\":\"7619\",\"type\":\"HelpTool\"},{\"attributes\":{\"formatter\":{\"id\":\"7897\",\"type\":\"BasicTickFormatter\"},\"plot\":{\"id\":\"7595\",\"subtype\":\"Figure\",\"type\":\"Plot\"},\"ticker\":{\"id\":\"7610\",\"type\":\"BasicTicker\"}},\"id\":\"7609\",\"type\":\"LinearAxis\"},{\"attributes\":{\"plot\":{\"id\":\"7595\",\"subtype\":\"Figure\",\"type\":\"Plot\"},\"ticker\":{\"id\":\"7605\",\"type\":\"BasicTicker\"}},\"id\":\"7608\",\"type\":\"Grid\"},{\"attributes\":{\"formatter\":{\"id\":\"7899\",\"type\":\"BasicTickFormatter\"},\"plot\":{\"id\":\"7595\",\"subtype\":\"Figure\",\"type\":\"Plot\"},\"ticker\":{\"id\":\"7605\",\"type\":\"BasicTicker\"}},\"id\":\"7604\",\"type\":\"LinearAxis\"},{\"attributes\":{},\"id\":\"7605\",\"type\":\"BasicTicker\"},{\"attributes\":{\"active_drag\":\"auto\",\"active_inspect\":\"auto\",\"active_multi\":null,\"active_scroll\":\"auto\",\"active_tap\":\"auto\",\"tools\":[{\"id\":\"7614\",\"type\":\"PanTool\"},{\"id\":\"7615\",\"type\":\"WheelZoomTool\"},{\"id\":\"7616\",\"type\":\"BoxZoomTool\"},{\"id\":\"7617\",\"type\":\"SaveTool\"},{\"id\":\"7618\",\"type\":\"ResetTool\"},{\"id\":\"7619\",\"type\":\"HelpTool\"}]},\"id\":\"7620\",\"type\":\"Toolbar\"},{\"attributes\":{\"dimension\":1,\"plot\":{\"id\":\"7595\",\"subtype\":\"Figure\",\"type\":\"Plot\"},\"ticker\":{\"id\":\"7610\",\"type\":\"BasicTicker\"}},\"id\":\"7613\",\"type\":\"Grid\"},{\"attributes\":{},\"id\":\"7610\",\"type\":\"BasicTicker\"},{\"attributes\":{\"callback\":null,\"data\":{\"top\":[1,2,3],\"x\":[1,2,3]},\"selected\":{\"id\":\"7902\",\"type\":\"Selection\"},\"selection_policy\":{\"id\":\"7901\",\"type\":\"UnionRenderers\"}},\"id\":\"7629\",\"type\":\"ColumnDataSource\"},{\"attributes\":{},\"id\":\"7615\",\"type\":\"WheelZoomTool\"},{\"attributes\":{\"overlay\":{\"id\":\"7622\",\"type\":\"BoxAnnotation\"}},\"id\":\"7616\",\"type\":\"BoxZoomTool\"},{\"attributes\":{},\"id\":\"7901\",\"type\":\"UnionRenderers\"},{\"attributes\":{},\"id\":\"7617\",\"type\":\"SaveTool\"},{\"attributes\":{},\"id\":\"7618\",\"type\":\"ResetTool\"},{\"attributes\":{\"bottom_units\":\"screen\",\"fill_alpha\":{\"value\":0.5},\"fill_color\":{\"value\":\"lightgrey\"},\"left_units\":\"screen\",\"level\":\"overlay\",\"line_alpha\":{\"value\":1.0},\"line_color\":{\"value\":\"black\"},\"line_dash\":[4,4],\"line_width\":{\"value\":2},\"plot\":null,\"render_mode\":\"css\",\"right_units\":\"screen\",\"top_units\":\"screen\"},\"id\":\"7622\",\"type\":\"BoxAnnotation\"},{\"attributes\":{\"fill_alpha\":{\"value\":0.1},\"fill_color\":{\"value\":\"#1f77b4\"},\"line_alpha\":{\"value\":0.1},\"line_color\":{\"value\":\"#1f77b4\"},\"top\":{\"field\":\"top\"},\"width\":{\"value\":0.5},\"x\":{\"field\":\"x\"}},\"id\":\"7631\",\"type\":\"VBar\"},{\"attributes\":{},\"id\":\"7899\",\"type\":\"BasicTickFormatter\"},{\"attributes\":{\"data_source\":{\"id\":\"7629\",\"type\":\"ColumnDataSource\"},\"glyph\":{\"id\":\"7630\",\"type\":\"VBar\"},\"hover_glyph\":null,\"muted_glyph\":null,\"nonselection_glyph\":{\"id\":\"7631\",\"type\":\"VBar\"},\"selection_glyph\":null,\"view\":{\"id\":\"7633\",\"type\":\"CDSView\"}},\"id\":\"7632\",\"type\":\"GlyphRenderer\"}],\"root_ids\":[\"7595\"]},\"title\":\"Bokeh Application\",\"version\":\"1.0.3\"}};\n",
       "  var render_items = [{\"docid\":\"51d6ab44-37ad-4212-8150-9b3e3cb419b9\",\"roots\":{\"7595\":\"7ab454f0-89bc-42a9-96f9-e2f9345f538f\"}}];\n",
       "  root.Bokeh.embed.embed_items_notebook(docs_json, render_items);\n",
       "\n",
       "  }\n",
       "  if (root.Bokeh !== undefined) {\n",
       "    embed_document(root);\n",
       "  } else {\n",
       "    var attempts = 0;\n",
       "    var timer = setInterval(function(root) {\n",
       "      if (root.Bokeh !== undefined) {\n",
       "        embed_document(root);\n",
       "        clearInterval(timer);\n",
       "      }\n",
       "      attempts++;\n",
       "      if (attempts > 100) {\n",
       "        console.log(\"Bokeh: ERROR: Unable to run BokehJS code because BokehJS library is missing\");\n",
       "        clearInterval(timer);\n",
       "      }\n",
       "    }, 10, root)\n",
       "  }\n",
       "})(window);"
      ],
      "application/vnd.bokehjs_exec.v0+json": ""
     },
     "metadata": {
      "application/vnd.bokehjs_exec.v0+json": {
       "id": "7595"
      }
     },
     "output_type": "display_data"
    }
   ],
   "source": [
    "# Vbar\n",
    "plot = figure(plot_width=300, plot_height=300)\n",
    "plot.vbar(x=[1, 2, 3], width=0.5, bottom=0, top=[1,2,3], color=\"#CAB2D6\")\n",
    "\n",
    "show(plot)"
   ]
  },
  {
   "cell_type": "code",
   "execution_count": 32,
   "metadata": {},
   "outputs": [
    {
     "data": {
      "text/html": [
       "\n",
       "\n",
       "\n",
       "\n",
       "\n",
       "\n",
       "  <div class=\"bk-root\" id=\"72eede79-54e0-47b9-8e0c-d2ad0331d0b7\" data-root-id=\"7957\"></div>\n"
      ]
     },
     "metadata": {},
     "output_type": "display_data"
    },
    {
     "data": {
      "application/javascript": [
       "(function(root) {\n",
       "  function embed_document(root) {\n",
       "    \n",
       "  var docs_json = {\"9682b2c2-564d-4b8f-b6dc-5068f040dd52\":{\"roots\":{\"references\":[{\"attributes\":{\"below\":[{\"id\":\"7966\",\"type\":\"LinearAxis\"}],\"left\":[{\"id\":\"7971\",\"type\":\"LinearAxis\"}],\"plot_height\":1000,\"plot_width\":1000,\"renderers\":[{\"id\":\"7966\",\"type\":\"LinearAxis\"},{\"id\":\"7970\",\"type\":\"Grid\"},{\"id\":\"7971\",\"type\":\"LinearAxis\"},{\"id\":\"7975\",\"type\":\"Grid\"},{\"id\":\"7984\",\"type\":\"BoxAnnotation\"},{\"id\":\"8003\",\"type\":\"Legend\"},{\"id\":\"7994\",\"type\":\"GlyphRenderer\"}],\"title\":{\"id\":\"7996\",\"type\":\"Title\"},\"toolbar\":{\"id\":\"7982\",\"type\":\"Toolbar\"},\"x_range\":{\"id\":\"7958\",\"type\":\"DataRange1d\"},\"x_scale\":{\"id\":\"7962\",\"type\":\"LinearScale\"},\"y_range\":{\"id\":\"7960\",\"type\":\"DataRange1d\"},\"y_scale\":{\"id\":\"7964\",\"type\":\"LinearScale\"}},\"id\":\"7957\",\"subtype\":\"Figure\",\"type\":\"Plot\"},{\"attributes\":{},\"id\":\"7964\",\"type\":\"LinearScale\"},{\"attributes\":{\"plot\":{\"id\":\"7957\",\"subtype\":\"Figure\",\"type\":\"Plot\"},\"ticker\":{\"id\":\"7967\",\"type\":\"BasicTicker\"}},\"id\":\"7970\",\"type\":\"Grid\"},{\"attributes\":{\"formatter\":{\"id\":\"7999\",\"type\":\"BasicTickFormatter\"},\"plot\":{\"id\":\"7957\",\"subtype\":\"Figure\",\"type\":\"Plot\"},\"ticker\":{\"id\":\"7972\",\"type\":\"BasicTicker\"}},\"id\":\"7971\",\"type\":\"LinearAxis\"},{\"attributes\":{\"dimension\":1,\"plot\":{\"id\":\"7957\",\"subtype\":\"Figure\",\"type\":\"Plot\"},\"ticker\":{\"id\":\"7972\",\"type\":\"BasicTicker\"}},\"id\":\"7975\",\"type\":\"Grid\"},{\"attributes\":{\"callback\":null,\"data\":{\"x\":[2],\"y\":[2]},\"selected\":{\"id\":\"8282\",\"type\":\"Selection\"},\"selection_policy\":{\"id\":\"8281\",\"type\":\"UnionRenderers\"}},\"id\":\"7991\",\"type\":\"ColumnDataSource\"},{\"attributes\":{},\"id\":\"7972\",\"type\":\"BasicTicker\"},{\"attributes\":{\"overlay\":{\"id\":\"7984\",\"type\":\"BoxAnnotation\"}},\"id\":\"7978\",\"type\":\"BoxZoomTool\"},{\"attributes\":{\"source\":{\"id\":\"7991\",\"type\":\"ColumnDataSource\"}},\"id\":\"7995\",\"type\":\"CDSView\"},{\"attributes\":{},\"id\":\"7979\",\"type\":\"SaveTool\"},{\"attributes\":{},\"id\":\"7977\",\"type\":\"WheelZoomTool\"},{\"attributes\":{},\"id\":\"7976\",\"type\":\"PanTool\"},{\"attributes\":{\"active_drag\":\"auto\",\"active_inspect\":\"auto\",\"active_multi\":null,\"active_scroll\":\"auto\",\"active_tap\":\"auto\",\"tools\":[{\"id\":\"7976\",\"type\":\"PanTool\"},{\"id\":\"7977\",\"type\":\"WheelZoomTool\"},{\"id\":\"7978\",\"type\":\"BoxZoomTool\"},{\"id\":\"7979\",\"type\":\"SaveTool\"},{\"id\":\"7980\",\"type\":\"ResetTool\"},{\"id\":\"7981\",\"type\":\"HelpTool\"}]},\"id\":\"7982\",\"type\":\"Toolbar\"},{\"attributes\":{},\"id\":\"7981\",\"type\":\"HelpTool\"},{\"attributes\":{},\"id\":\"7980\",\"type\":\"ResetTool\"},{\"attributes\":{\"plot\":null,\"text\":\"\"},\"id\":\"7996\",\"type\":\"Title\"},{\"attributes\":{\"end_angle\":{\"units\":\"rad\",\"value\":1.6964600329384882},\"fill_alpha\":{\"value\":0.1},\"fill_color\":{\"value\":\"#1f77b4\"},\"line_alpha\":{\"value\":0.1},\"line_color\":{\"value\":\"#1f77b4\"},\"radius\":{\"units\":\"screen\",\"value\":500},\"start_angle\":{\"units\":\"rad\",\"value\":0},\"x\":{\"field\":\"x\"},\"y\":{\"field\":\"y\"}},\"id\":\"7993\",\"type\":\"Wedge\"},{\"attributes\":{\"bottom_units\":\"screen\",\"fill_alpha\":{\"value\":0.5},\"fill_color\":{\"value\":\"lightgrey\"},\"left_units\":\"screen\",\"level\":\"overlay\",\"line_alpha\":{\"value\":1.0},\"line_color\":{\"value\":\"black\"},\"line_dash\":[4,4],\"line_width\":{\"value\":2},\"plot\":null,\"render_mode\":\"css\",\"right_units\":\"screen\",\"top_units\":\"screen\"},\"id\":\"7984\",\"type\":\"BoxAnnotation\"},{\"attributes\":{\"items\":[{\"id\":\"8004\",\"type\":\"LegendItem\"}],\"plot\":{\"id\":\"7957\",\"subtype\":\"Figure\",\"type\":\"Plot\"}},\"id\":\"8003\",\"type\":\"Legend\"},{\"attributes\":{\"data_source\":{\"id\":\"7991\",\"type\":\"ColumnDataSource\"},\"glyph\":{\"id\":\"7992\",\"type\":\"Wedge\"},\"hover_glyph\":null,\"muted_glyph\":null,\"nonselection_glyph\":{\"id\":\"7993\",\"type\":\"Wedge\"},\"selection_glyph\":null,\"view\":{\"id\":\"7995\",\"type\":\"CDSView\"}},\"id\":\"7994\",\"type\":\"GlyphRenderer\"},{\"attributes\":{},\"id\":\"8001\",\"type\":\"BasicTickFormatter\"},{\"attributes\":{},\"id\":\"7999\",\"type\":\"BasicTickFormatter\"},{\"attributes\":{\"end_angle\":{\"units\":\"rad\",\"value\":1.6964600329384882},\"fill_color\":{\"value\":\"#2b8cbe\"},\"line_color\":{\"value\":\"#2b8cbe\"},\"radius\":{\"units\":\"screen\",\"value\":500},\"start_angle\":{\"units\":\"rad\",\"value\":0},\"x\":{\"field\":\"x\"},\"y\":{\"field\":\"y\"}},\"id\":\"7992\",\"type\":\"Wedge\"},{\"attributes\":{\"callback\":null},\"id\":\"7958\",\"type\":\"DataRange1d\"},{\"attributes\":{},\"id\":\"8281\",\"type\":\"UnionRenderers\"},{\"attributes\":{\"callback\":null},\"id\":\"7960\",\"type\":\"DataRange1d\"},{\"attributes\":{},\"id\":\"7962\",\"type\":\"LinearScale\"},{\"attributes\":{\"formatter\":{\"id\":\"8001\",\"type\":\"BasicTickFormatter\"},\"plot\":{\"id\":\"7957\",\"subtype\":\"Figure\",\"type\":\"Plot\"},\"ticker\":{\"id\":\"7967\",\"type\":\"BasicTicker\"}},\"id\":\"7966\",\"type\":\"LinearAxis\"},{\"attributes\":{},\"id\":\"7967\",\"type\":\"BasicTicker\"},{\"attributes\":{\"label\":{\"value\":\"Hola\"},\"renderers\":[{\"id\":\"7994\",\"type\":\"GlyphRenderer\"}]},\"id\":\"8004\",\"type\":\"LegendItem\"},{\"attributes\":{},\"id\":\"8282\",\"type\":\"Selection\"}],\"root_ids\":[\"7957\"]},\"title\":\"Bokeh Application\",\"version\":\"1.0.3\"}};\n",
       "  var render_items = [{\"docid\":\"9682b2c2-564d-4b8f-b6dc-5068f040dd52\",\"roots\":{\"7957\":\"72eede79-54e0-47b9-8e0c-d2ad0331d0b7\"}}];\n",
       "  root.Bokeh.embed.embed_items_notebook(docs_json, render_items);\n",
       "\n",
       "  }\n",
       "  if (root.Bokeh !== undefined) {\n",
       "    embed_document(root);\n",
       "  } else {\n",
       "    var attempts = 0;\n",
       "    var timer = setInterval(function(root) {\n",
       "      if (root.Bokeh !== undefined) {\n",
       "        embed_document(root);\n",
       "        clearInterval(timer);\n",
       "      }\n",
       "      attempts++;\n",
       "      if (attempts > 100) {\n",
       "        console.log(\"Bokeh: ERROR: Unable to run BokehJS code because BokehJS library is missing\");\n",
       "        clearInterval(timer);\n",
       "      }\n",
       "    }, 10, root)\n",
       "  }\n",
       "})(window);"
      ],
      "application/vnd.bokehjs_exec.v0+json": ""
     },
     "metadata": {
      "application/vnd.bokehjs_exec.v0+json": {
       "id": "7957"
      }
     },
     "output_type": "display_data"
    }
   ],
   "source": [
    "# Wedge\n",
    "import math\n",
    "pi = math.pi\n",
    "plot = figure(plot_width=1000, plot_height=1000)\n",
    "plot.wedge(x=[2], y=[2], radius=500, start_angle=0,\n",
    "           end_angle=(2*pi*27)/(100), radius_units=\"screen\", color=\"#2b8cbe\", legend='Hola')\n",
    "\n",
    "show(plot)"
   ]
  },
  {
   "cell_type": "code",
   "execution_count": 33,
   "metadata": {},
   "outputs": [
    {
     "data": {
      "text/html": [
       "\n",
       "\n",
       "\n",
       "\n",
       "\n",
       "\n",
       "  <div class=\"bk-root\" id=\"97b2e8d1-15c5-48d1-9c9d-71de80efa295\" data-root-id=\"8337\"></div>\n"
      ]
     },
     "metadata": {},
     "output_type": "display_data"
    },
    {
     "data": {
      "application/javascript": [
       "(function(root) {\n",
       "  function embed_document(root) {\n",
       "    \n",
       "  var docs_json = {\"818c9d5e-f0af-41c7-bb4b-90d6bd1085c6\":{\"roots\":{\"references\":[{\"attributes\":{\"below\":[{\"id\":\"8346\",\"type\":\"LinearAxis\"}],\"left\":[{\"id\":\"8351\",\"type\":\"LinearAxis\"}],\"plot_height\":300,\"plot_width\":300,\"renderers\":[{\"id\":\"8346\",\"type\":\"LinearAxis\"},{\"id\":\"8350\",\"type\":\"Grid\"},{\"id\":\"8351\",\"type\":\"LinearAxis\"},{\"id\":\"8355\",\"type\":\"Grid\"},{\"id\":\"8364\",\"type\":\"BoxAnnotation\"},{\"id\":\"8374\",\"type\":\"GlyphRenderer\"}],\"title\":{\"id\":\"8654\",\"type\":\"Title\"},\"toolbar\":{\"id\":\"8362\",\"type\":\"Toolbar\"},\"x_range\":{\"id\":\"8338\",\"type\":\"DataRange1d\"},\"x_scale\":{\"id\":\"8342\",\"type\":\"LinearScale\"},\"y_range\":{\"id\":\"8340\",\"type\":\"DataRange1d\"},\"y_scale\":{\"id\":\"8344\",\"type\":\"LinearScale\"}},\"id\":\"8337\",\"subtype\":\"Figure\",\"type\":\"Plot\"},{\"attributes\":{},\"id\":\"8361\",\"type\":\"HelpTool\"},{\"attributes\":{\"active_drag\":\"auto\",\"active_inspect\":\"auto\",\"active_multi\":null,\"active_scroll\":\"auto\",\"active_tap\":\"auto\",\"tools\":[{\"id\":\"8356\",\"type\":\"PanTool\"},{\"id\":\"8357\",\"type\":\"WheelZoomTool\"},{\"id\":\"8358\",\"type\":\"BoxZoomTool\"},{\"id\":\"8359\",\"type\":\"SaveTool\"},{\"id\":\"8360\",\"type\":\"ResetTool\"},{\"id\":\"8361\",\"type\":\"HelpTool\"}]},\"id\":\"8362\",\"type\":\"Toolbar\"},{\"attributes\":{},\"id\":\"8360\",\"type\":\"ResetTool\"},{\"attributes\":{},\"id\":\"8347\",\"type\":\"BasicTicker\"},{\"attributes\":{},\"id\":\"8344\",\"type\":\"LinearScale\"},{\"attributes\":{\"callback\":null,\"data\":{\"size\":[10,20,25],\"x\":[1,2,3],\"y\":[1,2,3]},\"selected\":{\"id\":\"8662\",\"type\":\"Selection\"},\"selection_policy\":{\"id\":\"8661\",\"type\":\"UnionRenderers\"}},\"id\":\"8371\",\"type\":\"ColumnDataSource\"},{\"attributes\":{\"overlay\":{\"id\":\"8364\",\"type\":\"BoxAnnotation\"}},\"id\":\"8358\",\"type\":\"BoxZoomTool\"},{\"attributes\":{\"callback\":null},\"id\":\"8340\",\"type\":\"DataRange1d\"},{\"attributes\":{},\"id\":\"8359\",\"type\":\"SaveTool\"},{\"attributes\":{\"formatter\":{\"id\":\"8657\",\"type\":\"BasicTickFormatter\"},\"plot\":{\"id\":\"8337\",\"subtype\":\"Figure\",\"type\":\"Plot\"},\"ticker\":{\"id\":\"8352\",\"type\":\"BasicTicker\"}},\"id\":\"8351\",\"type\":\"LinearAxis\"},{\"attributes\":{},\"id\":\"8357\",\"type\":\"WheelZoomTool\"},{\"attributes\":{\"source\":{\"id\":\"8371\",\"type\":\"ColumnDataSource\"}},\"id\":\"8375\",\"type\":\"CDSView\"},{\"attributes\":{\"callback\":null},\"id\":\"8338\",\"type\":\"DataRange1d\"},{\"attributes\":{\"bottom_units\":\"screen\",\"fill_alpha\":{\"value\":0.5},\"fill_color\":{\"value\":\"lightgrey\"},\"left_units\":\"screen\",\"level\":\"overlay\",\"line_alpha\":{\"value\":1.0},\"line_color\":{\"value\":\"black\"},\"line_dash\":[4,4],\"line_width\":{\"value\":2},\"plot\":null,\"render_mode\":\"css\",\"right_units\":\"screen\",\"top_units\":\"screen\"},\"id\":\"8364\",\"type\":\"BoxAnnotation\"},{\"attributes\":{\"data_source\":{\"id\":\"8371\",\"type\":\"ColumnDataSource\"},\"glyph\":{\"id\":\"8372\",\"type\":\"X\"},\"hover_glyph\":null,\"muted_glyph\":null,\"nonselection_glyph\":{\"id\":\"8373\",\"type\":\"X\"},\"selection_glyph\":null,\"view\":{\"id\":\"8375\",\"type\":\"CDSView\"}},\"id\":\"8374\",\"type\":\"GlyphRenderer\"},{\"attributes\":{},\"id\":\"8661\",\"type\":\"UnionRenderers\"},{\"attributes\":{},\"id\":\"8659\",\"type\":\"BasicTickFormatter\"},{\"attributes\":{\"plot\":null,\"text\":\"\"},\"id\":\"8654\",\"type\":\"Title\"},{\"attributes\":{},\"id\":\"8356\",\"type\":\"PanTool\"},{\"attributes\":{},\"id\":\"8657\",\"type\":\"BasicTickFormatter\"},{\"attributes\":{\"fill_alpha\":{\"value\":0.1},\"fill_color\":{\"value\":\"#1f77b4\"},\"line_alpha\":{\"value\":0.1},\"line_color\":{\"value\":\"#1f77b4\"},\"size\":{\"field\":\"size\",\"units\":\"screen\"},\"x\":{\"field\":\"x\"},\"y\":{\"field\":\"y\"}},\"id\":\"8373\",\"type\":\"X\"},{\"attributes\":{\"fill_color\":{\"value\":\"#fa9fb5\"},\"line_color\":{\"value\":\"#fa9fb5\"},\"size\":{\"field\":\"size\",\"units\":\"screen\"},\"x\":{\"field\":\"x\"},\"y\":{\"field\":\"y\"}},\"id\":\"8372\",\"type\":\"X\"},{\"attributes\":{},\"id\":\"8662\",\"type\":\"Selection\"},{\"attributes\":{\"plot\":{\"id\":\"8337\",\"subtype\":\"Figure\",\"type\":\"Plot\"},\"ticker\":{\"id\":\"8347\",\"type\":\"BasicTicker\"}},\"id\":\"8350\",\"type\":\"Grid\"},{\"attributes\":{},\"id\":\"8342\",\"type\":\"LinearScale\"},{\"attributes\":{\"formatter\":{\"id\":\"8659\",\"type\":\"BasicTickFormatter\"},\"plot\":{\"id\":\"8337\",\"subtype\":\"Figure\",\"type\":\"Plot\"},\"ticker\":{\"id\":\"8347\",\"type\":\"BasicTicker\"}},\"id\":\"8346\",\"type\":\"LinearAxis\"},{\"attributes\":{},\"id\":\"8352\",\"type\":\"BasicTicker\"},{\"attributes\":{\"dimension\":1,\"plot\":{\"id\":\"8337\",\"subtype\":\"Figure\",\"type\":\"Plot\"},\"ticker\":{\"id\":\"8352\",\"type\":\"BasicTicker\"}},\"id\":\"8355\",\"type\":\"Grid\"}],\"root_ids\":[\"8337\"]},\"title\":\"Bokeh Application\",\"version\":\"1.0.3\"}};\n",
       "  var render_items = [{\"docid\":\"818c9d5e-f0af-41c7-bb4b-90d6bd1085c6\",\"roots\":{\"8337\":\"97b2e8d1-15c5-48d1-9c9d-71de80efa295\"}}];\n",
       "  root.Bokeh.embed.embed_items_notebook(docs_json, render_items);\n",
       "\n",
       "  }\n",
       "  if (root.Bokeh !== undefined) {\n",
       "    embed_document(root);\n",
       "  } else {\n",
       "    var attempts = 0;\n",
       "    var timer = setInterval(function(root) {\n",
       "      if (root.Bokeh !== undefined) {\n",
       "        embed_document(root);\n",
       "        clearInterval(timer);\n",
       "      }\n",
       "      attempts++;\n",
       "      if (attempts > 100) {\n",
       "        console.log(\"Bokeh: ERROR: Unable to run BokehJS code because BokehJS library is missing\");\n",
       "        clearInterval(timer);\n",
       "      }\n",
       "    }, 10, root)\n",
       "  }\n",
       "})(window);"
      ],
      "application/vnd.bokehjs_exec.v0+json": ""
     },
     "metadata": {
      "application/vnd.bokehjs_exec.v0+json": {
       "id": "8337"
      }
     },
     "output_type": "display_data"
    }
   ],
   "source": [
    "# X\n",
    "plot = figure(plot_width=300, plot_height=300)\n",
    "plot.x(x=[1, 2, 3], y=[1, 2, 3], size=[10, 20, 25], color=\"#fa9fb5\")\n",
    "\n",
    "show(plot)"
   ]
  },
  {
   "cell_type": "code",
   "execution_count": 34,
   "metadata": {},
   "outputs": [
    {
     "data": {
      "text/html": [
       "\n",
       "\n",
       "\n",
       "\n",
       "\n",
       "\n",
       "  <div class=\"bk-root\" id=\"676e6d0c-005d-427f-832f-438cf91a92ef\" data-root-id=\"8717\"></div>\n"
      ]
     },
     "metadata": {},
     "output_type": "display_data"
    },
    {
     "data": {
      "application/javascript": [
       "(function(root) {\n",
       "  function embed_document(root) {\n",
       "    \n",
       "  var docs_json = {\"05cdb777-70ba-43f7-b2a9-45e4d664ab50\":{\"roots\":{\"references\":[{\"attributes\":{\"below\":[{\"id\":\"8726\",\"type\":\"LinearAxis\"}],\"left\":[{\"id\":\"8731\",\"type\":\"LinearAxis\"}],\"plot_height\":300,\"plot_width\":300,\"renderers\":[{\"id\":\"8726\",\"type\":\"LinearAxis\"},{\"id\":\"8730\",\"type\":\"Grid\"},{\"id\":\"8731\",\"type\":\"LinearAxis\"},{\"id\":\"8735\",\"type\":\"Grid\"},{\"id\":\"8744\",\"type\":\"BoxAnnotation\"},{\"id\":\"8754\",\"type\":\"GlyphRenderer\"}],\"title\":{\"id\":\"9043\",\"type\":\"Title\"},\"toolbar\":{\"id\":\"8742\",\"type\":\"Toolbar\"},\"x_range\":{\"id\":\"8718\",\"type\":\"DataRange1d\"},\"x_scale\":{\"id\":\"8722\",\"type\":\"LinearScale\"},\"y_range\":{\"id\":\"8720\",\"type\":\"DataRange1d\"},\"y_scale\":{\"id\":\"8724\",\"type\":\"LinearScale\"}},\"id\":\"8717\",\"subtype\":\"Figure\",\"type\":\"Plot\"},{\"attributes\":{\"source\":{\"id\":\"8751\",\"type\":\"ColumnDataSource\"}},\"id\":\"8755\",\"type\":\"CDSView\"},{\"attributes\":{},\"id\":\"9050\",\"type\":\"UnionRenderers\"},{\"attributes\":{\"callback\":null,\"data\":{\"x\":[1,2,3],\"y\":[4,5,6]},\"selected\":{\"id\":\"9051\",\"type\":\"Selection\"},\"selection_policy\":{\"id\":\"9050\",\"type\":\"UnionRenderers\"}},\"id\":\"8751\",\"type\":\"ColumnDataSource\"},{\"attributes\":{},\"id\":\"9051\",\"type\":\"Selection\"},{\"attributes\":{\"callback\":null},\"id\":\"8718\",\"type\":\"DataRange1d\"},{\"attributes\":{\"active_drag\":\"auto\",\"active_inspect\":\"auto\",\"active_multi\":null,\"active_scroll\":\"auto\",\"active_tap\":\"auto\",\"tools\":[{\"id\":\"8736\",\"type\":\"PanTool\"},{\"id\":\"8737\",\"type\":\"WheelZoomTool\"},{\"id\":\"8738\",\"type\":\"BoxZoomTool\"},{\"id\":\"8739\",\"type\":\"SaveTool\"},{\"id\":\"8740\",\"type\":\"ResetTool\"},{\"id\":\"8741\",\"type\":\"HelpTool\"}]},\"id\":\"8742\",\"type\":\"Toolbar\"},{\"attributes\":{\"formatter\":{\"id\":\"9046\",\"type\":\"BasicTickFormatter\"},\"plot\":{\"id\":\"8717\",\"subtype\":\"Figure\",\"type\":\"Plot\"},\"ticker\":{\"id\":\"8732\",\"type\":\"BasicTicker\"}},\"id\":\"8731\",\"type\":\"LinearAxis\"},{\"attributes\":{\"dimension\":1,\"plot\":{\"id\":\"8717\",\"subtype\":\"Figure\",\"type\":\"Plot\"},\"ticker\":{\"id\":\"8732\",\"type\":\"BasicTicker\"}},\"id\":\"8735\",\"type\":\"Grid\"},{\"attributes\":{\"plot\":{\"id\":\"8717\",\"subtype\":\"Figure\",\"type\":\"Plot\"},\"ticker\":{\"id\":\"8727\",\"type\":\"BasicTicker\"}},\"id\":\"8730\",\"type\":\"Grid\"},{\"attributes\":{\"formatter\":{\"id\":\"9048\",\"type\":\"BasicTickFormatter\"},\"plot\":{\"id\":\"8717\",\"subtype\":\"Figure\",\"type\":\"Plot\"},\"ticker\":{\"id\":\"8727\",\"type\":\"BasicTicker\"}},\"id\":\"8726\",\"type\":\"LinearAxis\"},{\"attributes\":{},\"id\":\"8724\",\"type\":\"LinearScale\"},{\"attributes\":{},\"id\":\"8722\",\"type\":\"LinearScale\"},{\"attributes\":{},\"id\":\"8727\",\"type\":\"BasicTicker\"},{\"attributes\":{\"callback\":null},\"id\":\"8720\",\"type\":\"DataRange1d\"},{\"attributes\":{\"fill_color\":{\"value\":\"red\"},\"line_color\":{\"value\":\"#1f77b4\"},\"marker\":{\"value\":\"square\"},\"x\":{\"field\":\"x\"},\"y\":{\"field\":\"y\"}},\"id\":\"8752\",\"type\":\"Scatter\"},{\"attributes\":{},\"id\":\"9046\",\"type\":\"BasicTickFormatter\"},{\"attributes\":{},\"id\":\"8732\",\"type\":\"BasicTicker\"},{\"attributes\":{},\"id\":\"8736\",\"type\":\"PanTool\"},{\"attributes\":{},\"id\":\"8740\",\"type\":\"ResetTool\"},{\"attributes\":{},\"id\":\"8739\",\"type\":\"SaveTool\"},{\"attributes\":{\"overlay\":{\"id\":\"8744\",\"type\":\"BoxAnnotation\"}},\"id\":\"8738\",\"type\":\"BoxZoomTool\"},{\"attributes\":{},\"id\":\"8737\",\"type\":\"WheelZoomTool\"},{\"attributes\":{\"fill_alpha\":{\"value\":0.1},\"fill_color\":{\"value\":\"#1f77b4\"},\"line_alpha\":{\"value\":0.1},\"line_color\":{\"value\":\"#1f77b4\"},\"marker\":{\"value\":\"square\"},\"x\":{\"field\":\"x\"},\"y\":{\"field\":\"y\"}},\"id\":\"8753\",\"type\":\"Scatter\"},{\"attributes\":{},\"id\":\"8741\",\"type\":\"HelpTool\"},{\"attributes\":{\"data_source\":{\"id\":\"8751\",\"type\":\"ColumnDataSource\"},\"glyph\":{\"id\":\"8752\",\"type\":\"Scatter\"},\"hover_glyph\":null,\"muted_glyph\":null,\"nonselection_glyph\":{\"id\":\"8753\",\"type\":\"Scatter\"},\"selection_glyph\":null,\"view\":{\"id\":\"8755\",\"type\":\"CDSView\"}},\"id\":\"8754\",\"type\":\"GlyphRenderer\"},{\"attributes\":{\"plot\":null,\"text\":\"\"},\"id\":\"9043\",\"type\":\"Title\"},{\"attributes\":{},\"id\":\"9048\",\"type\":\"BasicTickFormatter\"},{\"attributes\":{\"bottom_units\":\"screen\",\"fill_alpha\":{\"value\":0.5},\"fill_color\":{\"value\":\"lightgrey\"},\"left_units\":\"screen\",\"level\":\"overlay\",\"line_alpha\":{\"value\":1.0},\"line_color\":{\"value\":\"black\"},\"line_dash\":[4,4],\"line_width\":{\"value\":2},\"plot\":null,\"render_mode\":\"css\",\"right_units\":\"screen\",\"top_units\":\"screen\"},\"id\":\"8744\",\"type\":\"BoxAnnotation\"}],\"root_ids\":[\"8717\"]},\"title\":\"Bokeh Application\",\"version\":\"1.0.3\"}};\n",
       "  var render_items = [{\"docid\":\"05cdb777-70ba-43f7-b2a9-45e4d664ab50\",\"roots\":{\"8717\":\"676e6d0c-005d-427f-832f-438cf91a92ef\"}}];\n",
       "  root.Bokeh.embed.embed_items_notebook(docs_json, render_items);\n",
       "\n",
       "  }\n",
       "  if (root.Bokeh !== undefined) {\n",
       "    embed_document(root);\n",
       "  } else {\n",
       "    var attempts = 0;\n",
       "    var timer = setInterval(function(root) {\n",
       "      if (root.Bokeh !== undefined) {\n",
       "        embed_document(root);\n",
       "        clearInterval(timer);\n",
       "      }\n",
       "      attempts++;\n",
       "      if (attempts > 100) {\n",
       "        console.log(\"Bokeh: ERROR: Unable to run BokehJS code because BokehJS library is missing\");\n",
       "        clearInterval(timer);\n",
       "      }\n",
       "    }, 10, root)\n",
       "  }\n",
       "})(window);"
      ],
      "application/vnd.bokehjs_exec.v0+json": ""
     },
     "metadata": {
      "application/vnd.bokehjs_exec.v0+json": {
       "id": "8717"
      }
     },
     "output_type": "display_data"
    }
   ],
   "source": [
    "# Scatter \n",
    "\n",
    "p = figure(plot_width=300, plot_height=300)\n",
    "p.scatter([1,2,3],[4,5,6], marker=\"square\", fill_color=\"red\")\n",
    "show(p)"
   ]
  },
  {
   "cell_type": "code",
   "execution_count": 35,
   "metadata": {},
   "outputs": [],
   "source": [
    "\n",
    "x = 2 + 2*np.random.standard_normal(500)\n",
    "y = 2 + 2*np.random.standard_normal(500)\n"
   ]
  },
  {
   "cell_type": "code",
   "execution_count": 36,
   "metadata": {},
   "outputs": [
    {
     "data": {
      "text/html": [
       "\n",
       "\n",
       "\n",
       "\n",
       "\n",
       "\n",
       "  <div class=\"bk-root\" id=\"c54ed541-c6a6-46e6-90da-bcefc247d7eb\" data-root-id=\"9106\"></div>\n"
      ]
     },
     "metadata": {},
     "output_type": "display_data"
    },
    {
     "data": {
      "application/javascript": [
       "(function(root) {\n",
       "  function embed_document(root) {\n",
       "    \n",
       "  var docs_json = {\"4a56863d-f6d3-4972-b5a8-867c96ea69ef\":{\"roots\":{\"references\":[{\"attributes\":{\"below\":[{\"id\":\"9115\",\"type\":\"LinearAxis\"}],\"left\":[{\"id\":\"9120\",\"type\":\"LinearAxis\"}],\"match_aspect\":true,\"renderers\":[{\"id\":\"9115\",\"type\":\"LinearAxis\"},{\"id\":\"9119\",\"type\":\"Grid\"},{\"id\":\"9120\",\"type\":\"LinearAxis\"},{\"id\":\"9124\",\"type\":\"Grid\"},{\"id\":\"9136\",\"type\":\"GlyphRenderer\"}],\"title\":{\"id\":\"9436\",\"type\":\"Title\"},\"toolbar\":{\"id\":\"9127\",\"type\":\"Toolbar\"},\"x_range\":{\"id\":\"9107\",\"type\":\"DataRange1d\"},\"x_scale\":{\"id\":\"9111\",\"type\":\"LinearScale\"},\"y_range\":{\"id\":\"9109\",\"type\":\"DataRange1d\"},\"y_scale\":{\"id\":\"9113\",\"type\":\"LinearScale\"}},\"id\":\"9106\",\"subtype\":\"Figure\",\"type\":\"Plot\"},{\"attributes\":{},\"id\":\"9113\",\"type\":\"LinearScale\"},{\"attributes\":{},\"id\":\"9116\",\"type\":\"BasicTicker\"},{\"attributes\":{\"formatter\":{\"id\":\"9441\",\"type\":\"BasicTickFormatter\"},\"plot\":{\"id\":\"9106\",\"subtype\":\"Figure\",\"type\":\"Plot\"},\"ticker\":{\"id\":\"9116\",\"type\":\"BasicTicker\"}},\"id\":\"9115\",\"type\":\"LinearAxis\"},{\"attributes\":{\"plot\":{\"id\":\"9106\",\"subtype\":\"Figure\",\"type\":\"Plot\"},\"ticker\":{\"id\":\"9116\",\"type\":\"BasicTicker\"}},\"id\":\"9119\",\"type\":\"Grid\"},{\"attributes\":{\"formatter\":{\"id\":\"9439\",\"type\":\"BasicTickFormatter\"},\"plot\":{\"id\":\"9106\",\"subtype\":\"Figure\",\"type\":\"Plot\"},\"ticker\":{\"id\":\"9121\",\"type\":\"BasicTicker\"}},\"id\":\"9120\",\"type\":\"LinearAxis\"},{\"attributes\":{\"active_drag\":\"auto\",\"active_inspect\":\"auto\",\"active_multi\":null,\"active_scroll\":\"auto\",\"active_tap\":\"auto\",\"tools\":[{\"id\":\"9125\",\"type\":\"WheelZoomTool\"},{\"id\":\"9126\",\"type\":\"ResetTool\"},{\"id\":\"9138\",\"type\":\"HoverTool\"}]},\"id\":\"9127\",\"type\":\"Toolbar\"},{\"attributes\":{},\"id\":\"9125\",\"type\":\"WheelZoomTool\"},{\"attributes\":{\"dimension\":1,\"plot\":{\"id\":\"9106\",\"subtype\":\"Figure\",\"type\":\"Plot\"},\"ticker\":{\"id\":\"9121\",\"type\":\"BasicTicker\"}},\"id\":\"9124\",\"type\":\"Grid\"},{\"attributes\":{},\"id\":\"9121\",\"type\":\"BasicTicker\"},{\"attributes\":{\"callback\":null,\"data\":{\"c\":[1,1,1,1,1,1,1,2,2,1,1,1,1,1,1,5,2,2,1,1,1,5,4,8,3,2,2,3,5,7,5,3,12,4,2,1,1,2,2,2,10,12,10,13,10,5,1,1,2,4,3,8,7,14,14,16,6,2,1,1,1,1,1,4,3,8,12,9,20,4,6,2,1,3,3,4,4,8,13,10,11,6,5,3,1,1,1,5,7,6,5,10,10,4,2,3,2,5,6,3,4,3,4,1,2,3,1,1,2,3,1,1,1,1,3,1,1,1,1,1,1,1,2,2,1,1,1],\"q\":[-4,-3,-3,-3,-3,-3,-2,-2,-2,-2,-2,-1,-1,-1,-1,-1,-1,-1,-1,0,0,0,0,0,0,0,1,1,1,1,1,1,1,1,1,1,2,2,2,2,2,2,2,2,2,2,2,2,3,3,3,3,3,3,3,3,3,3,3,3,3,4,4,4,4,4,4,4,4,4,4,4,4,4,5,5,5,5,5,5,5,5,5,5,5,6,6,6,6,6,6,6,6,6,7,7,7,7,7,7,7,7,7,7,8,8,8,8,8,8,8,9,9,9,9,9,9,9,9,10,10,10,10,11,12,13,13],\"r\":[3,-3,-1,0,1,2,-2,-1,2,3,5,-8,-7,-4,-3,-2,-1,1,3,-6,-4,-3,-1,0,2,4,-5,-4,-3,-2,-1,0,1,2,3,5,-8,-7,-6,-5,-4,-3,-2,-1,0,1,2,3,-8,-7,-6,-5,-4,-3,-2,-1,0,1,2,3,4,-9,-8,-7,-6,-5,-4,-3,-2,-1,0,1,2,3,-8,-7,-6,-5,-4,-3,-2,-1,0,1,3,-9,-8,-7,-6,-5,-4,-3,-2,-1,-9,-8,-7,-6,-5,-4,-3,-2,-1,0,-7,-6,-5,-4,-3,-2,0,-10,-9,-8,-7,-6,-5,-3,-1,-8,-7,-6,-5,-7,-7,-9,-6]},\"selected\":{\"id\":\"9443\",\"type\":\"Selection\"},\"selection_policy\":{\"id\":\"9442\",\"type\":\"UnionRenderers\"}},\"id\":\"9131\",\"type\":\"ColumnDataSource\"},{\"attributes\":{},\"id\":\"9126\",\"type\":\"ResetTool\"},{\"attributes\":{\"callback\":null},\"id\":\"9109\",\"type\":\"DataRange1d\"},{\"attributes\":{},\"id\":\"9111\",\"type\":\"LinearScale\"},{\"attributes\":{},\"id\":\"9441\",\"type\":\"BasicTickFormatter\"},{\"attributes\":{\"fill_color\":{\"field\":\"c\",\"transform\":{\"id\":\"9130\",\"type\":\"LinearColorMapper\"}},\"q\":{\"field\":\"q\"},\"r\":{\"field\":\"r\"},\"size\":0.5},\"id\":\"9133\",\"type\":\"HexTile\"},{\"attributes\":{\"high\":20,\"low\":0,\"palette\":[\"#440154\",\"#440255\",\"#440357\",\"#450558\",\"#45065A\",\"#45085B\",\"#46095C\",\"#460B5E\",\"#460C5F\",\"#460E61\",\"#470F62\",\"#471163\",\"#471265\",\"#471466\",\"#471567\",\"#471669\",\"#47186A\",\"#48196B\",\"#481A6C\",\"#481C6E\",\"#481D6F\",\"#481E70\",\"#482071\",\"#482172\",\"#482273\",\"#482374\",\"#472575\",\"#472676\",\"#472777\",\"#472878\",\"#472A79\",\"#472B7A\",\"#472C7B\",\"#462D7C\",\"#462F7C\",\"#46307D\",\"#46317E\",\"#45327F\",\"#45347F\",\"#453580\",\"#453681\",\"#443781\",\"#443982\",\"#433A83\",\"#433B83\",\"#433C84\",\"#423D84\",\"#423E85\",\"#424085\",\"#414186\",\"#414286\",\"#404387\",\"#404487\",\"#3F4587\",\"#3F4788\",\"#3E4888\",\"#3E4989\",\"#3D4A89\",\"#3D4B89\",\"#3D4C89\",\"#3C4D8A\",\"#3C4E8A\",\"#3B508A\",\"#3B518A\",\"#3A528B\",\"#3A538B\",\"#39548B\",\"#39558B\",\"#38568B\",\"#38578C\",\"#37588C\",\"#37598C\",\"#365A8C\",\"#365B8C\",\"#355C8C\",\"#355D8C\",\"#345E8D\",\"#345F8D\",\"#33608D\",\"#33618D\",\"#32628D\",\"#32638D\",\"#31648D\",\"#31658D\",\"#31668D\",\"#30678D\",\"#30688D\",\"#2F698D\",\"#2F6A8D\",\"#2E6B8E\",\"#2E6C8E\",\"#2E6D8E\",\"#2D6E8E\",\"#2D6F8E\",\"#2C708E\",\"#2C718E\",\"#2C728E\",\"#2B738E\",\"#2B748E\",\"#2A758E\",\"#2A768E\",\"#2A778E\",\"#29788E\",\"#29798E\",\"#287A8E\",\"#287A8E\",\"#287B8E\",\"#277C8E\",\"#277D8E\",\"#277E8E\",\"#267F8E\",\"#26808E\",\"#26818E\",\"#25828E\",\"#25838D\",\"#24848D\",\"#24858D\",\"#24868D\",\"#23878D\",\"#23888D\",\"#23898D\",\"#22898D\",\"#228A8D\",\"#228B8D\",\"#218C8D\",\"#218D8C\",\"#218E8C\",\"#208F8C\",\"#20908C\",\"#20918C\",\"#1F928C\",\"#1F938B\",\"#1F948B\",\"#1F958B\",\"#1F968B\",\"#1E978A\",\"#1E988A\",\"#1E998A\",\"#1E998A\",\"#1E9A89\",\"#1E9B89\",\"#1E9C89\",\"#1E9D88\",\"#1E9E88\",\"#1E9F88\",\"#1EA087\",\"#1FA187\",\"#1FA286\",\"#1FA386\",\"#20A485\",\"#20A585\",\"#21A685\",\"#21A784\",\"#22A784\",\"#23A883\",\"#23A982\",\"#24AA82\",\"#25AB81\",\"#26AC81\",\"#27AD80\",\"#28AE7F\",\"#29AF7F\",\"#2AB07E\",\"#2BB17D\",\"#2CB17D\",\"#2EB27C\",\"#2FB37B\",\"#30B47A\",\"#32B57A\",\"#33B679\",\"#35B778\",\"#36B877\",\"#38B976\",\"#39B976\",\"#3BBA75\",\"#3DBB74\",\"#3EBC73\",\"#40BD72\",\"#42BE71\",\"#44BE70\",\"#45BF6F\",\"#47C06E\",\"#49C16D\",\"#4BC26C\",\"#4DC26B\",\"#4FC369\",\"#51C468\",\"#53C567\",\"#55C666\",\"#57C665\",\"#59C764\",\"#5BC862\",\"#5EC961\",\"#60C960\",\"#62CA5F\",\"#64CB5D\",\"#67CC5C\",\"#69CC5B\",\"#6BCD59\",\"#6DCE58\",\"#70CE56\",\"#72CF55\",\"#74D054\",\"#77D052\",\"#79D151\",\"#7CD24F\",\"#7ED24E\",\"#81D34C\",\"#83D34B\",\"#86D449\",\"#88D547\",\"#8BD546\",\"#8DD644\",\"#90D643\",\"#92D741\",\"#95D73F\",\"#97D83E\",\"#9AD83C\",\"#9DD93A\",\"#9FD938\",\"#A2DA37\",\"#A5DA35\",\"#A7DB33\",\"#AADB32\",\"#ADDC30\",\"#AFDC2E\",\"#B2DD2C\",\"#B5DD2B\",\"#B7DD29\",\"#BADE27\",\"#BDDE26\",\"#BFDF24\",\"#C2DF22\",\"#C5DF21\",\"#C7E01F\",\"#CAE01E\",\"#CDE01D\",\"#CFE11C\",\"#D2E11B\",\"#D4E11A\",\"#D7E219\",\"#DAE218\",\"#DCE218\",\"#DFE318\",\"#E1E318\",\"#E4E318\",\"#E7E419\",\"#E9E419\",\"#ECE41A\",\"#EEE51B\",\"#F1E51C\",\"#F3E51E\",\"#F6E61F\",\"#F8E621\",\"#FAE622\",\"#FDE724\"]},\"id\":\"9130\",\"type\":\"LinearColorMapper\"},{\"attributes\":{},\"id\":\"9443\",\"type\":\"Selection\"},{\"attributes\":{\"plot\":null,\"text\":\"\"},\"id\":\"9436\",\"type\":\"Title\"},{\"attributes\":{\"source\":{\"id\":\"9131\",\"type\":\"ColumnDataSource\"}},\"id\":\"9137\",\"type\":\"CDSView\"},{\"attributes\":{\"fill_alpha\":{\"value\":0.1},\"fill_color\":{\"value\":\"#1f77b4\"},\"line_alpha\":{\"value\":0.1},\"line_color\":{\"value\":\"#1f77b4\"},\"q\":{\"field\":\"q\"},\"r\":{\"field\":\"r\"},\"size\":0.5},\"id\":\"9134\",\"type\":\"HexTile\"},{\"attributes\":{},\"id\":\"9439\",\"type\":\"BasicTickFormatter\"},{\"attributes\":{\"callback\":null},\"id\":\"9107\",\"type\":\"DataRange1d\"},{\"attributes\":{},\"id\":\"9442\",\"type\":\"UnionRenderers\"},{\"attributes\":{\"fill_alpha\":{\"value\":0.8},\"fill_color\":{\"value\":\"pink\"},\"line_alpha\":{\"value\":0.8},\"line_color\":{\"value\":\"pink\"},\"q\":{\"field\":\"q\"},\"r\":{\"field\":\"r\"},\"size\":0.5},\"id\":\"9135\",\"type\":\"HexTile\"},{\"attributes\":{\"callback\":null,\"tooltips\":[[\"count\",\"@c\"],[\"(q,r)\",\"(@q , @r)\"]]},\"id\":\"9138\",\"type\":\"HoverTool\"},{\"attributes\":{\"data_source\":{\"id\":\"9131\",\"type\":\"ColumnDataSource\"},\"glyph\":{\"id\":\"9133\",\"type\":\"HexTile\"},\"hover_glyph\":{\"id\":\"9135\",\"type\":\"HexTile\"},\"muted_glyph\":null,\"nonselection_glyph\":{\"id\":\"9134\",\"type\":\"HexTile\"},\"selection_glyph\":null,\"view\":{\"id\":\"9137\",\"type\":\"CDSView\"}},\"id\":\"9136\",\"type\":\"GlyphRenderer\"}],\"root_ids\":[\"9106\"]},\"title\":\"Bokeh Application\",\"version\":\"1.0.3\"}};\n",
       "  var render_items = [{\"docid\":\"4a56863d-f6d3-4972-b5a8-867c96ea69ef\",\"roots\":{\"9106\":\"c54ed541-c6a6-46e6-90da-bcefc247d7eb\"}}];\n",
       "  root.Bokeh.embed.embed_items_notebook(docs_json, render_items);\n",
       "\n",
       "  }\n",
       "  if (root.Bokeh !== undefined) {\n",
       "    embed_document(root);\n",
       "  } else {\n",
       "    var attempts = 0;\n",
       "    var timer = setInterval(function(root) {\n",
       "      if (root.Bokeh !== undefined) {\n",
       "        embed_document(root);\n",
       "        clearInterval(timer);\n",
       "      }\n",
       "      attempts++;\n",
       "      if (attempts > 100) {\n",
       "        console.log(\"Bokeh: ERROR: Unable to run BokehJS code because BokehJS library is missing\");\n",
       "        clearInterval(timer);\n",
       "      }\n",
       "    }, 10, root)\n",
       "  }\n",
       "})(window);"
      ],
      "application/vnd.bokehjs_exec.v0+json": ""
     },
     "metadata": {
      "application/vnd.bokehjs_exec.v0+json": {
       "id": "9106"
      }
     },
     "output_type": "display_data"
    }
   ],
   "source": [
    "\n",
    "p = figure(match_aspect=True, tools=\"wheel_zoom,reset\")\n",
    "#p.background_fill_color = '#440154'\n",
    "#p.grid.visible = False\n",
    "\n",
    "p.hexbin(x, y, size=0.5, hover_color=\"pink\", hover_alpha=0.8)\n",
    "\n",
    "hover = HoverTool(tooltips=[(\"count\", \"@c\"), (\"(q,r)\", \"(@q , @r)\")])\n",
    "p.add_tools(hover)\n",
    "\n",
    "show(p)"
   ]
  },
  {
   "cell_type": "code",
   "execution_count": 37,
   "metadata": {},
   "outputs": [
    {
     "ename": "NameError",
     "evalue": "name 'group' is not defined",
     "output_type": "error",
     "traceback": [
      "\u001b[1;31m---------------------------------------------------------------------------\u001b[0m",
      "\u001b[1;31mNameError\u001b[0m                                 Traceback (most recent call last)",
      "\u001b[1;32m<ipython-input-37-745897353eb6>\u001b[0m in \u001b[0;36m<module>\u001b[1;34m\u001b[0m\n\u001b[0;32m      4\u001b[0m \u001b[1;33m\u001b[0m\u001b[0m\n\u001b[0;32m      5\u001b[0m \u001b[1;33m\u001b[0m\u001b[0m\n\u001b[1;32m----> 6\u001b[1;33m \u001b[0mplot\u001b[0m\u001b[1;33m.\u001b[0m\u001b[0mvbar_stack\u001b[0m\u001b[1;33m(\u001b[0m\u001b[1;33m[\u001b[0m\u001b[1;34m'2015.5'\u001b[0m\u001b[1;33m,\u001b[0m \u001b[1;34m'2016.5'\u001b[0m\u001b[1;33m]\u001b[0m\u001b[1;33m,\u001b[0m \u001b[0mx\u001b[0m\u001b[1;33m=\u001b[0m\u001b[1;36m10\u001b[0m\u001b[1;33m,\u001b[0m \u001b[0mwidth\u001b[0m\u001b[1;33m=\u001b[0m\u001b[1;36m0.9\u001b[0m\u001b[1;33m,\u001b[0m \u001b[0mcolor\u001b[0m\u001b[1;33m=\u001b[0m\u001b[1;33m[\u001b[0m\u001b[1;34m'blue'\u001b[0m\u001b[1;33m,\u001b[0m \u001b[1;34m'red'\u001b[0m\u001b[1;33m]\u001b[0m\u001b[1;33m,\u001b[0m \u001b[0msource\u001b[0m\u001b[1;33m=\u001b[0m\u001b[0mgroup\u001b[0m\u001b[1;33m)\u001b[0m\u001b[1;33m\u001b[0m\u001b[1;33m\u001b[0m\u001b[0m\n\u001b[0m\u001b[0;32m      7\u001b[0m \u001b[1;33m\u001b[0m\u001b[0m\n\u001b[0;32m      8\u001b[0m \u001b[1;31m#This is equivalent to the following two separate calls:\u001b[0m\u001b[1;33m\u001b[0m\u001b[1;33m\u001b[0m\u001b[1;33m\u001b[0m\u001b[0m\n",
      "\u001b[1;31mNameError\u001b[0m: name 'group' is not defined"
     ]
    }
   ],
   "source": [
    "# Vbar_stack\n",
    "plot = figure(plot_width=300, plot_height=300)\n",
    "\n",
    "\n",
    "\n",
    "plot.vbar_stack(['2015.5', '2016.5'], x=10, width=0.9, color=['blue', 'red'], source=group)\n",
    "\n",
    "#This is equivalent to the following two separate calls:\n",
    "\n",
    "#p.vbar(bottom=stack(),       top=stack('2015.5'),         x=10, width=0.9, color='blue', source=source, name='2015.5')\n",
    "#p.vbar(bottom=stack('2015.5'), top=stack('2015.5', '2016.5'), x=10, width=0.9, color='red',  source=source, name='2016.5')\n",
    "show(plot)"
   ]
  },
  {
   "cell_type": "code",
   "execution_count": null,
   "metadata": {},
   "outputs": [],
   "source": []
  },
  {
   "cell_type": "code",
   "execution_count": null,
   "metadata": {},
   "outputs": [],
   "source": [
    "\n",
    "np.random.seed(0)\n",
    "df = pd.DataFrame({'state': ['CA', 'WA', 'CO', 'AZ'] * 3,\n",
    "               'office_id': list(range(1, 7)) * 2,\n",
    "               'sales': [np.random.randint(100000, 999999) for _ in range(12)]})\n",
    "\n",
    "state_office = df.groupby(['state', 'office_id'])['sales'].sum().reset_index()\n",
    "state = df.groupby(['state'])['sales'].sum().reset_index()\n",
    "state_office = state_office.merge(state, left_on='state', right_on ='state', how = 'left')\n",
    "state_office['sales_ratio'] = 100*(state_office['sales_x']/state_office['sales_y'])\n"
   ]
  },
  {
   "cell_type": "code",
   "execution_count": null,
   "metadata": {},
   "outputs": [],
   "source": [
    "df"
   ]
  },
  {
   "cell_type": "code",
   "execution_count": null,
   "metadata": {},
   "outputs": [],
   "source": [
    "state_office"
   ]
  },
  {
   "cell_type": "code",
   "execution_count": null,
   "metadata": {},
   "outputs": [],
   "source": [
    "state"
   ]
  },
  {
   "cell_type": "code",
   "execution_count": null,
   "metadata": {},
   "outputs": [],
   "source": []
  },
  {
   "cell_type": "code",
   "execution_count": null,
   "metadata": {},
   "outputs": [],
   "source": []
  },
  {
   "cell_type": "code",
   "execution_count": null,
   "metadata": {},
   "outputs": [],
   "source": []
  },
  {
   "cell_type": "code",
   "execution_count": null,
   "metadata": {},
   "outputs": [],
   "source": []
  },
  {
   "cell_type": "code",
   "execution_count": null,
   "metadata": {},
   "outputs": [],
   "source": []
  },
  {
   "cell_type": "code",
   "execution_count": null,
   "metadata": {},
   "outputs": [],
   "source": []
  },
  {
   "cell_type": "code",
   "execution_count": null,
   "metadata": {},
   "outputs": [],
   "source": []
  }
 ],
 "metadata": {
  "kernelspec": {
   "display_name": "Python 3",
   "language": "python",
   "name": "python3"
  },
  "language_info": {
   "codemirror_mode": {
    "name": "ipython",
    "version": 3
   },
   "file_extension": ".py",
   "mimetype": "text/x-python",
   "name": "python",
   "nbconvert_exporter": "python",
   "pygments_lexer": "ipython3",
   "version": "3.7.2"
  }
 },
 "nbformat": 4,
 "nbformat_minor": 2
}
